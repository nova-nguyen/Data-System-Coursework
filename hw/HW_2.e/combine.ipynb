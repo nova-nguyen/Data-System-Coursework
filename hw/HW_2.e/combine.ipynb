{
 "cells": [
  {
   "cell_type": "markdown",
   "metadata": {},
   "source": [
    "# Denison CS181/DA210 Homework 2.e - Step 1\n",
    "\n",
    "Before you turn this problem in, make sure everything runs as expected. This is a combination of **restarting the kernel** and then **running all cells** (in the menubar, select Kernel$\\rightarrow$Restart And Run All).\n",
    "\n",
    "Make sure you fill in any place that says `# YOUR CODE HERE` or \"YOUR ANSWER HERE\"."
   ]
  },
  {
   "cell_type": "markdown",
   "metadata": {},
   "source": [
    "---"
   ]
  },
  {
   "cell_type": "code",
   "execution_count": null,
   "metadata": {},
   "outputs": [],
   "source": [
    "import os\n",
    "import os.path\n",
    "import pandas as pd\n",
    "\n",
    "datadir = \"publicdata\""
   ]
  },
  {
   "cell_type": "markdown",
   "metadata": {},
   "source": [
    "---\n",
    "\n",
    "## Part A: Concatenating along the row dimension\n",
    "\n",
    "**Q1:** In the data directory, you will find two csv files, `educationTop.csv` and `educationBottom.csv`, both based on data hosted by `www.census.gov`.  Both have the same columns, and each row is a U.S. metropolitan area, with data on population, education, and unemployment.  The first `csv` file contains metropolitan areas starting with A-K, and the second starting with L-Z.\n",
    "\n",
    "Read both into `pandas` data frames `education_top` and `education_bottom`, using the column `GEO.id2` as an index.\n",
    "\n",
    "Be careful, as these files have **two** lines that might be considered header lines.  The first one is more descriptive, and the second one is more concise and gives succint variable names.  So when we read from the csv, we want to **skip** the first line and then use the second line as the header line.  The `pandas` `read_csv` constructor can do this for you, but you have to discover and use the correct arguments.  (Documentation: https://pandas.pydata.org/docs/reference/api/pandas.read_csv.html)"
   ]
  },
  {
   "cell_type": "code",
   "execution_count": null,
   "metadata": {
    "deletable": false,
    "nbgrader": {
     "cell_type": "code",
     "checksum": "54c620e0e9583ba4720b710b9ff5468c",
     "grade": false,
     "grade_id": "cell-b25fab8c12339430",
     "locked": false,
     "schema_version": 3,
     "solution": true,
     "task": false
    }
   },
   "outputs": [],
   "source": [
    "# YOUR CODE HERE\n",
    "raise NotImplementedError()"
   ]
  },
  {
   "cell_type": "code",
   "execution_count": null,
   "metadata": {},
   "outputs": [],
   "source": [
    "# Display a sample of the \"top\" DataFrame\n",
    "education_top.head(2)"
   ]
  },
  {
   "cell_type": "code",
   "execution_count": null,
   "metadata": {},
   "outputs": [],
   "source": [
    "# Display a sample of the \"bottom\" DataFrame\n",
    "education_bottom.head(2)"
   ]
  },
  {
   "cell_type": "code",
   "execution_count": null,
   "metadata": {
    "deletable": false,
    "editable": false,
    "nbgrader": {
     "cell_type": "code",
     "checksum": "b7fb19819cf48177537217d4a05d5bb2",
     "grade": true,
     "grade_id": "cell-8f07ee547e7c1ff8",
     "locked": true,
     "points": 3,
     "schema_version": 3,
     "solution": false,
     "task": false
    }
   },
   "outputs": [],
   "source": [
    "# Testing Cell\n",
    "assert education_top.shape == (176, 60)\n",
    "assert education_bottom.shape == (190, 60)\n",
    "assert education_top.index.name == \"GEO.id2\"\n",
    "assert education_bottom.index.name == \"GEO.id2\"\n",
    "assert \"HD01_VD01\" in education_top\n",
    "assert \"HD01_VD01\" in education_bottom\n",
    "assert education_top.iloc[8,2] == 129504\n",
    "assert education_bottom.iloc[8,4] == 39259"
   ]
  },
  {
   "cell_type": "markdown",
   "metadata": {},
   "source": [
    "**Q2:** Concatenate these two data frames along the row dimension (with the top one on top), and call the result `educationDF`."
   ]
  },
  {
   "cell_type": "code",
   "execution_count": null,
   "metadata": {},
   "outputs": [],
   "source": [
    "# YOUR CODE HERE\n",
    "raise NotImplementedError()\n",
    "\n",
    "# Display a sample of the DataFrame\n",
    "educationDF.head(4)"
   ]
  },
  {
   "cell_type": "code",
   "execution_count": null,
   "metadata": {},
   "outputs": [],
   "source": [
    "# Testing Cell\n",
    "assert educationDF.shape == (366, 60)\n",
    "assert educationDF.index.name == \"GEO.id2\"\n",
    "assert \"HD01_VD01\" in educationDF\n",
    "assert educationDF.iloc[8,2] == 129504\n",
    "assert educationDF.iloc[184,4] == 39259"
   ]
  },
  {
   "cell_type": "markdown",
   "metadata": {},
   "source": [
    "---\n",
    "\n",
    "## Part B: Concatenating along the column dimension\n",
    "\n",
    "**Q3:** In the data directory, you will find two csv files, `educationLeft.csv` and `educationRight.csv`, both based on data hosted by `www.census.gov`.  Both have the same rows, and each row is a U.S. metropolitan area, with data on population, education, and unemployment.  The first has information on individuals without a college degree, and the second has information on individuals with a college degree.\n",
    "\n",
    "Read both into `pandas` data frames `education_left` and `education_right`.  The `GEO.display-label` field should serve as the row index.\n",
    "\n",
    "The same cautions on the CSV having an informational row of headers followed by the header variable names applies to these two CSV files as well."
   ]
  },
  {
   "cell_type": "code",
   "execution_count": null,
   "metadata": {
    "deletable": false,
    "nbgrader": {
     "cell_type": "code",
     "checksum": "30da97feded2c3f2e453fdd16c25a33e",
     "grade": false,
     "grade_id": "cell-698c9ada24032095",
     "locked": false,
     "schema_version": 3,
     "solution": true,
     "task": false
    }
   },
   "outputs": [],
   "source": [
    "# YOUR CODE HERE\n",
    "raise NotImplementedError()"
   ]
  },
  {
   "cell_type": "code",
   "execution_count": null,
   "metadata": {},
   "outputs": [],
   "source": [
    "# Display a sample of the left DataFrame\n",
    "education_left.head(2)"
   ]
  },
  {
   "cell_type": "code",
   "execution_count": null,
   "metadata": {},
   "outputs": [],
   "source": [
    "# Display a sample of the right DataFrame\n",
    "education_right.head(2)"
   ]
  },
  {
   "cell_type": "code",
   "execution_count": null,
   "metadata": {
    "deletable": false,
    "editable": false,
    "nbgrader": {
     "cell_type": "code",
     "checksum": "ff7cdd95653586519e9373e4f9f27783",
     "grade": true,
     "grade_id": "cell-f413a9fabbcd0427",
     "locked": true,
     "points": 3,
     "schema_version": 3,
     "solution": false,
     "task": false
    }
   },
   "outputs": [],
   "source": [
    "# Testing Cell\n",
    "assert education_left.shape == (366, 30)\n",
    "assert education_right.shape == (366, 28)\n",
    "assert education_left.index.name == \"GEO.display-label\"\n",
    "assert education_right.index.name == \"GEO.display-label\"\n",
    "assert \"HD01_VD01\" in education_left\n",
    "assert \"HD01_VD01\" not in education_right\n",
    "assert \"Abilene, TX Metro Area\" in education_left.index\n",
    "assert \"Abilene, TX Metro Area\" in education_right.index\n",
    "assert education_left.iloc[10,3] == 2265\n",
    "assert education_right.iloc[10,2] == 63125"
   ]
  },
  {
   "cell_type": "markdown",
   "metadata": {},
   "source": [
    "**Q4:** Concatenate these two data frames along the column dimension, and call the result `educationDF2`."
   ]
  },
  {
   "cell_type": "code",
   "execution_count": null,
   "metadata": {},
   "outputs": [],
   "source": [
    "# YOUR CODE HERE\n",
    "raise NotImplementedError()\n",
    "\n",
    "# Display a sample of the DataFrame\n",
    "educationDF2.head(4)"
   ]
  },
  {
   "cell_type": "code",
   "execution_count": null,
   "metadata": {},
   "outputs": [],
   "source": [
    "# Testing Cell\n",
    "assert educationDF2.shape == (366, 58)\n",
    "assert educationDF2.index.name == \"GEO.display-label\"\n",
    "assert \"HD01_VD01\" in educationDF2\n",
    "assert educationDF2.iloc[10,3] == 2265\n",
    "assert educationDF2.iloc[10,32] == 63125"
   ]
  },
  {
   "cell_type": "markdown",
   "metadata": {},
   "source": [
    "---\n",
    "\n",
    "## Part C: Joining/merging data frames\n",
    "\n",
    "**Q5:** In the data directory, you will find two csv files, `educationLeftJ.csv` and `educationRightJ.csv`, both based on data hosted by `www.census.gov`.  In both, rows represent U.S. metropolitan area, with data on population, education, and unemployment.  However, they do not have exactly the same set of rows, and the columns are totally different except for the index column `Geography`.\n",
    "\n",
    "In these CSV files, there is not an \"extra\" header line.  The row label index should come from `Geography` unless you are instructed otherwise.\n",
    "\n",
    "Read both into `pandas` data frames, with names `education_left_j` and `education_right_j`."
   ]
  },
  {
   "cell_type": "code",
   "execution_count": null,
   "metadata": {
    "deletable": false,
    "nbgrader": {
     "cell_type": "code",
     "checksum": "ee9fa84634819e01573d6da8e698d71f",
     "grade": false,
     "grade_id": "cell-f3cb3f384a53b7b2",
     "locked": false,
     "schema_version": 3,
     "solution": true,
     "task": false
    }
   },
   "outputs": [],
   "source": [
    "# YOUR CODE HERE\n",
    "raise NotImplementedError()"
   ]
  },
  {
   "cell_type": "code",
   "execution_count": null,
   "metadata": {},
   "outputs": [],
   "source": [
    "# Display a sample of the left_j DataFrame\n",
    "education_left_j.head(2)"
   ]
  },
  {
   "cell_type": "code",
   "execution_count": null,
   "metadata": {},
   "outputs": [],
   "source": [
    "# Display a sample of the right_j DataFrame\n",
    "education_right_j.head(2)"
   ]
  },
  {
   "cell_type": "code",
   "execution_count": null,
   "metadata": {
    "deletable": false,
    "editable": false,
    "nbgrader": {
     "cell_type": "code",
     "checksum": "b11df030d202429c9e2dbca3561f92ee",
     "grade": true,
     "grade_id": "cell-a1e03d05287e5c02",
     "locked": true,
     "points": 4,
     "schema_version": 3,
     "solution": false,
     "task": false
    }
   },
   "outputs": [],
   "source": [
    "# Testing Cell\n",
    "assert education_left_j.shape == (249, 12)\n",
    "assert education_right_j.shape == (215, 12)\n",
    "assert education_left_j.index.name == \"Geography\"\n",
    "assert education_right_j.index.name == \"Geography\"\n",
    "assert \"Estimate; Less than high school graduate: - In labor force: - Civilian: - Unemployed\" in education_left_j\n",
    "assert \"Estimate; Less than high school graduate: - In labor force: - Civilian: - Unemployed\" not in education_right_j\n",
    "assert \"Estimate; Bachelor's degree or higher: - In labor force:\" not in education_left_j\n",
    "assert \"Estimate; Bachelor's degree or higher: - In labor force:\" in education_right_j\n",
    "assert \"Battle Creek, MI Metro Area\" in education_left_j.index\n",
    "assert \"Battle Creek, MI Metro Area\" not in education_right_j.index\n",
    "assert \"Bridgeport-Stamford-Norwalk, CT Metro Area\" not in education_left_j.index\n",
    "assert \"Bridgeport-Stamford-Norwalk, CT Metro Area\" in education_right_j.index\n",
    "assert education_left_j.iloc[5,6] == 38994\n",
    "assert education_right_j.iloc[9,2] == 59784"
   ]
  },
  {
   "cell_type": "markdown",
   "metadata": {},
   "source": [
    "**Q6:** Make a copy of `education_left_j` called `education_left_orig`.  Starting with `education_left_j`, do a left join to bring in the data from `education_right_j`, storing your answer as `df_j`."
   ]
  },
  {
   "cell_type": "code",
   "execution_count": null,
   "metadata": {},
   "outputs": [],
   "source": [
    "# YOUR CODE HERE\n",
    "raise NotImplementedError()\n",
    "\n",
    "# Display a sample of the joined DataFrame\n",
    "df_j1.head(2)"
   ]
  },
  {
   "cell_type": "code",
   "execution_count": null,
   "metadata": {},
   "outputs": [],
   "source": [
    "# Testing Cell\n",
    "assert education_left_orig.shape == (249, 12)\n",
    "\n",
    "assert df_j1.shape == (249, 24)\n",
    "assert df_j1.index.name == \"Geography\"\n",
    "assert \"Estimate; Less than high school graduate: - In labor force: - Civilian: - Unemployed\" in df_j1\n",
    "assert \"Estimate; Bachelor's degree or higher: - In labor force:\" in df_j1\n",
    "assert \"Battle Creek, MI Metro Area\" in df_j1.index\n",
    "assert \"Bridgeport-Stamford-Norwalk, CT Metro Area\" not in df_j1.index\n",
    "assert df_j1.iloc[5,6] == 38994\n",
    "assert df_j1.iloc[5,14] == 59784"
   ]
  },
  {
   "cell_type": "markdown",
   "metadata": {},
   "source": [
    "**Q7:** Starting with `education_left_orig`, do an inner join to bring in the data from `education_right_j`, storing your answer as `df_j2`."
   ]
  },
  {
   "cell_type": "code",
   "execution_count": null,
   "metadata": {},
   "outputs": [],
   "source": [
    "# YOUR CODE HERE\n",
    "raise NotImplementedError()\n",
    "\n",
    "# Display a sample of the joined DataFrame\n",
    "df_j2.head(2)"
   ]
  },
  {
   "cell_type": "code",
   "execution_count": null,
   "metadata": {},
   "outputs": [],
   "source": [
    "# Testing Cell\n",
    "assert df_j2.shape == (152, 24)\n",
    "assert df_j2.index.name == \"Geography\"\n",
    "assert \"Estimate; Less than high school graduate: - In labor force: - Civilian: - Unemployed\" in df_j2\n",
    "assert \"Estimate; Bachelor's degree or higher: - In labor force:\" in df_j2\n",
    "assert \"Battle Creek, MI Metro Area\" not in df_j2.index\n",
    "assert \"Bridgeport-Stamford-Norwalk, CT Metro Area\" not in df_j2.index\n",
    "assert \"Asheville, NC Metro Area\" in df_j2.index\n",
    "assert df_j2.iloc[5,6] == 38994\n",
    "assert df_j2.iloc[5,14] == 59784"
   ]
  },
  {
   "cell_type": "markdown",
   "metadata": {},
   "source": [
    "**Q8:** We can \"merge\" two data frames if they do not have a meaningful index, but do share a column name.  You can use this syntax:\n",
    "\n",
    "```\n",
    "    merged_df = pd.merge(df1, df2, on=<colname>, how=<merge_type>)\n",
    "```\n",
    "\n",
    "where `<colname>` is the name of the column they share (typically a string), and `<merge_type>` is a string like `\"left\"`, `\"inner\"`, etc.  We didn't get to this in class, but you can see examples in Section 8.3.3.2 of the book.\n",
    "\n",
    "Now read the original csv files in as `edu_left` and `edu_right` with no meaningful index. Then, starting from `edu_left`, do an inner merge along the column `Geography`, storing your answer as `df_j3`."
   ]
  },
  {
   "cell_type": "code",
   "execution_count": null,
   "metadata": {},
   "outputs": [],
   "source": [
    "# YOUR CODE HERE\n",
    "raise NotImplementedError()\n",
    "\n",
    "# Display a sample of the merged DataFrame\n",
    "df_j3.head(2)"
   ]
  },
  {
   "cell_type": "code",
   "execution_count": null,
   "metadata": {},
   "outputs": [],
   "source": [
    "# Testing Cell\n",
    "assert df_j3.shape == (152, 25)\n",
    "assert df_j3.index.name == None\n",
    "assert \"Estimate; Less than high school graduate: - In labor force: - Civilian: - Unemployed\" in df_j3\n",
    "assert \"Estimate; Bachelor's degree or higher: - In labor force:\" in df_j3\n",
    "assert \"Battle Creek, MI Metro Area\" not in list(df_j3.Geography)\n",
    "assert \"Bridgeport-Stamford-Norwalk, CT Metro Area\" not in list(df_j3.Geography)\n",
    "assert \"Asheville, NC Metro Area\" in list(df_j3.Geography)\n",
    "assert df_j3.iloc[5,7] == 38994\n",
    "assert df_j3.iloc[5,15] == 59784"
   ]
  },
  {
   "cell_type": "markdown",
   "metadata": {},
   "source": [
    "**Q9:** Explain the difference in the number of rows and columns in `df_j1`, `df_j2`, and `df_j3`.  Be specific."
   ]
  },
  {
   "cell_type": "markdown",
   "metadata": {
    "deletable": false,
    "nbgrader": {
     "cell_type": "markdown",
     "checksum": "6c0dc4e981e60063f4b53a186643b0c9",
     "grade": true,
     "grade_id": "cell-60bd9e8dd53dd5f0",
     "locked": false,
     "points": 2,
     "schema_version": 3,
     "solution": true,
     "task": false
    }
   },
   "source": [
    "YOUR ANSWER HERE"
   ]
  },
  {
   "cell_type": "markdown",
   "metadata": {},
   "source": [
    "---\n",
    "\n",
    "---\n",
    "\n",
    "## Part D\n",
    "\n",
    "**Q10:** How much time (in minutes/hours) did you spend on this homework assignment?"
   ]
  },
  {
   "cell_type": "markdown",
   "metadata": {},
   "source": [
    "YOUR ANSWER HERE"
   ]
  },
  {
   "cell_type": "markdown",
   "metadata": {},
   "source": [
    "**Q11:** Who was your partner for this assignment?  If you worked alone, say so instead."
   ]
  },
  {
   "cell_type": "markdown",
   "metadata": {},
   "source": [
    "YOUR ANSWER HERE"
   ]
  }
 ],
 "metadata": {
  "kernelspec": {
   "display_name": "Python 3",
   "language": "python",
   "name": "python3"
  },
  "language_info": {
   "codemirror_mode": {
    "name": "ipython",
    "version": 3
   },
   "file_extension": ".py",
   "mimetype": "text/x-python",
   "name": "python",
   "nbconvert_exporter": "python",
   "pygments_lexer": "ipython3",
   "version": "3.9.7"
  }
 },
 "nbformat": 4,
 "nbformat_minor": 4
}
