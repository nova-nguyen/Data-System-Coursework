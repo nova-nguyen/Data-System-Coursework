{
 "cells": [
  {
   "cell_type": "markdown",
   "metadata": {},
   "source": [
    "# Denison CS181/DA210 Homework 3.a - Step 1\n",
    "\n",
    "Before you turn this problem in, make sure everything runs as expected. This is a combination of **restarting the kernel** and then **running all cells** (in the menubar, select Kernel$\\rightarrow$Restart And Run All).\n",
    "\n",
    "Make sure you fill in any place that says `# YOUR CODE HERE` or \"YOUR ANSWER HERE\"."
   ]
  },
  {
   "cell_type": "markdown",
   "metadata": {},
   "source": [
    "---"
   ]
  },
  {
   "cell_type": "code",
   "execution_count": 3,
   "metadata": {},
   "outputs": [],
   "source": [
    "import json\n",
    "import os\n",
    "import os.path\n",
    "import io\n",
    "import sys\n",
    "from contextlib import redirect_stdout\n",
    "\n",
    "datadir = \"publicdata\""
   ]
  },
  {
   "cell_type": "markdown",
   "metadata": {},
   "source": [
    "---\n",
    "\n",
    "## Part A: Basic JSON file processing\n",
    "\n",
    "**Q1:** In the data directory is a file named `fib.json` containing a JSON-encoded list of numbers from the Fibonacci sequence.  Write a function\n",
    "```\n",
    "    readJsonList(filepath)\n",
    "```\n",
    "that reads and returns a list from `filepath`, **assuming a JSON-encoded text file**.  If `filepath` does not exist, or if the result is a data structure other than a list, return the empty list. (Hint: the Python function `isinstance()` can be helpful to verify the type of a data structure, and you may find the function [`os.path.exists()`](https://docs.python.org/3/library/os.path.html#os.path.exists) handy.)\n",
    "\n",
    "Then invoke the function on `fib.json` in `datadir` and assign the result to `json_list_1`."
   ]
  },
  {
   "cell_type": "code",
   "execution_count": 32,
   "metadata": {
    "deletable": false,
    "nbgrader": {
     "cell_type": "code",
     "checksum": "3fca93a65c6f2a016ab519bfee14ef77",
     "grade": false,
     "grade_id": "cell-d2bae836fbc119c2",
     "locked": false,
     "schema_version": 3,
     "solution": true,
     "task": false
    }
   },
   "outputs": [],
   "source": [
    "filepath = os.path.join(datadir, \"fib.json\")\n",
    "def readJsonList(filepath):\n",
    "    '''\n",
    "    Reads and returns a list from filepath\n",
    "    '''\n",
    "    if os.path.exists(filepath) == False:\n",
    "        return []\n",
    "    else:\n",
    "        with open(filepath) as f:\n",
    "            json_list_1 = json.load(f)\n",
    "            if not isinstance(json_list_1, list):\n",
    "                return []\n",
    "            else:\n",
    "                return json_list_1\n",
    "\n",
    "json_list_1 = readJsonList(filepath)"
   ]
  },
  {
   "cell_type": "code",
   "execution_count": 33,
   "metadata": {
    "deletable": false,
    "editable": false,
    "nbgrader": {
     "cell_type": "code",
     "checksum": "f71fb6b464182fce4255145e2a236b5f",
     "grade": true,
     "grade_id": "cell-82c0e42c81213cef",
     "locked": true,
     "points": 3,
     "schema_version": 3,
     "solution": false,
     "task": false
    }
   },
   "outputs": [],
   "source": [
    "# Testing cell\n",
    "assert readJsonList.__doc__ is not None # don't forget the docstring\n",
    "\n",
    "assert json_list_1[-1] == 89\n",
    "assert len(json_list_1) == 12\n",
    "\n",
    "json_list_2 = readJsonList(\"./foobar.json\") # does not exist\n",
    "assert json_list_2 == []\n",
    "\n",
    "json_list_3 = readJsonList(os.path.join(datadir, \"config.json\")) # is not a list\n",
    "assert json_list_3 == []"
   ]
  },
  {
   "cell_type": "markdown",
   "metadata": {},
   "source": [
    "**Q2:** Write a function\n",
    "```\n",
    "    writeSquares(n, filepath)\n",
    "```\n",
    "that creates a list of the squares of integers from `1` to `n`, inclusive, and then writes them out as a JSON-encoded text file to the file location given by `filepath`.\n",
    "\n",
    "If `n` is less than or equal to `0`, no file should be created.  This function returns no value."
   ]
  },
  {
   "cell_type": "code",
   "execution_count": 28,
   "metadata": {
    "deletable": false,
    "nbgrader": {
     "cell_type": "code",
     "checksum": "3fd16cfa9b93fd5243c867cd8a63f29e",
     "grade": false,
     "grade_id": "cell-469c714260019773",
     "locked": false,
     "schema_version": 3,
     "solution": true,
     "task": false
    }
   },
   "outputs": [],
   "source": [
    "def writeSquares(n, filepath):\n",
    "    '''\n",
    "    Creates a list of squares of integers from 1 to n\n",
    "    and writes them as json file to given file location\n",
    "    '''\n",
    "    if n <= 0:\n",
    "        return\n",
    "    else:\n",
    "        square_list = []\n",
    "        for i in range(1, n+1):\n",
    "            square_list.append(i**2)\n",
    "        with open(filepath, 'w') as f:\n",
    "            json.dump(square_list, f)"
   ]
  },
  {
   "cell_type": "code",
   "execution_count": 29,
   "metadata": {
    "deletable": false,
    "editable": false,
    "nbgrader": {
     "cell_type": "code",
     "checksum": "672f8af0e387c045094b3d43c2968f2d",
     "grade": true,
     "grade_id": "cell-e64a97ee03c45a63",
     "locked": true,
     "points": 3,
     "schema_version": 3,
     "solution": false,
     "task": false
    }
   },
   "outputs": [],
   "source": [
    "# Testing cell\n",
    "assert writeSquares.__doc__ is not None # don't forget the docstring\n",
    "\n",
    "filepath = \"./squares.json\"\n",
    "writeSquares(5, filepath)\n",
    "result = json.load(open(filepath, 'r'))\n",
    "assert result == [1, 4, 9, 16, 25]\n",
    "writeSquares(1, filepath)\n",
    "result = json.load(open(filepath, 'r'))\n",
    "assert result == [1]\n",
    "os.remove(filepath)\n",
    "writeSquares(0, filepath)\n",
    "assert not os.path.isfile(filepath)"
   ]
  },
  {
   "cell_type": "markdown",
   "metadata": {},
   "source": [
    "---\n",
    "\n",
    "## Part B: JSON data types\n",
    "\n",
    "**Q3:** In the data directory is a file named `baby_2015_female_namecount.txt` with a line for each of the top female baby names of 2015.  Each line contains tab-separated values for the name and the count of US Social Security applications for that name.\n",
    "\n",
    "Write a function\n",
    "```\n",
    "    readNameCount(filepath)\n",
    "```\n",
    "that reads a file formatted this way (note that this is not a JSON format), given by `filepath` and returns a tuple of two lists, the first being the names and the second being the counts (stored as integers).  The function should behave properly regardless of how many name-count lines are in the file.\n",
    "\n",
    "If the specified `filepath` does not exist, your function should return `None`."
   ]
  },
  {
   "cell_type": "code",
   "execution_count": 49,
   "metadata": {
    "deletable": false,
    "nbgrader": {
     "cell_type": "code",
     "checksum": "7c0c9e4ae02d2722b1c8db8dd4c48c9f",
     "grade": false,
     "grade_id": "cell-00f558d6134a208b",
     "locked": false,
     "schema_version": 3,
     "solution": true,
     "task": false
    }
   },
   "outputs": [],
   "source": [
    "filepath = os.path.join(datadir, \"baby_2015_female_namecount.txt\")\n",
    "def readNameCount(filepath):\n",
    "    '''\n",
    "    Returns a tuple containing a list of names and a list of corresponding count\n",
    "    '''\n",
    "    if os.path.exists(filepath) == False:\n",
    "        return None\n",
    "    f = open(filepath, 'r')\n",
    "    s = f.readlines()\n",
    "    name_list = []\n",
    "    count_list = []\n",
    "    for line in s:\n",
    "        i = line.strip().split('\\t')\n",
    "        name_list.append(i[0])\n",
    "        count_list.append(i[1])\n",
    "    return (name_list, count_list)"
   ]
  },
  {
   "cell_type": "code",
   "execution_count": 50,
   "metadata": {
    "deletable": false,
    "editable": false,
    "nbgrader": {
     "cell_type": "code",
     "checksum": "475f4c55e1eda7d3dd2e50af27f31ba4",
     "grade": true,
     "grade_id": "cell-8d778e7c955efac5",
     "locked": true,
     "points": 3,
     "schema_version": 3,
     "solution": false,
     "task": false
    }
   },
   "outputs": [],
   "source": [
    "# Testing cell\n",
    "assert readNameCount.__doc__ is not None # don't forget the docstring\n",
    "\n",
    "assert readNameCount(\"./foo\") == None\n",
    "namecount_result = readNameCount(os.path.join(datadir, \"baby_2015_female_namecount.txt\"))\n",
    "assert len(namecount_result) == 2\n",
    "assert len(namecount_result[0]) == 10\n",
    "assert len(namecount_result[1]) == 10"
   ]
  },
  {
   "cell_type": "markdown",
   "metadata": {},
   "source": [
    "**Q4:** Write code that *uses* your `readNameCount` function to obtain the lists and **writes the result** to a **JSON-encoded** text file in the current directory named `namecount.json`."
   ]
  },
  {
   "cell_type": "code",
   "execution_count": 54,
   "metadata": {
    "deletable": false,
    "nbgrader": {
     "cell_type": "code",
     "checksum": "7c0c9e4ae02d2722b1c8db8dd4c48c9f",
     "grade": false,
     "grade_id": "cell-00f558d6134a208b",
     "locked": false,
     "schema_version": 3,
     "solution": true,
     "task": false
    }
   },
   "outputs": [],
   "source": [
    "with open(os.path.join(datadir, \"namecount.json\"), 'w') as f:\n",
    "    json.dump(readNameCount(os.path.join(datadir, \"baby_2015_female_namecount.txt\")), f)"
   ]
  },
  {
   "cell_type": "code",
   "execution_count": 55,
   "metadata": {
    "deletable": false,
    "editable": false,
    "nbgrader": {
     "cell_type": "code",
     "checksum": "475f4c55e1eda7d3dd2e50af27f31ba4",
     "grade": true,
     "grade_id": "cell-8d778e7c955efac5",
     "locked": true,
     "points": 3,
     "schema_version": 3,
     "solution": false,
     "task": false
    }
   },
   "outputs": [
    {
     "ename": "AssertionError",
     "evalue": "",
     "output_type": "error",
     "traceback": [
      "\u001b[1;31m---------------------------------------------------------------------------\u001b[0m",
      "\u001b[1;31mAssertionError\u001b[0m                            Traceback (most recent call last)",
      "\u001b[1;32m~\\AppData\\Local\\Temp/ipykernel_19956/3718174248.py\u001b[0m in \u001b[0;36m<module>\u001b[1;34m\u001b[0m\n\u001b[0;32m      1\u001b[0m \u001b[1;31m# Testing cell\u001b[0m\u001b[1;33m\u001b[0m\u001b[1;33m\u001b[0m\u001b[0m\n\u001b[0;32m      2\u001b[0m \u001b[0mjsonpath\u001b[0m \u001b[1;33m=\u001b[0m \u001b[0mos\u001b[0m\u001b[1;33m.\u001b[0m\u001b[0mpath\u001b[0m\u001b[1;33m.\u001b[0m\u001b[0mjoin\u001b[0m\u001b[1;33m(\u001b[0m\u001b[1;34m\".\"\u001b[0m\u001b[1;33m,\u001b[0m \u001b[1;34m\"namecount.json\"\u001b[0m\u001b[1;33m)\u001b[0m\u001b[1;33m\u001b[0m\u001b[1;33m\u001b[0m\u001b[0m\n\u001b[1;32m----> 3\u001b[1;33m \u001b[1;32massert\u001b[0m \u001b[0mos\u001b[0m\u001b[1;33m.\u001b[0m\u001b[0mpath\u001b[0m\u001b[1;33m.\u001b[0m\u001b[0misfile\u001b[0m\u001b[1;33m(\u001b[0m\u001b[0mjsonpath\u001b[0m\u001b[1;33m)\u001b[0m\u001b[1;33m\u001b[0m\u001b[1;33m\u001b[0m\u001b[0m\n\u001b[0m\u001b[0;32m      4\u001b[0m \u001b[1;32mwith\u001b[0m \u001b[0mopen\u001b[0m\u001b[1;33m(\u001b[0m\u001b[0mjsonpath\u001b[0m\u001b[1;33m,\u001b[0m \u001b[1;34m'r'\u001b[0m\u001b[1;33m)\u001b[0m \u001b[1;32mas\u001b[0m \u001b[0mf\u001b[0m\u001b[1;33m:\u001b[0m\u001b[1;33m\u001b[0m\u001b[1;33m\u001b[0m\u001b[0m\n\u001b[0;32m      5\u001b[0m     \u001b[0mnamecount_result2\u001b[0m \u001b[1;33m=\u001b[0m \u001b[0mjson\u001b[0m\u001b[1;33m.\u001b[0m\u001b[0mload\u001b[0m\u001b[1;33m(\u001b[0m\u001b[0mf\u001b[0m\u001b[1;33m)\u001b[0m\u001b[1;33m\u001b[0m\u001b[1;33m\u001b[0m\u001b[0m\n",
      "\u001b[1;31mAssertionError\u001b[0m: "
     ]
    }
   ],
   "source": [
    "# Testing cell\n",
    "jsonpath = os.path.join(\".\", \"namecount.json\")\n",
    "assert os.path.isfile(jsonpath)\n",
    "with open(jsonpath, 'r') as f:\n",
    "    namecount_result2 = json.load(f)\n",
    "assert len(namecount_result2) == 2\n",
    "assert len(namecount_result2[0]) == 10\n",
    "assert len(namecount_result2[1]) == 10"
   ]
  },
  {
   "cell_type": "markdown",
   "metadata": {},
   "source": [
    "**Q5:** Consider the table of data:\n",
    "```\n",
    "    subject | name               | department\n",
    "    --------|--------------------|--------------\n",
    "    CS      | Computer Science   | CS\n",
    "    MATH    | Mathematics        | MATH\n",
    "    ENGL    | English Literature | ENGL\n",
    "```\n",
    "\n",
    "This could be represented in a Python program as a *dictionary* mapping from a *key*, `\"subjects\"`, to a *list* of dictionaries, one per subject.  These inner dictionaries map from `\"subject\"`, `\"name\"`, and `\"department\"` to the respective value for the row.  Be careful and follow the above specification **exactly**.\n",
    "\n",
    "Write Python code to construct the above representation as a Python in-memory data structure called `ds`, and then have your code **encode the data structure** into a JSON-formatted string called `s`."
   ]
  },
  {
   "cell_type": "code",
   "execution_count": 59,
   "metadata": {
    "deletable": false,
    "nbgrader": {
     "cell_type": "code",
     "checksum": "364d4fa4d63009ff7faa54409fb15953",
     "grade": false,
     "grade_id": "cell-0abd378083a7bdd9",
     "locked": false,
     "schema_version": 3,
     "solution": true,
     "task": false
    }
   },
   "outputs": [
    {
     "name": "stdout",
     "output_type": "stream",
     "text": [
      "{\"subjects\": [{\"subject\": \"CS\", \"name\": \"Computer Science\", \"department\": \"CS\"}, {\"subject\": \"MATH\", \"name\": \"Mathematics\", \"department\": \"MATH\"}, {\"subject\": \"ENGL\", \"name\": \"English Literature\", \"department\": \"ENGL\"}]}\n"
     ]
    }
   ],
   "source": [
    "ds = {\"subjects\": [{\"subject\": \"CS\", \"name\": \"Computer Science\", \"department\": \"CS\"}, {\"subject\": \"MATH\", \"name\": \"Mathematics\", \"department\": \"MATH\"}, {\"subject\": \"ENGL\", \"name\": \"English Literature\", \"department\": \"ENGL\"}]}\n",
    "s = json.dumps(ds)\n",
    "\n",
    "# Display the string\n",
    "print(s)"
   ]
  },
  {
   "cell_type": "code",
   "execution_count": 60,
   "metadata": {
    "deletable": false,
    "editable": false,
    "nbgrader": {
     "cell_type": "code",
     "checksum": "38d8ce0d5ab6a78e0a425875000451ee",
     "grade": true,
     "grade_id": "cell-765331274d04ea6d",
     "locked": true,
     "points": 3,
     "schema_version": 3,
     "solution": false,
     "task": false
    }
   },
   "outputs": [],
   "source": [
    "# Testing Cell\n",
    "f = io.StringIO()\n",
    "with redirect_stdout(f):\n",
    "    print(s)\n",
    "    \n",
    "assert f.getvalue() == '{\"subjects\": [{\"subject\": \"CS\", \"name\": \"Computer Science\", \"department\": \"CS\"}, {\"subject\": \"MATH\", \"name\": \"Mathematics\", \"department\": \"MATH\"}, {\"subject\": \"ENGL\", \"name\": \"English Literature\", \"department\": \"ENGL\"}]}\\n'"
   ]
  },
  {
   "cell_type": "markdown",
   "metadata": {},
   "source": [
    "**Q6:** Encode `ds` as a JSON-formatted string, but include `indent=2` as an argument in the conversion, and assign to `s2`."
   ]
  },
  {
   "cell_type": "code",
   "execution_count": 62,
   "metadata": {},
   "outputs": [
    {
     "name": "stdout",
     "output_type": "stream",
     "text": [
      "{\n",
      "  \"subjects\": [\n",
      "    {\n",
      "      \"subject\": \"CS\",\n",
      "      \"name\": \"Computer Science\",\n",
      "      \"department\": \"CS\"\n",
      "    },\n",
      "    {\n",
      "      \"subject\": \"MATH\",\n",
      "      \"name\": \"Mathematics\",\n",
      "      \"department\": \"MATH\"\n",
      "    },\n",
      "    {\n",
      "      \"subject\": \"ENGL\",\n",
      "      \"name\": \"English Literature\",\n",
      "      \"department\": \"ENGL\"\n",
      "    }\n",
      "  ]\n",
      "}\n"
     ]
    }
   ],
   "source": [
    "s2 = json.dumps(ds, indent = 2)\n",
    "\n",
    "# Display the string\n",
    "print(s2)"
   ]
  },
  {
   "cell_type": "code",
   "execution_count": 63,
   "metadata": {
    "deletable": false,
    "editable": false,
    "nbgrader": {
     "cell_type": "code",
     "checksum": "38d8ce0d5ab6a78e0a425875000451ee",
     "grade": true,
     "grade_id": "cell-765331274d04ea6d",
     "locked": true,
     "points": 3,
     "schema_version": 3,
     "solution": false,
     "task": false
    }
   },
   "outputs": [],
   "source": [
    "# Testing Cell\n",
    "f2 = io.StringIO()\n",
    "with redirect_stdout(f2):\n",
    "    print(s2)\n",
    "\n",
    "assert f2.getvalue() == '{\\n  \"subjects\": [\\n    {\\n      \"subject\": \"CS\",\\n      \"name\": \"Computer Science\",\\n      \"department\": \"CS\"\\n    },\\n    {\\n      \"subject\": \"MATH\",\\n      \"name\": \"Mathematics\",\\n      \"department\": \"MATH\"\\n    },\\n    {\\n      \"subject\": \"ENGL\",\\n      \"name\": \"English Literature\",\\n      \"department\": \"ENGL\"\\n    }\\n  ]\\n}\\n'"
   ]
  },
  {
   "cell_type": "code",
   "execution_count": null,
   "metadata": {},
   "outputs": [],
   "source": []
  }
 ],
 "metadata": {
  "kernelspec": {
   "display_name": "Python 3 (ipykernel)",
   "language": "python",
   "name": "python3"
  },
  "language_info": {
   "codemirror_mode": {
    "name": "ipython",
    "version": 3
   },
   "file_extension": ".py",
   "mimetype": "text/x-python",
   "name": "python",
   "nbconvert_exporter": "python",
   "pygments_lexer": "ipython3",
   "version": "3.9.7"
  }
 },
 "nbformat": 4,
 "nbformat_minor": 4
}
