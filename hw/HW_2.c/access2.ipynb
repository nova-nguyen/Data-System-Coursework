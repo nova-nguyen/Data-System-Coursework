{
 "cells": [
  {
   "cell_type": "markdown",
   "metadata": {},
   "source": [
    "# Denison CS181/DA210 Homework 2.c - Step 1\n",
    "\n",
    "Before you turn this problem in, make sure everything runs as expected. This is a combination of **restarting the kernel** and then **running all cells** (in the menubar, select Kernel$\\rightarrow$Restart And Run All).\n",
    "\n",
    "Make sure you fill in any place that says `# YOUR CODE HERE` or \"YOUR ANSWER HERE\"."
   ]
  },
  {
   "cell_type": "markdown",
   "metadata": {},
   "source": [
    "---"
   ]
  },
  {
   "cell_type": "code",
   "execution_count": null,
   "metadata": {},
   "outputs": [],
   "source": [
    "import pandas as pd"
   ]
  },
  {
   "cell_type": "markdown",
   "metadata": {},
   "source": [
    "---\n",
    "\n",
    "## Part A: Row Selection\n",
    "\n",
    "**Q1:** Convert the following dictionary (a DoL representation) to a data frame called `testdf`.\n",
    "\n",
    "```\n",
    "    { 'Name'  : ['Ross', 'Rachel', 'Chandler'], \n",
    "      'Test1' : [82, 85, 95], \n",
    "      'Test2' : [89, 85, 90], \n",
    "      'Test3' : [93, 85, 87] }\n",
    "```"
   ]
  },
  {
   "cell_type": "code",
   "execution_count": null,
   "metadata": {
    "deletable": false,
    "nbgrader": {
     "cell_type": "code",
     "checksum": "d6233a00a8efbb82120e59e2fe3f57ed",
     "grade": false,
     "grade_id": "cell-3ec9b06343f7d5d6",
     "locked": false,
     "schema_version": 3,
     "solution": true,
     "task": false
    }
   },
   "outputs": [],
   "source": [
    "# YOUR CODE HERE\n",
    "raise NotImplementedError()\n",
    "\n",
    "# Display the DataFrame\n",
    "testdf"
   ]
  },
  {
   "cell_type": "code",
   "execution_count": null,
   "metadata": {
    "deletable": false,
    "editable": false,
    "nbgrader": {
     "cell_type": "code",
     "checksum": "3f8f6f2410c8a997ceac21529f455aa1",
     "grade": true,
     "grade_id": "cell-bacb0663343d7f7c",
     "locked": true,
     "points": 1,
     "schema_version": 3,
     "solution": false,
     "task": false
    }
   },
   "outputs": [],
   "source": [
    "# Testing cell\n",
    "assert testdf.shape == (3,4)"
   ]
  },
  {
   "cell_type": "markdown",
   "metadata": {},
   "source": [
    "**Q2:** Assign to variable `test1` the column vector (a `Series`) associated with the scores of **Test1**."
   ]
  },
  {
   "cell_type": "code",
   "execution_count": null,
   "metadata": {},
   "outputs": [],
   "source": [
    "# YOUR CODE HERE\n",
    "raise NotImplementedError()\n",
    "\n",
    "# Display the Series\n",
    "test1"
   ]
  },
  {
   "cell_type": "code",
   "execution_count": null,
   "metadata": {},
   "outputs": [],
   "source": [
    "# Testing cell\n",
    "assert df.shape == (3,4)\n",
    "assert isinstance(test1, pd.core.series.Series)\n",
    "assert list(test1) == [82, 85, 95]"
   ]
  },
  {
   "cell_type": "markdown",
   "metadata": {},
   "source": [
    "**Q3:** Assign to a variable `ross_rachel_df` the two-row `DataFrame` of Ross and Rachel's test scores.  You should select these rows using the numerical index."
   ]
  },
  {
   "cell_type": "code",
   "execution_count": null,
   "metadata": {
    "deletable": false,
    "nbgrader": {
     "cell_type": "code",
     "checksum": "78f0c814a7656f293bf568ffddd3a0fe",
     "grade": true,
     "grade_id": "cell-15d0798550e374e5",
     "locked": false,
     "points": 4,
     "schema_version": 3,
     "solution": true,
     "task": false
    }
   },
   "outputs": [],
   "source": [
    "# YOUR CODE HERE\n",
    "raise NotImplementedError()\n",
    "\n",
    "# Display the DataFrame\n",
    "ross_rachel_df"
   ]
  },
  {
   "cell_type": "code",
   "execution_count": null,
   "metadata": {},
   "outputs": [],
   "source": [
    "# Testing cell\n",
    "assert ross_rachel_df.shape == (2,4)\n",
    "assert isinstance(ross_rachel_df, pd.core.frame.DataFrame)\n",
    "assert list(ross_rachel_df.Test1) == [82,85]\n",
    "assert list(ross_rachel_df.Test2) == [89,85]\n",
    "assert list(ross_rachel_df.Test3) == [93,85]"
   ]
  },
  {
   "cell_type": "markdown",
   "metadata": {},
   "source": [
    "**Q4:** Assign to variable `rachel_df` the one-row `DataFrame` of Rachel's test scores.  You should filter using the `'Name'` column."
   ]
  },
  {
   "cell_type": "code",
   "execution_count": null,
   "metadata": {},
   "outputs": [],
   "source": [
    "# YOUR CODE HERE\n",
    "raise NotImplementedError()\n",
    "\n",
    "# Display the DataFrame\n",
    "rachel_df"
   ]
  },
  {
   "cell_type": "code",
   "execution_count": null,
   "metadata": {},
   "outputs": [],
   "source": [
    "# Testing cell\n",
    "assert rachel_df.shape == (1,4)\n",
    "assert isinstance(rachel_df, pd.core.frame.DataFrame)"
   ]
  },
  {
   "cell_type": "markdown",
   "metadata": {},
   "source": [
    "**Q5:** Assign to variable `chandler_test3` the scalar integer of Chandler's third test score."
   ]
  },
  {
   "cell_type": "code",
   "execution_count": null,
   "metadata": {},
   "outputs": [],
   "source": [
    "# YOUR CODE HERE\n",
    "raise NotImplementedError()\n",
    "\n",
    "# Display the value\n",
    "chandler_test3"
   ]
  },
  {
   "cell_type": "code",
   "execution_count": null,
   "metadata": {},
   "outputs": [],
   "source": [
    "# Testing cell\n",
    "assert chandler_test3.item() == 87"
   ]
  },
  {
   "cell_type": "markdown",
   "metadata": {},
   "source": [
    "**Q6**: Compute a column Series, assigned to `final`, that equals the average of the three test scores."
   ]
  },
  {
   "cell_type": "code",
   "execution_count": null,
   "metadata": {
    "deletable": false,
    "nbgrader": {
     "cell_type": "code",
     "checksum": "18fc48338bedeb9e3c944f27a55f07a8",
     "grade": false,
     "grade_id": "cell-f52532d3db1fb99c",
     "locked": false,
     "schema_version": 3,
     "solution": true,
     "task": false
    }
   },
   "outputs": [],
   "source": [
    "# YOUR CODE HERE\n",
    "raise NotImplementedError()\n",
    "\n",
    "# Display the Series\n",
    "final"
   ]
  },
  {
   "cell_type": "code",
   "execution_count": null,
   "metadata": {
    "deletable": false,
    "editable": false,
    "nbgrader": {
     "cell_type": "code",
     "checksum": "006f52dfff6c96c16b457645efef6184",
     "grade": true,
     "grade_id": "cell-402ed44a99667b38",
     "locked": true,
     "points": 2,
     "schema_version": 3,
     "solution": false,
     "task": false
    }
   },
   "outputs": [],
   "source": [
    "# Testing cell\n",
    "assert isinstance(final, pd.core.series.Series)\n",
    "assert list(final)[:2] == [88.0, 85.0]"
   ]
  },
  {
   "cell_type": "markdown",
   "metadata": {},
   "source": [
    "---\n",
    "\n",
    "## Part B: Combining Projection and Selection\n",
    "\n",
    "**Q7** Use the following data to create a DataFrame named `df`:\n",
    "```\n",
    "    data = {'animal':   ['cat','cat','snake','dog',\n",
    "                         'dog','cat','snake','cat','dog','dog'],\n",
    "            'age':      [2.5, 3, 0.5, 7, 5, 2, 4.5, 4, 7, 3],\n",
    "            'visits':   [1, 3, 2, 3, 2, 3, 1, 1, 2, 1],\n",
    "            'priority': ['yes','yes','no','yes','no', \n",
    "                         'no','no','yes','no', 'no']}\n",
    "```\n",
    "\n",
    "Using as index:\n",
    "```\n",
    "    labels = ['a', 'b', 'c', 'd', 'e', \n",
    "              'f', 'g', 'h', 'i', 'j']\n",
    "```\n",
    "\n",
    "Then, carry out a selection of rows `d` through `g`, inclusive, using row labels (`Index` elements), not positions.  Assign the result to `df2`."
   ]
  },
  {
   "cell_type": "code",
   "execution_count": null,
   "metadata": {
    "deletable": false,
    "nbgrader": {
     "cell_type": "code",
     "checksum": "e33ac59cd4ab09686fe7e256d4f93c22",
     "grade": false,
     "grade_id": "cell-61eb39ee4ca8447a",
     "locked": false,
     "schema_version": 3,
     "solution": true,
     "task": false
    }
   },
   "outputs": [],
   "source": [
    "# YOUR CODE HERE\n",
    "raise NotImplementedError()\n",
    "\n",
    "# Display the DataFrame\n",
    "df2"
   ]
  },
  {
   "cell_type": "code",
   "execution_count": null,
   "metadata": {
    "deletable": false,
    "editable": false,
    "nbgrader": {
     "cell_type": "code",
     "checksum": "ad92f3d9010c0ad6ba26bbf002caa963",
     "grade": true,
     "grade_id": "cell-f2ba02aa5279c53e",
     "locked": true,
     "points": 2,
     "schema_version": 3,
     "solution": false,
     "task": false
    }
   },
   "outputs": [],
   "source": [
    "# Testing cell\n",
    "assert df.shape == (10,4)\n",
    "assert df2.shape == (4,4)\n",
    "assert 'd' in df2.index\n",
    "assert 'g' in df2.index"
   ]
  },
  {
   "cell_type": "markdown",
   "metadata": {},
   "source": [
    "**Q8:** In a single assignment statement, select the data in rows of `df` labeled `c`, `d`, and `e` and project the columns `'animal'` and `'age'`, assigning to `df3`."
   ]
  },
  {
   "cell_type": "code",
   "execution_count": null,
   "metadata": {
    "deletable": false,
    "nbgrader": {
     "cell_type": "code",
     "checksum": "31bc9ad69b16727d1148831b4a3fbb5a",
     "grade": false,
     "grade_id": "cell-37270ca1f13d69c2",
     "locked": false,
     "schema_version": 3,
     "solution": true,
     "task": false
    }
   },
   "outputs": [],
   "source": [
    "# YOUR CODE HERE\n",
    "raise NotImplementedError()\n",
    "\n",
    "# Display the DataFrame\n",
    "df3"
   ]
  },
  {
   "cell_type": "code",
   "execution_count": null,
   "metadata": {
    "deletable": false,
    "editable": false,
    "nbgrader": {
     "cell_type": "code",
     "checksum": "e518557eb79008df6f51979624b94cbe",
     "grade": true,
     "grade_id": "cell-638458b2a637a019",
     "locked": true,
     "points": 2,
     "schema_version": 3,
     "solution": false,
     "task": false
    }
   },
   "outputs": [],
   "source": [
    "# Testing cell\n",
    "assert df3.shape == (3, 2)\n",
    "assert 'c' in df3.index\n",
    "assert 'e' in df3.index\n",
    "assert 'animal' in df3.columns\n",
    "assert 'age' in df3.columns"
   ]
  },
  {
   "cell_type": "markdown",
   "metadata": {},
   "source": [
    "**Q9:** Create a column vector `ageVisit` (a `Series`) which, for each row in `df`, is the age of the animal divided by the number of visits for the animal."
   ]
  },
  {
   "cell_type": "code",
   "execution_count": null,
   "metadata": {},
   "outputs": [],
   "source": [
    "# YOUR CODE HERE\n",
    "raise NotImplementedError()\n",
    "\n",
    "# Display the Series\n",
    "ageVisit"
   ]
  },
  {
   "cell_type": "code",
   "execution_count": null,
   "metadata": {},
   "outputs": [],
   "source": [
    "# Testing cell\n",
    "assert isinstance(ageVisit, pd.core.series.Series)\n",
    "\n",
    "assert len(ageVisit) == df.shape[0]\n",
    "assert list(ageVisit[:3]) == [2.5, 1.0, 0.25]"
   ]
  },
  {
   "cell_type": "markdown",
   "metadata": {},
   "source": [
    "**Q10:** Create a `DataFrame` `df4` with only the rows of `df` in which the `age` is greater than 3."
   ]
  },
  {
   "cell_type": "code",
   "execution_count": null,
   "metadata": {},
   "outputs": [],
   "source": [
    "# YOUR CODE HERE\n",
    "raise NotImplementedError()\n",
    "\n",
    "# Display the DataFrame\n",
    "df4"
   ]
  },
  {
   "cell_type": "code",
   "execution_count": null,
   "metadata": {},
   "outputs": [],
   "source": [
    "# Testing cell\n",
    "assert isinstance(df4, pd.core.frame.DataFrame)\n",
    "\n",
    "assert df4.shape == (5, 4)\n",
    "assert list(df4.visits) == [3, 2, 1, 1, 2]\n",
    "\n",
    "assert list(df4.index) == ['d', 'e', 'g', 'h', 'i']"
   ]
  },
  {
   "cell_type": "markdown",
   "metadata": {},
   "source": [
    "**Q11:** From the original data frame, project the animal and visits columns from those rows where `priority` is `yes`.  Assign the result to `df5`."
   ]
  },
  {
   "cell_type": "code",
   "execution_count": null,
   "metadata": {},
   "outputs": [],
   "source": [
    "# YOUR CODE HERE\n",
    "raise NotImplementedError()\n",
    "\n",
    "# Display the DataFrame\n",
    "df5"
   ]
  },
  {
   "cell_type": "code",
   "execution_count": null,
   "metadata": {},
   "outputs": [],
   "source": [
    "# Testing cell\n",
    "assert df5.shape == (4, 2)\n",
    "assert \"animal\" in df5\n",
    "assert \"visits\" in df5\n",
    "assert \"priority\" not in df5\n",
    "\n",
    "assert list(df5.index) == ['a', 'b', 'd', 'h']"
   ]
  },
  {
   "cell_type": "markdown",
   "metadata": {},
   "source": [
    "---\n",
    "\n",
    "---\n",
    "## Part C\n",
    "\n",
    "How much time (in minutes/hours) did you spend on this homework assignment?"
   ]
  },
  {
   "cell_type": "markdown",
   "metadata": {},
   "source": [
    "YOUR ANSWER HERE"
   ]
  }
 ],
 "metadata": {
  "kernelspec": {
   "display_name": "Python 3",
   "language": "python",
   "name": "python3"
  },
  "language_info": {
   "codemirror_mode": {
    "name": "ipython",
    "version": 3
   },
   "file_extension": ".py",
   "mimetype": "text/x-python",
   "name": "python",
   "nbconvert_exporter": "python",
   "pygments_lexer": "ipython3",
   "version": "3.9.7"
  }
 },
 "nbformat": 4,
 "nbformat_minor": 4
}
