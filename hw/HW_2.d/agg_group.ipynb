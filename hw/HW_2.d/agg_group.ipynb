{
 "cells": [
  {
   "cell_type": "markdown",
   "metadata": {},
   "source": [
    "# Denison CS181/DA210 Homework 2.d - Step 1\n",
    "\n",
    "Before you turn this problem in, make sure everything runs as expected. This is a combination of **restarting the kernel** and then **running all cells** (in the menubar, select Kernel$\\rightarrow$Restart And Run All).\n",
    "\n",
    "Make sure you fill in any place that says `# YOUR CODE HERE` or \"YOUR ANSWER HERE\"."
   ]
  },
  {
   "cell_type": "markdown",
   "metadata": {},
   "source": [
    "---"
   ]
  },
  {
   "cell_type": "code",
   "execution_count": 49,
   "metadata": {},
   "outputs": [],
   "source": [
    "import os\n",
    "import os.path\n",
    "import pandas as pd\n",
    "\n",
    "datadir = \"publicdata\""
   ]
  },
  {
   "cell_type": "markdown",
   "metadata": {},
   "source": [
    "---\n",
    "\n",
    "## Part A: Aggregating a `Series`/`DataFrame`\n",
    "\n",
    "**Q1:** Read CSV file `topnames.csv` in `datadir` into a data frame named `topnames0`, with no index.  Using individual operations on the `count` column, find the mean, the median, and the max count, assigning to `mean_counts`, `median_counts`, and `max_counts`."
   ]
  },
  {
   "cell_type": "code",
   "execution_count": 2,
   "metadata": {
    "deletable": false,
    "nbgrader": {
     "cell_type": "code",
     "checksum": "56a21f4d74ca19c2fd0b3be41c1d6a0d",
     "grade": false,
     "grade_id": "cell-273768f03f8357e7",
     "locked": false,
     "schema_version": 3,
     "solution": true,
     "task": false
    }
   },
   "outputs": [],
   "source": [
    "filepath = os.path.join(datadir, 'topnames.csv')\n",
    "topnames0 = pd.read_csv(filepath)\n",
    "mean_counts = topnames0[\"count\"].mean()\n",
    "median_counts = topnames0[\"count\"].median()\n",
    "max_counts = topnames0[\"count\"].max()"
   ]
  },
  {
   "cell_type": "code",
   "execution_count": 3,
   "metadata": {},
   "outputs": [
    {
     "name": "stdout",
     "output_type": "stream",
     "text": [
      "Mean: 44985.24460431655 Median: 52556.0 Max: 99689\n"
     ]
    }
   ],
   "source": [
    "# Printing cell\n",
    "print(\"Mean:\", mean_counts,\n",
    "      \"Median:\", median_counts,\n",
    "      \"Max:\", max_counts)"
   ]
  },
  {
   "cell_type": "code",
   "execution_count": 4,
   "metadata": {
    "deletable": false,
    "editable": false,
    "nbgrader": {
     "cell_type": "code",
     "checksum": "33717e77cbc90703a46c471991939d68",
     "grade": true,
     "grade_id": "cell-057e3c90c18b71de",
     "locked": true,
     "points": 2,
     "schema_version": 3,
     "solution": false,
     "task": false
    }
   },
   "outputs": [],
   "source": [
    "# Testing Cell\n",
    "assert abs(mean_counts - 44985.2446) < 0.001\n",
    "assert median_counts == 52556.0\n",
    "assert max_counts == 99689"
   ]
  },
  {
   "cell_type": "markdown",
   "metadata": {},
   "source": [
    "**Q2:** Using the `agg` method on the `Series` of the column vector of counts, perform the same calculation of mean, median, and max in a single step, and assign to `agg_values`.  Note that this invocation may not have an exact correspondent in the book, so you may have to look up documentation of using `agg` on a `Series`.\n",
    "\n",
    "Note in a comment in the code solution cell the **data type** of the result."
   ]
  },
  {
   "cell_type": "code",
   "execution_count": 5,
   "metadata": {
    "deletable": false,
    "nbgrader": {
     "cell_type": "code",
     "checksum": "a13203da17c6ea29f0c767ea0ec98983",
     "grade": false,
     "grade_id": "cell-b34127acc546301e",
     "locked": false,
     "schema_version": 3,
     "solution": true,
     "task": false
    }
   },
   "outputs": [
    {
     "data": {
      "text/plain": [
       "mean      44985.244604\n",
       "median    52556.000000\n",
       "max       99689.000000\n",
       "Name: count, dtype: float64"
      ]
     },
     "execution_count": 5,
     "metadata": {},
     "output_type": "execute_result"
    }
   ],
   "source": [
    "agg_values = topnames0[\"count\"].agg(['mean', 'median', 'max'])\n",
    "\n",
    "# Data type of result: series\n",
    "# TODO\n",
    "\n",
    "# Display the aggregated values\n",
    "agg_values"
   ]
  },
  {
   "cell_type": "code",
   "execution_count": 6,
   "metadata": {
    "deletable": false,
    "editable": false,
    "nbgrader": {
     "cell_type": "code",
     "checksum": "0318b1296664a2fde935df60396140c4",
     "grade": true,
     "grade_id": "cell-69c4bfbbc5c3e7c6",
     "locked": true,
     "points": 2,
     "schema_version": 3,
     "solution": false,
     "task": false
    }
   },
   "outputs": [],
   "source": [
    "# Testing Cell\n",
    "assert abs(agg_values.loc[\"mean\"] - 44985.2446) < 0.001\n",
    "assert agg_values.loc[\"median\"] == 52556.0\n",
    "assert agg_values.loc[\"max\"] == 99689.0"
   ]
  },
  {
   "cell_type": "markdown",
   "metadata": {},
   "source": [
    "**Q3:** Create a subset of `topnames0` restricted to `Female` entries between 1960 and 1969, inclusive.  Assign this to `female_subset`.  Then use the `agg` function, in one step, to determine the mean and median count and the number of unique names, assigning to `female_aggvalues`.\n",
    "\n",
    "In a comment in the code solution cell, indicate the data type of the result."
   ]
  },
  {
   "cell_type": "code",
   "execution_count": 16,
   "metadata": {
    "deletable": false,
    "nbgrader": {
     "cell_type": "code",
     "checksum": "e99a40d1c35bb027073f74d32e7f679d",
     "grade": false,
     "grade_id": "cell-66dbb0e2aa2de096",
     "locked": false,
     "schema_version": 3,
     "solution": true,
     "task": false
    }
   },
   "outputs": [
    {
     "data": {
      "text/html": [
       "<div>\n",
       "<style scoped>\n",
       "    .dataframe tbody tr th:only-of-type {\n",
       "        vertical-align: middle;\n",
       "    }\n",
       "\n",
       "    .dataframe tbody tr th {\n",
       "        vertical-align: top;\n",
       "    }\n",
       "\n",
       "    .dataframe thead th {\n",
       "        text-align: right;\n",
       "    }\n",
       "</style>\n",
       "<table border=\"1\" class=\"dataframe\">\n",
       "  <thead>\n",
       "    <tr style=\"text-align: right;\">\n",
       "      <th></th>\n",
       "      <th>count</th>\n",
       "      <th>name</th>\n",
       "    </tr>\n",
       "  </thead>\n",
       "  <tbody>\n",
       "    <tr>\n",
       "      <th>mean</th>\n",
       "      <td>51972.7</td>\n",
       "      <td>NaN</td>\n",
       "    </tr>\n",
       "    <tr>\n",
       "      <th>median</th>\n",
       "      <td>51955.0</td>\n",
       "      <td>NaN</td>\n",
       "    </tr>\n",
       "    <tr>\n",
       "      <th>nunique</th>\n",
       "      <td>NaN</td>\n",
       "      <td>2.0</td>\n",
       "    </tr>\n",
       "  </tbody>\n",
       "</table>\n",
       "</div>"
      ],
      "text/plain": [
       "           count  name\n",
       "mean     51972.7   NaN\n",
       "median   51955.0   NaN\n",
       "nunique      NaN   2.0"
      ]
     },
     "execution_count": 16,
     "metadata": {},
     "output_type": "execute_result"
    }
   ],
   "source": [
    "female_subset = topnames0.loc[topnames0.sex == \"Female\", :]\n",
    "female_subset = female_subset.loc[female_subset.year >= 1960, :]\n",
    "female_subset = female_subset.loc[female_subset.year <= 1969, :]\n",
    "female_aggvalues = female_subset.agg({'count':['mean', 'median'], 'name':'nunique'})\n",
    "\n",
    "# Data type of result: dataframe\n",
    "# TODO\n",
    "\n",
    "# Display the aggregated values\n",
    "female_aggvalues"
   ]
  },
  {
   "cell_type": "code",
   "execution_count": 17,
   "metadata": {
    "deletable": false,
    "editable": false,
    "nbgrader": {
     "cell_type": "code",
     "checksum": "9c023894c1ade68ec83ff46c4684e4b4",
     "grade": true,
     "grade_id": "cell-a39ace3d52b87ed8",
     "locked": true,
     "points": 2,
     "schema_version": 3,
     "solution": false,
     "task": false
    }
   },
   "outputs": [],
   "source": [
    "# Testing Cell\n",
    "assert female_aggvalues.shape == (3,2)\n",
    "assert female_aggvalues.loc[\"mean\", \"count\"] == 51972.7\n",
    "assert female_aggvalues.loc[\"median\", \"count\"] == 51955.0\n",
    "assert female_aggvalues.loc[\"nunique\", \"name\"] == 2.0"
   ]
  },
  {
   "cell_type": "markdown",
   "metadata": {},
   "source": [
    "**Q4:** The constraints for selecting the rows from the last problem are based on `sex` and `year`.  We often use these independent variables to set an index for a data set.  Then, when we want to filter rows, our operations that use row label/`index` values for filtering are different.\n",
    "\n",
    "Start by creating dataframe `topnames` with its index drawn from the columns `year` and `sex`.  Then,\n",
    "with a goal of the same use of the `agg` function from **Q3**, use `xs` to take a cross section of `topnames` to get the Female entries and then use `loc` to get a data frame, `female_xs_subset`.  Finally, use `agg` on this data frame to, in one step, determine the mean and median count and the number of unique names, assigning to `female_xs_aggvalues`."
   ]
  },
  {
   "cell_type": "code",
   "execution_count": 39,
   "metadata": {
    "deletable": false,
    "nbgrader": {
     "cell_type": "code",
     "checksum": "e4ebd7ea5c540803aee99c39ae158f75",
     "grade": false,
     "grade_id": "cell-26dd6084fbc01496",
     "locked": false,
     "schema_version": 3,
     "solution": true,
     "task": false
    }
   },
   "outputs": [
    {
     "data": {
      "text/html": [
       "<div>\n",
       "<style scoped>\n",
       "    .dataframe tbody tr th:only-of-type {\n",
       "        vertical-align: middle;\n",
       "    }\n",
       "\n",
       "    .dataframe tbody tr th {\n",
       "        vertical-align: top;\n",
       "    }\n",
       "\n",
       "    .dataframe thead th {\n",
       "        text-align: right;\n",
       "    }\n",
       "</style>\n",
       "<table border=\"1\" class=\"dataframe\">\n",
       "  <thead>\n",
       "    <tr style=\"text-align: right;\">\n",
       "      <th></th>\n",
       "      <th>count</th>\n",
       "      <th>name</th>\n",
       "    </tr>\n",
       "  </thead>\n",
       "  <tbody>\n",
       "    <tr>\n",
       "      <th>mean</th>\n",
       "      <td>51972.7</td>\n",
       "      <td>NaN</td>\n",
       "    </tr>\n",
       "    <tr>\n",
       "      <th>median</th>\n",
       "      <td>51955.0</td>\n",
       "      <td>NaN</td>\n",
       "    </tr>\n",
       "    <tr>\n",
       "      <th>nunique</th>\n",
       "      <td>NaN</td>\n",
       "      <td>2.0</td>\n",
       "    </tr>\n",
       "  </tbody>\n",
       "</table>\n",
       "</div>"
      ],
      "text/plain": [
       "           count  name\n",
       "mean     51972.7   NaN\n",
       "median   51955.0   NaN\n",
       "nunique      NaN   2.0"
      ]
     },
     "execution_count": 39,
     "metadata": {},
     "output_type": "execute_result"
    }
   ],
   "source": [
    "topnames = topnames0.set_index(['sex', 'year'])\n",
    "topnames = topnames.xs(key = \"Female\", level = \"sex\")\n",
    "female_xs_subset = topnames.loc[1960:1969, :]\n",
    "female_xs_aggvalues = female_xs_subset.agg({\"count\":[\"mean\", \"median\"], \"name\":\"nunique\"})\n",
    "# Display the aggregated values\n",
    "female_xs_aggvalues\n"
   ]
  },
  {
   "cell_type": "code",
   "execution_count": 40,
   "metadata": {
    "deletable": false,
    "editable": false,
    "nbgrader": {
     "cell_type": "code",
     "checksum": "2a55f1a050739815b8fe278f3edc2f5b",
     "grade": true,
     "grade_id": "cell-28e7b414f2cfbfdb",
     "locked": true,
     "points": 2,
     "schema_version": 3,
     "solution": false,
     "task": false
    }
   },
   "outputs": [],
   "source": [
    "# Testing Cell\n",
    "assert female_xs_aggvalues.shape == (3,2)\n",
    "assert female_xs_aggvalues.loc[\"mean\", \"count\"] == 51972.7\n",
    "assert female_xs_aggvalues.loc[\"median\", \"count\"] == 51955.0\n",
    "assert female_xs_aggvalues.loc[\"nunique\", \"name\"] == 2.0"
   ]
  },
  {
   "cell_type": "markdown",
   "metadata": {},
   "source": [
    "---\n",
    "\n",
    "## Part B: GroupBy\n",
    "\n",
    "**Q5** Read CSV file `indicators2016.csv` in `datadir` into a data frame named `indicators0`, with no index. Write code to add a new column `popSize` to `indicators0` which takes value 'high' if `pop > 300`, 'low' if `pop < 50`, and 'medium' otherwise. "
   ]
  },
  {
   "cell_type": "code",
   "execution_count": 60,
   "metadata": {
    "deletable": false,
    "nbgrader": {
     "cell_type": "code",
     "checksum": "9fd6fb8998593a87d41d8b90bd19914e",
     "grade": false,
     "grade_id": "cell-12f1961184fc392c",
     "locked": false,
     "schema_version": 3,
     "solution": true,
     "task": false
    }
   },
   "outputs": [
    {
     "data": {
      "text/html": [
       "<div>\n",
       "<style scoped>\n",
       "    .dataframe tbody tr th:only-of-type {\n",
       "        vertical-align: middle;\n",
       "    }\n",
       "\n",
       "    .dataframe tbody tr th {\n",
       "        vertical-align: top;\n",
       "    }\n",
       "\n",
       "    .dataframe thead th {\n",
       "        text-align: right;\n",
       "    }\n",
       "</style>\n",
       "<table border=\"1\" class=\"dataframe\">\n",
       "  <thead>\n",
       "    <tr style=\"text-align: right;\">\n",
       "      <th></th>\n",
       "      <th>code</th>\n",
       "      <th>country</th>\n",
       "      <th>pop</th>\n",
       "      <th>gdp</th>\n",
       "      <th>life</th>\n",
       "      <th>cell</th>\n",
       "      <th>popSize</th>\n",
       "    </tr>\n",
       "  </thead>\n",
       "  <tbody>\n",
       "    <tr>\n",
       "      <th>0</th>\n",
       "      <td>ABW</td>\n",
       "      <td>Aruba</td>\n",
       "      <td>0.10</td>\n",
       "      <td>NaN</td>\n",
       "      <td>75.87</td>\n",
       "      <td>NaN</td>\n",
       "      <td>low</td>\n",
       "    </tr>\n",
       "    <tr>\n",
       "      <th>1</th>\n",
       "      <td>AFG</td>\n",
       "      <td>Afghanistan</td>\n",
       "      <td>34.66</td>\n",
       "      <td>19.47</td>\n",
       "      <td>63.67</td>\n",
       "      <td>21.60</td>\n",
       "      <td>low</td>\n",
       "    </tr>\n",
       "    <tr>\n",
       "      <th>2</th>\n",
       "      <td>AGO</td>\n",
       "      <td>Angola</td>\n",
       "      <td>28.81</td>\n",
       "      <td>95.34</td>\n",
       "      <td>61.55</td>\n",
       "      <td>13.00</td>\n",
       "      <td>low</td>\n",
       "    </tr>\n",
       "    <tr>\n",
       "      <th>3</th>\n",
       "      <td>ALB</td>\n",
       "      <td>Albania</td>\n",
       "      <td>2.88</td>\n",
       "      <td>11.86</td>\n",
       "      <td>78.34</td>\n",
       "      <td>3.37</td>\n",
       "      <td>low</td>\n",
       "    </tr>\n",
       "    <tr>\n",
       "      <th>4</th>\n",
       "      <td>AND</td>\n",
       "      <td>Andorra</td>\n",
       "      <td>0.08</td>\n",
       "      <td>2.86</td>\n",
       "      <td>NaN</td>\n",
       "      <td>0.07</td>\n",
       "      <td>low</td>\n",
       "    </tr>\n",
       "  </tbody>\n",
       "</table>\n",
       "</div>"
      ],
      "text/plain": [
       "  code      country    pop    gdp   life   cell popSize\n",
       "0  ABW        Aruba   0.10    NaN  75.87    NaN     low\n",
       "1  AFG  Afghanistan  34.66  19.47  63.67  21.60     low\n",
       "2  AGO       Angola  28.81  95.34  61.55  13.00     low\n",
       "3  ALB      Albania   2.88  11.86  78.34   3.37     low\n",
       "4  AND      Andorra   0.08   2.86    NaN   0.07     low"
      ]
     },
     "execution_count": 60,
     "metadata": {},
     "output_type": "execute_result"
    }
   ],
   "source": [
    "filepath = os.path.join(datadir, \"indicators2016.csv\")\n",
    "indicators0 = pd.read_csv(filepath)\n",
    "indicators0[\"popSize\"] = indicators0[\"pop\"].apply(lambda s: \"low\" if s < 50 else (\"high\" if s > 300 else \"medium\"))\n",
    "\n",
    "# Display part of the DataFrame\n",
    "indicators0.head()"
   ]
  },
  {
   "cell_type": "code",
   "execution_count": 61,
   "metadata": {
    "deletable": false,
    "editable": false,
    "nbgrader": {
     "cell_type": "code",
     "checksum": "2fb7c51b66f77ef77a3eb9f3036de4a6",
     "grade": true,
     "grade_id": "cell-2b5d0d4dc0d329f3",
     "locked": true,
     "points": 2,
     "schema_version": 3,
     "solution": false,
     "task": false
    }
   },
   "outputs": [],
   "source": [
    "# Testing Cell\n",
    "assert indicators0[\"popSize\"].nunique() == 3\n",
    "assert indicators0[\"popSize\"].value_counts()[\"low\"] == 189\n",
    "assert indicators0[\"popSize\"].value_counts()[\"medium\"] == 25\n",
    "assert indicators0[\"popSize\"].value_counts()[\"high\"] == 6\n",
    "assert indicators0.loc[205, \"popSize\"] == \"high\"\n",
    "assert indicators0.loc[17, \"popSize\"] == \"medium\"\n",
    "assert indicators0.loc[4, \"popSize\"] == \"low\""
   ]
  },
  {
   "cell_type": "markdown",
   "metadata": {},
   "source": [
    "**Q6:** Building on the question above, use `groupby` to partition `indicators0` by this new column `popSize`, assigning to variable `groupby_pop`.  Note in a comment the data type of `groupby_pop`."
   ]
  },
  {
   "cell_type": "code",
   "execution_count": 62,
   "metadata": {
    "deletable": false,
    "nbgrader": {
     "cell_type": "code",
     "checksum": "41cf473f64d9393b8af048383d7b5ef6",
     "grade": false,
     "grade_id": "cell-023cf542221ea589",
     "locked": false,
     "schema_version": 3,
     "solution": true,
     "task": false
    }
   },
   "outputs": [
    {
     "name": "stdout",
     "output_type": "stream",
     "text": [
      "3\n"
     ]
    }
   ],
   "source": [
    "groupby_pop = indicators0.groupby(\"popSize\")\n",
    "\n",
    "# Data type of groupby_pop: groupby\n",
    "# TODO\n",
    "\n",
    "# Print the number of groups\n",
    "print(len(groupby_pop))"
   ]
  },
  {
   "cell_type": "code",
   "execution_count": 63,
   "metadata": {
    "deletable": false,
    "editable": false,
    "nbgrader": {
     "cell_type": "code",
     "checksum": "80be9380098501633e920a6db849ed57",
     "grade": true,
     "grade_id": "cell-b3a522c4ffed3e54",
     "locked": true,
     "points": 2,
     "schema_version": 3,
     "solution": false,
     "task": false
    }
   },
   "outputs": [],
   "source": [
    "# Testing Cell\n",
    "assert len(groupby_pop) == 3"
   ]
  },
  {
   "cell_type": "markdown",
   "metadata": {},
   "source": [
    "**Q7:** Building on the question above, aggregate this groupby partitioning, determining the **number of non-missing elements** for each of the columns by partition.  Assign to `partition_counts` and also include a comment giving the data type of the result, and the row labels of the result.\n",
    "\n",
    "Hint: You can make this general by using a list-comprehension-type expression to create a dictionary.  (This is not necessary, but cool to use.)"
   ]
  },
  {
   "cell_type": "code",
   "execution_count": 70,
   "metadata": {
    "deletable": false,
    "nbgrader": {
     "cell_type": "code",
     "checksum": "4f2f284bd522c5d9cf53bee23d16cd06",
     "grade": false,
     "grade_id": "cell-0c97c6a6e4ad592d",
     "locked": false,
     "schema_version": 3,
     "solution": true,
     "task": false
    }
   },
   "outputs": [
    {
     "data": {
      "text/html": [
       "<div>\n",
       "<style scoped>\n",
       "    .dataframe tbody tr th:only-of-type {\n",
       "        vertical-align: middle;\n",
       "    }\n",
       "\n",
       "    .dataframe tbody tr th {\n",
       "        vertical-align: top;\n",
       "    }\n",
       "\n",
       "    .dataframe thead th {\n",
       "        text-align: right;\n",
       "    }\n",
       "</style>\n",
       "<table border=\"1\" class=\"dataframe\">\n",
       "  <thead>\n",
       "    <tr style=\"text-align: right;\">\n",
       "      <th></th>\n",
       "      <th>code</th>\n",
       "      <th>country</th>\n",
       "      <th>pop</th>\n",
       "      <th>gdp</th>\n",
       "      <th>life</th>\n",
       "      <th>cell</th>\n",
       "    </tr>\n",
       "    <tr>\n",
       "      <th>popSize</th>\n",
       "      <th></th>\n",
       "      <th></th>\n",
       "      <th></th>\n",
       "      <th></th>\n",
       "      <th></th>\n",
       "      <th></th>\n",
       "    </tr>\n",
       "  </thead>\n",
       "  <tbody>\n",
       "    <tr>\n",
       "      <th>high</th>\n",
       "      <td>6</td>\n",
       "      <td>6</td>\n",
       "      <td>6</td>\n",
       "      <td>6</td>\n",
       "      <td>6</td>\n",
       "      <td>6</td>\n",
       "    </tr>\n",
       "    <tr>\n",
       "      <th>low</th>\n",
       "      <td>189</td>\n",
       "      <td>189</td>\n",
       "      <td>189</td>\n",
       "      <td>164</td>\n",
       "      <td>171</td>\n",
       "      <td>172</td>\n",
       "    </tr>\n",
       "    <tr>\n",
       "      <th>medium</th>\n",
       "      <td>25</td>\n",
       "      <td>25</td>\n",
       "      <td>24</td>\n",
       "      <td>24</td>\n",
       "      <td>25</td>\n",
       "      <td>25</td>\n",
       "    </tr>\n",
       "  </tbody>\n",
       "</table>\n",
       "</div>"
      ],
      "text/plain": [
       "         code  country  pop  gdp  life  cell\n",
       "popSize                                     \n",
       "high        6        6    6    6     6     6\n",
       "low       189      189  189  164   171   172\n",
       "medium     25       25   24   24    25    25"
      ]
     },
     "execution_count": 70,
     "metadata": {},
     "output_type": "execute_result"
    }
   ],
   "source": [
    "partition_counts = groupby_pop.agg(\"count\")\n",
    "\n",
    "# Display the grouped counts\n",
    "partition_counts"
   ]
  },
  {
   "cell_type": "code",
   "execution_count": 69,
   "metadata": {
    "deletable": false,
    "editable": false,
    "nbgrader": {
     "cell_type": "code",
     "checksum": "718874848940afc4004b1b565ede7c6f",
     "grade": true,
     "grade_id": "cell-66f8badba21e1cb5",
     "locked": true,
     "points": 2,
     "schema_version": 3,
     "solution": false,
     "task": false
    }
   },
   "outputs": [
    {
     "ename": "AssertionError",
     "evalue": "",
     "output_type": "error",
     "traceback": [
      "\u001b[1;31m---------------------------------------------------------------------------\u001b[0m",
      "\u001b[1;31mAssertionError\u001b[0m                            Traceback (most recent call last)",
      "\u001b[1;32m~\\AppData\\Local\\Temp/ipykernel_2316/2242648489.py\u001b[0m in \u001b[0;36m<module>\u001b[1;34m\u001b[0m\n\u001b[0;32m      1\u001b[0m \u001b[1;31m# Testing Cell\u001b[0m\u001b[1;33m\u001b[0m\u001b[1;33m\u001b[0m\u001b[0m\n\u001b[1;32m----> 2\u001b[1;33m \u001b[1;32massert\u001b[0m \u001b[0mpartition_counts\u001b[0m\u001b[1;33m.\u001b[0m\u001b[0mshape\u001b[0m \u001b[1;33m==\u001b[0m \u001b[1;33m(\u001b[0m\u001b[1;36m3\u001b[0m\u001b[1;33m,\u001b[0m\u001b[1;36m7\u001b[0m\u001b[1;33m)\u001b[0m\u001b[1;33m\u001b[0m\u001b[1;33m\u001b[0m\u001b[0m\n\u001b[0m\u001b[0;32m      3\u001b[0m \u001b[1;32massert\u001b[0m \u001b[0mpartition_counts\u001b[0m\u001b[1;33m.\u001b[0m\u001b[0mloc\u001b[0m\u001b[1;33m[\u001b[0m\u001b[1;34m\"low\"\u001b[0m\u001b[1;33m,\u001b[0m \u001b[1;34m\"country\"\u001b[0m\u001b[1;33m]\u001b[0m \u001b[1;33m==\u001b[0m \u001b[1;36m189\u001b[0m\u001b[1;33m\u001b[0m\u001b[1;33m\u001b[0m\u001b[0m\n\u001b[0;32m      4\u001b[0m \u001b[1;32massert\u001b[0m \u001b[0mpartition_counts\u001b[0m\u001b[1;33m.\u001b[0m\u001b[0mloc\u001b[0m\u001b[1;33m[\u001b[0m\u001b[1;34m\"medium\"\u001b[0m\u001b[1;33m,\u001b[0m \u001b[1;34m\"gdp\"\u001b[0m\u001b[1;33m]\u001b[0m \u001b[1;33m==\u001b[0m \u001b[1;36m24\u001b[0m\u001b[1;33m\u001b[0m\u001b[1;33m\u001b[0m\u001b[0m\n\u001b[0;32m      5\u001b[0m \u001b[1;32massert\u001b[0m \u001b[0mpartition_counts\u001b[0m\u001b[1;33m.\u001b[0m\u001b[0mloc\u001b[0m\u001b[1;33m[\u001b[0m\u001b[1;34m\"high\"\u001b[0m\u001b[1;33m,\u001b[0m \u001b[1;34m\"cell\"\u001b[0m\u001b[1;33m]\u001b[0m \u001b[1;33m==\u001b[0m \u001b[1;36m6\u001b[0m\u001b[1;33m\u001b[0m\u001b[1;33m\u001b[0m\u001b[0m\n",
      "\u001b[1;31mAssertionError\u001b[0m: "
     ]
    }
   ],
   "source": [
    "# Testing Cell\n",
    "assert partition_counts.shape == (3,7)\n",
    "assert partition_counts.loc[\"low\", \"country\"] == 189\n",
    "assert partition_counts.loc[\"medium\", \"gdp\"] == 24\n",
    "assert partition_counts.loc[\"high\", \"cell\"] == 6"
   ]
  },
  {
   "cell_type": "markdown",
   "metadata": {},
   "source": [
    "**Q8:** In similar fashion, determine the mean, by partition, of `pop`, `gdp`, and `cell`, and the max of `life`, assigning to `partition_aggvalues`.  Use the `round()` method of DataFrames to round the numeric values to 2 decimal places."
   ]
  },
  {
   "cell_type": "code",
   "execution_count": 76,
   "metadata": {
    "deletable": false,
    "nbgrader": {
     "cell_type": "code",
     "checksum": "6fb0e630743d95db2c1a3a47fb2914c7",
     "grade": false,
     "grade_id": "cell-a188147fe195416e",
     "locked": false,
     "schema_version": 3,
     "solution": true,
     "task": false
    }
   },
   "outputs": [
    {
     "data": {
      "text/html": [
       "<div>\n",
       "<style scoped>\n",
       "    .dataframe tbody tr th:only-of-type {\n",
       "        vertical-align: middle;\n",
       "    }\n",
       "\n",
       "    .dataframe tbody tr th {\n",
       "        vertical-align: top;\n",
       "    }\n",
       "\n",
       "    .dataframe thead th {\n",
       "        text-align: right;\n",
       "    }\n",
       "</style>\n",
       "<table border=\"1\" class=\"dataframe\">\n",
       "  <thead>\n",
       "    <tr style=\"text-align: right;\">\n",
       "      <th></th>\n",
       "      <th>pop</th>\n",
       "      <th>gdp</th>\n",
       "      <th>cell</th>\n",
       "      <th>life</th>\n",
       "    </tr>\n",
       "    <tr>\n",
       "      <th>popSize</th>\n",
       "      <th></th>\n",
       "      <th></th>\n",
       "      <th></th>\n",
       "      <th></th>\n",
       "    </tr>\n",
       "  </thead>\n",
       "  <tbody>\n",
       "    <tr>\n",
       "      <th>high</th>\n",
       "      <td>2100.92</td>\n",
       "      <td>18715.31</td>\n",
       "      <td>2040.46</td>\n",
       "      <td>78.69</td>\n",
       "    </tr>\n",
       "    <tr>\n",
       "      <th>low</th>\n",
       "      <td>9.44</td>\n",
       "      <td>101.67</td>\n",
       "      <td>10.26</td>\n",
       "      <td>84.23</td>\n",
       "    </tr>\n",
       "    <tr>\n",
       "      <th>medium</th>\n",
       "      <td>108.52</td>\n",
       "      <td>1076.00</td>\n",
       "      <td>113.07</td>\n",
       "      <td>83.98</td>\n",
       "    </tr>\n",
       "  </tbody>\n",
       "</table>\n",
       "</div>"
      ],
      "text/plain": [
       "             pop       gdp     cell   life\n",
       "popSize                                   \n",
       "high     2100.92  18715.31  2040.46  78.69\n",
       "low         9.44    101.67    10.26  84.23\n",
       "medium    108.52   1076.00   113.07  83.98"
      ]
     },
     "execution_count": 76,
     "metadata": {},
     "output_type": "execute_result"
    }
   ],
   "source": [
    "partition_aggvalues = groupby_pop.agg({\"pop\" : \"mean\", \"gdp\" : \"mean\", \"cell\" : \"mean\", \"life\" : \"max\"})\n",
    "partition_aggvalues = partition_aggvalues.round(decimals = 2)\n",
    "\n",
    "# Display the grouped aggregated values\n",
    "partition_aggvalues"
   ]
  },
  {
   "cell_type": "code",
   "execution_count": 77,
   "metadata": {
    "deletable": false,
    "editable": false,
    "nbgrader": {
     "cell_type": "code",
     "checksum": "96f4b68141020b6b367eddb098be4aa2",
     "grade": true,
     "grade_id": "cell-527de16856555a86",
     "locked": true,
     "points": 2,
     "schema_version": 3,
     "solution": false,
     "task": false
    }
   },
   "outputs": [],
   "source": [
    "# Testing Cell\n",
    "assert partition_aggvalues.shape == (3,4)\n",
    "assert partition_aggvalues.loc[\"low\", \"gdp\"] == 101.67\n",
    "assert partition_aggvalues.loc[\"medium\", \"life\"] == 83.98\n",
    "assert partition_aggvalues.loc[\"high\", \"pop\"] == 2100.92"
   ]
  },
  {
   "cell_type": "markdown",
   "metadata": {},
   "source": [
    "**Q9:** In similar fashion, determine the mean, min, and max of `gdp` and `life`, assigning to `partition_aggvalues2` and again rounding to two decimal places."
   ]
  },
  {
   "cell_type": "code",
   "execution_count": 80,
   "metadata": {
    "deletable": false,
    "nbgrader": {
     "cell_type": "code",
     "checksum": "d9af44e0deb5ebdec044311a5d94f65f",
     "grade": false,
     "grade_id": "cell-4a555edd9837afc7",
     "locked": false,
     "schema_version": 3,
     "solution": true,
     "task": false
    }
   },
   "outputs": [
    {
     "data": {
      "text/html": [
       "<div>\n",
       "<style scoped>\n",
       "    .dataframe tbody tr th:only-of-type {\n",
       "        vertical-align: middle;\n",
       "    }\n",
       "\n",
       "    .dataframe tbody tr th {\n",
       "        vertical-align: top;\n",
       "    }\n",
       "\n",
       "    .dataframe thead tr th {\n",
       "        text-align: left;\n",
       "    }\n",
       "\n",
       "    .dataframe thead tr:last-of-type th {\n",
       "        text-align: right;\n",
       "    }\n",
       "</style>\n",
       "<table border=\"1\" class=\"dataframe\">\n",
       "  <thead>\n",
       "    <tr>\n",
       "      <th></th>\n",
       "      <th colspan=\"3\" halign=\"left\">gdp</th>\n",
       "      <th colspan=\"3\" halign=\"left\">life</th>\n",
       "    </tr>\n",
       "    <tr>\n",
       "      <th></th>\n",
       "      <th>mean</th>\n",
       "      <th>min</th>\n",
       "      <th>max</th>\n",
       "      <th>mean</th>\n",
       "      <th>min</th>\n",
       "      <th>max</th>\n",
       "    </tr>\n",
       "    <tr>\n",
       "      <th>popSize</th>\n",
       "      <th></th>\n",
       "      <th></th>\n",
       "      <th></th>\n",
       "      <th></th>\n",
       "      <th></th>\n",
       "      <th></th>\n",
       "    </tr>\n",
       "  </thead>\n",
       "  <tbody>\n",
       "    <tr>\n",
       "      <th>high</th>\n",
       "      <td>18715.31</td>\n",
       "      <td>1440.24</td>\n",
       "      <td>75871.74</td>\n",
       "      <td>72.87</td>\n",
       "      <td>68.56</td>\n",
       "      <td>78.69</td>\n",
       "    </tr>\n",
       "    <tr>\n",
       "      <th>low</th>\n",
       "      <td>101.67</td>\n",
       "      <td>0.03</td>\n",
       "      <td>1535.77</td>\n",
       "      <td>72.15</td>\n",
       "      <td>51.84</td>\n",
       "      <td>84.23</td>\n",
       "    </tr>\n",
       "    <tr>\n",
       "      <th>medium</th>\n",
       "      <td>1076.00</td>\n",
       "      <td>35.38</td>\n",
       "      <td>4949.27</td>\n",
       "      <td>72.29</td>\n",
       "      <td>53.43</td>\n",
       "      <td>83.98</td>\n",
       "    </tr>\n",
       "  </tbody>\n",
       "</table>\n",
       "</div>"
      ],
      "text/plain": [
       "              gdp                      life              \n",
       "             mean      min       max   mean    min    max\n",
       "popSize                                                  \n",
       "high     18715.31  1440.24  75871.74  72.87  68.56  78.69\n",
       "low        101.67     0.03   1535.77  72.15  51.84  84.23\n",
       "medium    1076.00    35.38   4949.27  72.29  53.43  83.98"
      ]
     },
     "execution_count": 80,
     "metadata": {},
     "output_type": "execute_result"
    }
   ],
   "source": [
    "partition_aggvalues2 = groupby_pop.agg({\"gdp\" : [\"mean\", \"min\", \"max\"], \"life\" : [\"mean\", \"min\", \"max\"]})\n",
    "partition_aggvalues2 = partition_aggvalues2.round(decimals = 2)\n",
    "# Display the grouped aggregated values\n",
    "partition_aggvalues2"
   ]
  },
  {
   "cell_type": "code",
   "execution_count": 81,
   "metadata": {
    "deletable": false,
    "editable": false,
    "nbgrader": {
     "cell_type": "code",
     "checksum": "3fcfff28bd3f04d2c80b1c0d5e0309fd",
     "grade": true,
     "grade_id": "cell-0eac3eb8a2736913",
     "locked": true,
     "points": 2,
     "schema_version": 3,
     "solution": false,
     "task": false
    }
   },
   "outputs": [],
   "source": [
    "# Testing Cell\n",
    "assert partition_aggvalues2.shape == (3,6)\n",
    "assert partition_aggvalues2.loc[\"low\", (\"gdp\", \"mean\")] == 101.67\n",
    "assert partition_aggvalues2.loc[\"medium\", (\"life\", \"max\")] == 83.98\n",
    "assert partition_aggvalues2.loc[\"high\", (\"gdp\", \"min\")] == 1440.24"
   ]
  },
  {
   "cell_type": "markdown",
   "metadata": {},
   "source": [
    "**Q10:** Explain how the columns of `partition_aggvalues2` differ from  how the columns of this result differ from the results of Q8 and Q9, and **why**."
   ]
  },
  {
   "cell_type": "markdown",
   "metadata": {
    "deletable": false,
    "nbgrader": {
     "cell_type": "markdown",
     "checksum": "ec32bc897cca88b7d7d32e7845f2d6ad",
     "grade": true,
     "grade_id": "cell-e305e2a6bcb52188",
     "locked": false,
     "points": 2,
     "schema_version": 3,
     "solution": true,
     "task": false
    }
   },
   "source": [
    "Q10 columns differ from Q8 in that they display different aggregated values (mean, mix, max of 2 columns vs count of non missing values of each of all columns)\n",
    "Q10 columns differ from Q9 in that they also display different aggregated values (mean, min, max of 2 columns vs mean or max of 4 columns). They also have different mapping (3 columns under each aggregated column vs 1 column under each aggregated column)"
   ]
  },
  {
   "cell_type": "markdown",
   "metadata": {},
   "source": [
    "---\n",
    "\n",
    "---\n",
    "## Part C\n",
    "\n",
    "**Q11:** How much time (in minutes/hours) did you spend on this homework assignment?"
   ]
  },
  {
   "cell_type": "markdown",
   "metadata": {},
   "source": [
    "3.5 hours"
   ]
  },
  {
   "cell_type": "markdown",
   "metadata": {},
   "source": [
    "**Q12:** Who was your partner for this assignment?  If you worked alone, say so instead."
   ]
  },
  {
   "cell_type": "markdown",
   "metadata": {},
   "source": [
    "I worked alone"
   ]
  }
 ],
 "metadata": {
  "kernelspec": {
   "display_name": "Python 3 (ipykernel)",
   "language": "python",
   "name": "python3"
  },
  "language_info": {
   "codemirror_mode": {
    "name": "ipython",
    "version": 3
   },
   "file_extension": ".py",
   "mimetype": "text/x-python",
   "name": "python",
   "nbconvert_exporter": "python",
   "pygments_lexer": "ipython3",
   "version": "3.9.7"
  }
 },
 "nbformat": 4,
 "nbformat_minor": 4
}
