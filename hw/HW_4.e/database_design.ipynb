{
 "cells": [
  {
   "cell_type": "markdown",
   "metadata": {},
   "source": [
    "# Denison CS181/DA210 Homework 4.e - Step 1\n",
    "\n",
    "Before you turn this problem in, make sure everything runs as expected. This is a combination of **restarting the kernel** and then **running all cells** (in the menubar, select Kernel$\\rightarrow$Restart And Run All).\n",
    "\n",
    "Make sure you fill in any place that says `# YOUR CODE HERE` or \"YOUR ANSWER HERE\"."
   ]
  },
  {
   "cell_type": "markdown",
   "metadata": {},
   "source": [
    "---"
   ]
  },
  {
   "cell_type": "markdown",
   "metadata": {},
   "source": [
    "## Part A: Table Design\n",
    "\n",
    "For this homework, you should think about the data you plan to use in your final project.  You are not committed to the design you develop for the homework, but the goal here is to walk you through the steps of sound database design, to help you along the way with your project.\n",
    "\n",
    "Note that these kinds of questions rarely have a single right answer, so keep an open mind and try to think carefully about what you are trying to design."
   ]
  },
  {
   "cell_type": "markdown",
   "metadata": {
    "deletable": false,
    "editable": false,
    "nbgrader": {
     "cell_type": "markdown",
     "checksum": "d0f7af3f221eeefb0d779df21126a846",
     "grade": false,
     "grade_id": "cell-d6749c5a3b138384",
     "locked": true,
     "schema_version": 3,
     "solution": false,
     "task": false
    }
   },
   "source": [
    "**Q1:** First, describe the datasets you plan to work with for the project, using simple English descriptions.  For example, you could describe a dataset related to college course registration, or a team-oriented sports league."
   ]
  },
  {
   "cell_type": "markdown",
   "metadata": {},
   "source": [
    "We will be using about 10 datasets. Each of them is a list of country ranked by an indicator, including: GDP, GDP per capita, income inequality, health expenditure, press freedom index, gender gap, happiness index, BMI, average height"
   ]
  },
  {
   "cell_type": "markdown",
   "metadata": {
    "deletable": false,
    "editable": false,
    "nbgrader": {
     "cell_type": "markdown",
     "checksum": "c5edddc09e4cc6fb69887b1c7024355c",
     "grade": false,
     "grade_id": "cell-0b928df805d2e793",
     "locked": true,
     "schema_version": 3,
     "solution": false,
     "task": false
    }
   },
   "source": [
    "**Q2:** In database design, we start with identifying the _entities_ that are the collectionf of _things_ that make up the database.  Even before relationships add other tables, our first goal is to identify the entities and to give a _table name_ for each entity.\n",
    "\n",
    "For the dataset described in answering the previous question, give a list and description of each of the entities."
   ]
  },
  {
   "cell_type": "markdown",
   "metadata": {},
   "source": [
    "Name of countries: char\n",
    "GDP: int\n",
    "GDP per capita: int\n",
    "Income inequality index: int\n",
    "Health expenditure: int\n",
    "Press freedom index: int\n",
    "Gender gap: int\n",
    "Happiness index: int\n",
    "BMI: int\n",
    "Average height: int\n"
   ]
  },
  {
   "cell_type": "markdown",
   "metadata": {
    "deletable": false,
    "editable": false,
    "nbgrader": {
     "cell_type": "markdown",
     "checksum": "e6abc96cbe5f68daca7665461fdc8e92",
     "grade": false,
     "grade_id": "cell-7f186baf19e8c17f",
     "locked": true,
     "schema_version": 3,
     "solution": false,
     "task": false
    }
   },
   "source": [
    "**Q3:** Check your table names.  List any instances of tables for which:\n",
    "- the name of the table is not plural, or\n",
    "- the table is defining a relationship between entities (and has a name that is composed of two entities).\n",
    "\n",
    "Note: design is an iterative refinement process, so it's okay to find things that need to be improved (and doesn't necessarily invalidate your answers to the previous questions)."
   ]
  },
  {
   "cell_type": "markdown",
   "metadata": {},
   "source": [
    "We will make 3 tables\n",
    "- Economic Indicators\n",
    "- Social Indicators\n",
    "- Health indicators\n",
    "None of which is not plural or is defining a relationship between entities"
   ]
  },
  {
   "cell_type": "markdown",
   "metadata": {
    "deletable": false,
    "editable": false,
    "nbgrader": {
     "cell_type": "markdown",
     "checksum": "c319b460329c52fe9056b921144df423",
     "grade": false,
     "grade_id": "cell-ca0441f511c8bb02",
     "locked": true,
     "schema_version": 3,
     "solution": false,
     "task": false
    }
   },
   "source": [
    "**Q4:** For each entity table, list the functional dependency that gives the independent variable(s) and a first pass at the dependent variables for the entity."
   ]
  },
  {
   "cell_type": "markdown",
   "metadata": {},
   "source": [
    "- Economic Indicators: Country name -> GDP/GDP per cap/Income inequality\n",
    "- Social indicators: Country name -> Press freedom index/Gender gap\n",
    "- Health indicators: Country name -> Health expenditure/BMI/Average height"
   ]
  },
  {
   "cell_type": "markdown",
   "metadata": {},
   "source": [
    "**Q5:** Identify any cases where two entity tables have the _same set_ of independent variables on the left-hand side of a functional dependency, and combine into a single table."
   ]
  },
  {
   "cell_type": "markdown",
   "metadata": {},
   "source": [
    "All 3 tables have the same independent variable (Country name) and can be combined into a single table"
   ]
  },
  {
   "cell_type": "markdown",
   "metadata": {},
   "source": [
    "**Q6:** For each functional dependency, go through the dependent variables and verify whether the variable is dependent on _only a subset_ of the independent variables.\n",
    "\n",
    "If found, break these out into _different_ functional dependencies."
   ]
  },
  {
   "cell_type": "markdown",
   "metadata": {},
   "source": [
    "N/A"
   ]
  },
  {
   "cell_type": "markdown",
   "metadata": {},
   "source": [
    "**Q7:** Identify the _primary key_ for each table, and state for each whether it is a _singleton_ or _composite_ key."
   ]
  },
  {
   "cell_type": "markdown",
   "metadata": {},
   "source": [
    "Primary key for each table is country name and it is a singleton"
   ]
  },
  {
   "cell_type": "markdown",
   "metadata": {},
   "source": [
    "---\n",
    "\n",
    "## Part B: Table-Field Design\n",
    "\n",
    "**Q8:** Consider, from the tables described in the previous part, the table with the most variables in its functional dependency (or one with fewer that are potentially more interesting).\n",
    "\n",
    "For all variables associated with that table:\n",
    "- Define the _field name_ to be used for each field.\n",
    "- List the data type to be used for each field.\n",
    "- Indicate whether each field can have a value that is _missing_ (i.e., `NULL`).\n",
    "- Write down 3 or 4 example values that you expect each field to have in different rows of the table."
   ]
  },
  {
   "cell_type": "markdown",
   "metadata": {},
   "source": [
    "Table: Economic indicators\n",
    "    - Field names: Country, GDP, GDPpercap, GINI\n",
    "    - Data types: CHAR, INT, INT, INT\n",
    "    - Missing val: NOT NULL, NULL, NULL, NULL\n",
    "Example: China, 16862979, 11891, 38.5\n",
    "    North Korea, NA, NA, NA"
   ]
  },
  {
   "cell_type": "markdown",
   "metadata": {},
   "source": [
    "**Q9:** Go through your list from the previous question's answer and identify any of the following violations, if present:\n",
    "- A field name that is really a _value_ for a variable.\n",
    "- A field that can be derived from other fields.\n",
    "- A field whose example values are either a mash-up or a list of values.\n",
    "- A set of fields that are different versions of the same thing (e.g., `major1`, `major2`).\n",
    "- Any other poor naming or other violations mentioned in Sec. 14.3."
   ]
  },
  {
   "cell_type": "markdown",
   "metadata": {},
   "source": [
    "N/A"
   ]
  },
  {
   "cell_type": "markdown",
   "metadata": {},
   "source": [
    "---\n",
    "\n",
    "---\n",
    "\n",
    "## Part C\n",
    "\n",
    "**Q10:** How much time (in minutes/hours) did you spend on this homework assignment?"
   ]
  },
  {
   "cell_type": "markdown",
   "metadata": {},
   "source": [
    "1 hour"
   ]
  },
  {
   "cell_type": "markdown",
   "metadata": {},
   "source": [
    "**Q11:** Who was your partner for this assignment?  If you worked alone, say so instead."
   ]
  },
  {
   "cell_type": "markdown",
   "metadata": {},
   "source": [
    "I worked alone"
   ]
  }
 ],
 "metadata": {
  "kernelspec": {
   "display_name": "Python 3 (ipykernel)",
   "language": "python",
   "name": "python3"
  },
  "language_info": {
   "codemirror_mode": {
    "name": "ipython",
    "version": 3
   },
   "file_extension": ".py",
   "mimetype": "text/x-python",
   "name": "python",
   "nbconvert_exporter": "python",
   "pygments_lexer": "ipython3",
   "version": "3.9.7"
  }
 },
 "nbformat": 4,
 "nbformat_minor": 4
}
