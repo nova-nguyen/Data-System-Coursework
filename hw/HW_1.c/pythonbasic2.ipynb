{
 "cells": [
  {
   "cell_type": "markdown",
   "metadata": {},
   "source": [
    "# Denison CS181/DA210 Homework 1.c - Step 1\n",
    "\n",
    "Before you turn this problem in, make sure everything runs as expected. This is a combination of **restarting the kernel** and then **running all cells** (in the menubar, select Kernel$\\rightarrow$Restart And Run All).\n",
    "\n",
    "Make sure you fill in any place that says `# YOUR CODE HERE` or \"YOUR ANSWER HERE\".\n",
    "\n",
    "Also, note that all functions that you define for homework **must have docstrings**."
   ]
  },
  {
   "cell_type": "markdown",
   "metadata": {},
   "source": [
    "---"
   ]
  },
  {
   "cell_type": "code",
   "execution_count": null,
   "metadata": {},
   "outputs": [],
   "source": [
    "import os\n",
    "import os.path\n",
    "import io\n",
    "import sys\n",
    "from contextlib import redirect_stdout"
   ]
  },
  {
   "cell_type": "markdown",
   "metadata": {},
   "source": [
    "---\n",
    "## Part A\n",
    "\n",
    "**Q1** Write a function\n",
    "\n",
    "```\n",
    "    decreaseList(L, amount)\n",
    "```\n",
    "\n",
    "that, for each number in list L, decreases L by `amount`.  The list should be modified in place, and the function should not create a new list, nor return any value."
   ]
  },
  {
   "cell_type": "code",
   "execution_count": null,
   "metadata": {
    "deletable": false,
    "nbgrader": {
     "cell_type": "code",
     "checksum": "9a57ef6538233778e5c59ddd15aed799",
     "grade": false,
     "grade_id": "cell-2370a7c1bbe407fc",
     "locked": false,
     "schema_version": 3,
     "solution": true
    }
   },
   "outputs": [],
   "source": [
    "# YOUR CODE HERE\n",
    "raise NotImplementedError()"
   ]
  },
  {
   "cell_type": "code",
   "execution_count": null,
   "metadata": {
    "deletable": false,
    "editable": false,
    "nbgrader": {
     "cell_type": "code",
     "checksum": "4a8823d466ac8eb4519e2cd15d905b5a",
     "grade": true,
     "grade_id": "cell-012b8ea5dfc08243",
     "locked": true,
     "points": 2,
     "schema_version": 3,
     "solution": false
    }
   },
   "outputs": [],
   "source": [
    "# Testing cell\n",
    "L = [0.65, 0.75, 0.85]\n",
    "decreaseList(L, 0.01)\n",
    "assert L == [0.64, 0.74, 0.84]\n",
    "\n",
    "data = [3,4,5]\n",
    "decreaseList(amount = 1, L = data)\n",
    "assert data == [2,3,4]"
   ]
  },
  {
   "cell_type": "markdown",
   "metadata": {},
   "source": [
    "**Q2** Write a function `swap_case(s)` that swap cases in the string `s`. In other words, convert all lowercase letters to uppercase letters and vice versa. Do not use the `swapcase()` method. Instead, use `ord()` and `chr()`. For example, if `s = \"My string\"` you return `\"mY STRING\"`."
   ]
  },
  {
   "cell_type": "code",
   "execution_count": null,
   "metadata": {
    "deletable": false,
    "nbgrader": {
     "cell_type": "code",
     "checksum": "30bc8cfd8da0ad88c274934e6125500b",
     "grade": false,
     "grade_id": "cell-9e32228bd18a25d0",
     "locked": false,
     "schema_version": 3,
     "solution": true,
     "task": false
    }
   },
   "outputs": [],
   "source": [
    "# YOUR CODE HERE\n",
    "raise NotImplementedError()"
   ]
  },
  {
   "cell_type": "code",
   "execution_count": null,
   "metadata": {
    "deletable": false,
    "editable": false,
    "nbgrader": {
     "cell_type": "code",
     "checksum": "69247676880a5877e6e02ce14411ed32",
     "grade": true,
     "grade_id": "cell-3b660b9b6f4b7390",
     "locked": true,
     "points": 2,
     "schema_version": 3,
     "solution": false,
     "task": false
    }
   },
   "outputs": [],
   "source": [
    "# Testing cell\n",
    "assert swap_case(\"WikiPedia\") == \"wIKIpEDIA\"\n",
    "assert swap_case(\"Lorem Ipsum\") == \"lOREM iPSUM\"\n",
    "assert swap_case(\"The quick Brown fOX jumped Over THE laZy doG\") == \"tHE QUICK bROWN Fox JUMPED oVER the LAzY DOg\""
   ]
  },
  {
   "cell_type": "markdown",
   "metadata": {},
   "source": [
    "---\n",
    "## Part B\n",
    "\n",
    "**Q3** Implement a function\n",
    "\n",
    "```\n",
    "    insertElement(myList, e, i)\n",
    "```\n",
    " \n",
    "that inserts an element `e` at index `i` of `myList` in place."
   ]
  },
  {
   "cell_type": "code",
   "execution_count": null,
   "metadata": {
    "deletable": false,
    "nbgrader": {
     "cell_type": "code",
     "checksum": "df11901c037dcb2008aed9fb177c1e8d",
     "grade": false,
     "grade_id": "cell-453c1aac75de2844",
     "locked": false,
     "schema_version": 3,
     "solution": true,
     "task": false
    }
   },
   "outputs": [],
   "source": [
    "def insertElement(myList, e, i):\n",
    "    \"\"\"\n",
    "    Inserts an element e into index i of myList.\n",
    "    \"\"\"\n",
    "    # YOUR CODE HERE\n",
    "    raise NotImplementedError()"
   ]
  },
  {
   "cell_type": "code",
   "execution_count": null,
   "metadata": {
    "deletable": false,
    "editable": false,
    "nbgrader": {
     "cell_type": "code",
     "checksum": "d6c623fe9c4acd8123800460dcb71eb1",
     "grade": true,
     "grade_id": "cell-b8fd5f38b0641496",
     "locked": true,
     "points": 2,
     "schema_version": 3,
     "solution": false,
     "task": false
    }
   },
   "outputs": [],
   "source": [
    "# Testing cell\n",
    "myList =[1, 2, 3, 4]\n",
    "assert insertElement(myList, 5, 0) == None\n",
    "assert myList[0] == 5\n",
    "insertElement(myList, 6, 1)\n",
    "assert myList[0] == 5\n",
    "assert myList[1] == 6\n",
    "insertElement(myList, 7, len(myList))\n",
    "assert len(myList) == 7\n",
    "assert myList[-1] == 7"
   ]
  },
  {
   "cell_type": "markdown",
   "metadata": {},
   "source": [
    "**Q4** Implement a function `findElement(myList, e)` that returns the index of the first occurence of element `e` in `myList`. Do not use any built-in functions."
   ]
  },
  {
   "cell_type": "code",
   "execution_count": null,
   "metadata": {
    "deletable": false,
    "nbgrader": {
     "cell_type": "code",
     "checksum": "27741ea649981c03ff31c0d65114071d",
     "grade": false,
     "grade_id": "cell-061721e509002e48",
     "locked": false,
     "schema_version": 3,
     "solution": true,
     "task": false
    }
   },
   "outputs": [],
   "source": [
    "# YOUR CODE HERE\n",
    "raise NotImplementedError()"
   ]
  },
  {
   "cell_type": "code",
   "execution_count": null,
   "metadata": {
    "deletable": false,
    "editable": false,
    "nbgrader": {
     "cell_type": "code",
     "checksum": "9e80989153642f161cc80bc508ec3530",
     "grade": true,
     "grade_id": "cell-d5fd301307dccd31",
     "locked": true,
     "points": 2,
     "schema_version": 3,
     "solution": false,
     "task": false
    }
   },
   "outputs": [],
   "source": [
    "# Testing cell\n",
    "myList = [3, 7]\n",
    "assert findElement(myList, 7) == 1\n",
    "assert findElement(myList, 14) == None"
   ]
  }
 ],
 "metadata": {
  "interpreter": {
   "hash": "3b1827d4b6462cc460901af0bc0d075c933010817877a813d51f78a107cbf6e5"
  },
  "kernelspec": {
   "display_name": "Python 3.8.6 64-bit",
   "name": "python3"
  },
  "language_info": {
   "codemirror_mode": {
    "name": "ipython",
    "version": 3
   },
   "file_extension": ".py",
   "mimetype": "text/x-python",
   "name": "python",
   "nbconvert_exporter": "python",
   "pygments_lexer": "ipython3",
   "version": "3.8.6"
  }
 },
 "nbformat": 4,
 "nbformat_minor": 4
}
