{
 "cells": [
  {
   "cell_type": "markdown",
   "metadata": {},
   "source": [
    "# Denison CS181/DA210 Homework 2.f - Step 1\n",
    "\n",
    "Before you turn this problem in, make sure everything runs as expected. This is a combination of **restarting the kernel** and then **running all cells** (in the menubar, select Kernel$\\rightarrow$Restart And Run All).\n",
    "\n",
    "Make sure you fill in any place that says `# YOUR CODE HERE` or \"YOUR ANSWER HERE\"."
   ]
  },
  {
   "cell_type": "markdown",
   "metadata": {},
   "source": [
    "---"
   ]
  },
  {
   "cell_type": "code",
   "execution_count": null,
   "metadata": {},
   "outputs": [],
   "source": [
    "import os\n",
    "import os.path\n",
    "import pandas as pd\n",
    "\n",
    "datadir = \"publicdata\""
   ]
  },
  {
   "cell_type": "markdown",
   "metadata": {},
   "source": [
    "---\n",
    "\n",
    "## Part A: Transformation operations: transpose and melt\n",
    "\n",
    "**Q1:** Make the following into a `pandas` data frame.  Assign it to `df`.\n",
    "```\n",
    "    {'A': {0: 'a', 1: 'b', 2: 'c'},\n",
    "     'B': {0:  2,  1:  4,  2:  6},\n",
    "     'C': {0:  1,  1:  3,  2:  5},\n",
    "     'D': {0:  1,  1:  2,  2:  4}}\n",
    "```"
   ]
  },
  {
   "cell_type": "code",
   "execution_count": null,
   "metadata": {
    "deletable": false,
    "nbgrader": {
     "cell_type": "code",
     "checksum": "4e2d4dea1183f10839c078be952a71b9",
     "grade": false,
     "grade_id": "cell-c93bf4fe3e267518",
     "locked": false,
     "schema_version": 3,
     "solution": true,
     "task": false
    }
   },
   "outputs": [],
   "source": [
    "# YOUR CODE HERE\n",
    "raise NotImplementedError()\n",
    "\n",
    "# Display the DataFrame\n",
    "df"
   ]
  },
  {
   "cell_type": "code",
   "execution_count": null,
   "metadata": {
    "deletable": false,
    "editable": false,
    "nbgrader": {
     "cell_type": "code",
     "checksum": "19bce4344d5140387d06852a38f0c886",
     "grade": true,
     "grade_id": "cell-886fdd47df433623",
     "locked": true,
     "points": 2,
     "schema_version": 3,
     "solution": false,
     "task": false
    }
   },
   "outputs": [],
   "source": [
    "# Testing cell\n",
    "assert df.shape == (3,4)\n",
    "assert list(df.columns) == [\"A\", \"B\", \"C\", \"D\"]\n",
    "assert list(df.index) == list(range(3))"
   ]
  },
  {
   "cell_type": "markdown",
   "metadata": {},
   "source": [
    "**Q2:** Perform a transpose operation on `df`, storing the result in `df_transpose`."
   ]
  },
  {
   "cell_type": "code",
   "execution_count": null,
   "metadata": {},
   "outputs": [],
   "source": [
    "# YOUR CODE HERE\n",
    "raise NotImplementedError()\n",
    "\n",
    "# Display the transposed DataFrame\n",
    "df_transpose"
   ]
  },
  {
   "cell_type": "code",
   "execution_count": null,
   "metadata": {},
   "outputs": [],
   "source": [
    "# Testing cell\n",
    "assert df_transpose.shape == (4,3)\n",
    "assert list(df_transpose.index) == [\"A\", \"B\", \"C\", \"D\"]\n",
    "assert list(df_transpose.columns) == list(range(3))"
   ]
  },
  {
   "cell_type": "code",
   "execution_count": null,
   "metadata": {},
   "outputs": [],
   "source": [
    "# Display the original DataFrame again\n",
    "df"
   ]
  },
  {
   "cell_type": "markdown",
   "metadata": {},
   "source": [
    "**Q3:** Suppose that we have determined that columns `B` and `D` are really _values_ of a _variable_ called `X`.  (This is similar to when columns represented values of the variable `Year` for `topnames`.)\n",
    "\n",
    "We can make this dataset tidy using a `melt` operation.  Perform this operation and assign the result to `df_melted`.  The values of these columns should be placed in a new column named `Y`."
   ]
  },
  {
   "cell_type": "code",
   "execution_count": null,
   "metadata": {
    "deletable": false,
    "nbgrader": {
     "cell_type": "code",
     "checksum": "72230ee488a135d1cfe6b39d5581cfe3",
     "grade": false,
     "grade_id": "cell-409fcf1eacadcf13",
     "locked": false,
     "schema_version": 3,
     "solution": true,
     "task": false
    }
   },
   "outputs": [],
   "source": [
    "# YOUR CODE HERE\n",
    "raise NotImplementedError()\n",
    "\n",
    "# Display the DataFrame\n",
    "df_melted"
   ]
  },
  {
   "cell_type": "code",
   "execution_count": null,
   "metadata": {
    "deletable": false,
    "editable": false,
    "nbgrader": {
     "cell_type": "code",
     "checksum": "5c65c2510e5fe1c20ae6b0b132c83e29",
     "grade": true,
     "grade_id": "cell-bc651d3241e7affb",
     "locked": true,
     "points": 2,
     "schema_version": 3,
     "solution": false,
     "task": false
    }
   },
   "outputs": [],
   "source": [
    "# Testing cell\n",
    "assert df_melted.shape == (6,4)\n",
    "assert \"B\" not in df_melted\n",
    "assert \"D\" not in df_melted\n",
    "assert \"X\" in df_melted\n",
    "assert \"Y\" in df_melted\n",
    "assert list(df_melted.loc[df_melted[\"X\"] == \"B\", \"A\"]) == ['a','b','c']\n",
    "assert list(df_melted.loc[df_melted[\"X\"] == \"B\", \"Y\"]) == [2,4,6]\n",
    "assert list(df_melted.loc[df_melted[\"X\"] == \"D\", \"Y\"]) == [1,2,4]"
   ]
  }
 ],
 "metadata": {
  "kernelspec": {
   "display_name": "Python 3",
   "language": "python",
   "name": "python3"
  },
  "language_info": {
   "codemirror_mode": {
    "name": "ipython",
    "version": 3
   },
   "file_extension": ".py",
   "mimetype": "text/x-python",
   "name": "python",
   "nbconvert_exporter": "python",
   "pygments_lexer": "ipython3",
   "version": "3.9.7"
  }
 },
 "nbformat": 4,
 "nbformat_minor": 4
}
