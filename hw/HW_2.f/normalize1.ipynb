{
 "cells": [
  {
   "cell_type": "markdown",
   "metadata": {},
   "source": [
    "# Denison CS181/DA210 Homework 2.f - Step 2\n",
    "\n",
    "Before you turn this problem in, make sure everything runs as expected. This is a combination of **restarting the kernel** and then **running all cells** (in the menubar, select Kernel$\\rightarrow$Restart And Run All).\n",
    "\n",
    "Make sure you fill in any place that says `# YOUR CODE HERE` or \"YOUR ANSWER HERE\"."
   ]
  },
  {
   "cell_type": "markdown",
   "metadata": {},
   "source": [
    "---"
   ]
  },
  {
   "cell_type": "code",
   "execution_count": null,
   "metadata": {},
   "outputs": [],
   "source": [
    "import os\n",
    "import os.path\n",
    "import pandas as pd\n",
    "\n",
    "datadir = \"publicdata\""
   ]
  },
  {
   "cell_type": "markdown",
   "metadata": {},
   "source": [
    "---\n",
    "\n",
    "## Part B: Data normalization\n",
    "\n",
    "**Q4:** Consider the file `ratings.csv`.  It has columns for first name, last name, `RatingA`, used for rating a particular restaurant (A), and `RatingB`, used for rating a different restaurant (B).\n",
    "\n",
    "Load this dataset into a `DataFrame` called `ratings_untidy`."
   ]
  },
  {
   "cell_type": "code",
   "execution_count": null,
   "metadata": {
    "deletable": false,
    "nbgrader": {
     "cell_type": "code",
     "checksum": "9bcc55e98ecc146b25a208c9b50203b5",
     "grade": false,
     "grade_id": "cell-453406ce5397fdb5",
     "locked": false,
     "schema_version": 3,
     "solution": true,
     "task": false
    }
   },
   "outputs": [],
   "source": [
    "# YOUR CODE HERE\n",
    "raise NotImplementedError()\n",
    "\n",
    "# Display the DataFrame\n",
    "ratings_untidy"
   ]
  },
  {
   "cell_type": "code",
   "execution_count": null,
   "metadata": {
    "deletable": false,
    "editable": false,
    "nbgrader": {
     "cell_type": "code",
     "checksum": "639eddf11f74ddb364b3af20c3fce52a",
     "grade": true,
     "grade_id": "cell-73c2bce4601a51de",
     "locked": true,
     "points": 3,
     "schema_version": 3,
     "solution": false,
     "task": false
    }
   },
   "outputs": [],
   "source": [
    "# Testing cell\n",
    "assert ratings_untidy.shape == (3,4)\n",
    "assert ratings_untidy.iloc[0,1] == \"Hirst\"\n",
    "assert list(ratings_untidy.iloc[:,2]) == [73, 57, 85]\n",
    "assert list(ratings_untidy.iloc[:,3]) == [52, 72, 69]"
   ]
  },
  {
   "cell_type": "markdown",
   "metadata": {},
   "source": [
    "**Q5:** This dataset is not tidy for the following reasons:\n",
    "* The name of a \"rater\" should be a single variable (with values of the form \"\\<first\\> \\<last\\>\", like \"Wei Chang\").\n",
    "* The particular restaurants are *values* of the data set.\n",
    "\n",
    "Solve the first of these issues by combining the first two columns (for first and last name) into a single `Rater` column.  Name your resultant `DataFrame` `ratings_untidy2`.\n",
    "\n",
    "Do not give the new data set a row label index."
   ]
  },
  {
   "cell_type": "code",
   "execution_count": null,
   "metadata": {},
   "outputs": [],
   "source": [
    "# YOUR CODE HERE\n",
    "raise NotImplementedError()\n",
    "\n",
    "# Display the DataFrame\n",
    "ratings_untidy2"
   ]
  },
  {
   "cell_type": "code",
   "execution_count": null,
   "metadata": {},
   "outputs": [],
   "source": [
    "# Testing cell\n",
    "assert ratings_untidy2.shape == (3,3)\n",
    "assert \"First\" not in ratings_untidy2\n",
    "assert \"Last\" not in ratings_untidy2\n",
    "assert \"RatingA\" in ratings_untidy2\n",
    "assert \"RatingB\" in ratings_untidy2\n",
    "assert \"Rater\" in ratings_untidy2\n",
    "assert list(ratings_untidy2[\"Rater\"]) == [\"Hamid Hirst\",\n",
    "                                          \"Scarlet Crossley\",\n",
    "                                          \"Wei Chang\"]"
   ]
  },
  {
   "cell_type": "markdown",
   "metadata": {},
   "source": [
    "**Q6:** Finally, fix the second issue to transform `ratings_untidy2` into a tidy data set, naming it `ratings_tidy`.\n",
    "\n",
    "Note that you should both transform the `RatingA` and `RatingB` columns, but your resulting column representing the restaurant variable, `Restaurant`, should have values `'A'` and `'B'` rather than `'RatingA'` and `'RatingB'`.  Your value column should be named `Rating`.\n",
    "\n",
    "Once again, do not give the new data set a row label index."
   ]
  },
  {
   "cell_type": "code",
   "execution_count": null,
   "metadata": {},
   "outputs": [],
   "source": [
    "# YOUR CODE HERE\n",
    "raise NotImplementedError()\n",
    "\n",
    "# Display the tidy DataFrame\n",
    "ratings_tidy"
   ]
  },
  {
   "cell_type": "code",
   "execution_count": null,
   "metadata": {},
   "outputs": [],
   "source": [
    "# Testing cell\n",
    "assert ratings_tidy.shape == (6,3)\n",
    "assert list(ratings_tidy.columns) == [\"Rater\", \"Restaurant\", \"Rating\"]\n",
    "assert list(ratings_tidy.loc[ratings_tidy[\"Restaurant\"] == \"A\", \"Rating\"]) == [73,57,85]\n",
    "assert list(ratings_tidy.loc[ratings_tidy[\"Restaurant\"] == \"B\", \"Rating\"]) == [52,72,69]"
   ]
  },
  {
   "cell_type": "markdown",
   "metadata": {},
   "source": [
    "---\n",
    "\n",
    "---\n",
    "\n",
    "## Part C\n",
    "\n",
    "**Q7:** How much time (in minutes/hours) did you spend on this homework assignment?"
   ]
  },
  {
   "cell_type": "markdown",
   "metadata": {},
   "source": [
    "YOUR ANSWER HERE"
   ]
  },
  {
   "cell_type": "markdown",
   "metadata": {},
   "source": [
    "**Q8:** Who was your partner for this assignment?  If you worked alone, say so instead."
   ]
  },
  {
   "cell_type": "markdown",
   "metadata": {},
   "source": [
    "YOUR ANSWER HERE"
   ]
  }
 ],
 "metadata": {
  "kernelspec": {
   "display_name": "Python 3",
   "language": "python",
   "name": "python3"
  },
  "language_info": {
   "codemirror_mode": {
    "name": "ipython",
    "version": 3
   },
   "file_extension": ".py",
   "mimetype": "text/x-python",
   "name": "python",
   "nbconvert_exporter": "python",
   "pygments_lexer": "ipython3",
   "version": "3.9.7"
  }
 },
 "nbformat": 4,
 "nbformat_minor": 4
}
