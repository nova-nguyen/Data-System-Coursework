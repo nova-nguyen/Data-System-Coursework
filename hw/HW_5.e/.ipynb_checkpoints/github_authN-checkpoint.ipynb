{
 "cells": [
  {
   "cell_type": "markdown",
   "metadata": {},
   "source": [
    "# Denison CS181/DA210 APIs, Authenticated"
   ]
  },
  {
   "cell_type": "markdown",
   "metadata": {},
   "source": [
    "---"
   ]
  },
  {
   "cell_type": "code",
   "execution_count": 1,
   "metadata": {},
   "outputs": [],
   "source": [
    "import os\n",
    "import os.path\n",
    "import sys\n",
    "import importlib\n",
    "import matplotlib.pyplot as plt\n",
    "import pandas as pd\n",
    "\n",
    "if os.path.isdir(os.path.join(\"../../..\", \"modules\")):\n",
    "    module_dir = os.path.join(\"../../..\", \"modules\")\n",
    "else:\n",
    "    module_dir = os.path.join(\"../..\", \"modules\")\n",
    "\n",
    "module_path = os.path.abspath(module_dir)\n",
    "if not module_path in sys.path:\n",
    "    sys.path.append(module_path)\n",
    "\n",
    "import util\n",
    "importlib.reload(util)\n",
    "\n",
    "import requests\n",
    "from requests.auth import HTTPBasicAuth"
   ]
  },
  {
   "cell_type": "markdown",
   "metadata": {},
   "source": [
    "---\n",
    "\n",
    "## Part A: Authenticated users\n",
    "\n",
    "So far, we've used the GitHub API without authentication.  As a result:\n",
    "- We have been limited to 60 requests per hour.\n",
    "- We haven't been able to view private data, like user data or private repos.\n",
    "\n",
    "The GitHub API can be used with \"Basic Authentication\" (e.g., username and password) or OAuth2 (the primary framework used on the internet for delegated authority).  For simplicity, we'll focus on Basic Authentication.\n",
    "\n",
    "Once we're authenticated, we can use the `/user` endpoint to get information about the authenticated user.  First, let's see what happens without authenticating:"
   ]
  },
  {
   "cell_type": "code",
   "execution_count": 2,
   "metadata": {},
   "outputs": [
    {
     "name": "stdout",
     "output_type": "stream",
     "text": [
      "401\n",
      "{'message': 'Requires authentication', 'documentation_url': 'https://docs.github.com/rest/reference/users#get-the-authenticated-user'}\n"
     ]
    }
   ],
   "source": [
    "# Get information about the current user via: /user\n",
    "host = \"api.github.com\"\n",
    "resource_path = \"/user\"\n",
    "url = util.buildURL(resource_path, host, protocol=\"https\")\n",
    "\n",
    "response = requests.get(url)\n",
    "print(response.status_code)\n",
    "print(response.json())"
   ]
  },
  {
   "cell_type": "code",
   "execution_count": 3,
   "metadata": {},
   "outputs": [
    {
     "data": {
      "text/plain": [
       "{'Server': 'GitHub.com', 'Date': 'Fri, 29 Apr 2022 14:14:14 GMT', 'Content-Type': 'application/json; charset=utf-8', 'Content-Length': '131', 'X-GitHub-Media-Type': 'github.v3; format=json', 'Access-Control-Expose-Headers': 'ETag, Link, Location, Retry-After, X-GitHub-OTP, X-RateLimit-Limit, X-RateLimit-Remaining, X-RateLimit-Used, X-RateLimit-Resource, X-RateLimit-Reset, X-OAuth-Scopes, X-Accepted-OAuth-Scopes, X-Poll-Interval, X-GitHub-Media-Type, X-GitHub-SSO, X-GitHub-Request-Id, Deprecation, Sunset', 'Access-Control-Allow-Origin': '*', 'Strict-Transport-Security': 'max-age=31536000; includeSubdomains; preload', 'X-Frame-Options': 'deny', 'X-Content-Type-Options': 'nosniff', 'X-XSS-Protection': '0', 'Referrer-Policy': 'origin-when-cross-origin, strict-origin-when-cross-origin', 'Content-Security-Policy': \"default-src 'none'\", 'Vary': 'Accept-Encoding, Accept, X-Requested-With', 'X-RateLimit-Limit': '60', 'X-RateLimit-Remaining': '56', 'X-RateLimit-Reset': '1651245101', 'X-RateLimit-Resource': 'core', 'X-RateLimit-Used': '4', 'X-GitHub-Request-Id': 'B675:5DE4:7537C0:E2C060:626BF2B6'}"
      ]
     },
     "execution_count": 3,
     "metadata": {},
     "output_type": "execute_result"
    }
   ],
   "source": [
    "# Inspect the headers: we've used one of our 60-per-hour requests\n",
    "response.headers"
   ]
  },
  {
   "cell_type": "markdown",
   "metadata": {},
   "source": [
    "It is worth noting that as of 2020, GitHub no longer allows username+password for authentication.  Instead, we need to generate a Personal Access Token (much like you did at the start of the semester).  Then, we'll use that in place of our password.\n",
    "\n",
    "To start, we can generate a new PAT and put it and our username in `creds.json`.\n",
    "\n",
    "As discussed in the [Python `requests` documentation](https://docs.python-requests.org/en/master/user/authentication/), Basic Authentication is so common online that it is extremely straightforward with `requests`.  In fact, their example is using this very GitHub API:\n",
    "```\n",
    "from requests.auth import HTTPBasicAuth\n",
    "requests.get('https://api.github.com/user', auth=HTTPBasicAuth('user', 'pass'))\n",
    "```\n",
    "\n",
    "Let's try that endpoint again, now with our username and PAT:"
   ]
  },
  {
   "cell_type": "code",
   "execution_count": 4,
   "metadata": {},
   "outputs": [
    {
     "data": {
      "text/plain": [
       "200"
      ]
     },
     "execution_count": 4,
     "metadata": {},
     "output_type": "execute_result"
    }
   ],
   "source": [
    "# Read username and Personal Access Token (PAT) from creds.json\n",
    "github_creds = util.read_creds(\"github\", \".\", \"creds.json\")\n",
    "username = github_creds[\"username\"]\n",
    "pat = github_creds[\"pat\"]\n",
    "\n",
    "# Try again, authenticated\n",
    "response = requests.get(url, auth=HTTPBasicAuth(username, pat))\n",
    "response.status_code"
   ]
  },
  {
   "cell_type": "code",
   "execution_count": 5,
   "metadata": {},
   "outputs": [
    {
     "data": {
      "text/plain": [
       "{'Server': 'GitHub.com', 'Date': 'Fri, 29 Apr 2022 14:15:31 GMT', 'Content-Type': 'application/json; charset=utf-8', 'Transfer-Encoding': 'chunked', 'Cache-Control': 'private, max-age=60, s-maxage=60', 'Vary': 'Accept, Authorization, Cookie, X-GitHub-OTP, Accept-Encoding, Accept, X-Requested-With', 'ETag': 'W/\"f589b7bebaf8dcc9d33f8cee476495b2e50fb659ca0e839a68e4a249ce1f85b8\"', 'Last-Modified': 'Thu, 07 Apr 2022 11:55:54 GMT', 'X-OAuth-Scopes': 'read:org, read:user, repo, user:email', 'X-Accepted-OAuth-Scopes': '', 'github-authentication-token-expiration': '2022-05-29 01:51:42 UTC', 'X-GitHub-Media-Type': 'github.v3; format=json', 'X-RateLimit-Limit': '5000', 'X-RateLimit-Remaining': '4999', 'X-RateLimit-Reset': '1651245331', 'X-RateLimit-Used': '1', 'X-RateLimit-Resource': 'core', 'Access-Control-Expose-Headers': 'ETag, Link, Location, Retry-After, X-GitHub-OTP, X-RateLimit-Limit, X-RateLimit-Remaining, X-RateLimit-Used, X-RateLimit-Resource, X-RateLimit-Reset, X-OAuth-Scopes, X-Accepted-OAuth-Scopes, X-Poll-Interval, X-GitHub-Media-Type, X-GitHub-SSO, X-GitHub-Request-Id, Deprecation, Sunset', 'Access-Control-Allow-Origin': '*', 'Strict-Transport-Security': 'max-age=31536000; includeSubdomains; preload', 'X-Frame-Options': 'deny', 'X-Content-Type-Options': 'nosniff', 'X-XSS-Protection': '0', 'Referrer-Policy': 'origin-when-cross-origin, strict-origin-when-cross-origin', 'Content-Security-Policy': \"default-src 'none'\", 'Content-Encoding': 'gzip', 'X-GitHub-Request-Id': 'EF36:2A44:6E0B6D:11C0EE4:626BF303'}"
      ]
     },
     "execution_count": 5,
     "metadata": {},
     "output_type": "execute_result"
    }
   ],
   "source": [
    "# Inspect the headers again -- now we have 4999 requests remaining!\n",
    "response.headers"
   ]
  },
  {
   "cell_type": "code",
   "execution_count": null,
   "metadata": {},
   "outputs": [],
   "source": [
    "# Look at the data for the authenticated user (that's you!)\n",
    "user_data = response.json()\n",
    "user_data"
   ]
  },
  {
   "cell_type": "markdown",
   "metadata": {},
   "source": [
    "---\n",
    "\n",
    "## Part B: Getting commit information for private repositories\n",
    "\n",
    "Last time, we explored the `/repos/{owner}/{repo}/commits` endpoint to get commit information about a public repository.  Once we've authenticated, we can do the same for private repositories to which we have access.\n",
    "\n",
    "First, let's copy over our `getRepositoryCommits` function, with an added parameter for our auth information."
   ]
  },
  {
   "cell_type": "code",
   "execution_count": null,
   "metadata": {},
   "outputs": [],
   "source": [
    "def getRepositoryCommits(owner, repo, path, num_per_page=10, page=1, auth=None):\n",
    "    \"\"\"\n",
    "    Uses the /repos/{owner}/{repo}/commits GitHub API endpoint to\n",
    "    retrieve commit information for a given repository.\n",
    "    \"\"\"\n",
    "    # Build the URL\n",
    "    host = \"api.github.com\"\n",
    "    resource_path = f\"/repos/{owner}/{repo}/commits\"\n",
    "    url = util.buildURL(resource_path, host, protocol=\"https\")\n",
    "\n",
    "    # Make the request\n",
    "    query_params = {\"path\": path,\n",
    "                    \"per_page\": num_per_page,\n",
    "                    \"page\": page}\n",
    "    try:\n",
    "        if auth is not None:\n",
    "            response = requests.get(url, params=query_params, auth=auth)\n",
    "        else:\n",
    "            response = requests.get(url, params=query_params)\n",
    "        assert response.status_code == 200\n",
    "    except AssertionError:\n",
    "        print(f\"Failed: {resource_path} with status code {response.status_code}\")\n",
    "\n",
    "    # Return the parsed JSON object\n",
    "    return response.json()"
   ]
  },
  {
   "cell_type": "markdown",
   "metadata": {},
   "source": [
    "Let's try to get commit information for all files in the instructor's version of the course repository, but without providing auth information."
   ]
  },
  {
   "cell_type": "code",
   "execution_count": null,
   "metadata": {},
   "outputs": [],
   "source": [
    "# Try to read the course repository, unauthenticated\n",
    "owner = \"amertt-denison-courses\"\n",
    "repo = \"cs181-s22\"\n",
    "data = getRepositoryCommits(owner, repo, path=None)\n",
    "\n",
    "util.print_json(data, level=4)"
   ]
  },
  {
   "cell_type": "markdown",
   "metadata": {},
   "source": [
    "Now we'll try again, with auth info:"
   ]
  },
  {
   "cell_type": "code",
   "execution_count": null,
   "metadata": {},
   "outputs": [],
   "source": [
    "# Read username and Personal Access Token (PAT) from creds.json\n",
    "github_creds = util.read_creds(\"github\", \".\", \"creds.json\")\n",
    "username = github_creds[\"username\"]\n",
    "pat = github_creds[\"pat\"]\n",
    "\n",
    "# Try again, with HTTP Basic Auth (via PAT)\n",
    "owner = \"amertt-denison-courses\"\n",
    "repo = \"cs181-s22\"\n",
    "auth = HTTPBasicAuth(username, pat)\n",
    "instructor_repo_data = getRepositoryCommits(owner, repo, path=None, auth=auth)\n",
    "\n",
    "print(\"Number of commits retrieved:\", len(instructor_repo_data))"
   ]
  },
  {
   "cell_type": "markdown",
   "metadata": {
    "deletable": false,
    "editable": false,
    "nbgrader": {
     "cell_type": "code",
     "checksum": "f2fd93d0e89b10bade86cff95b35d739",
     "grade": true,
     "grade_id": "cell-125cbee27c447392",
     "locked": true,
     "points": 2,
     "schema_version": 3,
     "solution": false,
     "task": false
    }
   },
   "source": [
    "---\n",
    "\n",
    "## Part C: Building a table of commits for the course repo\n",
    "\n",
    "Now, we'll copy over the remaining functions to build a table of commit information, again adding a parameter for auth info where appropriate."
   ]
  },
  {
   "cell_type": "code",
   "execution_count": null,
   "metadata": {},
   "outputs": [],
   "source": [
    "def commitResult2LoD(result, maxelements=None):\n",
    "    \"\"\"\n",
    "    Converts a JSON array of commit results to an LoD.\n",
    "    \"\"\"\n",
    "    assert isinstance(result, list)\n",
    "\n",
    "    LoD = []\n",
    "    count = 0\n",
    "    for commit_obj in result:\n",
    "        if maxelements != None and count >= maxelements:\n",
    "            break\n",
    "\n",
    "        D = {}\n",
    "        D[\"id\"] = commit_obj[\"sha\"]\n",
    "        D[\"message\"] = commit_obj[\"commit\"][\"message\"]\n",
    "        D[\"author\"] = commit_obj[\"author\"][\"login\"]\n",
    "        D[\"timestamp\"] = commit_obj[\"commit\"][\"author\"][\"date\"]\n",
    "        LoD.append(D)\n",
    "\n",
    "        count += 1\n",
    "\n",
    "    return LoD"
   ]
  },
  {
   "cell_type": "code",
   "execution_count": null,
   "metadata": {},
   "outputs": [],
   "source": [
    "def getCommits(owner, repo, query_path, num_commits=15, num_per_page=10, auth=None):\n",
    "    \"\"\"\n",
    "    Uses the /repos/{owner}/{repo}/commits GitHub API endpoint to\n",
    "    retrieve commit information for a given repository, and returns\n",
    "    the results (of possibly several paged requests) in a DataFrame.\n",
    "    \"\"\"\n",
    "    fullLoD = []\n",
    "\n",
    "    page = 1\n",
    "    commits_left = num_commits\n",
    "    more_pages = True\n",
    "\n",
    "    while more_pages and commits_left > 0:\n",
    "        commit_page = getRepositoryCommits(owner, repo, query_path, num_per_page, page, auth)\n",
    "\n",
    "        if len(commit_page) < num_per_page:\n",
    "            more_pages = False\n",
    "\n",
    "        pageLoD = commitResult2LoD(commit_page)\n",
    "        fullLoD.extend(pageLoD)\n",
    "\n",
    "        commits_left -= len(pageLoD)\n",
    "        page += 1\n",
    "\n",
    "    df = pd.DataFrame(fullLoD)\n",
    "    return df"
   ]
  },
  {
   "cell_type": "markdown",
   "metadata": {},
   "source": [
    "Now, we can read in recent commit information for the course repository into a `pandas` `DataFrame`."
   ]
  },
  {
   "cell_type": "code",
   "execution_count": null,
   "metadata": {},
   "outputs": [],
   "source": [
    "def getUserRepoCommits(owner, repo, num_commits=90, num_per_page=30):\n",
    "    \"\"\"\n",
    "    Use GitHub credentials (username+PAT) to retrieve commit information,\n",
    "    and convert that info to a pandas DataFrame, sorted by\n",
    "    oldest commit first.\n",
    "    \"\"\"\n",
    "    # Read username and Personal Access Token (PAT) from creds.json\n",
    "    github_creds = util.read_creds(\"github\", \".\", \"creds.json\")\n",
    "    username = github_creds[\"username\"]\n",
    "    pat = github_creds[\"pat\"]\n",
    "\n",
    "    # Use HTTP Basic Auth (via PAT)\n",
    "    auth = HTTPBasicAuth(username, pat)\n",
    "    commits_df = getCommits(owner, repo, None, num_commits, num_per_page, auth)\n",
    "\n",
    "    # Change sort order to have oldest commits first\n",
    "    commits_df.sort_values(by=\"timestamp\", inplace=True)\n",
    "    commits_df.reset_index(inplace=True, drop=True)\n",
    "\n",
    "    print(\"Number of commits in DataFrame:\", len(commits_df))\n",
    "    return commits_df"
   ]
  },
  {
   "cell_type": "code",
   "execution_count": null,
   "metadata": {},
   "outputs": [],
   "source": [
    "# Try it out\n",
    "owner = \"amertt-denison-courses\"\n",
    "repo = \"cs181-s22\"\n",
    "commits_df = getUserRepoCommits(owner, repo)\n",
    "commits_df.head()"
   ]
  },
  {
   "cell_type": "markdown",
   "metadata": {},
   "source": [
    "We can ask interesting questions, like what times do commits typically occur."
   ]
  },
  {
   "cell_type": "code",
   "execution_count": null,
   "metadata": {},
   "outputs": [],
   "source": [
    "def convertToHourFloatSeries(timestampSeries):\n",
    "    \"\"\"\n",
    "    Convert a Series of times 'hh:mm:ss' to floating-point hours.\n",
    "\n",
    "    Ex: '14:30:00' -> 14.5\n",
    "    \"\"\"\n",
    "    times = timestampSeries.apply(lambda t: t.split(\"T\")[1][:-1]) # hh:mm:ss\n",
    "    hours = times.apply(lambda t: int(t.split(':')[0]))\n",
    "    minutes = times.apply(lambda t: int(t.split(':')[1]))\n",
    "    return ((hours * 60 + minutes) / 60 - 4) % 24\n",
    "\n",
    "def plotCommitTimes(df):\n",
    "    \"\"\"\n",
    "    Make a scatterplot of all `timestamp` values in a DataFrame.\n",
    "    Assumes timestamps are of the form 'YYYY-MM-DDThh:mm:ssZ'.\n",
    "    \"\"\"\n",
    "    times_hours = convertToHourFloatSeries(df[\"timestamp\"])\n",
    "    plt.scatter(list(df.index), times_hours)\n",
    "\n",
    "    plt.title(\"Commit Times\")\n",
    "    plt.xlabel(\"Commit Number (most recent last)\")\n",
    "    plt.ylabel(\"Time of day, 24-hour clock (Eastern Time)\")\n",
    "    plt.show()"
   ]
  },
  {
   "cell_type": "code",
   "execution_count": null,
   "metadata": {},
   "outputs": [],
   "source": [
    "plotCommitTimes(commits_df)"
   ]
  },
  {
   "cell_type": "code",
   "execution_count": null,
   "metadata": {},
   "outputs": [],
   "source": [
    "def plotCommitTimesByAuthor(df):\n",
    "    \"\"\"\n",
    "    Make a scatterplot of all `timestamp` values in a DataFrame,\n",
    "    grouped by author.\n",
    "    \n",
    "    Assumes timestamps are of the form 'YYYY-MM-DDThh:mm:ssZ'.\n",
    "    \"\"\"\n",
    "    colors = [\"blue\", \"red\", \"green\", \"yellow\"]\n",
    "    markers = ['o', 'x', 's']\n",
    "    authors = sorted(df[\"author\"].unique())\n",
    "    for i, author in enumerate(authors):\n",
    "        author_df = df.loc[df[\"author\"] == author]\n",
    "        timestampSeries = author_df[\"timestamp\"]\n",
    "        times_hours = convertToHourFloatSeries(timestampSeries)\n",
    "\n",
    "        plt.scatter(list(author_df.index), times_hours,\n",
    "                    label=author,\n",
    "                    c = colors[i % len(colors)],\n",
    "                    marker = markers[i % len(markers)])\n",
    "\n",
    "    plt.title(\"Commit Times By User\")\n",
    "    plt.xlabel(\"Commit Number (most recent last)\")\n",
    "    plt.ylabel(\"Time of day, 24-hour clock (Eastern Time)\")\n",
    "    plt.legend()\n",
    "    plt.show()"
   ]
  },
  {
   "cell_type": "code",
   "execution_count": null,
   "metadata": {},
   "outputs": [],
   "source": [
    "# Try it out for a student repo\n",
    "owner = \"\"\n",
    "repo = \"\"\n",
    "student_commits_df = getUserRepoCommits(owner, repo, 100, 30)"
   ]
  },
  {
   "cell_type": "code",
   "execution_count": null,
   "metadata": {},
   "outputs": [],
   "source": [
    "plotCommitTimesByAuthor(student_commits_df)"
   ]
  }
 ],
 "metadata": {
  "kernelspec": {
   "display_name": "Python 3 (ipykernel)",
   "language": "python",
   "name": "python3"
  },
  "language_info": {
   "codemirror_mode": {
    "name": "ipython",
    "version": 3
   },
   "file_extension": ".py",
   "mimetype": "text/x-python",
   "name": "python",
   "nbconvert_exporter": "python",
   "pygments_lexer": "ipython3",
   "version": "3.9.7"
  }
 },
 "nbformat": 4,
 "nbformat_minor": 4
}
