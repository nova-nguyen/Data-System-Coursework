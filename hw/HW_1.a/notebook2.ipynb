{
 "cells": [
  {
   "cell_type": "markdown",
   "metadata": {},
   "source": [
    "# Denison CS181/DA210 Homework 1.a - Step 2\n",
    "\n",
    "Before you turn this problem in, make sure everything runs as expected. This is a combination of **restarting the kernel** and then **running all cells** (in the menubar, select Kernel$\\rightarrow$Restart And Run All).\n",
    "\n",
    "Make sure you fill in any place that says `# YOUR CODE HERE` or \"YOUR ANSWER HERE\"."
   ]
  },
  {
   "cell_type": "markdown",
   "metadata": {},
   "source": [
    "---\n",
    "\n",
    "## Short Answer Questions\n",
    "\n",
    "This notebook shows how things look for questions that expect the student to fill in a **markdown** cell with a fill-in descriptive answer.  Feel free to use Markdown facilities to help format your answer, like using italics and boldface, or to use bullet lists or numbered lists, if appropriate.  Under the Help menu, you can find a help page that gives basic Markdown help."
   ]
  },
  {
   "cell_type": "markdown",
   "metadata": {},
   "source": [
    "Consider the following piece of code:\n",
    "\n",
    "```python\n",
    "def f(x):\n",
    "    if x == 0 or x == 1:\n",
    "        return x\n",
    "    return f(x - 1) + f(x - 2)\n",
    "```"
   ]
  },
  {
   "cell_type": "markdown",
   "metadata": {},
   "source": [
    "---\n",
    "## Part A\n",
    "\n",
    "Describe, in words, what this code does, and how it does it."
   ]
  },
  {
   "cell_type": "markdown",
   "metadata": {
    "deletable": false,
    "nbgrader": {
     "cell_type": "markdown",
     "checksum": "eeca9d9984864d10dd3a1a6c2bd2977f",
     "grade": true,
     "grade_id": "cell-6d6644b48136e2b1",
     "locked": false,
     "points": 1,
     "schema_version": 3,
     "solution": true,
     "task": false
    }
   },
   "source": [
    "Fibonacci sequence = [0, 1, 1, 2, 3, 5, 8, 13, 21, 34, ...]\n",
    "This sequence returns the xth Fibonacci number corresponding to x\n",
    "\n",
    "Step visualization:\n",
    "f(0) = Fibo[0] = 0\n",
    "f(1) = Fibo[1] = 1\n",
    "f(2) = f(1) + f(0) = 1 + 0 = 1 = Fibo[2]\n",
    "f(3) = f(2) + f(1) = 1 + 1 = 2 = Fibo[3]\n",
    "f(4) = f(3) + f(2) = 2 + 1 = 3 = Fibo[4]\n",
    "f(5) = f(4) + f(3) = 3 + 2 = 5 = Fibo[5]\n",
    ". \n",
    ".\n",
    ".\n",
    "\n",
    "\n",
    "The function does this by recursively calling on its own function until it reaches the base case of x = 0 or 1\n",
    "Eg: f(5) = f(4) + f(3) = [f(3) + f(2)] + [f(2) + f(1)] \n",
    "                       = [(f(2) + f(1)) + (f(1) + f(0))] + [(f(1) + f(0)) + 1]\n",
    "                       = [f(1) + f(0) + 1 + 1 + 0] + [1 + 0 + 1]\n",
    "                       = 3 + 2 = 5"
   ]
  },
  {
   "cell_type": "markdown",
   "metadata": {},
   "source": [
    "---\n",
    "## Part B\n",
    "\n",
    "For what inputs will this function not behave as expected? What will happen?"
   ]
  },
  {
   "cell_type": "markdown",
   "metadata": {
    "deletable": false,
    "nbgrader": {
     "cell_type": "markdown",
     "checksum": "c62ac857f2e809cce174dcdaa883437a",
     "grade": true,
     "grade_id": "cell-99e5d02f5c9b41f0",
     "locked": false,
     "points": 1,
     "schema_version": 3,
     "solution": true,
     "task": false
    }
   },
   "source": [
    "1. Inputs that are not integer type\n",
    "        - If x is a string or list, the function will not be able to overload \n",
    "        - If x is a float, the function will not be able to reach \n",
    "        its base case of 0 or 1 and will loop indefinitely\n",
    "\n",
    "2. Inputs that are < 0\n",
    "        Similar to floats, the function will not be able to reach \n",
    "        its base case of 0 or 1 and will loop indefinitely"
   ]
  },
  {
   "cell_type": "markdown",
   "metadata": {},
   "source": [
    "---\n",
    "\n",
    "---\n",
    "## Part C\n",
    "\n",
    "How much time (in minutes/hours) did you spend on this homework assignment?"
   ]
  },
  {
   "cell_type": "markdown",
   "metadata": {
    "deletable": false,
    "nbgrader": {
     "cell_type": "markdown",
     "checksum": "c62ac857f2e809cce174dcdaa883437a",
     "grade": true,
     "grade_id": "cell-99e5d02f5c9b41f0",
     "locked": false,
     "points": 1,
     "schema_version": 3,
     "solution": true,
     "task": false
    }
   },
   "source": [
    "40 minutes + more when I figure out how to upload to GitHub"
   ]
  }
 ],
 "metadata": {
  "kernelspec": {
   "display_name": "Python 3 (ipykernel)",
   "language": "python",
   "name": "python3"
  },
  "language_info": {
   "codemirror_mode": {
    "name": "ipython",
    "version": 3
   },
   "file_extension": ".py",
   "mimetype": "text/x-python",
   "name": "python",
   "nbconvert_exporter": "python",
   "pygments_lexer": "ipython3",
   "version": "3.9.7"
  }
 },
 "nbformat": 4,
 "nbformat_minor": 4
}
