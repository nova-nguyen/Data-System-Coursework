{
 "cells": [
  {
   "cell_type": "markdown",
   "metadata": {},
   "source": [
    "# Denison CS181/DA210 Homework 2.a - Step 1\n",
    "\n",
    "Before you turn this problem in, make sure everything runs as expected. This is a combination of **restarting the kernel** and then **running all cells** (in the menubar, select Kernel$\\rightarrow$Restart And Run All).\n",
    "\n",
    "Make sure you fill in any place that says `# YOUR CODE HERE` or \"YOUR ANSWER HERE\"."
   ]
  },
  {
   "cell_type": "markdown",
   "metadata": {},
   "source": [
    "---"
   ]
  },
  {
   "cell_type": "code",
   "execution_count": null,
   "metadata": {},
   "outputs": [],
   "source": [
    "import pandas as pd"
   ]
  },
  {
   "cell_type": "markdown",
   "metadata": {},
   "source": [
    "---\n",
    "\n",
    "## Part A: Tidy Data requirements\n",
    "\n",
    "**Def. 6.1** A data set in the tabular data model is said to be _tidy data_ if it conforms to the following.\n",
    "\n",
    "1. Each column represents _exactly one variable_ of the data set.  (\"TidyData1\")\n",
    "2. Each row represents _exactly one unique (relational) mapping_, that maps from a set of _givens_ (the values of the independent variables) to the values of the depedent variables.  (\"TidyData2\")\n",
    "3. _Exactly one table_ is used for each set of mappings involving the same independent variables.  (\"TidyData3\")"
   ]
  },
  {
   "cell_type": "markdown",
   "metadata": {},
   "source": [
    "---\n",
    "\n",
    "**Q1:** Consider the following dataset, represented by `table1`.  Is this data tidy?  If not, list one of the three tidy-data requirements that it does not satisfy."
   ]
  },
  {
   "cell_type": "markdown",
   "metadata": {},
   "source": [
    "YOUR ANSWER HERE"
   ]
  },
  {
   "cell_type": "code",
   "execution_count": null,
   "metadata": {},
   "outputs": [],
   "source": [
    "table1columns = [  \"country-year\",       \"type\",   \"count\"]\n",
    "table1data =[ [\"Afghanistan-1999\",      \"cases\",       745],\n",
    "              [\"Afghanistan-1999\", \"population\",  19987071],\n",
    "              [\"Afghanistan-2000\",      \"cases\",      2666],\n",
    "              [\"Afghanistan-2000\", \"population\",  20595360],\n",
    "              [     \"Brazil-1999\",      \"cases\",     37737],\n",
    "              [     \"Brazil-1999\", \"population\", 172006362],\n",
    "              [     \"Brazil-2000\",      \"cases\",     80488],\n",
    "              [     \"Brazil-2000\", \"population\", 174504898],\n",
    "              [      \"China-1999\",      \"cases\",    212258],\n",
    "              [      \"China-1999\", \"population\",1272915272],\n",
    "              [      \"China-2000\",      \"cases\",    213766],\n",
    "              [      \"China-2000\", \"population\",1280428583] ]\n",
    "table1 = pd.DataFrame(table1data, columns=table1columns)\n",
    "table1"
   ]
  },
  {
   "cell_type": "markdown",
   "metadata": {},
   "source": [
    "---\n",
    "\n",
    "**Q2:** Consider the following dataset, represented by `table2`.  Is this data tidy?  If not, list one of the three tidy-data requirements that it does not satisfy."
   ]
  },
  {
   "cell_type": "markdown",
   "metadata": {},
   "source": [
    "YOUR ANSWER HERE"
   ]
  },
  {
   "cell_type": "code",
   "execution_count": null,
   "metadata": {
    "nbgrader": {
     "grade": false,
     "grade_id": "cell-cd12c60fd4bfc173",
     "locked": false,
     "schema_version": 1,
     "solution": true
    }
   },
   "outputs": [],
   "source": [
    "table2columns = [\"country\",  \"year\",       \"type\",     \"count\"]\n",
    "table2data =[ [\"Afghanistan\",  1999,      \"cases\",       745],\n",
    "              [\"Afghanistan\",  1999, \"population\",  19987071],\n",
    "              [\"Afghanistan\",  2000,      \"cases\",      2666],\n",
    "              [\"Afghanistan\",  2000, \"population\",  20595360],\n",
    "              [     \"Brazil\",  1999,      \"cases\",     37737],\n",
    "              [     \"Brazil\",  1999, \"population\", 172006362],\n",
    "              [     \"Brazil\",  2000,      \"cases\",     80488],\n",
    "              [     \"Brazil\",  2000, \"population\", 174504898],\n",
    "              [      \"China\",  1999,      \"cases\",    212258],\n",
    "              [      \"China\",  1999, \"population\",1272915272],\n",
    "              [      \"China\",  2000,      \"cases\",    213766],\n",
    "              [      \"China\",  2000, \"population\",1280428583] ]\n",
    "\n",
    "table2 = pd.DataFrame(table2data, columns=table2columns)\n",
    "table2"
   ]
  },
  {
   "cell_type": "markdown",
   "metadata": {},
   "source": [
    "---\n",
    "\n",
    "**Q3:** Consider the following dataset, represented by `table3cases` and `table3pop`.  Is this data tidy?  If not, list one of the three tidy-data requirements that it does not satisfy."
   ]
  },
  {
   "cell_type": "markdown",
   "metadata": {},
   "source": [
    "YOUR ANSWER HERE"
   ]
  },
  {
   "cell_type": "code",
   "execution_count": null,
   "metadata": {
    "nbgrader": {
     "grade": false,
     "grade_id": "cell-d6b0839578352c74",
     "locked": true,
     "schema_version": 1,
     "solution": false
    }
   },
   "outputs": [],
   "source": [
    "table3casescolumns = [\"country\", \"1999\", \"2000\"]\n",
    "table3casesdata = [ [\"Afghanistan\",    745,   2666],\n",
    "                [     \"Brazil\",  37737,  80488],\n",
    "                [      \"China\", 212258, 213766] ]\n",
    "\n",
    "table3cases = pd.DataFrame(table3casesdata, columns=table3casescolumns)\n",
    "table3cases"
   ]
  },
  {
   "cell_type": "code",
   "execution_count": null,
   "metadata": {
    "nbgrader": {
     "grade": false,
     "grade_id": "cell-56eef7e236c406f4",
     "locked": true,
     "schema_version": 1,
     "solution": false
    }
   },
   "outputs": [],
   "source": [
    "table3popcolumns = [\"country\", \"1999\", \"2000\"]\n",
    "table3popdata = [ [\"Afghanistan\",   19987071,   20595360],\n",
    "                [      \"China\", 1272915272, 1280428583],\n",
    "                [     \"Brazil\",  172006362,  174504898]]\n",
    "table3pop = pd.DataFrame(table3popdata, columns=table3popcolumns)\n",
    "table3pop"
   ]
  },
  {
   "cell_type": "markdown",
   "metadata": {},
   "source": [
    "---\n",
    "\n",
    "**Q4:** Consider the following dataset, represented by `table4cases` and `table4pop`.  Is this data tidy?  If not, list one of the three tidy-data requirements that it does not satisfy."
   ]
  },
  {
   "cell_type": "markdown",
   "metadata": {},
   "source": [
    "YOUR ANSWER HERE"
   ]
  },
  {
   "cell_type": "code",
   "execution_count": null,
   "metadata": {},
   "outputs": [],
   "source": [
    "table4acolumns = [\"country\", \"year\", \"cases\"]\n",
    "table4adata = [ [\"Afghanistan\",  1999,    745],\n",
    "                [\"Afghanistan\",  2000,   2666],\n",
    "                [     \"Brazil\",  1999,  37737],\n",
    "                [     \"Brazil\",  2000,  80488],\n",
    "                [      \"China\",  1999, 212258],\n",
    "                [      \"China\",  2000, 213766] ]\n",
    "\n",
    "table4bcolumns = [\"country\", \"year\", \"population\"]\n",
    "table4bdata =[ [\"Afghanistan\",  1999,   19987071],\n",
    "               [\"Afghanistan\",  2000,   20595360],\n",
    "               [     \"Brazil\",  1999,  172006362],\n",
    "               [     \"Brazil\",  2000,  174504898],\n",
    "               [      \"China\",  1999, 1272915272],\n",
    "               [      \"China\",  2000, 1280428583] ]\n",
    "table4cases = pd.DataFrame(table4adata, columns=table4acolumns)\n",
    "table4pop = pd.DataFrame(table4bdata, columns=table4bcolumns)"
   ]
  },
  {
   "cell_type": "code",
   "execution_count": null,
   "metadata": {},
   "outputs": [],
   "source": [
    "table4cases"
   ]
  },
  {
   "cell_type": "code",
   "execution_count": null,
   "metadata": {},
   "outputs": [],
   "source": [
    "table4pop"
   ]
  },
  {
   "cell_type": "markdown",
   "metadata": {},
   "source": [
    "---\n",
    "\n",
    "## Part B\n",
    "\n",
    "**Q5:** For the dataset considered in this assignment, what are the independent variables?  What are the depedent variables?"
   ]
  },
  {
   "cell_type": "markdown",
   "metadata": {},
   "source": [
    "YOUR ANSWER HERE"
   ]
  },
  {
   "cell_type": "markdown",
   "metadata": {},
   "source": [
    "---\n",
    "\n",
    "---\n",
    "## Part C\n",
    "\n",
    "How much time (in minutes/hours) did you spend on this homework assignment?"
   ]
  },
  {
   "cell_type": "markdown",
   "metadata": {},
   "source": [
    "YOUR ANSWER HERE"
   ]
  }
 ],
 "metadata": {
  "kernelspec": {
   "display_name": "Python 3",
   "language": "python",
   "name": "python3"
  },
  "language_info": {
   "codemirror_mode": {
    "name": "ipython",
    "version": 3
   },
   "file_extension": ".py",
   "mimetype": "text/x-python",
   "name": "python",
   "nbconvert_exporter": "python",
   "pygments_lexer": "ipython3",
   "version": "3.9.7"
  }
 },
 "nbformat": 4,
 "nbformat_minor": 4
}
