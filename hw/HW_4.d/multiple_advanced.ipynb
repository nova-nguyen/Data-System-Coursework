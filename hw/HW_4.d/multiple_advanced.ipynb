{
 "cells": [
  {
   "cell_type": "markdown",
   "metadata": {},
   "source": [
    "# Denison CS181/DA210 Homework 4.d - Step 1\n",
    "\n",
    "Before you turn this problem in, make sure everything runs as expected. This is a combination of **restarting the kernel** and then **running all cells** (in the menubar, select Kernel$\\rightarrow$Restart And Run All).\n",
    "\n",
    "Make sure you fill in any place that says `# YOUR CODE HERE` or \"YOUR ANSWER HERE\"."
   ]
  },
  {
   "cell_type": "markdown",
   "metadata": {},
   "source": [
    "---"
   ]
  },
  {
   "cell_type": "markdown",
   "metadata": {},
   "source": [
    "#### Import Python modules and load \"SQL Magic\""
   ]
  },
  {
   "cell_type": "code",
   "execution_count": null,
   "metadata": {
    "deletable": false,
    "editable": false,
    "nbgrader": {
     "cell_type": "code",
     "checksum": "2c15bf49fe13507b473a89ebc6ffdea5",
     "grade": false,
     "grade_id": "cell-b9abcf27cf7faf8f",
     "locked": true,
     "schema_version": 3,
     "solution": false,
     "task": false
    }
   },
   "outputs": [],
   "source": [
    "import pandas as pd\n",
    "import os\n",
    "import os.path\n",
    "import json\n",
    "import sys\n",
    "import importlib\n",
    "\n",
    "module_dir = \"../../modules\"\n",
    "module_path = os.path.abspath(module_dir)\n",
    "if not module_path in sys.path:\n",
    "    sys.path.append(module_path)\n",
    "\n",
    "%load_ext sql"
   ]
  },
  {
   "cell_type": "code",
   "execution_count": null,
   "metadata": {},
   "outputs": [],
   "source": [
    "def getsqlite_creds(dirname=\".\",filename=\"creds.json\",source=\"sqlite\"):\n",
    "    \"\"\" Using directory and filename parameters, open a credentials file\n",
    "        and obtain the two parts needed for a connection string to\n",
    "        a local provider using the \"sqlite\" dictionary within\n",
    "        an outer dictionary.  \n",
    "        \n",
    "        Return a scheme and a dbfile\n",
    "    \"\"\"\n",
    "    assert os.path.isfile(os.path.join(dirname, filename))\n",
    "    with open(os.path.join(dirname, filename)) as f:\n",
    "        D = json.load(f)\n",
    "    sqlite = D[source]\n",
    "    return sqlite[\"scheme\"], sqlite[\"dbdir\"], sqlite[\"database\"]"
   ]
  },
  {
   "cell_type": "code",
   "execution_count": null,
   "metadata": {},
   "outputs": [],
   "source": [
    "scheme, dbdir, database = getsqlite_creds(source=\"sqlite2\")\n",
    "template = '{}:///{}/{}.db'\n",
    "cstring = template.format(scheme, dbdir, database)\n",
    "print(\"Connection string:\", cstring)"
   ]
  },
  {
   "cell_type": "markdown",
   "metadata": {},
   "source": [
    "#### Establish Connection from Client to Server"
   ]
  },
  {
   "cell_type": "code",
   "execution_count": null,
   "metadata": {},
   "outputs": [],
   "source": [
    "%sql $cstring"
   ]
  },
  {
   "cell_type": "markdown",
   "metadata": {},
   "source": [
    "---\n",
    "\n",
    "## Part A: Advanced Partitioning and Grouping"
   ]
  },
  {
   "cell_type": "markdown",
   "metadata": {
    "deletable": false,
    "editable": false,
    "nbgrader": {
     "cell_type": "markdown",
     "checksum": "d0f7af3f221eeefb0d779df21126a846",
     "grade": false,
     "grade_id": "cell-d6749c5a3b138384",
     "locked": true,
     "schema_version": 3,
     "solution": false,
     "task": false
    }
   },
   "source": [
    "**Q1:** In reference to the `school` database, list, for each course, the number of class sections being taught in the spring.  Call your new column `num_sections`."
   ]
  },
  {
   "cell_type": "code",
   "execution_count": null,
   "metadata": {
    "deletable": false,
    "nbgrader": {
     "cell_type": "code",
     "checksum": "c14b753d190d022926fb2af63475a8e4",
     "grade": false,
     "grade_id": "cell-813f3d8c501abc88",
     "locked": false,
     "schema_version": 3,
     "solution": true,
     "task": false
    }
   },
   "outputs": [],
   "source": [
    "query = \"\"\"\n",
    "\"\"\"\n",
    "# YOUR CODE HERE\n",
    "raise NotImplementedError()\n",
    "\n",
    "resultset = %sql $query\n",
    "resultdf1 = resultset.DataFrame()\n",
    "resultdf1.head()"
   ]
  },
  {
   "cell_type": "code",
   "execution_count": null,
   "metadata": {
    "deletable": false,
    "editable": false,
    "nbgrader": {
     "cell_type": "code",
     "checksum": "e169ba64306829f2bf6a5585998e21c4",
     "grade": true,
     "grade_id": "cell-55217154c20cac6f",
     "locked": true,
     "points": 1,
     "schema_version": 3,
     "solution": false,
     "task": false
    }
   },
   "outputs": [],
   "source": [
    "# Testing cell\n",
    "assert resultdf1.shape == (513, 3)\n",
    "assert resultdf1.loc[0,\"num_sections\"] == 1\n",
    "assert resultdf1.loc[4,\"num_sections\"] == 3"
   ]
  },
  {
   "cell_type": "markdown",
   "metadata": {
    "deletable": false,
    "editable": false,
    "nbgrader": {
     "cell_type": "markdown",
     "checksum": "c5edddc09e4cc6fb69887b1c7024355c",
     "grade": false,
     "grade_id": "cell-0b928df805d2e793",
     "locked": true,
     "schema_version": 3,
     "solution": false,
     "task": false
    }
   },
   "source": [
    "**Q2:** For each class meeting time, find the total number of students who took a class during that meeting time.  Do not include classes without a meeting time.\n",
    "\n",
    "Call your new column `count`, and order your results by `count` (from most popular to least popular)."
   ]
  },
  {
   "cell_type": "code",
   "execution_count": null,
   "metadata": {
    "deletable": false,
    "nbgrader": {
     "cell_type": "code",
     "checksum": "f9a4eee164a5f9ed9ae7212406158078",
     "grade": false,
     "grade_id": "cell-1fde10ade11087a6",
     "locked": false,
     "schema_version": 3,
     "solution": true,
     "task": false
    }
   },
   "outputs": [],
   "source": [
    "query = \"\"\"\n",
    "\"\"\"\n",
    "# YOUR CODE HERE\n",
    "raise NotImplementedError()\n",
    "\n",
    "resultset = %sql $query\n",
    "resultdf2 = resultset.DataFrame()\n",
    "resultdf2.head()"
   ]
  },
  {
   "cell_type": "code",
   "execution_count": null,
   "metadata": {
    "deletable": false,
    "editable": false,
    "nbgrader": {
     "cell_type": "code",
     "checksum": "b9d74e77c067e30e7409d2578faab69f",
     "grade": true,
     "grade_id": "cell-93ae1b241c387745",
     "locked": true,
     "points": 2,
     "schema_version": 3,
     "solution": false,
     "task": false
    }
   },
   "outputs": [],
   "source": [
    "# Testing cell\n",
    "assert len(resultdf2) == 135\n",
    "assert resultdf2.loc[0,\"count\"] == 1549\n",
    "assert resultdf2.loc[132,\"count\"] == 4"
   ]
  },
  {
   "cell_type": "markdown",
   "metadata": {
    "deletable": false,
    "editable": false,
    "nbgrader": {
     "cell_type": "markdown",
     "checksum": "e6abc96cbe5f68daca7665461fdc8e92",
     "grade": false,
     "grade_id": "cell-7f186baf19e8c17f",
     "locked": true,
     "schema_version": 3,
     "solution": false,
     "task": false
    }
   },
   "source": [
    "**Q3:** Using the `school` database, list, for each student id the total number of credits they took during the year.  Select the `studentid` column and a new column `total_credits`."
   ]
  },
  {
   "cell_type": "code",
   "execution_count": null,
   "metadata": {
    "deletable": false,
    "nbgrader": {
     "cell_type": "code",
     "checksum": "6bb1f554f1ba90b1a25056de3971a3cc",
     "grade": false,
     "grade_id": "cell-05098357e6c13aa5",
     "locked": false,
     "schema_version": 3,
     "solution": true,
     "task": false
    }
   },
   "outputs": [],
   "source": [
    "query = \"\"\"\n",
    "\"\"\"\n",
    "# YOUR CODE HERE\n",
    "raise NotImplementedError()\n",
    "\n",
    "resultset = %sql $query\n",
    "resultdf3 = resultset.DataFrame()\n",
    "resultdf3.head()"
   ]
  },
  {
   "cell_type": "code",
   "execution_count": null,
   "metadata": {
    "deletable": false,
    "editable": false,
    "nbgrader": {
     "cell_type": "code",
     "checksum": "c144729c6b888fe195148ded8f358b69",
     "grade": true,
     "grade_id": "cell-c2986fe0d56c7522",
     "locked": true,
     "points": 2,
     "schema_version": 3,
     "solution": false,
     "task": false
    }
   },
   "outputs": [],
   "source": [
    "# Testing cell\n",
    "assert len(resultdf3) == 2274\n",
    "assert list(resultdf3.loc[:4,\"total_credits\"]) == [5.0, 3.0, 4.0, 0.0, 4.0]"
   ]
  },
  {
   "cell_type": "markdown",
   "metadata": {
    "deletable": false,
    "editable": false,
    "nbgrader": {
     "cell_type": "markdown",
     "checksum": "76492d4f4c1371cbee02719c9a17ee0d",
     "grade": false,
     "grade_id": "cell-0f5b56f8e2cea76e",
     "locked": true,
     "schema_version": 3,
     "solution": false,
     "task": false
    }
   },
   "source": [
    "---\n",
    "\n",
    "## Part B: Subqueries"
   ]
  },
  {
   "cell_type": "markdown",
   "metadata": {
    "deletable": false,
    "editable": false,
    "nbgrader": {
     "cell_type": "markdown",
     "checksum": "c319b460329c52fe9056b921144df423",
     "grade": false,
     "grade_id": "cell-ca0441f511c8bb02",
     "locked": true,
     "schema_version": 3,
     "solution": false,
     "task": false
    }
   },
   "source": [
    "**Q4:** In reference to the `school` database, what is the average credit-hour load of the students, including directed studies?  Your answer should be a 1x1 table.\n",
    "\n",
    "_Hint_: Use your query from Q3 as a subquery."
   ]
  },
  {
   "cell_type": "code",
   "execution_count": null,
   "metadata": {
    "deletable": false,
    "nbgrader": {
     "cell_type": "code",
     "checksum": "d6690027d3d024b1ab872a1f16b6ea5f",
     "grade": true,
     "grade_id": "cell-b03265b79a15e496",
     "locked": false,
     "points": 2,
     "schema_version": 3,
     "solution": true,
     "task": false
    }
   },
   "outputs": [],
   "source": [
    "query = \"\"\"\n",
    "\"\"\"\n",
    "# YOUR CODE HERE\n",
    "raise NotImplementedError()\n",
    "\n",
    "resultset = %sql $query\n",
    "resultdf4 = resultset.DataFrame()\n",
    "resultdf4.head()"
   ]
  },
  {
   "cell_type": "code",
   "execution_count": null,
   "metadata": {
    "deletable": false,
    "editable": false,
    "nbgrader": {
     "cell_type": "code",
     "checksum": "c144729c6b888fe195148ded8f358b69",
     "grade": true,
     "grade_id": "cell-c2986fe0d56c7522",
     "locked": true,
     "points": 2,
     "schema_version": 3,
     "solution": false,
     "task": false
    }
   },
   "outputs": [],
   "source": [
    "# Testing cell\n",
    "assert resultdf4.shape == (1,1)\n",
    "assert resultdf4.iloc[0,0] > 30\n",
    "assert resultdf4.iloc[0,0] < 31"
   ]
  },
  {
   "cell_type": "markdown",
   "metadata": {},
   "source": [
    "**Q5:** Using the `school` database, write a SQL query to find out, for each class, how many different majors are represented among the students who took the class.  Do not count `NULL` as a major.  Order your results by `classid`, and include columns `classid`, `coursesubject`, `coursenum`, `classsection`, and a new column `num_majors`."
   ]
  },
  {
   "cell_type": "code",
   "execution_count": null,
   "metadata": {
    "deletable": false,
    "nbgrader": {
     "cell_type": "code",
     "checksum": "bf84c3f47b59aa69d56df98fd95f43e2",
     "grade": false,
     "grade_id": "cell-5607a6a9e0e392f6",
     "locked": false,
     "schema_version": 3,
     "solution": true,
     "task": false
    }
   },
   "outputs": [],
   "source": [
    "query = \"\"\"\n",
    "\"\"\"\n",
    "# YOUR CODE HERE\n",
    "raise NotImplementedError()\n",
    "\n",
    "resultset = %sql $query\n",
    "resultdf5 = resultset.DataFrame()\n",
    "print(len(resultdf5))\n",
    "resultdf5.head()"
   ]
  },
  {
   "cell_type": "code",
   "execution_count": null,
   "metadata": {
    "deletable": false,
    "editable": false,
    "nbgrader": {
     "cell_type": "code",
     "checksum": "9a09e83541d9f7486433898bbfeefacd",
     "grade": true,
     "grade_id": "cell-8fc210c27d5a01c0",
     "locked": true,
     "points": 2,
     "schema_version": 3,
     "solution": false,
     "task": false
    }
   },
   "outputs": [],
   "source": [
    "# Testing cell\n",
    "assert len(resultdf5) == 1796\n",
    "assert list(resultdf5.columns) == ['classid', 'coursesubject', 'coursenum', 'classsection', 'num_majors']\n",
    "assert resultdf5.iloc[0,4] == 6\n",
    "assert resultdf5.iloc[1,4] == 24"
   ]
  },
  {
   "cell_type": "markdown",
   "metadata": {},
   "source": [
    "#### Switch to the `book` database"
   ]
  },
  {
   "cell_type": "code",
   "execution_count": null,
   "metadata": {},
   "outputs": [],
   "source": [
    "scheme, dbdir, database = getsqlite_creds(source=\"sqlite1\")\n",
    "template = '{}:///{}/{}.db'\n",
    "cstring = template.format(scheme, dbdir, database)\n",
    "print(\"Connection string:\", cstring)\n",
    "\n",
    "%sql $cstring"
   ]
  },
  {
   "cell_type": "markdown",
   "metadata": {},
   "source": [
    "**Q6:** Using the `book` database, which country codes appear in `indicators` but not in `countries`?"
   ]
  },
  {
   "cell_type": "code",
   "execution_count": null,
   "metadata": {},
   "outputs": [],
   "source": [
    "query = \"\"\"\n",
    "\"\"\"\n",
    "# YOUR CODE HERE\n",
    "raise NotImplementedError()\n",
    "\n",
    "resultset = %sql $query\n",
    "resultdf6 = resultset.DataFrame()\n",
    "print(len(resultdf6))\n",
    "resultdf6.head()"
   ]
  },
  {
   "cell_type": "code",
   "execution_count": null,
   "metadata": {
    "deletable": false,
    "editable": false,
    "nbgrader": {
     "cell_type": "code",
     "checksum": "9a09e83541d9f7486433898bbfeefacd",
     "grade": true,
     "grade_id": "cell-8fc210c27d5a01c0",
     "locked": true,
     "points": 2,
     "schema_version": 3,
     "solution": false,
     "task": false
    }
   },
   "outputs": [],
   "source": [
    "# Testing cell\n",
    "assert len(resultdf6) == 1\n",
    "assert resultdf6.iloc[0,0] == \"INX\""
   ]
  },
  {
   "cell_type": "markdown",
   "metadata": {},
   "source": [
    "**Q7:** For every country in `indicators`, find the year in which the population hit its minimum value.  Select the country `code`, alias your new column as `min_year`, and also select the minimum population, aliased as `min_pop`.  You can have more than one row per country, if there is a tie.\n",
    "\n",
    "_Hint:_ You should first find the `min_pop` for each country, then find all rows where `pop = min_pop`.  However, be careful that you do not match the `min_pop` of one country with the `pop` of another."
   ]
  },
  {
   "cell_type": "code",
   "execution_count": null,
   "metadata": {},
   "outputs": [],
   "source": [
    "query = \"\"\"\n",
    "\"\"\"\n",
    "# YOUR CODE HERE\n",
    "raise NotImplementedError()\n",
    "\n",
    "resultset = %sql $query\n",
    "resultdf7 = resultset.DataFrame()\n",
    "print(len(resultdf7))\n",
    "resultdf7.head()"
   ]
  },
  {
   "cell_type": "code",
   "execution_count": null,
   "metadata": {
    "deletable": false,
    "editable": false,
    "nbgrader": {
     "cell_type": "code",
     "checksum": "9a09e83541d9f7486433898bbfeefacd",
     "grade": true,
     "grade_id": "cell-8fc210c27d5a01c0",
     "locked": true,
     "points": 2,
     "schema_version": 3,
     "solution": false,
     "task": false
    }
   },
   "outputs": [],
   "source": [
    "# Testing cell\n",
    "assert resultdf7.shape == (618, 3)\n",
    "assert list(resultdf7.iloc[0,:]) == [\"ABW\", 1960, 0.05]\n",
    "assert list(resultdf7.iloc[617,:]) == [\"TUV\", 2018, 0.01]"
   ]
  },
  {
   "cell_type": "markdown",
   "metadata": {},
   "source": [
    "**Q8:** For every country in `indicators`, find the _most recent_ year in which the population hit its minimum value.  Alias your new column as `min_year`, and also select the country code.\n",
    "\n",
    "_Hint:_ Use your previous query as a subquery (so you'll have nested subqueries) and group by country code."
   ]
  },
  {
   "cell_type": "code",
   "execution_count": null,
   "metadata": {},
   "outputs": [],
   "source": [
    "query = \"\"\"\n",
    "\"\"\"\n",
    "# YOUR CODE HERE\n",
    "raise NotImplementedError()\n",
    "\n",
    "resultset = %sql $query\n",
    "resultdf8 = resultset.DataFrame()\n",
    "print(len(resultdf8))\n",
    "resultdf8.head()"
   ]
  },
  {
   "cell_type": "code",
   "execution_count": null,
   "metadata": {
    "deletable": false,
    "editable": false,
    "nbgrader": {
     "cell_type": "code",
     "checksum": "9a09e83541d9f7486433898bbfeefacd",
     "grade": true,
     "grade_id": "cell-8fc210c27d5a01c0",
     "locked": true,
     "points": 2,
     "schema_version": 3,
     "solution": false,
     "task": false
    }
   },
   "outputs": [],
   "source": [
    "# Testing cell\n",
    "assert resultdf8.shape == (217, 3)\n",
    "assert list(resultdf8.iloc[0,:]) == [\"ABW\", 1960, 0.05]\n",
    "assert list(resultdf8.iloc[207,:]) == [\"VGB\", 1986, 0.01]"
   ]
  },
  {
   "cell_type": "markdown",
   "metadata": {},
   "source": [
    "---\n",
    "\n",
    "---\n",
    "\n",
    "## Part C\n",
    "\n",
    "**Q9:** How much time (in minutes/hours) did you spend on this homework assignment?"
   ]
  },
  {
   "cell_type": "markdown",
   "metadata": {},
   "source": [
    "YOUR ANSWER HERE"
   ]
  },
  {
   "cell_type": "markdown",
   "metadata": {},
   "source": [
    "**Q10:** Who was your partner for this assignment?  If you worked alone, say so instead."
   ]
  },
  {
   "cell_type": "markdown",
   "metadata": {},
   "source": [
    "YOUR ANSWER HERE"
   ]
  }
 ],
 "metadata": {
  "kernelspec": {
   "display_name": "Python 3",
   "language": "python",
   "name": "python3"
  },
  "language_info": {
   "codemirror_mode": {
    "name": "ipython",
    "version": 3
   },
   "file_extension": ".py",
   "mimetype": "text/x-python",
   "name": "python",
   "nbconvert_exporter": "python",
   "pygments_lexer": "ipython3",
   "version": "3.9.7"
  }
 },
 "nbformat": 4,
 "nbformat_minor": 4
}
