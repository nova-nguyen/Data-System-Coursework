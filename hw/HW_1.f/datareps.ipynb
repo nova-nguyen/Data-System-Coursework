{
 "cells": [
  {
   "cell_type": "markdown",
   "metadata": {},
   "source": [
    "# Denison CS181/DA210 Homework 1.f - Step 1\n",
    "\n",
    "Before you turn this problem in, make sure everything runs as expected. This is a combination of **restarting the kernel** and then **running all cells** (in the menubar, select Kernel$\\rightarrow$Restart And Run All).\n",
    "\n",
    "Make sure you fill in any place that says `# YOUR CODE HERE` or \"YOUR ANSWER HERE\"."
   ]
  },
  {
   "cell_type": "markdown",
   "metadata": {},
   "source": [
    "---"
   ]
  },
  {
   "cell_type": "code",
   "execution_count": 1,
   "metadata": {},
   "outputs": [],
   "source": [
    "import os\n",
    "import os.path\n",
    "\n",
    "datadir = \"publicdata\""
   ]
  },
  {
   "cell_type": "markdown",
   "metadata": {},
   "source": [
    "---\n",
    "\n",
    "## Part A: Converting between representations\n",
    "\n",
    "First, you will convert between the DoL, LoL, and LoD representations."
   ]
  },
  {
   "cell_type": "code",
   "execution_count": 2,
   "metadata": {},
   "outputs": [],
   "source": [
    "topnamesDoL = {'year':  [2018, 2018, 2017, 2017, 2016, 2016, 2015, 2015, 2014, 2014],\n",
    "               'sex':   ['Male', 'Female', 'Male', 'Female', 'Male', 'Female', 'Male', 'Female', 'Male', 'Female'],\n",
    "               'name':  ['Liam', 'Emma', 'Liam', 'Emma', 'Noah', 'Emma', 'Noah', 'Emma', 'Noah', 'Emma'],\n",
    "               'count': [19837, 18688, 18798, 19800, 19117, 19496, 19635, 20455, 19305, 20936]}\n",
    "\n",
    "topnamesLoL = [[2018, 'Male', 'Liam', 19837],\n",
    "               [2018, 'Female', 'Emma', 18688],\n",
    "               [2017, 'Male', 'Liam', 18798],\n",
    "               [2017, 'Female', 'Emma', 19800],\n",
    "               [2016, 'Male', 'Noah', 19117],\n",
    "               [2016, 'Female', 'Emma', 19496],\n",
    "               [2015, 'Male', 'Noah', 19635],\n",
    "               [2015, 'Female', 'Emma', 20455],\n",
    "               [2014, 'Male', 'Noah', 19305],\n",
    "               [2014, 'Female', 'Emma', 20936]]\n",
    "columns = ['year', 'sex', 'name', 'count']\n",
    "\n",
    "topnamesLoD = [{'year': 2014, 'sex': 'Female', 'name': 'Emma', 'count': 20936}, \n",
    "               {'year': 2014, 'sex': 'Male', 'name': 'Noah', 'count': 19305}, \n",
    "               {'year': 2015, 'sex': 'Female', 'name': 'Emma', 'count': 20455}, \n",
    "               {'year': 2015, 'sex': 'Male', 'name': 'Noah', 'count': 19635}, \n",
    "               {'year': 2016, 'sex': 'Female', 'name': 'Emma', 'count': 19496}, \n",
    "               {'year': 2016, 'sex': 'Male', 'name': 'Noah', 'count': 19117}, \n",
    "               {'year': 2017, 'sex': 'Female', 'name': 'Emma', 'count': 19800}, \n",
    "               {'year': 2017, 'sex': 'Male', 'name': 'Liam', 'count': 18798}, \n",
    "               {'year': 2018, 'sex': 'Female', 'name': 'Emma', 'count': 18688}, \n",
    "               {'year': 2018, 'sex': 'Male', 'name': 'Liam', 'count': 19837}]"
   ]
  },
  {
   "cell_type": "markdown",
   "metadata": {},
   "source": [
    "**Q1:** Write a function\n",
    "```\n",
    "    convertDoL2LoL(DoL)\n",
    "```\n",
    "that converts from a dictionary-of-lists representation in `DoL` to the equivalent list-of-lists representation, returning both the list of column names, as given by the keys of `DoL`, as well as a list of lists storing the data in the values of `DoL`.\n",
    "\n",
    "Note that, because we do not know the order of mappings in a dictionary, the order of fields in the column names, and the order of fields in the rows of the data set may not be apparent.  But as long as all rows as well as the list of column names is *consistent*, the conversion is valid."
   ]
  },
  {
   "cell_type": "code",
   "execution_count": 3,
   "metadata": {},
   "outputs": [],
   "source": [
    "def convertDoL2LoL(DoL):\n",
    "    '''\n",
    "    Converts a DoL to LoL representation\n",
    "    '''\n",
    "    columns = []\n",
    "    newLoL = []\n",
    "    for key, value in DoL.items():\n",
    "        columns.append(key)\n",
    "    for i in range(len(value)):\n",
    "        temp_list = []\n",
    "        for f in range(len(columns)):\n",
    "            temp_list.append(DoL[columns[f]][i])\n",
    "        newLoL.append(temp_list)\n",
    "    return columns, newLoL"
   ]
  },
  {
   "cell_type": "code",
   "execution_count": 4,
   "metadata": {},
   "outputs": [
    {
     "name": "stdout",
     "output_type": "stream",
     "text": [
      "['year', 'sex', 'name', 'count']\n",
      "[[2018, 'Male', 'Liam', 19837], [2018, 'Female', 'Emma', 18688], [2017, 'Male', 'Liam', 18798], [2017, 'Female', 'Emma', 19800], [2016, 'Male', 'Noah', 19117], [2016, 'Female', 'Emma', 19496], [2015, 'Male', 'Noah', 19635], [2015, 'Female', 'Emma', 20455], [2014, 'Male', 'Noah', 19305], [2014, 'Female', 'Emma', 20936]]\n"
     ]
    }
   ],
   "source": [
    "# Debugging cell\n",
    "columnsLoL, LoL = convertDoL2LoL(topnamesDoL)\n",
    "print(columnsLoL)\n",
    "print(LoL)"
   ]
  },
  {
   "cell_type": "code",
   "execution_count": 5,
   "metadata": {},
   "outputs": [],
   "source": [
    "# Testing cell\n",
    "assert convertDoL2LoL.__doc__ is not None # don't forget the docstring!\n",
    "\n",
    "columnsLoL, LoL = convertDoL2LoL(topnamesDoL)\n",
    "\n",
    "assert len(topnamesDoL) == len(columnsLoL)\n",
    "assert 'year' in columnsLoL\n",
    "assert 'name' in columnsLoL\n",
    "assert 'sex' in columnsLoL\n",
    "assert 'count' in columnsLoL\n",
    "\n",
    "assert len(topnamesDoL['year']) == len(LoL)\n",
    "assert topnamesDoL['year'][0] == LoL[0][columnsLoL.index('year')]\n",
    "assert topnamesDoL['name'][0] == LoL[0][columnsLoL.index('name')]\n",
    "assert topnamesDoL['sex'][0] == LoL[0][columnsLoL.index('sex')]\n",
    "assert topnamesDoL['count'][0] == LoL[0][columnsLoL.index('count')]"
   ]
  },
  {
   "cell_type": "markdown",
   "metadata": {},
   "source": [
    "**Q2** Write a function\n",
    "```\n",
    "    convertLoL2DoL(columns, LoL)\n",
    "```\n",
    "that converts from a list-of-lists to a dictionary-of-lists, which you return. Here, `columns` is a list of column names (which will become the keys in the DoL), and `LoL` is a LoL."
   ]
  },
  {
   "cell_type": "code",
   "execution_count": 6,
   "metadata": {},
   "outputs": [],
   "source": [
    "def convertLoL2DoL(columns, LoL):\n",
    "    '''\n",
    "    Converts a given LoL to DoL representation\n",
    "    '''\n",
    "    newDoL = {}\n",
    "    for item in columns:\n",
    "        newDoL[item] = []\n",
    "        for small_list in LoL:\n",
    "            for i in range(len(small_list)):\n",
    "                if i == columns.index(item):\n",
    "                    newDoL[item].append(small_list[i])\n",
    "    return newDoL"
   ]
  },
  {
   "cell_type": "code",
   "execution_count": 7,
   "metadata": {},
   "outputs": [
    {
     "name": "stdout",
     "output_type": "stream",
     "text": [
      "{'year': [2018, 2018, 2017, 2017, 2016, 2016, 2015, 2015, 2014, 2014], 'sex': ['Male', 'Female', 'Male', 'Female', 'Male', 'Female', 'Male', 'Female', 'Male', 'Female'], 'name': ['Liam', 'Emma', 'Liam', 'Emma', 'Noah', 'Emma', 'Noah', 'Emma', 'Noah', 'Emma'], 'count': [19837, 18688, 18798, 19800, 19117, 19496, 19635, 20455, 19305, 20936]}\n"
     ]
    }
   ],
   "source": [
    "# Debugging cell\n",
    "DoL = convertLoL2DoL(columns, topnamesLoL)\n",
    "print(DoL)"
   ]
  },
  {
   "cell_type": "code",
   "execution_count": 8,
   "metadata": {},
   "outputs": [],
   "source": [
    "# Testing cell\n",
    "assert convertLoL2DoL.__doc__ is not None # don't forget the docstring!\n",
    "\n",
    "DoL = convertLoL2DoL(columns, topnamesLoL)\n",
    "\n",
    "assert len(DoL) == len(columns)\n",
    "assert 'year' in columns\n",
    "assert 'name' in columns\n",
    "assert 'sex' in columns\n",
    "assert 'count' in columns\n",
    "\n",
    "assert len(DoL['year']) == len(topnamesLoL)\n",
    "assert DoL['year'][0] == topnamesLoL[0][columns.index('year')]\n",
    "assert DoL['name'][0] == topnamesLoL[0][columns.index('name')]\n",
    "assert DoL['sex'][0] == topnamesLoL[0][columns.index('sex')]\n",
    "assert DoL['count'][0] == topnamesLoL[0][columns.index('count')]"
   ]
  },
  {
   "cell_type": "markdown",
   "metadata": {},
   "source": [
    "**Q3** Write a function\n",
    "```\n",
    "    convertLoL2LoD(columns, LoL)\n",
    "```\n",
    "that converts from a list-of-lists to a list-of-dictionaries, which you return. Here, `columns` is a list of column names (which will become the keys in the LoD), and `LoL` is a LoL."
   ]
  },
  {
   "cell_type": "code",
   "execution_count": 9,
   "metadata": {},
   "outputs": [],
   "source": [
    "def convertLoL2LoD(columns, LoL):\n",
    "    '''\n",
    "    Converts a given LoL to its LoD representation\n",
    "    '''\n",
    "    newLoD = []\n",
    "    for small_list in (LoL):\n",
    "        temp_Dict = {}\n",
    "        for item in columns:\n",
    "            for i in range(len(small_list)):\n",
    "                if i == columns.index(item):\n",
    "                    temp_Dict[item] = small_list[i]\n",
    "        newLoD.append(temp_Dict)\n",
    "    return newLoD"
   ]
  },
  {
   "cell_type": "code",
   "execution_count": 10,
   "metadata": {},
   "outputs": [
    {
     "name": "stdout",
     "output_type": "stream",
     "text": [
      "[{'year': 2018, 'sex': 'Male', 'name': 'Liam', 'count': 19837}, {'year': 2018, 'sex': 'Female', 'name': 'Emma', 'count': 18688}, {'year': 2017, 'sex': 'Male', 'name': 'Liam', 'count': 18798}, {'year': 2017, 'sex': 'Female', 'name': 'Emma', 'count': 19800}, {'year': 2016, 'sex': 'Male', 'name': 'Noah', 'count': 19117}, {'year': 2016, 'sex': 'Female', 'name': 'Emma', 'count': 19496}, {'year': 2015, 'sex': 'Male', 'name': 'Noah', 'count': 19635}, {'year': 2015, 'sex': 'Female', 'name': 'Emma', 'count': 20455}, {'year': 2014, 'sex': 'Male', 'name': 'Noah', 'count': 19305}, {'year': 2014, 'sex': 'Female', 'name': 'Emma', 'count': 20936}]\n"
     ]
    }
   ],
   "source": [
    "# Debugging cell\n",
    "LoD = convertLoL2LoD(columns, topnamesLoL)\n",
    "print(LoD)"
   ]
  },
  {
   "cell_type": "code",
   "execution_count": 11,
   "metadata": {},
   "outputs": [],
   "source": [
    "# Testing cell\n",
    "assert convertLoL2LoD.__doc__ is not None # don't forget the docstring!\n",
    "\n",
    "LoD = convertLoL2LoD(columns, topnamesLoL)\n",
    "\n",
    "assert len(LoD) == len(topnamesLoL)\n",
    "assert isinstance(LoD[0], dict)\n",
    "\n",
    "assert len(LoD[0]) == len(columns)\n",
    "assert LoD[0]['year'] == topnamesLoL[0][columns.index('year')]\n",
    "assert LoD[0]['name'] == topnamesLoL[0][columns.index('name')]\n",
    "assert LoD[0]['sex'] == topnamesLoL[0][columns.index('sex')]\n",
    "assert LoD[0]['count'] == topnamesLoL[0][columns.index('count')]"
   ]
  },
  {
   "cell_type": "markdown",
   "metadata": {},
   "source": [
    "---\n",
    "\n",
    "## Part B: Dropping a column\n",
    "\n",
    "**Q4** Write a function\n",
    "\n",
    "```\n",
    "    dropColumnDoL(DoL, columnname)\n",
    "```\n",
    "\n",
    "that drops the column specified by `columnname` from the dictionary-of-lists representation given in `DoL`.  This should be done \"in place\".\n",
    "\n",
    "If `columnname` does not refer to one of the columns in `DoL`, the function should simply return."
   ]
  },
  {
   "cell_type": "code",
   "execution_count": 12,
   "metadata": {},
   "outputs": [],
   "source": [
    "def dropColumnDoL(DoL, columnname):\n",
    "    '''\n",
    "    Drop column specified by columnname from the given DoL if any\n",
    "    '''\n",
    "    if columnname in DoL.keys():\n",
    "        DoL.pop(columnname)"
   ]
  },
  {
   "cell_type": "code",
   "execution_count": 13,
   "metadata": {},
   "outputs": [
    {
     "name": "stdout",
     "output_type": "stream",
     "text": [
      "{'year': [2018, 2018, 2017, 2017, 2016, 2016, 2015, 2015, 2014, 2014], 'name': ['Liam', 'Emma', 'Liam', 'Emma', 'Noah', 'Emma', 'Noah', 'Emma', 'Noah', 'Emma'], 'count': [19837, 18688, 18798, 19800, 19117, 19496, 19635, 20455, 19305, 20936]}\n"
     ]
    }
   ],
   "source": [
    "# Debugging cell\n",
    "DoL = {'year':  [2018, 2018, 2017, 2017, 2016, 2016, 2015, 2015, 2014, 2014],\n",
    "       'sex':   ['Male', 'Female', 'Male', 'Female', 'Male', 'Female', 'Male', 'Female', 'Male', 'Female'],\n",
    "       'name':  ['Liam', 'Emma', 'Liam', 'Emma', 'Noah', 'Emma', 'Noah', 'Emma', 'Noah', 'Emma'],\n",
    "       'count': [19837, 18688, 18798, 19800, 19117, 19496, 19635, 20455, 19305, 20936]}\n",
    "\n",
    "dropColumnDoL(DoL, 'sex')\n",
    "print(DoL)"
   ]
  },
  {
   "cell_type": "code",
   "execution_count": 14,
   "metadata": {},
   "outputs": [],
   "source": [
    "# Testing cell\n",
    "assert dropColumnDoL.__doc__ is not None # don't forget the docstring!\n",
    "\n",
    "DoL = {'year':  [2018, 2018, 2017, 2017, 2016, 2016, 2015, 2015, 2014, 2014],\n",
    "       'sex':   ['Male', 'Female', 'Male', 'Female', 'Male', 'Female', 'Male', 'Female', 'Male', 'Female'],\n",
    "       'name':  ['Liam', 'Emma', 'Liam', 'Emma', 'Noah', 'Emma', 'Noah', 'Emma', 'Noah', 'Emma'],\n",
    "       'count': [19837, 18688, 18798, 19800, 19117, 19496, 19635, 20455, 19305, 20936]}\n",
    "\n",
    "dropColumnDoL(DoL, 'count')\n",
    "assert len(DoL) == 3\n",
    "assert \"count\" not in DoL\n",
    "\n",
    "assert len(DoL[\"year\"]) == 10\n",
    "assert len(DoL[\"sex\"]) == 10\n",
    "assert len(DoL[\"name\"]) == 10\n",
    "\n",
    "dropColumnDoL(DoL, 'fakecolumn')\n",
    "assert \"year\" in DoL\n",
    "assert \"sex\" in DoL\n",
    "assert \"name\" in DoL"
   ]
  },
  {
   "cell_type": "markdown",
   "metadata": {},
   "source": [
    "**Q5** Write a function\n",
    "\n",
    "```\n",
    "    dropColumnLoL(LoL, columns, columnname)\n",
    "``` \n",
    "that drops the column specified by `columnname` from the list-of-lists representation given in `LoD`.  This should be done \"in place\" and should **not** assume the topnames columns, but rather use the list of columns specified in `columns` to determine which column to drop."
   ]
  },
  {
   "cell_type": "code",
   "execution_count": 15,
   "metadata": {},
   "outputs": [],
   "source": [
    "def dropColumnLoL(LoL, columns, columnname):\n",
    "    '''\n",
    "    Drop column specified by columnname from a given LoL if any\n",
    "    '''\n",
    "    for x in columns:\n",
    "        if x == columnname:\n",
    "            i = columns.index(x)\n",
    "            columns.pop(i)\n",
    "            LoL = [item.pop(i) for item in LoL]"
   ]
  },
  {
   "cell_type": "code",
   "execution_count": 16,
   "metadata": {},
   "outputs": [
    {
     "name": "stdout",
     "output_type": "stream",
     "text": [
      "['year', 'name', 'count']\n",
      "[[2018, 'Liam', 19837], [2018, 'Emma', 18688], [2017, 'Liam', 18798], [2017, 'Emma', 19800], [2016, 'Noah', 19117], [2016, 'Emma', 19496], [2015, 'Noah', 19635], [2015, 'Emma', 20455], [2014, 'Noah', 19305], [2014, 'Emma', 20936]]\n"
     ]
    }
   ],
   "source": [
    "# Debugging cell\n",
    "LoL = [[2018, 'Male', 'Liam', 19837],\n",
    "       [2018, 'Female', 'Emma', 18688],\n",
    "       [2017, 'Male', 'Liam', 18798],\n",
    "       [2017, 'Female', 'Emma', 19800],\n",
    "       [2016, 'Male', 'Noah', 19117],\n",
    "       [2016, 'Female', 'Emma', 19496],\n",
    "       [2015, 'Male', 'Noah', 19635],\n",
    "       [2015, 'Female', 'Emma', 20455],\n",
    "       [2014, 'Male', 'Noah', 19305],\n",
    "       [2014, 'Female', 'Emma', 20936]]\n",
    "columns = ['year', 'sex', 'name', 'count']\n",
    "\n",
    "dropColumnLoL(LoL, columns, 'sex')\n",
    "print(columns)\n",
    "print(LoL)"
   ]
  },
  {
   "cell_type": "code",
   "execution_count": 17,
   "metadata": {},
   "outputs": [],
   "source": [
    "# Testing cell\n",
    "assert dropColumnLoL.__doc__ is not None # don't forget the docstring!\n",
    "\n",
    "LoL = [[2018, 'Male', 'Liam', 19837],\n",
    "       [2018, 'Female', 'Emma', 18688],\n",
    "       [2017, 'Male', 'Liam', 18798],\n",
    "       [2017, 'Female', 'Emma', 19800],\n",
    "       [2016, 'Male', 'Noah', 19117],\n",
    "       [2016, 'Female', 'Emma', 19496],\n",
    "       [2015, 'Male', 'Noah', 19635],\n",
    "       [2015, 'Female', 'Emma', 20455],\n",
    "       [2014, 'Male', 'Noah', 19305],\n",
    "       [2014, 'Female', 'Emma', 20936]]\n",
    "columns = ['year', 'sex', 'name', 'count']\n",
    "\n",
    "dropColumnLoL(LoL, columns, 'count')\n",
    "assert len(LoL) == 10\n",
    "assert isinstance(LoL[0], list)\n",
    "assert len(LoL[0]) == 3\n",
    "assert LoL[0] == [2018, 'Male', 'Liam']\n",
    "assert 'count' not in columns\n",
    "\n",
    "dropColumnLoL(LoL, columns, 'fakecolumn')\n",
    "assert len(LoL) == 10\n",
    "assert isinstance(LoL[0], list)\n",
    "assert len(LoL[0]) == 3\n",
    "assert LoL[0] == [2018, 'Male', 'Liam']\n",
    "assert 'year' in columns\n",
    "assert 'sex' in columns\n",
    "assert 'name' in columns"
   ]
  },
  {
   "cell_type": "markdown",
   "metadata": {},
   "source": [
    "**Q6** Write a function\n",
    "\n",
    "```\n",
    "    dropColumnLoD(LoD, columnname)\n",
    "``` \n",
    "that drops the column specified by `columnname` from the list-of-dictionaries representation given in `LoD`.  This should be done \"in place\" and should **not** assume any particular columns.\n",
    "\n",
    "If `columnname` does not refer to one of the columns in `LoD`, the function should simply return."
   ]
  },
  {
   "cell_type": "code",
   "execution_count": 18,
   "metadata": {},
   "outputs": [],
   "source": [
    "def dropColumnLoD(LoD, columnname):\n",
    "    '''\n",
    "    Drop column specified by columnname from a given LoD if any\n",
    "    '''\n",
    "    for item in LoD:\n",
    "        if columnname in item.keys():\n",
    "            item.pop(columnname)\n",
    "                "
   ]
  },
  {
   "cell_type": "code",
   "execution_count": 19,
   "metadata": {},
   "outputs": [
    {
     "name": "stdout",
     "output_type": "stream",
     "text": [
      "[{'year': 2014, 'name': 'Emma', 'count': 20936}, {'year': 2014, 'name': 'Noah', 'count': 19305}, {'year': 2015, 'name': 'Emma', 'count': 20455}, {'year': 2015, 'name': 'Noah', 'count': 19635}, {'year': 2016, 'name': 'Emma', 'count': 19496}, {'year': 2016, 'name': 'Noah', 'count': 19117}, {'year': 2017, 'name': 'Emma', 'count': 19800}, {'year': 2017, 'name': 'Liam', 'count': 18798}, {'year': 2018, 'name': 'Emma', 'count': 18688}, {'year': 2018, 'name': 'Liam', 'count': 19837}]\n"
     ]
    }
   ],
   "source": [
    "# Debugging cell\n",
    "LoD = [{'year': 2014, 'sex': 'Female', 'name': 'Emma', 'count': 20936}, \n",
    "       {'year': 2014, 'sex': 'Male', 'name': 'Noah', 'count': 19305}, \n",
    "       {'year': 2015, 'sex': 'Female', 'name': 'Emma', 'count': 20455}, \n",
    "       {'year': 2015, 'sex': 'Male', 'name': 'Noah', 'count': 19635}, \n",
    "       {'year': 2016, 'sex': 'Female', 'name': 'Emma', 'count': 19496}, \n",
    "       {'year': 2016, 'sex': 'Male', 'name': 'Noah', 'count': 19117}, \n",
    "       {'year': 2017, 'sex': 'Female', 'name': 'Emma', 'count': 19800}, \n",
    "       {'year': 2017, 'sex': 'Male', 'name': 'Liam', 'count': 18798}, \n",
    "       {'year': 2018, 'sex': 'Female', 'name': 'Emma', 'count': 18688}, \n",
    "       {'year': 2018, 'sex': 'Male', 'name': 'Liam', 'count': 19837}]\n",
    "dropColumnLoD(LoD, 'sex')\n",
    "print(LoD)"
   ]
  },
  {
   "cell_type": "code",
   "execution_count": 20,
   "metadata": {},
   "outputs": [],
   "source": [
    "# Testing cell\n",
    "assert dropColumnLoD.__doc__ is not None # don't forget the docstring!\n",
    "\n",
    "LoD = [{'year': 2014, 'sex': 'Female', 'name': 'Emma', 'count': 20936}, \n",
    "       {'year': 2014, 'sex': 'Male', 'name': 'Noah', 'count': 19305}, \n",
    "       {'year': 2015, 'sex': 'Female', 'name': 'Emma', 'count': 20455}, \n",
    "       {'year': 2015, 'sex': 'Male', 'name': 'Noah', 'count': 19635}, \n",
    "       {'year': 2016, 'sex': 'Female', 'name': 'Emma', 'count': 19496}, \n",
    "       {'year': 2016, 'sex': 'Male', 'name': 'Noah', 'count': 19117}, \n",
    "       {'year': 2017, 'sex': 'Female', 'name': 'Emma', 'count': 19800}, \n",
    "       {'year': 2017, 'sex': 'Male', 'name': 'Liam', 'count': 18798}, \n",
    "       {'year': 2018, 'sex': 'Female', 'name': 'Emma', 'count': 18688}, \n",
    "       {'year': 2018, 'sex': 'Male', 'name': 'Liam', 'count': 19837}]\n",
    "\n",
    "dropColumnLoD(LoD, 'count')\n",
    "assert len(LoD) == 10\n",
    "assert isinstance(LoD[0], dict)\n",
    "assert len(LoD[0]) == 3\n",
    "assert 'count' not in LoD[0]\n",
    "\n",
    "dropColumnLoD(LoD, \"fakecolumn\")\n",
    "assert len(LoD) == 10\n",
    "assert isinstance(LoD[0], dict)\n",
    "assert len(LoD[0]) == 3\n",
    "assert \"year\" in LoD[0]\n",
    "assert \"sex\" in LoD[0]\n",
    "assert \"name\" in LoD[0]"
   ]
  },
  {
   "cell_type": "markdown",
   "metadata": {},
   "source": [
    "---\n",
    "\n",
    "---\n",
    "## Part C\n",
    "\n",
    "How much time (in minutes/hours) did you spend on this homework assignment?"
   ]
  },
  {
   "cell_type": "markdown",
   "metadata": {},
   "source": [
    "2 hours"
   ]
  }
 ],
 "metadata": {
  "interpreter": {
   "hash": "c1b6934e936e1ef54c6a95f48075e41a1292402ce0d7d094af8478baa001b4f5"
  },
  "kernelspec": {
   "display_name": "Python 3 (ipykernel)",
   "language": "python",
   "name": "python3"
  },
  "language_info": {
   "codemirror_mode": {
    "name": "ipython",
    "version": 3
   },
   "file_extension": ".py",
   "mimetype": "text/x-python",
   "name": "python",
   "nbconvert_exporter": "python",
   "pygments_lexer": "ipython3",
   "version": "3.9.7"
  }
 },
 "nbformat": 4,
 "nbformat_minor": 2
}
