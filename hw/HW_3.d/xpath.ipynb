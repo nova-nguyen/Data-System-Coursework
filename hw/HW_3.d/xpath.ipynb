{
 "cells": [
  {
   "cell_type": "markdown",
   "metadata": {},
   "source": [
    "# Denison CS181/DA210 Homework 3.d - Step 1\n",
    "\n",
    "Before you turn this problem in, make sure everything runs as expected. This is a combination of **restarting the kernel** and then **running all cells** (in the menubar, select Kernel$\\rightarrow$Restart And Run All).\n",
    "\n",
    "Make sure you fill in any place that says `# YOUR CODE HERE` or \"YOUR ANSWER HERE\"."
   ]
  },
  {
   "cell_type": "markdown",
   "metadata": {},
   "source": [
    "---"
   ]
  },
  {
   "cell_type": "markdown",
   "metadata": {},
   "source": [
    "> **In the questions that follow, we are looking for XPath declarative solutions to the problems, not procedural solutions.  You will not get credit for procedural solutions.**"
   ]
  },
  {
   "cell_type": "markdown",
   "metadata": {},
   "source": [
    "---\n",
    "\n",
    "## Part A: Parse and familiarize yourself with the file\n",
    "\n",
    "**Q1:** Begin by importing whatever modules you need, reading in and parsing the dataset in the file `bookstore.xml` in the `publicdata` directory.\n",
    "\n",
    "You should name the variable representing the root node `books_root`."
   ]
  },
  {
   "cell_type": "code",
   "execution_count": null,
   "metadata": {},
   "outputs": [],
   "source": [
    "# YOUR CODE HERE\n",
    "raise NotImplementedError()"
   ]
  },
  {
   "cell_type": "code",
   "execution_count": null,
   "metadata": {
    "deletable": false,
    "editable": false,
    "nbgrader": {
     "cell_type": "code",
     "checksum": "e8c84a7787e151ea7b0e5f3142465e62",
     "grade": true,
     "grade_id": "cell-8e1e34e520cb833f",
     "locked": true,
     "points": 2,
     "schema_version": 3,
     "solution": false,
     "task": false
    }
   },
   "outputs": [],
   "source": [
    "# Testing cell\n",
    "assert type(books_root) is etree._Element\n",
    "assert len(books_root) == 12"
   ]
  },
  {
   "cell_type": "markdown",
   "metadata": {},
   "source": [
    "---\n",
    "\n",
    "## Part B: Using XPath\n",
    "\n",
    "**Q2:** Using `bookstore.xml`, create a Python list called `books` containing the **titles** of all books. Your list `books` should be a list of strings."
   ]
  },
  {
   "cell_type": "code",
   "execution_count": null,
   "metadata": {
    "deletable": false,
    "nbgrader": {
     "cell_type": "code",
     "checksum": "e45d082a7c13fa6084eea136d0398e6e",
     "grade": false,
     "grade_id": "cell-1d693d29dd846dd8",
     "locked": false,
     "schema_version": 3,
     "solution": true,
     "task": false
    }
   },
   "outputs": [],
   "source": [
    "# YOUR CODE HERE\n",
    "raise NotImplementedError()\n",
    "\n",
    "# Print the book titles\n",
    "print(books)\n",
    "type(books[0])"
   ]
  },
  {
   "cell_type": "code",
   "execution_count": null,
   "metadata": {
    "deletable": false,
    "editable": false,
    "nbgrader": {
     "cell_type": "code",
     "checksum": "c580f2492fb5120ba6270c71f59ae05d",
     "grade": true,
     "grade_id": "cell-a8b4fd3cbd5c6d8d",
     "locked": true,
     "points": 2,
     "schema_version": 3,
     "solution": false,
     "task": false
    }
   },
   "outputs": [],
   "source": [
    "# Testing cell\n",
    "assert len(books) > 0 and type(books[0]) is etree._ElementUnicodeResult\n",
    "assert len(books)==12\n",
    "assert 'Lover Birds' in books and 'Splish Splash' in books"
   ]
  },
  {
   "cell_type": "markdown",
   "metadata": {},
   "source": [
    "**Q3:** Create a list, named `less`, of book ids that cost less than `$6`. Note that `id` is an attribute.\n",
    "\n",
    "You can get the value of an attribute in XPath using `@attName`, where `attName` is the name of the attribute."
   ]
  },
  {
   "cell_type": "code",
   "execution_count": null,
   "metadata": {
    "deletable": false,
    "nbgrader": {
     "cell_type": "code",
     "checksum": "1b2cdec29dc3a01b9b3afec57e55ab2c",
     "grade": false,
     "grade_id": "cell-6e3c08a87e87befc",
     "locked": false,
     "schema_version": 3,
     "solution": true,
     "task": false
    }
   },
   "outputs": [],
   "source": [
    "# YOUR CODE HERE\n",
    "raise NotImplementedError()\n",
    "\n",
    "# Print the resulting list\n",
    "less"
   ]
  },
  {
   "cell_type": "code",
   "execution_count": null,
   "metadata": {
    "deletable": false,
    "editable": false,
    "nbgrader": {
     "cell_type": "code",
     "checksum": "33b725dd2e2682a54addcf00aa428479",
     "grade": true,
     "grade_id": "cell-caa0de2ac1828f14",
     "locked": true,
     "points": 2,
     "schema_version": 3,
     "solution": false,
     "task": false
    }
   },
   "outputs": [],
   "source": [
    "# Testing cell\n",
    "assert len(less) > 0 and type(less[0]) is etree._ElementUnicodeResult\n",
    "assert 'bk104' in less\n",
    "assert 'bk101' not in less\n",
    "assert len(less)==7"
   ]
  },
  {
   "cell_type": "markdown",
   "metadata": {},
   "source": [
    "**Q4:** Create a list, `eva`, of book titles for which Eva Corets was the author. Your list `eva` should be a list of strings."
   ]
  },
  {
   "cell_type": "code",
   "execution_count": null,
   "metadata": {
    "deletable": false,
    "nbgrader": {
     "cell_type": "code",
     "checksum": "212112f8a8aee363c85113cde65e33c5",
     "grade": false,
     "grade_id": "cell-7c7d0674f1ec9421",
     "locked": false,
     "schema_version": 3,
     "solution": true,
     "task": false
    }
   },
   "outputs": [],
   "source": [
    "# YOUR CODE HERE\n",
    "raise NotImplementedError()\n",
    "\n",
    "# Print the list\n",
    "eva"
   ]
  },
  {
   "cell_type": "code",
   "execution_count": null,
   "metadata": {
    "deletable": false,
    "editable": false,
    "nbgrader": {
     "cell_type": "code",
     "checksum": "a9345d699d683b760b053939b1754738",
     "grade": true,
     "grade_id": "cell-331030ba75384a5c",
     "locked": true,
     "points": 2,
     "schema_version": 3,
     "solution": false,
     "task": false
    }
   },
   "outputs": [],
   "source": [
    "# Testing cell\n",
    "assert len(eva) > 0 and type(eva[0]) is etree._ElementUnicodeResult\n",
    "assert len(eva)==3\n",
    "assert 'Maeve Ascendant' in eva\n",
    "assert 'Paradox Lost' not in eva"
   ]
  },
  {
   "cell_type": "markdown",
   "metadata": {},
   "source": [
    "**Q5:** Find the average book price for all books that are not fantasy in this file, assigning the resulting value to a variable `avgprice`.\n",
    "\n",
    "**Hints** First, use XPath to get a list of the price strings (text) based on a single XPath query.  Then use a list comprehension to build a list of `float` values converting the strings to real-valued numbers.  Finally, perform the average based on the values and length of the list."
   ]
  },
  {
   "cell_type": "code",
   "execution_count": null,
   "metadata": {
    "deletable": false,
    "nbgrader": {
     "cell_type": "code",
     "checksum": "f287cb4325ef5c210c792b0d0a4dbf90",
     "grade": false,
     "grade_id": "cell-6d115874424475c8",
     "locked": false,
     "schema_version": 3,
     "solution": true,
     "task": false
    }
   },
   "outputs": [],
   "source": [
    "# YOUR CODE HERE\n",
    "raise NotImplementedError()\n",
    "\n",
    "# Print the average price\n",
    "avgprice"
   ]
  },
  {
   "cell_type": "code",
   "execution_count": null,
   "metadata": {
    "deletable": false,
    "editable": false,
    "nbgrader": {
     "cell_type": "code",
     "checksum": "38a05f1ddc522aa0abfc25f05d492d40",
     "grade": true,
     "grade_id": "cell-5272bfd99dcd3cab",
     "locked": true,
     "points": 2,
     "schema_version": 3,
     "solution": false,
     "task": false
    }
   },
   "outputs": [],
   "source": [
    "# Testing cell\n",
    "assert(avgprice > 23.82)\n",
    "assert(avgprice < 24)"
   ]
  },
  {
   "cell_type": "markdown",
   "metadata": {},
   "source": [
    "**Q6:** Create a list called `lessFantasy` containing the titles of the books where the price is under `$40` and not in the fantasy genre."
   ]
  },
  {
   "cell_type": "code",
   "execution_count": null,
   "metadata": {
    "deletable": false,
    "nbgrader": {
     "cell_type": "code",
     "checksum": "e49f6dd27ec9fea18c16417288e7c1e8",
     "grade": false,
     "grade_id": "cell-f712efddd8ca1dbd",
     "locked": false,
     "schema_version": 3,
     "solution": true,
     "task": false
    }
   },
   "outputs": [],
   "source": [
    "# YOUR CODE HERE\n",
    "raise NotImplementedError()\n",
    "\n",
    "# Print the list\n",
    "lessFantasy"
   ]
  },
  {
   "cell_type": "code",
   "execution_count": null,
   "metadata": {
    "deletable": false,
    "editable": false,
    "nbgrader": {
     "cell_type": "code",
     "checksum": "a6be7531a0f1f0115d455e154b2621e5",
     "grade": true,
     "grade_id": "cell-d20012db748daea5",
     "locked": true,
     "points": 2,
     "schema_version": 3,
     "solution": false,
     "task": false
    }
   },
   "outputs": [],
   "source": [
    "# Testing cell\n",
    "assert len(lessFantasy)==6\n",
    "assert 'Paradox Lost' in lessFantasy\n",
    "assert 'Maeve Ascendant' not in lessFantasy"
   ]
  },
  {
   "cell_type": "markdown",
   "metadata": {},
   "source": [
    "---\n",
    "\n",
    "---\n",
    "\n",
    "## Part C\n",
    "\n",
    "**Q7:** How much time (in minutes/hours) did you spend on this homework assignment?"
   ]
  },
  {
   "cell_type": "markdown",
   "metadata": {},
   "source": [
    "YOUR ANSWER HERE"
   ]
  },
  {
   "cell_type": "markdown",
   "metadata": {},
   "source": [
    "**Q8:** Who was your partner for this assignment?  If you worked alone, say so instead."
   ]
  },
  {
   "cell_type": "markdown",
   "metadata": {},
   "source": [
    "YOUR ANSWER HERE"
   ]
  }
 ],
 "metadata": {
  "kernelspec": {
   "display_name": "Python 3",
   "language": "python",
   "name": "python3"
  },
  "language_info": {
   "codemirror_mode": {
    "name": "ipython",
    "version": 3
   },
   "file_extension": ".py",
   "mimetype": "text/x-python",
   "name": "python",
   "nbconvert_exporter": "python",
   "pygments_lexer": "ipython3",
   "version": "3.9.7"
  }
 },
 "nbformat": 4,
 "nbformat_minor": 4
}
