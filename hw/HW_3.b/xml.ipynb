{
 "cells": [
  {
   "cell_type": "markdown",
   "metadata": {},
   "source": [
    "# Denison CS181/DA210 Homework 3.b - Step 1\n",
    "\n",
    "Before you turn this problem in, make sure everything runs as expected. This is a combination of **restarting the kernel** and then **running all cells** (in the menubar, select Kernel$\\rightarrow$Restart And Run All).\n",
    "\n",
    "Make sure you fill in any place that says `# YOUR CODE HERE` or \"YOUR ANSWER HERE\"."
   ]
  },
  {
   "cell_type": "markdown",
   "metadata": {},
   "source": [
    "---"
   ]
  },
  {
   "cell_type": "code",
   "execution_count": 3,
   "metadata": {},
   "outputs": [],
   "source": [
    "import io\n",
    "from lxml import etree\n",
    "import json\n",
    "import sys\n",
    "import os.path\n",
    "import pandas as pd\n",
    "\n",
    "datadir = \"publicdata\""
   ]
  },
  {
   "cell_type": "markdown",
   "metadata": {},
   "source": [
    "---\n",
    "\n",
    "## Part A\n",
    "\n",
    "**Q1:** Consider the following table of `subjects` data:\n",
    "\n",
    "subject | name | department\n",
    "---------|-----|--------------\n",
    "CS | Computer Science | CS\n",
    "MATH | Mathematics | MATH\n",
    "ENGL | English Literature | ENGL\n",
    "\n",
    "Using a *text editor*, edit and create a file named `subjects.xml` in the `datadir` directory (`\"publicdata\"`) that contains a legal XML representation of this data.\n",
    "\n",
    "Once created, write a Python code sequence to read and parse the file, and then, using `etree.tostring()`, create a Python string to reference the (pretty-printed) decoded string version of the tree.  Name this variable `subjects_str`."
   ]
  },
  {
   "cell_type": "code",
   "execution_count": 14,
   "metadata": {
    "deletable": false,
    "nbgrader": {
     "cell_type": "code",
     "checksum": "e93ab9966e2b2d631aab76b8bc049101",
     "grade": false,
     "grade_id": "cell-352a2a50e91b618c",
     "locked": false,
     "schema_version": 3,
     "solution": true,
     "task": false
    }
   },
   "outputs": [
    {
     "name": "stdout",
     "output_type": "stream",
     "text": [
      "<subjects>\n",
      "    <subject subject=\"CS\" name=\"Computer Science\" department=\"CS\"/>\n",
      "    <subject subject=\"MATH\" name=\"Mathematics\" department=\"MATH\"/>\n",
      "    <subject subject=\"ENGL\" name=\"English Literature\" department=\"ENGL\"/>\n",
      "</subjects>\n",
      "\n"
     ]
    }
   ],
   "source": [
    "tree = etree.parse(os.path.join(datadir, \"subjects.xml\"))\n",
    "subjects_str = etree.tostring(tree, pretty_print = True).decode('utf-8')\n",
    "\n",
    "# Pretty-print the XML data\n",
    "print(subjects_str)"
   ]
  },
  {
   "cell_type": "code",
   "execution_count": 15,
   "metadata": {
    "deletable": false,
    "editable": false,
    "nbgrader": {
     "cell_type": "code",
     "checksum": "4b344f790b8cab4278de4fe85353a432",
     "grade": true,
     "grade_id": "cell-33dd26f22f1d5e39",
     "locked": true,
     "points": 3,
     "schema_version": 3,
     "solution": false,
     "task": false
    }
   },
   "outputs": [],
   "source": [
    "# Testing Cell\n",
    "path = os.path.join(datadir, \"subjects.xml\")\n",
    "assert os.path.isfile(path)\n",
    "assert isinstance(subjects_str, str)\n",
    "assert 75 < len(subjects_str)"
   ]
  },
  {
   "cell_type": "markdown",
   "metadata": {},
   "source": [
    "**Q2:** Now consider the `courses` table below.  Using a text editor, edit and create `courses.xml` in the `datadir` directory (`\"publicdata\"`) that contains a legal XML tree representing this table:\n",
    "\n",
    "subject | coursenum | title\n",
    "---------|-----------|-----------------------\n",
    "CS | 173 | Intermediate Computer Science\n",
    "CS | 372 | Operating Systems\n",
    "MATH | 300 | Introduction to Proofs\n",
    "ENGL | 213 | Early British Literature\n",
    "\n",
    "Once created, write a Python code sequence to read and parse the file, and then, as in Q1, use `etree.tostring()` to assign the string version of the courses tree to the variable `courses_str`."
   ]
  },
  {
   "cell_type": "code",
   "execution_count": 16,
   "metadata": {
    "deletable": false,
    "nbgrader": {
     "cell_type": "code",
     "checksum": "d716c9113b683222048af52e7f6f946e",
     "grade": false,
     "grade_id": "cell-90c8b3ec459f1a09",
     "locked": false,
     "schema_version": 3,
     "solution": true,
     "task": false
    }
   },
   "outputs": [
    {
     "name": "stdout",
     "output_type": "stream",
     "text": [
      "<courses>\n",
      "    <course course=\"CS\">\n",
      "        <coursedata coursenum=\"173\">\n",
      "            <coursename title=\"Intermediate Computer Science\"/>\n",
      "        </coursedata>\n",
      "        <coursedata coursenum=\"372\">\n",
      "            <coursename title=\"Operating Systems\"/>\n",
      "        </coursedata>\n",
      "    </course>\n",
      "    <course course=\"MATH\">\n",
      "        <coursedata coursenum=\"300\">\n",
      "            <coursename title=\"Introduction to Proofs\"/>\n",
      "        </coursedata>\n",
      "    </course>\n",
      "    <course course=\"ENGL\">\n",
      "        <coursedata coursenum=\"213\">\n",
      "            <coursename title=\"Early British Literature\"/>\n",
      "        </coursedata>\n",
      "    </course>\n",
      "</courses>\n",
      "\n"
     ]
    }
   ],
   "source": [
    "tree = etree.parse(os.path.join(datadir, \"courses.xml\"))\n",
    "courses_str = etree.tostring(tree, pretty_print = True).decode('utf-8')\n",
    "\n",
    "# Pretty-print the XML data\n",
    "print(courses_str)"
   ]
  },
  {
   "cell_type": "code",
   "execution_count": 17,
   "metadata": {
    "deletable": false,
    "editable": false,
    "nbgrader": {
     "cell_type": "code",
     "checksum": "784faed5cc0d1d0a1996daac8a2847f2",
     "grade": true,
     "grade_id": "cell-559f37743a566fde",
     "locked": true,
     "points": 3,
     "schema_version": 3,
     "solution": false,
     "task": false
    }
   },
   "outputs": [],
   "source": [
    "# Testing Cell\n",
    "path = os.path.join(datadir, \"courses.xml\")\n",
    "assert os.path.isfile(path)\n",
    "assert isinstance(courses_str, str)\n",
    "assert 75 < len(courses_str)"
   ]
  },
  {
   "cell_type": "markdown",
   "metadata": {},
   "source": [
    "**Q3:** Suppose you wanted a tree that contained **both** of the above tables.  Write a file named `school.xml` in the current directory that composes **as a single tree** both of the above component tables.\n",
    "\n",
    "As before, once created, write a Python code sequence to read and parse the file.  Call the resulting string variable `school_str`."
   ]
  },
  {
   "cell_type": "code",
   "execution_count": 18,
   "metadata": {
    "deletable": false,
    "nbgrader": {
     "cell_type": "code",
     "checksum": "48dc8dad0bd6435c04f41365e7c4340c",
     "grade": true,
     "grade_id": "cell-04bdc0fe17d48c37",
     "locked": false,
     "points": 3,
     "schema_version": 3,
     "solution": true,
     "task": false
    }
   },
   "outputs": [
    {
     "name": "stdout",
     "output_type": "stream",
     "text": [
      "<courses>\n",
      "    <course course=\"CS\" subject=\"CS\" name=\"Computer Science\" department=\"CS\">\n",
      "        <coursedata coursenum=\"173\">\n",
      "            <coursename title=\"Intermediate Computer Science\"/>\n",
      "        </coursedata>\n",
      "        <coursedata coursenum=\"372\">\n",
      "            <coursename title=\"Operating Systems\"/>\n",
      "        </coursedata>\n",
      "    </course>\n",
      "    <course course=\"MATH\" subject=\"MATH\" name=\"Mathematics\" department=\"MATH\">\n",
      "        <coursedata coursenum=\"300\">\n",
      "            <coursename title=\"Introduction to Proofs\"/>\n",
      "        </coursedata>\n",
      "    </course>\n",
      "    <course course=\"ENGL\" subject=\"ENGL\" name=\"English Literature\" department=\"ENGL\">\n",
      "        <coursedata coursenum=\"213\">\n",
      "            <coursename title=\"Early British Literature\"/>\n",
      "        </coursedata>\n",
      "    </course>\n",
      "</courses>\n",
      "\n"
     ]
    }
   ],
   "source": [
    "tree = etree.parse(os.path.join(datadir, \"school.xml\"))\n",
    "school_str = etree.tostring(tree, pretty_print = True).decode('utf-8')\n",
    "\n",
    "# Pretty-print the XML data\n",
    "print(school_str)"
   ]
  },
  {
   "cell_type": "markdown",
   "metadata": {},
   "source": [
    "**Q4:** Write a function:\n",
    "```\n",
    "    getLocalXML(filename, datadir=\".\", parser=None)\n",
    "``` \n",
    "that performs the common steps of creating a path from the given `filename` and `datadir` and parses the XML file, using the passed `parser`, if any, and returns the Element at the **root** of the tree.  If `parser` is not passed, the standard `XMLParser` should be used.\n",
    "\n",
    "If the file is not found, or if the parse is unsuccessful (due to XML not being \"well formed\"), the function should return `None`. Remember that if a parse is unsuccessful, the `etree` module raises an exception.  That means that you should have a `try` block, and indented within that block, the `parse()` invocation should occur.  The `try` block is followed by an `except Exception as e:` line, and within that, your return `None`.  If no exception is raised, code execution will proceed beyond the `try`/`except` block, and that is where you would return the root of the parsed tree."
   ]
  },
  {
   "cell_type": "code",
   "execution_count": 27,
   "metadata": {
    "deletable": false,
    "nbgrader": {
     "cell_type": "code",
     "checksum": "dc60129e2c9655261e8becb2445eadd7",
     "grade": false,
     "grade_id": "cell-81428647baf27b6c",
     "locked": false,
     "schema_version": 3,
     "solution": true,
     "task": false
    }
   },
   "outputs": [],
   "source": [
    "def getLocalXML(filename, datadir=\".\", parser=None):\n",
    "    '''\n",
    "    Parse an XML file and returns Elements at the root of tree\n",
    "    '''\n",
    "    file_path = os.path.join(datadir, filename)\n",
    "    try:\n",
    "        tree0 = etree.parse(file_path)\n",
    "        root0 = tree0.getroot()\n",
    "    except Exception as e:\n",
    "        return None\n",
    "    return root0"
   ]
  },
  {
   "cell_type": "code",
   "execution_count": 28,
   "metadata": {
    "deletable": false,
    "editable": false,
    "nbgrader": {
     "cell_type": "code",
     "checksum": "d6144ce6aa101a8303fecf3330e31d89",
     "grade": true,
     "grade_id": "cell-6f7ca02f25f931f2",
     "locked": true,
     "points": 3,
     "schema_version": 3,
     "solution": false,
     "task": false
    }
   },
   "outputs": [],
   "source": [
    "# Testing cell\n",
    "assert getLocalXML.__doc__ is not None # don't forget the docstring!\n",
    "\n",
    "myparser = etree.XMLParser(remove_blank_text=True)\n",
    "\n",
    "wroot = getLocalXML(\"widombooks.xml\", datadir, myparser)\n",
    "assert len(wroot) == 8\n",
    "bad = getLocalXML(\"foo.xml\", datadir, myparser)\n",
    "assert bad == None\n",
    "bad2 = getLocalXML(\"bad.xml\", datadir)\n",
    "assert bad2==None"
   ]
  },
  {
   "cell_type": "markdown",
   "metadata": {},
   "source": [
    "---\n",
    "\n",
    "---\n",
    "\n",
    "## Part B\n",
    "\n",
    "**Q5:** How much time (in minutes/hours) did you spend on this homework assignment?"
   ]
  },
  {
   "cell_type": "markdown",
   "metadata": {},
   "source": [
    "1.5 hours"
   ]
  },
  {
   "cell_type": "markdown",
   "metadata": {},
   "source": [
    "**Q6:** Who was your partner for this assignment?  If you worked alone, say so instead."
   ]
  },
  {
   "cell_type": "markdown",
   "metadata": {},
   "source": [
    "I worked alone"
   ]
  }
 ],
 "metadata": {
  "kernelspec": {
   "display_name": "Python 3 (ipykernel)",
   "language": "python",
   "name": "python3"
  },
  "language_info": {
   "codemirror_mode": {
    "name": "ipython",
    "version": 3
   },
   "file_extension": ".py",
   "mimetype": "text/x-python",
   "name": "python",
   "nbconvert_exporter": "python",
   "pygments_lexer": "ipython3",
   "version": "3.9.7"
  }
 },
 "nbformat": 4,
 "nbformat_minor": 4
}
