{
 "cells": [
  {
   "cell_type": "markdown",
   "metadata": {},
   "source": [
    "# Denison CS181/DA210 Homework 1.b - Step 2\n",
    "\n",
    "Before you turn this problem in, make sure everything runs as expected. This is a combination of **restarting the kernel** and then **running all cells** (in the menubar, select Kernel$\\rightarrow$Restart And Run All).\n",
    "\n",
    "Make sure you fill in any place that says `# YOUR CODE HERE` or \"YOUR ANSWER HERE\"."
   ]
  },
  {
   "cell_type": "markdown",
   "metadata": {},
   "source": [
    "---"
   ]
  },
  {
   "cell_type": "code",
   "execution_count": null,
   "metadata": {},
   "outputs": [],
   "source": [
    "import os\n",
    "import os.path\n",
    "import io\n",
    "import sys\n",
    "from contextlib import redirect_stdout"
   ]
  },
  {
   "cell_type": "markdown",
   "metadata": {},
   "source": [
    "## Instructions\n",
    "\n",
    "- Complete all the problems below by replacing the two-line sequence of `# YOUR CODE HERE` and `raise NotImplementedError()` with your solution code.\n",
    "- All functions that you define for homework **must have docstrings**."
   ]
  },
  {
   "cell_type": "markdown",
   "metadata": {},
   "source": [
    "---\n",
    "## Part A\n",
    "\n",
    "**Q1** Write a function that returns the square of the number $n$, if $n\\geq 1$, and returns 0 otherwise. "
   ]
  },
  {
   "cell_type": "code",
   "execution_count": null,
   "metadata": {
    "deletable": false,
    "nbgrader": {
     "cell_type": "code",
     "checksum": "5e42f399b8d273434ba59e5453abd8ad",
     "grade": false,
     "grade_id": "cell-bfb578e126c1b55f",
     "locked": false,
     "schema_version": 3,
     "solution": true,
     "task": false
    }
   },
   "outputs": [],
   "source": [
    "# Solution cell\n",
    "def square(n):\n",
    "    \"\"\"\n",
    "    Compute the square of the number n, or return 0 if less than 1.\n",
    "    \"\"\"\n",
    "    # YOUR CODE HERE\n",
    "    raise NotImplementedError()"
   ]
  },
  {
   "cell_type": "code",
   "execution_count": null,
   "metadata": {
    "deletable": false,
    "editable": false,
    "nbgrader": {
     "cell_type": "code",
     "checksum": "3ba131e8db23efb35595e5b5ade2bd19",
     "grade": true,
     "grade_id": "cell-c6379a4803420748",
     "locked": true,
     "points": 2,
     "schema_version": 3,
     "solution": false,
     "task": false
    }
   },
   "outputs": [],
   "source": [
    "# Testing cell\n",
    "assert square.__doc__ is not None # don't remove the docstring!\n",
    "\n",
    "\"\"\"Check that square returns the correct output for several inputs.\"\"\"\n",
    "assert square(10) == 100\n",
    "assert square(1) == 1\n",
    "assert square(2) == 4\n",
    "assert square(11) == 121\n",
    "\n",
    "\"\"\"Check that square returns None for invalid inputs.\"\"\"\n",
    "assert square(-1) == 0"
   ]
  },
  {
   "cell_type": "markdown",
   "metadata": {},
   "source": [
    "**Q2** Using your `square` function, write a function that computes the sum of the squares of the numbers from 1 to $n$. Your function should call the `square` function -- it should NOT reimplement its functionality."
   ]
  },
  {
   "cell_type": "code",
   "execution_count": null,
   "metadata": {
    "deletable": false,
    "nbgrader": {
     "cell_type": "code",
     "checksum": "1f268b5ba7c157b7b41736ebfb63950d",
     "grade": false,
     "grade_id": "cell-18bc2f28fbcc3eba",
     "locked": false,
     "schema_version": 3,
     "solution": true,
     "task": false
    }
   },
   "outputs": [],
   "source": [
    "def sum_of_squares(n):\n",
    "    \"\"\"\n",
    "    Compute the sum of the squares of numbers from 1 to n.\n",
    "    \"\"\"\n",
    "    # YOUR CODE HERE\n",
    "    raise NotImplementedError()"
   ]
  },
  {
   "cell_type": "code",
   "execution_count": null,
   "metadata": {
    "deletable": false,
    "editable": false,
    "nbgrader": {
     "cell_type": "code",
     "checksum": "0dd297fbfe941d271c7576ed7489ddaa",
     "grade": true,
     "grade_id": "cell-1706850a8a0c3286",
     "locked": true,
     "points": 1,
     "schema_version": 3,
     "solution": false,
     "task": false
    }
   },
   "outputs": [],
   "source": [
    "\"\"\"Check that sum_of_squares returns the correct answer for various inputs.\"\"\"\n",
    "assert sum_of_squares(1) == 1\n",
    "assert sum_of_squares(2) == 5\n",
    "assert sum_of_squares(10) == 385\n",
    "assert sum_of_squares(11) == 506"
   ]
  },
  {
   "cell_type": "code",
   "execution_count": null,
   "metadata": {
    "deletable": false,
    "editable": false,
    "nbgrader": {
     "cell_type": "code",
     "checksum": "f082db7a1048bf50e424f9b0c64953e6",
     "grade": true,
     "grade_id": "cell-4db891d69ac65ac4",
     "locked": true,
     "points": 1,
     "schema_version": 3,
     "solution": false,
     "task": false
    }
   },
   "outputs": [],
   "source": [
    "\"\"\"Check that sum_of_squares relies on square.\"\"\"\n",
    "orig_square = square\n",
    "del square\n",
    "try:\n",
    "    sum_of_squares(1)\n",
    "except NameError:\n",
    "    pass\n",
    "else:\n",
    "    raise AssertionError(\"sum_of_squares does not use square\")\n",
    "finally:\n",
    "    square = orig_square"
   ]
  },
  {
   "cell_type": "markdown",
   "metadata": {},
   "source": [
    "**Q3** Write a function `sum_of_evens` that only adds up the even numbers between 0 and the number $n$."
   ]
  },
  {
   "cell_type": "code",
   "execution_count": null,
   "metadata": {
    "deletable": false,
    "nbgrader": {
     "cell_type": "code",
     "checksum": "7bba0d4f8b711ea711f3b6f03024f760",
     "grade": false,
     "grade_id": "cell-9416b535d19fc949",
     "locked": false,
     "schema_version": 3,
     "solution": true,
     "task": false
    }
   },
   "outputs": [],
   "source": [
    "def sum_of_evens(n):\n",
    "    \"\"\"\n",
    "    Compute the sum of the even numbers from 0 to n.\n",
    "    \"\"\"\n",
    "    # YOUR CODE HERE\n",
    "    raise NotImplementedError()"
   ]
  },
  {
   "cell_type": "code",
   "execution_count": null,
   "metadata": {
    "deletable": false,
    "editable": false,
    "nbgrader": {
     "cell_type": "code",
     "checksum": "a1b5e19f22dc15590fbe0ded58dd27e0",
     "grade": true,
     "grade_id": "cell-d9c5a7f8882a8e91",
     "locked": true,
     "points": 1,
     "schema_version": 3,
     "solution": false,
     "task": false
    }
   },
   "outputs": [],
   "source": [
    "\"\"\"Check that sum_of_evens returns the correct answer for various inputs.\"\"\"\n",
    "assert sum_of_evens(1) == 0\n",
    "assert sum_of_evens(5) == 6\n",
    "assert sum_of_evens(10) == 30\n",
    "assert sum_of_evens(11) == 30"
   ]
  },
  {
   "cell_type": "markdown",
   "metadata": {},
   "source": [
    "**Q4** Describe a **different** way to implement `sum_of_evens()`."
   ]
  },
  {
   "cell_type": "markdown",
   "metadata": {
    "deletable": false,
    "nbgrader": {
     "cell_type": "markdown",
     "checksum": "7e8955af37a0a6ddcfa00619bbab6873",
     "grade": true,
     "grade_id": "cell-0083b8d23a14fc37",
     "locked": false,
     "points": 1,
     "schema_version": 3,
     "solution": true,
     "task": false
    }
   },
   "source": [
    "YOUR ANSWER HERE"
   ]
  },
  {
   "cell_type": "markdown",
   "metadata": {},
   "source": [
    "**Q5** Use three *different* ways to create three lists with the integer numbers 1 through 10, inclusive.  Use the variable names `myList1`, `myList2`, and `myList3` to hold the results."
   ]
  },
  {
   "cell_type": "code",
   "execution_count": null,
   "metadata": {
    "deletable": false,
    "nbgrader": {
     "cell_type": "code",
     "checksum": "6cd645dfff802a1a5903074a6a4bd5da",
     "grade": false,
     "grade_id": "cell-38d713dddb2b5cfe",
     "locked": false,
     "schema_version": 3,
     "solution": true,
     "task": false
    }
   },
   "outputs": [],
   "source": [
    "# YOUR CODE HERE\n",
    "raise NotImplementedError()"
   ]
  },
  {
   "cell_type": "markdown",
   "metadata": {},
   "source": [
    "**Q6** Write a function:\n",
    "\n",
    "```\n",
    "    mean(data)\n",
    "```\n",
    " \n",
    "that takes a list of numbers given by `data` and computes and returns the arithmetic mean of the values in the list.  Your function should work properly even if `data` is an empty list, and should return 0 in that case."
   ]
  },
  {
   "cell_type": "code",
   "execution_count": null,
   "metadata": {
    "deletable": false,
    "nbgrader": {
     "cell_type": "code",
     "checksum": "cccac96272e3fc4ad010112f12f8c151",
     "grade": false,
     "grade_id": "cell-a32002531e280bd3",
     "locked": false,
     "schema_version": 3,
     "solution": true,
     "task": false
    }
   },
   "outputs": [],
   "source": [
    "# YOUR CODE HERE\n",
    "raise NotImplementedError()"
   ]
  },
  {
   "cell_type": "code",
   "execution_count": null,
   "metadata": {
    "deletable": false,
    "editable": false,
    "nbgrader": {
     "cell_type": "code",
     "checksum": "4e315a09750398244bb0f65defeb26e7",
     "grade": true,
     "grade_id": "cell-ef96cd921bb7b67b",
     "locked": true,
     "points": 2,
     "schema_version": 3,
     "solution": false
    }
   },
   "outputs": [],
   "source": [
    "# Testing cell\n",
    "list1 = [3, 4, 7, 2]\n",
    "assert mean(list1) == 4\n",
    "list2 = []\n",
    "assert mean(list2) == 0"
   ]
  },
  {
   "cell_type": "markdown",
   "metadata": {
    "deletable": false,
    "editable": false,
    "nbgrader": {
     "cell_type": "markdown",
     "checksum": "2779f959a1baf1255baa68477a42d509",
     "grade": false,
     "grade_id": "cell-5511cc04854c54c9",
     "locked": true,
     "schema_version": 3,
     "solution": false
    }
   },
   "source": [
    "---\n",
    "## Part B\n",
    "\n",
    "**Q7** For the following questions, each answer should consist of a single\n",
    "`print` with a single argument--an expression involving the list `data`, which, for these questions, references the list `[32, 42, 11, 15, 58, 44, 16]`.\n",
    "\n",
    "Leave the code we give you \"as is\", and your print should be indented so that your solution becomes the body of the `with`.\n",
    "\n",
    "Print a list that includes all elements *except* the first element."
   ]
  },
  {
   "cell_type": "code",
   "execution_count": null,
   "metadata": {
    "deletable": false,
    "nbgrader": {
     "cell_type": "code",
     "checksum": "9f9b480786c25427f9ebdbeb54bd4f26",
     "grade": false,
     "grade_id": "cell-8f7be805bddd4762",
     "locked": false,
     "schema_version": 3,
     "solution": true
    }
   },
   "outputs": [],
   "source": [
    "data = [32, 42, 11, 15, 58, 44, 16]\n",
    "\n",
    "result = io.StringIO()\n",
    "with redirect_stdout(result):\n",
    "    # YOUR CODE HERE\n",
    "    raise NotImplementedError()"
   ]
  },
  {
   "cell_type": "code",
   "execution_count": null,
   "metadata": {
    "deletable": false,
    "editable": false,
    "nbgrader": {
     "cell_type": "code",
     "checksum": "3ad35bb327d4ca83591a2ab8a68aea1e",
     "grade": true,
     "grade_id": "cell-69e005cd46307fdb",
     "locked": true,
     "points": 1,
     "schema_version": 3,
     "solution": false
    }
   },
   "outputs": [],
   "source": [
    "# Testing cell\n",
    "assert result.getvalue() == \"[42, 11, 15, 58, 44, 16]\\n\""
   ]
  },
  {
   "cell_type": "markdown",
   "metadata": {},
   "source": [
    "**Q8** Print the length of the list `data`."
   ]
  },
  {
   "cell_type": "code",
   "execution_count": null,
   "metadata": {
    "deletable": false,
    "nbgrader": {
     "cell_type": "code",
     "checksum": "f5063869d4a77795bc5e0141d4ed7963",
     "grade": false,
     "grade_id": "cell-20ff0e0c86a745c9",
     "locked": false,
     "schema_version": 3,
     "solution": true
    }
   },
   "outputs": [],
   "source": [
    "data = [32, 42, 11, 15, 58, 44, 16]\n",
    "\n",
    "result = io.StringIO()\n",
    "with redirect_stdout(result):\n",
    "    # YOUR CODE HERE\n",
    "    raise NotImplementedError()"
   ]
  },
  {
   "cell_type": "code",
   "execution_count": null,
   "metadata": {
    "deletable": false,
    "editable": false,
    "nbgrader": {
     "cell_type": "code",
     "checksum": "0eadd5de442038e4af5b62f84ae091dd",
     "grade": true,
     "grade_id": "cell-a1a0a273991fb0a4",
     "locked": true,
     "points": 1,
     "schema_version": 3,
     "solution": false
    }
   },
   "outputs": [],
   "source": [
    "# Testing cell\n",
    "assert result.getvalue() == \"7\\n\""
   ]
  },
  {
   "cell_type": "markdown",
   "metadata": {},
   "source": [
    "**Q9** Print the third element of the list `data`."
   ]
  },
  {
   "cell_type": "code",
   "execution_count": null,
   "metadata": {
    "deletable": false,
    "nbgrader": {
     "cell_type": "code",
     "checksum": "63fcecabb20f813e5179b4b20a10959a",
     "grade": false,
     "grade_id": "cell-2769c568b2695d86",
     "locked": false,
     "schema_version": 3,
     "solution": true
    }
   },
   "outputs": [],
   "source": [
    "data = [32, 42, 11, 15, 58, 44, 16]\n",
    "\n",
    "result = io.StringIO()\n",
    "with redirect_stdout(result):\n",
    "    # YOUR CODE HERE\n",
    "    raise NotImplementedError()"
   ]
  },
  {
   "cell_type": "code",
   "execution_count": null,
   "metadata": {
    "deletable": false,
    "editable": false,
    "nbgrader": {
     "cell_type": "code",
     "checksum": "b4f59dd4de30210040f675836b8fe353",
     "grade": true,
     "grade_id": "cell-0f56edb5b71e8344",
     "locked": true,
     "points": 1,
     "schema_version": 3,
     "solution": false
    }
   },
   "outputs": [],
   "source": [
    "# Testing cell\n",
    "assert result.getvalue() == \"11\\n\""
   ]
  },
  {
   "cell_type": "markdown",
   "metadata": {},
   "source": [
    "**Q10** Print the last element of the list `data`."
   ]
  },
  {
   "cell_type": "code",
   "execution_count": null,
   "metadata": {
    "deletable": false,
    "nbgrader": {
     "cell_type": "code",
     "checksum": "32dd0a459a25ac06e4e6e3f7d4112a35",
     "grade": false,
     "grade_id": "cell-30bbcffba0b8be8d",
     "locked": false,
     "schema_version": 3,
     "solution": true
    }
   },
   "outputs": [],
   "source": [
    "data = [32, 42, 11, 15, 58, 44, 16]\n",
    "\n",
    "result = io.StringIO()\n",
    "with redirect_stdout(result):\n",
    "    # YOUR CODE HERE\n",
    "    raise NotImplementedError()"
   ]
  },
  {
   "cell_type": "code",
   "execution_count": null,
   "metadata": {
    "deletable": false,
    "editable": false,
    "nbgrader": {
     "cell_type": "code",
     "checksum": "a28e9a9d5fecf87f30035c358352f22b",
     "grade": true,
     "grade_id": "cell-35bde65789e0106e",
     "locked": true,
     "points": 1,
     "schema_version": 3,
     "solution": false
    }
   },
   "outputs": [],
   "source": [
    "# Testing cell\n",
    "assert result.getvalue() == \"16\\n\""
   ]
  },
  {
   "cell_type": "markdown",
   "metadata": {},
   "source": [
    "**Q11** Print a list containing the last four elements of `data`."
   ]
  },
  {
   "cell_type": "code",
   "execution_count": null,
   "metadata": {
    "deletable": false,
    "nbgrader": {
     "cell_type": "code",
     "checksum": "e57032807721d3a1bde7d2aab90e989c",
     "grade": false,
     "grade_id": "cell-ff997c6b4a2fc5eb",
     "locked": false,
     "schema_version": 3,
     "solution": true
    }
   },
   "outputs": [],
   "source": [
    "data = [32, 42, 11, 15, 58, 44, 16]\n",
    "\n",
    "result = io.StringIO()\n",
    "with redirect_stdout(result):\n",
    "    # YOUR CODE HERE\n",
    "    raise NotImplementedError()"
   ]
  },
  {
   "cell_type": "code",
   "execution_count": null,
   "metadata": {
    "deletable": false,
    "editable": false,
    "nbgrader": {
     "cell_type": "code",
     "checksum": "fa7af4bdae82f3ce11c73717e94debf1",
     "grade": true,
     "grade_id": "cell-b59a34979e5d93d7",
     "locked": true,
     "points": 1,
     "schema_version": 3,
     "solution": false
    }
   },
   "outputs": [],
   "source": [
    "# Testing cell\n",
    "assert result.getvalue() == \"[15, 58, 44, 16]\\n\""
   ]
  },
  {
   "cell_type": "markdown",
   "metadata": {},
   "source": [
    "---\n",
    "\n",
    "---\n",
    "## Part C\n",
    "\n",
    "How much time (in minutes/hours) did you spend on this homework assignment?"
   ]
  },
  {
   "cell_type": "markdown",
   "metadata": {},
   "source": [
    "YOUR ANSWER HERE"
   ]
  }
 ],
 "metadata": {
  "interpreter": {
   "hash": "3b1827d4b6462cc460901af0bc0d075c933010817877a813d51f78a107cbf6e5"
  },
  "kernelspec": {
   "display_name": "Python 3.8.6 64-bit",
   "name": "python3"
  },
  "language_info": {
   "codemirror_mode": {
    "name": "ipython",
    "version": 3
   },
   "file_extension": ".py",
   "mimetype": "text/x-python",
   "name": "python",
   "nbconvert_exporter": "python",
   "pygments_lexer": "ipython3",
   "version": "3.9.7"
  }
 },
 "nbformat": 4,
 "nbformat_minor": 4
}
