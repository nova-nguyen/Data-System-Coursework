{
 "cells": [
  {
   "cell_type": "markdown",
   "metadata": {},
   "source": [
    "# Denison CS181/DA210 Homework 5.c - Step 1\n",
    "\n",
    "Before you turn this problem in, make sure everything runs as expected. This is a combination of **restarting the kernel** and then **running all cells** (in the menubar, select Kernel$\\rightarrow$Restart And Run All).\n",
    "\n",
    "Make sure you fill in any place that says `# YOUR CODE HERE` or \"YOUR ANSWER HERE\"."
   ]
  },
  {
   "cell_type": "markdown",
   "metadata": {},
   "source": [
    "---"
   ]
  },
  {
   "cell_type": "code",
   "execution_count": null,
   "metadata": {},
   "outputs": [],
   "source": [
    "import os\n",
    "import os.path\n",
    "import sys\n",
    "import importlib\n",
    "import io\n",
    "import pandas as pd\n",
    "from lxml import etree\n",
    "\n",
    "if os.path.isdir(os.path.join(\"../../..\", \"modules\")):\n",
    "    module_dir = os.path.join(\"../../..\", \"modules\")\n",
    "else:\n",
    "    module_dir = os.path.join(\"../..\", \"modules\")\n",
    "\n",
    "module_path = os.path.abspath(module_dir)\n",
    "if not module_path in sys.path:\n",
    "    sys.path.append(module_path)\n",
    "\n",
    "import util\n",
    "importlib.reload(util)"
   ]
  },
  {
   "cell_type": "markdown",
   "metadata": {},
   "source": [
    "---\n",
    "\n",
    "## Part A: String Data and `io.StringIO()`\n",
    "\n",
    "**Q1:** Consider the following single Python string, `s`, composed over multiple continued lines:\n",
    "\n",
    "    s = \"Twilight and evening bell,\\n\" \\\n",
    "        \"And after that the dark!\\n\" \\\n",
    "        \"And may there be no sadness of farewell,\\n\" \\\n",
    "        \"When I embark;\\n\"\n",
    "\n",
    "First, write some code to deal with `s` as a string:\n",
    "\n",
    "- determine the length of `s`, assign to `len_s`\n",
    "- find the integer start and end indices (inclusive) of the substring `\"dark\"` within `s`, and assign to `dark_start`/`dark_end`\n",
    "- create string `s2` by replacing `\"embark\"` with `\"disembark\"`"
   ]
  },
  {
   "cell_type": "code",
   "execution_count": null,
   "metadata": {
    "deletable": false,
    "editable": false,
    "nbgrader": {
     "cell_type": "code",
     "checksum": "f2fd93d0e89b10bade86cff95b35d739",
     "grade": true,
     "grade_id": "cell-125cbee27c447392",
     "locked": true,
     "points": 2,
     "schema_version": 3,
     "solution": false,
     "task": false
    }
   },
   "outputs": [],
   "source": [
    "# Do not change this:\n",
    "s = \"Twilight and evening bell,\\n\" \\\n",
    "    \"And after that the dark!\\n\" \\\n",
    "    \"And may there be no sadness of farewell,\\n\" \\\n",
    "    \"When I embark;\\n\""
   ]
  },
  {
   "cell_type": "code",
   "execution_count": null,
   "metadata": {
    "deletable": false,
    "nbgrader": {
     "cell_type": "code",
     "checksum": "8c5aa5f46db2ef30705092d581601525",
     "grade": false,
     "grade_id": "cell-7af55ab11001c5ef",
     "locked": false,
     "schema_version": 3,
     "solution": true,
     "task": false
    }
   },
   "outputs": [],
   "source": [
    "# YOUR CODE HERE\n",
    "raise NotImplementedError()"
   ]
  },
  {
   "cell_type": "code",
   "execution_count": null,
   "metadata": {},
   "outputs": [],
   "source": [
    "# Debugging cell\n",
    "print(len_s)\n",
    "print(\"start:\", dark_start, \"end:\", dark_end, \"substring:\", s[dark_start:dark_end+1])\n",
    "print(\"length s2:\", len(s2))"
   ]
  },
  {
   "cell_type": "code",
   "execution_count": null,
   "metadata": {
    "deletable": false,
    "editable": false,
    "nbgrader": {
     "cell_type": "code",
     "checksum": "f2fd93d0e89b10bade86cff95b35d739",
     "grade": true,
     "grade_id": "cell-125cbee27c447392",
     "locked": true,
     "points": 2,
     "schema_version": 3,
     "solution": false,
     "task": false
    }
   },
   "outputs": [],
   "source": [
    "# Testing cell\n",
    "assert len_s == 108\n",
    "assert s[dark_start:dark_end+1] == \"dark\"\n",
    "assert len(s2) == 111\n",
    "assert \" embark\" not in s2\n",
    "assert \"disembark\" in s2"
   ]
  },
  {
   "cell_type": "markdown",
   "metadata": {},
   "source": [
    "**Q2:** The purpose of `io.StringIO()` is to create a file-like object from *any* string in a Python program.  The object created \"acts\" just like a file object obtained from an `open()` file would.\n",
    "\n",
    "Now, create a file-like object from `s` (the same multi-line string from the previous question), and perform a first `readline()`, assigning to variable `line1` and then write a `for` loop or list comprehension to use the file-like object as an iterator to accumulate into a list called `lines` a list of the remaining lines.  For each of the strings in `line1` and `lines`, make sure you omit any trailing newline."
   ]
  },
  {
   "cell_type": "code",
   "execution_count": null,
   "metadata": {},
   "outputs": [],
   "source": [
    "# YOUR CODE HERE\n",
    "raise NotImplementedError()"
   ]
  },
  {
   "cell_type": "code",
   "execution_count": null,
   "metadata": {},
   "outputs": [],
   "source": [
    "# Debugging cell\n",
    "print(line1)\n",
    "print(lines)\n",
    "\n",
    "print(len(line1))"
   ]
  },
  {
   "cell_type": "code",
   "execution_count": null,
   "metadata": {
    "deletable": false,
    "editable": false,
    "nbgrader": {
     "cell_type": "code",
     "checksum": "f2fd93d0e89b10bade86cff95b35d739",
     "grade": true,
     "grade_id": "cell-125cbee27c447392",
     "locked": true,
     "points": 2,
     "schema_version": 3,
     "solution": false,
     "task": false
    }
   },
   "outputs": [],
   "source": [
    "# Testing cell\n",
    "assert len(line1) == 26\n",
    "assert \"\\n\" not in line1\n",
    "assert len(lines) == 3\n",
    "assert \"\\n\" not in lines[0]\n",
    "assert lines[-1] == \"When I embark;\""
   ]
  },
  {
   "cell_type": "markdown",
   "metadata": {
    "deletable": false,
    "editable": false,
    "nbgrader": {
     "cell_type": "markdown",
     "checksum": "392f00d9a5031517ba860eafb22b47c8",
     "grade": false,
     "grade_id": "cell-c7302157b1568dc5",
     "locked": true,
     "schema_version": 3,
     "solution": false,
     "task": false
    }
   },
   "source": [
    "---\n",
    "\n",
    "## Part B: File from the Network\n",
    "\n",
    "The next set of exercises involve a file at resource path `/data/mystery3.dat` on host `datasystems.denison.edu`.  You can assume the file is textual, and is a tab-separated data collection where each line consists of:\n",
    "```\n",
    "    male_name <tab> male_count <tab> female_name <tab> female_count\n",
    "```\n",
    "for the top 10 name applications of each sex to the US Social Security Administration for the year 2015.\n",
    "\n",
    "For example, one line may be:\n",
    "\n",
    "```\n",
    "    Noah\\t19635\\tEmma\\t20455\\n\n",
    "```"
   ]
  },
  {
   "cell_type": "markdown",
   "metadata": {},
   "source": [
    "**Q3:** Write code to:\n",
    "\n",
    "- acquire the file from the web server\n",
    "- assign to `status_code` the status_code, and ensure that it is 200"
   ]
  },
  {
   "cell_type": "code",
   "execution_count": null,
   "metadata": {
    "deletable": false,
    "nbgrader": {
     "cell_type": "code",
     "checksum": "e7d6d070bf8146c863977bccc4e77164",
     "grade": false,
     "grade_id": "cell-4be125be19293b31",
     "locked": false,
     "schema_version": 3,
     "solution": true,
     "task": false
    }
   },
   "outputs": [],
   "source": [
    "import requests\n",
    "\n",
    "# YOUR CODE HERE\n",
    "raise NotImplementedError()"
   ]
  },
  {
   "cell_type": "code",
   "execution_count": null,
   "metadata": {
    "deletable": false,
    "editable": false,
    "nbgrader": {
     "cell_type": "code",
     "checksum": "7756a6774a7f3aa0c995f73492125c80",
     "grade": true,
     "grade_id": "cell-c7b0f0b8c66a829d",
     "locked": true,
     "points": 2,
     "schema_version": 3,
     "solution": false,
     "task": false
    }
   },
   "outputs": [],
   "source": [
    "# Testing cell\n",
    "assert status_code == 200"
   ]
  },
  {
   "cell_type": "markdown",
   "metadata": {},
   "source": [
    "**Q4:** Suppose the exact encoding of the file `mystery3.dat` is unknown, but it is one of the following:\n",
    "\n",
    "- 'UTF-8'\n",
    "- 'UTF-16BE'\n",
    "- 'UTF-16LE'\n",
    "- 'cp037'\n",
    "- 'latin_1'\n",
    "\n",
    "Write code to:\n",
    "\n",
    "- determine the *correct* encoding and assign to `real_encoding`\n",
    "- set the `.encoding` attribute of the response to `real_encoding`\n",
    "- assign to `tsv_body` the string text for the body of the response."
   ]
  },
  {
   "cell_type": "code",
   "execution_count": null,
   "metadata": {},
   "outputs": [],
   "source": [
    "# YOUR CODE HERE\n",
    "raise NotImplementedError()\n",
    "\n",
    "print(tsv_body)"
   ]
  },
  {
   "cell_type": "code",
   "execution_count": null,
   "metadata": {
    "deletable": false,
    "editable": false,
    "nbgrader": {
     "cell_type": "code",
     "checksum": "7756a6774a7f3aa0c995f73492125c80",
     "grade": true,
     "grade_id": "cell-c7b0f0b8c66a829d",
     "locked": true,
     "points": 2,
     "schema_version": 3,
     "solution": false,
     "task": false
    }
   },
   "outputs": [],
   "source": [
    "# Testing cell\n",
    "assert \"Noah\" in tsv_body"
   ]
  },
  {
   "cell_type": "markdown",
   "metadata": {},
   "source": [
    "**Q5:** In this question, you will start with a `string` and create a `DoL` representation of the data entailed in the string.\n",
    "\n",
    "It is suggested to use the result of the previous problem, `tsv_body` as the starting point.  But to start independently, you can use the following string literal constant assignment to get to the same starting point:\n",
    "```\n",
    "    tsv_body = \"Noah\\t19635\\tEmma\\t20455\\n\" \\\n",
    "               \"Liam\\t18374\\tOlivia\\t19691\\n\" \\\n",
    "               \"Mason\\t16627\\tSophia\\t17417\\n\" \\\n",
    "               \"Jacob\\t15949\\tAva\\t16378\\n\" \\\n",
    "               \"William\\t15909\\tIsabella\\t15617\\n\" \\\n",
    "               \"Ethan\\t15077\\tMia\\t14905\\n\" \\\n",
    "               \"James\\t14824\\tAbigail\\t12401\\n\" \\\n",
    "               \"Alexander\\t14547\\tEmily\\t11786\\n\" \\\n",
    "               \"Michael\\t14431\\tCharlotte\\t11398\\n\" \\\n",
    "               \"Benjamin\\t13700\\tHarper\\t10295\\n\"\n",
    "```\n",
    "Construct a file-like object from `tsv_body` and then use file object operations to create a dictionary of lists representation of the tab-separated data.  Note that there is no header line in the data, so you can name the columns `malename`, `malecount`, `femalename`, `femalecount`."
   ]
  },
  {
   "cell_type": "code",
   "execution_count": null,
   "metadata": {
    "deletable": false,
    "nbgrader": {
     "cell_type": "code",
     "checksum": "66fc42b4d5380f9596a691c954c9ea78",
     "grade": false,
     "grade_id": "cell-8e6f74a53dcbf0e9",
     "locked": false,
     "schema_version": 3,
     "solution": true,
     "task": false
    }
   },
   "outputs": [],
   "source": [
    "# YOUR CODE HERE\n",
    "raise NotImplementedError()"
   ]
  },
  {
   "cell_type": "code",
   "execution_count": null,
   "metadata": {
    "deletable": false,
    "editable": false,
    "nbgrader": {
     "cell_type": "code",
     "checksum": "943f19a53a35c60ed1538e9be35ad463",
     "grade": true,
     "grade_id": "cell-6378c904ae819202",
     "locked": true,
     "points": 1,
     "schema_version": 3,
     "solution": false,
     "task": false
    }
   },
   "outputs": [],
   "source": [
    "# Testing cell\n",
    "assert len(DoL['malename']) == 10\n",
    "assert DoL['malename'][0] == 'Noah'\n",
    "assert DoL['femalename'][9] == 'Harper'"
   ]
  },
  {
   "cell_type": "markdown",
   "metadata": {},
   "source": [
    "**Q6:** Use `pandas` to obtain a data frame named `df` by using a file-like object based on `tsv_body` and use `read_csv()`.  Name your resultant data frame `df`.  Make sure you have reasonable column names.\n",
    "\n",
    "Be careful to call `read_csv` so that the separators are tabs, not commas."
   ]
  },
  {
   "cell_type": "code",
   "execution_count": null,
   "metadata": {
    "deletable": false,
    "nbgrader": {
     "cell_type": "code",
     "checksum": "574ee630f368e1f38872a03a99add78f",
     "grade": false,
     "grade_id": "cell-3c3d6bac2b935136",
     "locked": false,
     "schema_version": 3,
     "solution": true,
     "task": false
    }
   },
   "outputs": [],
   "source": [
    "# YOUR CODE HERE\n",
    "raise NotImplementedError()\n",
    "\n",
    "df"
   ]
  },
  {
   "cell_type": "code",
   "execution_count": null,
   "metadata": {
    "deletable": false,
    "editable": false,
    "nbgrader": {
     "cell_type": "code",
     "checksum": "07e1288cd58965ac7ec68dde34a371cc",
     "grade": true,
     "grade_id": "cell-f5595d0d045d8f6e",
     "locked": true,
     "points": 2,
     "schema_version": 3,
     "solution": false,
     "task": false
    }
   },
   "outputs": [],
   "source": [
    "# Testing cell\n",
    "assert len(df) == 10\n",
    "assert isinstance(df.columns[0],str)\n",
    "assert df.iloc[0,0] == 'Noah'\n",
    "assert df.iloc[0,1] == 19635\n",
    "assert df.iloc[9,2] == 'Harper'\n",
    "assert df.iloc[9,3] == 10295"
   ]
  },
  {
   "cell_type": "markdown",
   "metadata": {},
   "source": [
    "---\n",
    "\n",
    "## Part C: XML Data from the Network\n",
    "\n",
    "In many of the following exercises, your task will be to use the Python `requests` module to make an HTTP request, and to obtain the *parsed* XML-based `ElementTree` structure from the result, assigning to variable `root` the root of the result.\n",
    "\n",
    "You must **always** check the status code returned from the request before further processing.  In some cases, we will ask for a specific method from among those demonstrated in the textbook section."
   ]
  },
  {
   "cell_type": "markdown",
   "metadata": {
    "deletable": false,
    "editable": false,
    "nbgrader": {
     "cell_type": "markdown",
     "checksum": "4d8118d32da061d0df31343bd082ae22",
     "grade": false,
     "grade_id": "cell-e1cb47c5d7b2dfd2",
     "locked": true,
     "schema_version": 3,
     "solution": false,
     "task": false
    }
   },
   "source": [
    "**Q7:** Using any method, get the XML data from `school0.xml`:\n",
    "```\n",
    "    https://datasystems.denison.edu/data/school0.xml\n",
    "```"
   ]
  },
  {
   "cell_type": "code",
   "execution_count": null,
   "metadata": {
    "deletable": false,
    "nbgrader": {
     "cell_type": "code",
     "checksum": "e4a719f7c0ceaf02fc938315df4db08a",
     "grade": false,
     "grade_id": "cell-44990515d3a7ff46",
     "locked": false,
     "schema_version": 3,
     "solution": true,
     "task": false
    }
   },
   "outputs": [],
   "source": [
    "# YOUR CODE HERE\n",
    "raise NotImplementedError()\n",
    "\n",
    "util.print_xml(root, nlines=12)"
   ]
  },
  {
   "cell_type": "code",
   "execution_count": null,
   "metadata": {
    "deletable": false,
    "editable": false,
    "nbgrader": {
     "cell_type": "code",
     "checksum": "97e0f884b236ae05f326890168a52c03",
     "grade": true,
     "grade_id": "cell-b38607585e9356f3",
     "locked": true,
     "points": 2,
     "schema_version": 3,
     "solution": false,
     "task": false
    }
   },
   "outputs": [],
   "source": [
    "# Testing cell\n",
    "assert root.tag == \"school\"\n",
    "assert len(root) == 3"
   ]
  },
  {
   "cell_type": "markdown",
   "metadata": {},
   "source": [
    "**Q8:** Using the bytes data in `.content`, a *file-like-object*, and `etree.parse()`, get the XML data from `school0.xml`."
   ]
  },
  {
   "cell_type": "code",
   "execution_count": null,
   "metadata": {
    "deletable": false,
    "nbgrader": {
     "cell_type": "code",
     "checksum": "c734952d46144b0c3f276bb85ec0d790",
     "grade": false,
     "grade_id": "cell-2a101731e1d15e91",
     "locked": false,
     "schema_version": 3,
     "solution": true,
     "task": false
    }
   },
   "outputs": [],
   "source": [
    "# YOUR CODE HERE\n",
    "raise NotImplementedError()\n",
    "\n",
    "util.print_xml(root, nlines=12)"
   ]
  },
  {
   "cell_type": "code",
   "execution_count": null,
   "metadata": {
    "deletable": false,
    "editable": false,
    "nbgrader": {
     "cell_type": "code",
     "checksum": "aa4d35e43e422346b808e78f463c6035",
     "grade": true,
     "grade_id": "cell-7dd6de64c3c283a6",
     "locked": true,
     "points": 2,
     "schema_version": 3,
     "solution": false,
     "task": false
    }
   },
   "outputs": [],
   "source": [
    "# Testing cell\n",
    "assert root.tag == \"school\"\n",
    "assert len(root) == 3"
   ]
  },
  {
   "cell_type": "markdown",
   "metadata": {},
   "source": [
    "**Q9:** The `school0_32.xml` resource is encoded with `utf-32be`.  Use the method of setting the `.encoding` attribute of the response and then accessing the `.text` string body, and using `fromstring()`.\n",
    "\n",
    "Note that `fromstring()` expects to start from an Element, not from the header line, so you will need to skip the header to get the string to pass."
   ]
  },
  {
   "cell_type": "code",
   "execution_count": null,
   "metadata": {
    "deletable": false,
    "nbgrader": {
     "cell_type": "code",
     "checksum": "76eab7ff4869bbf98366d008c9c56534",
     "grade": false,
     "grade_id": "cell-493b2d0830c02eae",
     "locked": false,
     "schema_version": 3,
     "solution": true,
     "task": false
    }
   },
   "outputs": [],
   "source": [
    "# YOUR CODE HERE\n",
    "raise NotImplementedError()\n",
    "\n",
    "util.print_xml(root, nlines=12)"
   ]
  },
  {
   "cell_type": "code",
   "execution_count": null,
   "metadata": {
    "deletable": false,
    "editable": false,
    "nbgrader": {
     "cell_type": "code",
     "checksum": "12225fd6c98ff51f3c5b196f12931668",
     "grade": true,
     "grade_id": "cell-2ff200546e2864d1",
     "locked": true,
     "points": 2,
     "schema_version": 3,
     "solution": false,
     "task": false
    }
   },
   "outputs": [],
   "source": [
    "# Testing cell\n",
    "assert root.tag == \"school\"\n",
    "assert len(root) == 3"
   ]
  },
  {
   "cell_type": "markdown",
   "metadata": {},
   "source": [
    "---\n",
    "\n",
    "---\n",
    "\n",
    "## Part D\n",
    "\n",
    "**Q10:** How much time (in minutes/hours) did you spend on this homework assignment?"
   ]
  },
  {
   "cell_type": "markdown",
   "metadata": {},
   "source": [
    "YOUR ANSWER HERE"
   ]
  },
  {
   "cell_type": "markdown",
   "metadata": {},
   "source": [
    "**Q11:** Who was your partner for this assignment?  If you worked alone, say so instead."
   ]
  },
  {
   "cell_type": "markdown",
   "metadata": {},
   "source": [
    "YOUR ANSWER HERE"
   ]
  }
 ],
 "metadata": {
  "kernelspec": {
   "display_name": "Python 3",
   "language": "python",
   "name": "python3"
  },
  "language_info": {
   "codemirror_mode": {
    "name": "ipython",
    "version": 3
   },
   "file_extension": ".py",
   "mimetype": "text/x-python",
   "name": "python",
   "nbconvert_exporter": "python",
   "pygments_lexer": "ipython3",
   "version": "3.9.7"
  }
 },
 "nbformat": 4,
 "nbformat_minor": 4
}
