{
 "cells": [
  {
   "cell_type": "markdown",
   "metadata": {},
   "source": [
    "# Denison CS181/DA210 Homework 5.c - Step 1\n",
    "\n",
    "Before you turn this problem in, make sure everything runs as expected. This is a combination of **restarting the kernel** and then **running all cells** (in the menubar, select Kernel$\\rightarrow$Restart And Run All).\n",
    "\n",
    "Make sure you fill in any place that says `# YOUR CODE HERE` or \"YOUR ANSWER HERE\"."
   ]
  },
  {
   "cell_type": "markdown",
   "metadata": {},
   "source": [
    "---"
   ]
  },
  {
   "cell_type": "code",
   "execution_count": 3,
   "metadata": {},
   "outputs": [
    {
     "data": {
      "text/plain": [
       "<module 'util' from 'C:\\\\Users\\\\ngana\\\\Documents\\\\SPRING2022\\\\CS181\\\\cs181-s22\\\\modules\\\\util.py'>"
      ]
     },
     "execution_count": 3,
     "metadata": {},
     "output_type": "execute_result"
    }
   ],
   "source": [
    "import os\n",
    "import os.path\n",
    "import sys\n",
    "import importlib\n",
    "import io\n",
    "import pandas as pd\n",
    "from lxml import etree\n",
    "\n",
    "if os.path.isdir(os.path.join(\"../../..\", \"modules\")):\n",
    "    module_dir = os.path.join(\"../../..\", \"modules\")\n",
    "else:\n",
    "    module_dir = os.path.join(\"../..\", \"modules\")\n",
    "\n",
    "module_path = os.path.abspath(module_dir)\n",
    "if not module_path in sys.path:\n",
    "    sys.path.append(module_path)\n",
    "\n",
    "import util\n",
    "importlib.reload(util)"
   ]
  },
  {
   "cell_type": "markdown",
   "metadata": {},
   "source": [
    "---\n",
    "\n",
    "## Part A: String Data and `io.StringIO()`\n",
    "\n",
    "**Q1:** Consider the following single Python string, `s`, composed over multiple continued lines:\n",
    "\n",
    "    s = \"Twilight and evening bell,\\n\" \\\n",
    "        \"And after that the dark!\\n\" \\\n",
    "        \"And may there be no sadness of farewell,\\n\" \\\n",
    "        \"When I embark;\\n\"\n",
    "\n",
    "First, write some code to deal with `s` as a string:\n",
    "\n",
    "- determine the length of `s`, assign to `len_s`\n",
    "- find the integer start and end indices (inclusive) of the substring `\"dark\"` within `s`, and assign to `dark_start`/`dark_end`\n",
    "- create string `s2` by replacing `\"embark\"` with `\"disembark\"`"
   ]
  },
  {
   "cell_type": "code",
   "execution_count": 4,
   "metadata": {
    "deletable": false,
    "editable": false,
    "nbgrader": {
     "cell_type": "code",
     "checksum": "f2fd93d0e89b10bade86cff95b35d739",
     "grade": true,
     "grade_id": "cell-125cbee27c447392",
     "locked": true,
     "points": 2,
     "schema_version": 3,
     "solution": false,
     "task": false
    }
   },
   "outputs": [],
   "source": [
    "# Do not change this:\n",
    "s = \"Twilight and evening bell,\\n\" \\\n",
    "    \"And after that the dark!\\n\" \\\n",
    "    \"And may there be no sadness of farewell,\\n\" \\\n",
    "    \"When I embark;\\n\""
   ]
  },
  {
   "cell_type": "code",
   "execution_count": 20,
   "metadata": {
    "deletable": false,
    "nbgrader": {
     "cell_type": "code",
     "checksum": "8c5aa5f46db2ef30705092d581601525",
     "grade": false,
     "grade_id": "cell-7af55ab11001c5ef",
     "locked": false,
     "schema_version": 3,
     "solution": true,
     "task": false
    }
   },
   "outputs": [],
   "source": [
    "len_s = len(s)\n",
    "dark_start = s.find('dark')\n",
    "dark_end = dark_start + 3\n",
    "s2 = s[:-8] + \"disembark\" + s[-2:]"
   ]
  },
  {
   "cell_type": "code",
   "execution_count": 21,
   "metadata": {},
   "outputs": [
    {
     "name": "stdout",
     "output_type": "stream",
     "text": [
      "108\n",
      "start: 46 end: 49 substring: dark\n",
      "length s2: 111\n"
     ]
    }
   ],
   "source": [
    "# Debugging cell\n",
    "print(len_s)\n",
    "print(\"start:\", dark_start, \"end:\", dark_end, \"substring:\", s[dark_start:dark_end+1])\n",
    "print(\"length s2:\", len(s2))"
   ]
  },
  {
   "cell_type": "code",
   "execution_count": 22,
   "metadata": {
    "deletable": false,
    "editable": false,
    "nbgrader": {
     "cell_type": "code",
     "checksum": "f2fd93d0e89b10bade86cff95b35d739",
     "grade": true,
     "grade_id": "cell-125cbee27c447392",
     "locked": true,
     "points": 2,
     "schema_version": 3,
     "solution": false,
     "task": false
    }
   },
   "outputs": [],
   "source": [
    "# Testing cell\n",
    "assert len_s == 108\n",
    "assert s[dark_start:dark_end+1] == \"dark\"\n",
    "assert len(s2) == 111\n",
    "assert \" embark\" not in s2\n",
    "assert \"disembark\" in s2"
   ]
  },
  {
   "cell_type": "markdown",
   "metadata": {},
   "source": [
    "**Q2:** The purpose of `io.StringIO()` is to create a file-like object from *any* string in a Python program.  The object created \"acts\" just like a file object obtained from an `open()` file would.\n",
    "\n",
    "Now, create a file-like object from `s` (the same multi-line string from the previous question), and perform a first `readline()`, assigning to variable `line1` and then write a `for` loop or list comprehension to use the file-like object as an iterator to accumulate into a list called `lines` a list of the remaining lines.  For each of the strings in `line1` and `lines`, make sure you omit any trailing newline."
   ]
  },
  {
   "cell_type": "code",
   "execution_count": 33,
   "metadata": {},
   "outputs": [],
   "source": [
    "s_file = io.StringIO(s)\n",
    "line1 = s_file.readline().strip()\n",
    "lines = [line.strip() for line in s_file.readlines()]"
   ]
  },
  {
   "cell_type": "code",
   "execution_count": 34,
   "metadata": {},
   "outputs": [
    {
     "name": "stdout",
     "output_type": "stream",
     "text": [
      "Twilight and evening bell,\n",
      "['And after that the dark!', 'And may there be no sadness of farewell,', 'When I embark;']\n",
      "26\n"
     ]
    }
   ],
   "source": [
    "# Debugging cell\n",
    "print(line1)\n",
    "print(lines)\n",
    "\n",
    "print(len(line1))"
   ]
  },
  {
   "cell_type": "code",
   "execution_count": 35,
   "metadata": {
    "deletable": false,
    "editable": false,
    "nbgrader": {
     "cell_type": "code",
     "checksum": "f2fd93d0e89b10bade86cff95b35d739",
     "grade": true,
     "grade_id": "cell-125cbee27c447392",
     "locked": true,
     "points": 2,
     "schema_version": 3,
     "solution": false,
     "task": false
    }
   },
   "outputs": [],
   "source": [
    "# Testing cell\n",
    "assert len(line1) == 26\n",
    "assert \"\\n\" not in line1\n",
    "assert len(lines) == 3\n",
    "assert \"\\n\" not in lines[0]\n",
    "assert lines[-1] == \"When I embark;\""
   ]
  },
  {
   "cell_type": "markdown",
   "metadata": {
    "deletable": false,
    "editable": false,
    "nbgrader": {
     "cell_type": "markdown",
     "checksum": "392f00d9a5031517ba860eafb22b47c8",
     "grade": false,
     "grade_id": "cell-c7302157b1568dc5",
     "locked": true,
     "schema_version": 3,
     "solution": false,
     "task": false
    }
   },
   "source": [
    "---\n",
    "\n",
    "## Part B: File from the Network\n",
    "\n",
    "The next set of exercises involve a file at resource path `/data/mystery3.dat` on host `datasystems.denison.edu`.  You can assume the file is textual, and is a tab-separated data collection where each line consists of:\n",
    "```\n",
    "    male_name <tab> male_count <tab> female_name <tab> female_count\n",
    "```\n",
    "for the top 10 name applications of each sex to the US Social Security Administration for the year 2015.\n",
    "\n",
    "For example, one line may be:\n",
    "\n",
    "```\n",
    "    Noah\\t19635\\tEmma\\t20455\\n\n",
    "```"
   ]
  },
  {
   "cell_type": "markdown",
   "metadata": {},
   "source": [
    "**Q3:** Write code to:\n",
    "\n",
    "- acquire the file from the web server\n",
    "- assign to `status_code` the status_code, and ensure that it is 200"
   ]
  },
  {
   "cell_type": "code",
   "execution_count": 92,
   "metadata": {
    "deletable": false,
    "nbgrader": {
     "cell_type": "code",
     "checksum": "e7d6d070bf8146c863977bccc4e77164",
     "grade": false,
     "grade_id": "cell-4be125be19293b31",
     "locked": false,
     "schema_version": 3,
     "solution": true,
     "task": false
    }
   },
   "outputs": [],
   "source": [
    "import requests\n",
    "\n",
    "def buildURL(location, resource, protocol='http'):\n",
    "    temp = location + resource\n",
    "    if location[-1] != '/' and resource[0] != '/':\n",
    "        temp = location + '/' + resource\n",
    "    url = '{}{}'.format(protocol + \"://\", temp)\n",
    "    return url\n",
    "\n",
    "resource = \"/data/mystery3.dat\"\n",
    "location = \"datasystems.denison.edu\"\n",
    "\n",
    "url = buildURL(location, resource)\n",
    "response = requests.get(url)\n",
    "request = response.request\n",
    "\n",
    "status_code = response.status_code"
   ]
  },
  {
   "cell_type": "code",
   "execution_count": 93,
   "metadata": {
    "deletable": false,
    "editable": false,
    "nbgrader": {
     "cell_type": "code",
     "checksum": "7756a6774a7f3aa0c995f73492125c80",
     "grade": true,
     "grade_id": "cell-c7b0f0b8c66a829d",
     "locked": true,
     "points": 2,
     "schema_version": 3,
     "solution": false,
     "task": false
    }
   },
   "outputs": [],
   "source": [
    "# Testing cell\n",
    "assert status_code == 200"
   ]
  },
  {
   "cell_type": "markdown",
   "metadata": {},
   "source": [
    "**Q4:** Suppose the exact encoding of the file `mystery3.dat` is unknown, but it is one of the following:\n",
    "\n",
    "- 'UTF-8'\n",
    "- 'UTF-16BE'\n",
    "- 'UTF-16LE'\n",
    "- 'cp037'\n",
    "- 'latin_1'\n",
    "\n",
    "Write code to:\n",
    "\n",
    "- determine the *correct* encoding and assign to `real_encoding`\n",
    "- set the `.encoding` attribute of the response to `real_encoding`\n",
    "- assign to `tsv_body` the string text for the body of the response."
   ]
  },
  {
   "cell_type": "code",
   "execution_count": 99,
   "metadata": {},
   "outputs": [
    {
     "name": "stdout",
     "output_type": "stream",
     "text": [
      "Noah\t19635\tEmma\t20455\n",
      "Liam\t18374\tOlivia\t19691\n",
      "Mason\t16627\tSophia\t17417\n",
      "Jacob\t15949\tAva\t16378\n",
      "William\t15909\tIsabella\t15617\n",
      "Ethan\t15077\tMia\t14905\n",
      "James\t14824\tAbigail\t12401\n",
      "Alexander\t14547\tEmily\t11786\n",
      "Michael\t14431\tCharlotte\t11398\n",
      "Benjamin\t13700\tHarper\t10295\n",
      "\n"
     ]
    }
   ],
   "source": [
    "real_encoding = 'cp037'\n",
    "response.encoding = real_encoding\n",
    "\n",
    "tsv_body = response.text\n",
    "\n",
    "print(tsv_body)"
   ]
  },
  {
   "cell_type": "code",
   "execution_count": 100,
   "metadata": {
    "deletable": false,
    "editable": false,
    "nbgrader": {
     "cell_type": "code",
     "checksum": "7756a6774a7f3aa0c995f73492125c80",
     "grade": true,
     "grade_id": "cell-c7b0f0b8c66a829d",
     "locked": true,
     "points": 2,
     "schema_version": 3,
     "solution": false,
     "task": false
    }
   },
   "outputs": [],
   "source": [
    "# Testing cell\n",
    "assert \"Noah\" in tsv_body"
   ]
  },
  {
   "cell_type": "markdown",
   "metadata": {},
   "source": [
    "**Q5:** In this question, you will start with a `string` and create a `DoL` representation of the data entailed in the string.\n",
    "\n",
    "It is suggested to use the result of the previous problem, `tsv_body` as the starting point.  But to start independently, you can use the following string literal constant assignment to get to the same starting point:\n",
    "```\n",
    "    tsv_body = \"Noah\\t19635\\tEmma\\t20455\\n\" \\\n",
    "               \"Liam\\t18374\\tOlivia\\t19691\\n\" \\\n",
    "               \"Mason\\t16627\\tSophia\\t17417\\n\" \\\n",
    "               \"Jacob\\t15949\\tAva\\t16378\\n\" \\\n",
    "               \"William\\t15909\\tIsabella\\t15617\\n\" \\\n",
    "               \"Ethan\\t15077\\tMia\\t14905\\n\" \\\n",
    "               \"James\\t14824\\tAbigail\\t12401\\n\" \\\n",
    "               \"Alexander\\t14547\\tEmily\\t11786\\n\" \\\n",
    "               \"Michael\\t14431\\tCharlotte\\t11398\\n\" \\\n",
    "               \"Benjamin\\t13700\\tHarper\\t10295\\n\"\n",
    "```\n",
    "Construct a file-like object from `tsv_body` and then use file object operations to create a dictionary of lists representation of the tab-separated data.  Note that there is no header line in the data, so you can name the columns `malename`, `malecount`, `femalename`, `femalecount`."
   ]
  },
  {
   "cell_type": "code",
   "execution_count": 50,
   "metadata": {
    "deletable": false,
    "nbgrader": {
     "cell_type": "code",
     "checksum": "66fc42b4d5380f9596a691c954c9ea78",
     "grade": false,
     "grade_id": "cell-8e6f74a53dcbf0e9",
     "locked": false,
     "schema_version": 3,
     "solution": true,
     "task": false
    }
   },
   "outputs": [],
   "source": [
    "tsv_body = \"Noah\\t19635\\tEmma\\t20455\\n\" \\\n",
    "               \"Liam\\t18374\\tOlivia\\t19691\\n\" \\\n",
    "               \"Mason\\t16627\\tSophia\\t17417\\n\" \\\n",
    "               \"Jacob\\t15949\\tAva\\t16378\\n\" \\\n",
    "               \"William\\t15909\\tIsabella\\t15617\\n\" \\\n",
    "               \"Ethan\\t15077\\tMia\\t14905\\n\" \\\n",
    "               \"James\\t14824\\tAbigail\\t12401\\n\" \\\n",
    "               \"Alexander\\t14547\\tEmily\\t11786\\n\" \\\n",
    "               \"Michael\\t14431\\tCharlotte\\t11398\\n\" \\\n",
    "               \"Benjamin\\t13700\\tHarper\\t10295\\n\"\n",
    "\n",
    "tsv_file = io.StringIO(tsv_body)\n",
    "tsv_lines = [line.strip().split('\\t') for line in tsv_file]\n",
    "DoL = {'malename': [item[0] for item in tsv_lines],\n",
    "       'malecount': [item[1] for item in tsv_lines],\n",
    "       'femalename': [item[2] for item in tsv_lines],\n",
    "       'femalecount': [item[3] for item in tsv_lines]}"
   ]
  },
  {
   "cell_type": "code",
   "execution_count": 51,
   "metadata": {
    "deletable": false,
    "editable": false,
    "nbgrader": {
     "cell_type": "code",
     "checksum": "943f19a53a35c60ed1538e9be35ad463",
     "grade": true,
     "grade_id": "cell-6378c904ae819202",
     "locked": true,
     "points": 1,
     "schema_version": 3,
     "solution": false,
     "task": false
    }
   },
   "outputs": [],
   "source": [
    "# Testing cell\n",
    "assert len(DoL['malename']) == 10\n",
    "assert DoL['malename'][0] == 'Noah'\n",
    "assert DoL['femalename'][9] == 'Harper'"
   ]
  },
  {
   "cell_type": "markdown",
   "metadata": {},
   "source": [
    "**Q6:** Use `pandas` to obtain a data frame named `df` by using a file-like object based on `tsv_body` and use `read_csv()`.  Name your resultant data frame `df`.  Make sure you have reasonable column names.\n",
    "\n",
    "Be careful to call `read_csv` so that the separators are tabs, not commas."
   ]
  },
  {
   "cell_type": "code",
   "execution_count": 54,
   "metadata": {
    "deletable": false,
    "nbgrader": {
     "cell_type": "code",
     "checksum": "574ee630f368e1f38872a03a99add78f",
     "grade": false,
     "grade_id": "cell-3c3d6bac2b935136",
     "locked": false,
     "schema_version": 3,
     "solution": true,
     "task": false
    }
   },
   "outputs": [
    {
     "data": {
      "text/html": [
       "<div>\n",
       "<style scoped>\n",
       "    .dataframe tbody tr th:only-of-type {\n",
       "        vertical-align: middle;\n",
       "    }\n",
       "\n",
       "    .dataframe tbody tr th {\n",
       "        vertical-align: top;\n",
       "    }\n",
       "\n",
       "    .dataframe thead th {\n",
       "        text-align: right;\n",
       "    }\n",
       "</style>\n",
       "<table border=\"1\" class=\"dataframe\">\n",
       "  <thead>\n",
       "    <tr style=\"text-align: right;\">\n",
       "      <th></th>\n",
       "      <th>malename</th>\n",
       "      <th>malecount</th>\n",
       "      <th>femalename</th>\n",
       "      <th>femalecount</th>\n",
       "    </tr>\n",
       "  </thead>\n",
       "  <tbody>\n",
       "    <tr>\n",
       "      <th>0</th>\n",
       "      <td>Noah</td>\n",
       "      <td>19635</td>\n",
       "      <td>Emma</td>\n",
       "      <td>20455</td>\n",
       "    </tr>\n",
       "    <tr>\n",
       "      <th>1</th>\n",
       "      <td>Liam</td>\n",
       "      <td>18374</td>\n",
       "      <td>Olivia</td>\n",
       "      <td>19691</td>\n",
       "    </tr>\n",
       "    <tr>\n",
       "      <th>2</th>\n",
       "      <td>Mason</td>\n",
       "      <td>16627</td>\n",
       "      <td>Sophia</td>\n",
       "      <td>17417</td>\n",
       "    </tr>\n",
       "    <tr>\n",
       "      <th>3</th>\n",
       "      <td>Jacob</td>\n",
       "      <td>15949</td>\n",
       "      <td>Ava</td>\n",
       "      <td>16378</td>\n",
       "    </tr>\n",
       "    <tr>\n",
       "      <th>4</th>\n",
       "      <td>William</td>\n",
       "      <td>15909</td>\n",
       "      <td>Isabella</td>\n",
       "      <td>15617</td>\n",
       "    </tr>\n",
       "    <tr>\n",
       "      <th>5</th>\n",
       "      <td>Ethan</td>\n",
       "      <td>15077</td>\n",
       "      <td>Mia</td>\n",
       "      <td>14905</td>\n",
       "    </tr>\n",
       "    <tr>\n",
       "      <th>6</th>\n",
       "      <td>James</td>\n",
       "      <td>14824</td>\n",
       "      <td>Abigail</td>\n",
       "      <td>12401</td>\n",
       "    </tr>\n",
       "    <tr>\n",
       "      <th>7</th>\n",
       "      <td>Alexander</td>\n",
       "      <td>14547</td>\n",
       "      <td>Emily</td>\n",
       "      <td>11786</td>\n",
       "    </tr>\n",
       "    <tr>\n",
       "      <th>8</th>\n",
       "      <td>Michael</td>\n",
       "      <td>14431</td>\n",
       "      <td>Charlotte</td>\n",
       "      <td>11398</td>\n",
       "    </tr>\n",
       "    <tr>\n",
       "      <th>9</th>\n",
       "      <td>Benjamin</td>\n",
       "      <td>13700</td>\n",
       "      <td>Harper</td>\n",
       "      <td>10295</td>\n",
       "    </tr>\n",
       "  </tbody>\n",
       "</table>\n",
       "</div>"
      ],
      "text/plain": [
       "    malename  malecount femalename  femalecount\n",
       "0       Noah      19635       Emma        20455\n",
       "1       Liam      18374     Olivia        19691\n",
       "2      Mason      16627     Sophia        17417\n",
       "3      Jacob      15949        Ava        16378\n",
       "4    William      15909   Isabella        15617\n",
       "5      Ethan      15077        Mia        14905\n",
       "6      James      14824    Abigail        12401\n",
       "7  Alexander      14547      Emily        11786\n",
       "8    Michael      14431  Charlotte        11398\n",
       "9   Benjamin      13700     Harper        10295"
      ]
     },
     "execution_count": 54,
     "metadata": {},
     "output_type": "execute_result"
    }
   ],
   "source": [
    "df = pd.read_csv(io.StringIO(tsv_body), delimiter='\\t', names = ['malename', 'malecount', 'femalename', 'femalecount'])\n",
    "\n",
    "df"
   ]
  },
  {
   "cell_type": "code",
   "execution_count": 55,
   "metadata": {
    "deletable": false,
    "editable": false,
    "nbgrader": {
     "cell_type": "code",
     "checksum": "07e1288cd58965ac7ec68dde34a371cc",
     "grade": true,
     "grade_id": "cell-f5595d0d045d8f6e",
     "locked": true,
     "points": 2,
     "schema_version": 3,
     "solution": false,
     "task": false
    }
   },
   "outputs": [],
   "source": [
    "# Testing cell\n",
    "assert len(df) == 10\n",
    "assert isinstance(df.columns[0],str)\n",
    "assert df.iloc[0,0] == 'Noah'\n",
    "assert df.iloc[0,1] == 19635\n",
    "assert df.iloc[9,2] == 'Harper'\n",
    "assert df.iloc[9,3] == 10295"
   ]
  },
  {
   "cell_type": "markdown",
   "metadata": {},
   "source": [
    "---\n",
    "\n",
    "## Part C: XML Data from the Network\n",
    "\n",
    "In many of the following exercises, your task will be to use the Python `requests` module to make an HTTP request, and to obtain the *parsed* XML-based `ElementTree` structure from the result, assigning to variable `root` the root of the result.\n",
    "\n",
    "You must **always** check the status code returned from the request before further processing.  In some cases, we will ask for a specific method from among those demonstrated in the textbook section."
   ]
  },
  {
   "cell_type": "markdown",
   "metadata": {
    "deletable": false,
    "editable": false,
    "nbgrader": {
     "cell_type": "markdown",
     "checksum": "4d8118d32da061d0df31343bd082ae22",
     "grade": false,
     "grade_id": "cell-e1cb47c5d7b2dfd2",
     "locked": true,
     "schema_version": 3,
     "solution": false,
     "task": false
    }
   },
   "source": [
    "**Q7:** Using any method, get the XML data from `school0.xml`:\n",
    "```\n",
    "    https://datasystems.denison.edu/data/school0.xml\n",
    "```"
   ]
  },
  {
   "cell_type": "code",
   "execution_count": 62,
   "metadata": {
    "deletable": false,
    "nbgrader": {
     "cell_type": "code",
     "checksum": "e4a719f7c0ceaf02fc938315df4db08a",
     "grade": false,
     "grade_id": "cell-44990515d3a7ff46",
     "locked": false,
     "schema_version": 3,
     "solution": true,
     "task": false
    }
   },
   "outputs": [
    {
     "name": "stdout",
     "output_type": "stream",
     "text": [
      "<school>\n",
      "  <departments>\n",
      "    <department id=\"CINE\">\n",
      "      <name>Cinema</name>\n",
      "      <division>Fine Arts</division>\n",
      "      <chair id=\"9042\">\n",
      "        <lastname>Rice</lastname>\n",
      "        <firstname>Theresa</firstname>\n",
      "      </chair>\n",
      "    </department>\n",
      "    <department id=\"MATH\">\n",
      "      <name>Mathematics &amp; Computer Science</name>\n"
     ]
    }
   ],
   "source": [
    "resource = \"/data/school0.xml\"\n",
    "location = \"datasystems.denison.edu\"\n",
    "\n",
    "url = buildURL(location, resource)\n",
    "response = requests.get(url)\n",
    "request = response.request\n",
    "\n",
    "status_code = response.status_code\n",
    "assert status_code == 200\n",
    "\n",
    "tree = etree.parse(io.BytesIO(response.content))\n",
    "root = tree.getroot()\n",
    "\n",
    "util.print_xml(root, nlines=12)"
   ]
  },
  {
   "cell_type": "code",
   "execution_count": 63,
   "metadata": {
    "deletable": false,
    "editable": false,
    "nbgrader": {
     "cell_type": "code",
     "checksum": "97e0f884b236ae05f326890168a52c03",
     "grade": true,
     "grade_id": "cell-b38607585e9356f3",
     "locked": true,
     "points": 2,
     "schema_version": 3,
     "solution": false,
     "task": false
    }
   },
   "outputs": [],
   "source": [
    "# Testing cell\n",
    "assert root.tag == \"school\"\n",
    "assert len(root) == 3"
   ]
  },
  {
   "cell_type": "markdown",
   "metadata": {},
   "source": [
    "**Q8:** Using the bytes data in `.content`, a *file-like-object*, and `etree.parse()`, get the XML data from `school0.xml`."
   ]
  },
  {
   "cell_type": "code",
   "execution_count": 64,
   "metadata": {
    "deletable": false,
    "nbgrader": {
     "cell_type": "code",
     "checksum": "c734952d46144b0c3f276bb85ec0d790",
     "grade": false,
     "grade_id": "cell-2a101731e1d15e91",
     "locked": false,
     "schema_version": 3,
     "solution": true,
     "task": false
    }
   },
   "outputs": [
    {
     "name": "stdout",
     "output_type": "stream",
     "text": [
      "<school>\n",
      "  <departments>\n",
      "    <department id=\"CINE\">\n",
      "      <name>Cinema</name>\n",
      "      <division>Fine Arts</division>\n",
      "      <chair id=\"9042\">\n",
      "        <lastname>Rice</lastname>\n",
      "        <firstname>Theresa</firstname>\n",
      "      </chair>\n",
      "    </department>\n",
      "    <department id=\"MATH\">\n",
      "      <name>Mathematics &amp; Computer Science</name>\n"
     ]
    }
   ],
   "source": [
    "tree = etree.parse(io.BytesIO(response.content))\n",
    "root = tree.getroot()\n",
    "\n",
    "util.print_xml(root, nlines=12)"
   ]
  },
  {
   "cell_type": "code",
   "execution_count": 65,
   "metadata": {
    "deletable": false,
    "editable": false,
    "nbgrader": {
     "cell_type": "code",
     "checksum": "aa4d35e43e422346b808e78f463c6035",
     "grade": true,
     "grade_id": "cell-7dd6de64c3c283a6",
     "locked": true,
     "points": 2,
     "schema_version": 3,
     "solution": false,
     "task": false
    }
   },
   "outputs": [],
   "source": [
    "# Testing cell\n",
    "assert root.tag == \"school\"\n",
    "assert len(root) == 3"
   ]
  },
  {
   "cell_type": "markdown",
   "metadata": {},
   "source": [
    "**Q9:** The `school0_32.xml` resource is encoded with `utf-32be`.  Use the method of setting the `.encoding` attribute of the response and then accessing the `.text` string body, and using `fromstring()`.\n",
    "\n",
    "Note that `fromstring()` expects to start from an Element, not from the header line, so you will need to skip the header to get the string to pass."
   ]
  },
  {
   "cell_type": "code",
   "execution_count": 71,
   "metadata": {
    "deletable": false,
    "nbgrader": {
     "cell_type": "code",
     "checksum": "76eab7ff4869bbf98366d008c9c56534",
     "grade": false,
     "grade_id": "cell-493b2d0830c02eae",
     "locked": false,
     "schema_version": 3,
     "solution": true,
     "task": false
    }
   },
   "outputs": [
    {
     "name": "stdout",
     "output_type": "stream",
     "text": [
      "<school>\n",
      "  <departments>\n",
      "    <department id=\"CINE\">\n",
      "      <name>Cinema</name>\n",
      "      <division>Fine Arts</division>\n",
      "      <chair id=\"9042\">\n",
      "        <lastname>Rice</lastname>\n",
      "        <firstname>Theresa</firstname>\n",
      "      </chair>\n",
      "    </department>\n",
      "    <department id=\"MATH\">\n",
      "      <name>Mathematics &amp; Computer Science</name>\n"
     ]
    }
   ],
   "source": [
    "resource = \"/data/school0_32.xml\"\n",
    "location = \"datasystems.denison.edu\"\n",
    "\n",
    "url = buildURL(location, resource)\n",
    "response = requests.get(url)\n",
    "request = response.request\n",
    "\n",
    "status_code = response.status_code\n",
    "assert status_code == 200\n",
    "\n",
    "response.encoding = 'utf-32be'\n",
    "\n",
    "root = etree.fromstring(response.content)\n",
    "\n",
    "\n",
    "util.print_xml(root, nlines=12)"
   ]
  },
  {
   "cell_type": "code",
   "execution_count": 72,
   "metadata": {
    "deletable": false,
    "editable": false,
    "nbgrader": {
     "cell_type": "code",
     "checksum": "12225fd6c98ff51f3c5b196f12931668",
     "grade": true,
     "grade_id": "cell-2ff200546e2864d1",
     "locked": true,
     "points": 2,
     "schema_version": 3,
     "solution": false,
     "task": false
    }
   },
   "outputs": [],
   "source": [
    "# Testing cell\n",
    "assert root.tag == \"school\"\n",
    "assert len(root) == 3"
   ]
  },
  {
   "cell_type": "markdown",
   "metadata": {},
   "source": [
    "---\n",
    "\n",
    "---\n",
    "\n",
    "## Part D\n",
    "\n",
    "**Q10:** How much time (in minutes/hours) did you spend on this homework assignment?"
   ]
  },
  {
   "cell_type": "markdown",
   "metadata": {},
   "source": [
    "1 hour"
   ]
  },
  {
   "cell_type": "markdown",
   "metadata": {},
   "source": [
    "**Q11:** Who was your partner for this assignment?  If you worked alone, say so instead."
   ]
  },
  {
   "cell_type": "markdown",
   "metadata": {},
   "source": [
    "I worked alone"
   ]
  }
 ],
 "metadata": {
  "kernelspec": {
   "display_name": "Python 3 (ipykernel)",
   "language": "python",
   "name": "python3"
  },
  "language_info": {
   "codemirror_mode": {
    "name": "ipython",
    "version": 3
   },
   "file_extension": ".py",
   "mimetype": "text/x-python",
   "name": "python",
   "nbconvert_exporter": "python",
   "pygments_lexer": "ipython3",
   "version": "3.9.7"
  }
 },
 "nbformat": 4,
 "nbformat_minor": 4
}
