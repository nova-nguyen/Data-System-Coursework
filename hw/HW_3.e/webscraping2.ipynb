{
 "cells": [
  {
   "cell_type": "markdown",
   "metadata": {},
   "source": [
    "# Denison CS181/DA210 Homework 3.e - Step 1\n",
    "\n",
    "Before you turn this problem in, make sure everything runs as expected. This is a combination of **restarting the kernel** and then **running all cells** (in the menubar, select Kernel$\\rightarrow$Restart And Run All).\n",
    "\n",
    "Make sure you fill in any place that says `# YOUR CODE HERE` or \"YOUR ANSWER HERE\"."
   ]
  },
  {
   "cell_type": "markdown",
   "metadata": {},
   "source": [
    "---"
   ]
  },
  {
   "cell_type": "code",
   "execution_count": null,
   "metadata": {
    "deletable": false,
    "editable": false,
    "nbgrader": {
     "cell_type": "code",
     "checksum": "84497297e822c3a354377d3b8e151006",
     "grade": false,
     "grade_id": "cell-b9abcf27cf7faf8f",
     "locked": true,
     "schema_version": 3,
     "solution": false,
     "task": false
    }
   },
   "outputs": [],
   "source": [
    "import os\n",
    "import io\n",
    "import sys\n",
    "import importlib\n",
    "import pandas as pd\n",
    "from lxml import etree\n",
    "import requests\n",
    "from IPython.display import Image\n",
    "\n",
    "htmlparser =  etree.HTMLParser()\n",
    "\n",
    "if os.path.isdir(os.path.join(\"../../..\", \"modules\")):\n",
    "    module_dir = os.path.join(\"../../..\", \"modules\")\n",
    "else:\n",
    "    module_dir = os.path.join(\"../..\", \"modules\")\n",
    "\n",
    "module_path = os.path.abspath(module_dir)\n",
    "if not module_path in sys.path:\n",
    "    sys.path.append(module_path)\n",
    "\n",
    "import util\n",
    "importlib.reload(util)"
   ]
  },
  {
   "cell_type": "markdown",
   "metadata": {},
   "source": [
    "---\n",
    "\n",
    "## Part A: Topnames Table with GET\n",
    "\n",
    "Consider the web page at http://datasystems.denison.edu/topnames.html, shown in its rendered form below:"
   ]
  },
  {
   "cell_type": "code",
   "execution_count": null,
   "metadata": {},
   "outputs": [],
   "source": [
    "Image(\"figs/topnames.png\", width=600)"
   ]
  },
  {
   "cell_type": "markdown",
   "metadata": {},
   "source": [
    "#### Discovery\n",
    "\n",
    "Go to the above web page using Chrome, navigate to View->Developer->Inspect Elements, or in Firefox, Tools->Browser Tools->Web Developer Tools.\n",
    "\n",
    "You do not have to submit the sketches mentioned below, but the following steps walk you through the discovery process.\n",
    "\n",
    "1. Find where in the HTML that the \"topnames\" label for the table exists (not the tab, but in the content of the page proper).\n",
    "2. Traverse \"up\" to the first `div` ancestor, and sketch the HTML subtree starting at that point, down to and including the label text, but only covering the first full subtree of the `div` (containing the label).\n",
    "3. Find the `table` node within the overall tree, and then draw the subtee rooted at `table`.  You need only include the first two data-carrying rows of data.  You can also use abbreviations of your own choosing to make this less onerous."
   ]
  },
  {
   "cell_type": "markdown",
   "metadata": {},
   "source": [
    "#### Code Setup"
   ]
  },
  {
   "cell_type": "code",
   "execution_count": null,
   "metadata": {},
   "outputs": [],
   "source": [
    "# DO NOT CHANGE THIS\n",
    "\n",
    "# Read HTML from the web\n",
    "url = util.buildURL(\"/topnames.html\", \"datasystems.denison.edu\")\n",
    "response = requests.get(url)\n",
    "assert response.status_code == 200\n",
    "\n",
    "# Use a custom HTML parser to parse the response content into an XML Element\n",
    "tree = etree.parse(io.BytesIO(response.content), htmlparser)\n",
    "root = tree.getroot()"
   ]
  },
  {
   "cell_type": "markdown",
   "metadata": {},
   "source": [
    "**Q1:** Create in `xs_q1` an XPath expression that (uniquely) finds the `div` that is the common ancestor of both the topnames label and the `table` containing the data.  Assign the node itself (not the list containing the node) to the variable `divroot`."
   ]
  },
  {
   "cell_type": "code",
   "execution_count": null,
   "metadata": {
    "deletable": false,
    "nbgrader": {
     "cell_type": "code",
     "checksum": "5d42fad427f0ca99e5fe9a686f69c88f",
     "grade": true,
     "grade_id": "cell-31ccac71984445de",
     "locked": false,
     "points": 1,
     "schema_version": 3,
     "solution": true,
     "task": false
    }
   },
   "outputs": [],
   "source": [
    "# YOUR CODE HERE\n",
    "raise NotImplementedError()\n",
    "\n",
    "# Display the first 20 lines of the tree\n",
    "util.print_xml(divroot, depth=16, nlines=20)"
   ]
  },
  {
   "cell_type": "code",
   "execution_count": null,
   "metadata": {},
   "outputs": [],
   "source": [
    "# Testing cell\n",
    "assert type(xs_q1) is str\n",
    "assert len(root.xpath(xs_q1)) == 1\n",
    "assert type(divroot) is etree._Element\n",
    "assert divroot.tag == \"div\"\n",
    "assert len(divroot) == 3 # includes a comment: <!--...-->"
   ]
  },
  {
   "cell_type": "markdown",
   "metadata": {},
   "source": [
    "**Q2:**  Either using the `root` of the HTML tree, or from the `divroot` found above, assign to `xs_q2` an XPath expression to get a list of the tables in the HTML, then execute the XPath and assign to the Python variable `table` the first such table."
   ]
  },
  {
   "cell_type": "code",
   "execution_count": null,
   "metadata": {
    "deletable": false,
    "nbgrader": {
     "cell_type": "code",
     "checksum": "12d2e7acf6329c11110b18203c5c6b1b",
     "grade": true,
     "grade_id": "cell-ef671b123ea1744b",
     "locked": false,
     "points": 1,
     "schema_version": 3,
     "solution": true,
     "task": false
    }
   },
   "outputs": [],
   "source": [
    "# YOUR CODE HERE\n",
    "raise NotImplementedError()\n",
    "\n",
    "# Display the first 30 lines of the tree\n",
    "util.print_xml(table, depth=16, nlines=30)"
   ]
  },
  {
   "cell_type": "code",
   "execution_count": null,
   "metadata": {},
   "outputs": [],
   "source": [
    "# Testing cell\n",
    "assert type(xs_q2) is str\n",
    "assert type(table) is etree._Element\n",
    "assert table.tag == \"table\"\n",
    "assert len(table) == 2\n",
    "assert table[0].tag == \"thead\"\n",
    "assert table[1][0][0].text == \"2005\""
   ]
  },
  {
   "cell_type": "markdown",
   "metadata": {},
   "source": [
    "**Q3:** Use the result of `print_xml` to make sure your understanding of the `table` tree matches your hand-drawn tree from earlier.  If you chose to start from `root`, would your expression be **guaranteed** to get the table you are interested in?  Why or why not?"
   ]
  },
  {
   "cell_type": "markdown",
   "metadata": {},
   "source": [
    "YOUR ANSWER HERE"
   ]
  },
  {
   "cell_type": "markdown",
   "metadata": {},
   "source": [
    "#### Programmatic Extraction: List of Lists\n",
    "\n",
    "**Q4:** Assign to `xs_q4` an XPath expression that retrieves the names of the columns of the table, and use that expression to assign that list to `col_names`.  Write your expression as an absolute one, working from the `root` (therefore, _not_ a relative expression from a given non-root node)."
   ]
  },
  {
   "cell_type": "code",
   "execution_count": null,
   "metadata": {
    "deletable": false,
    "nbgrader": {
     "cell_type": "code",
     "checksum": "5404f81d8e996f298216cc88adf0e9f2",
     "grade": true,
     "grade_id": "cell-68a4cd2c00d8a69f",
     "locked": false,
     "points": 1,
     "schema_version": 3,
     "solution": true,
     "task": false
    }
   },
   "outputs": [],
   "source": [
    "# YOUR CODE HERE\n",
    "raise NotImplementedError()\n",
    "\n",
    "# Print the list of column names\n",
    "print(col_names)"
   ]
  },
  {
   "cell_type": "code",
   "execution_count": null,
   "metadata": {},
   "outputs": [],
   "source": [
    "# Testing cell\n",
    "assert type(xs_q4) is str\n",
    "assert len(root.xpath(xs_q4)) == 4\n",
    "assert type(col_names) is list\n",
    "assert len(col_names) == 4\n",
    "assert \"year\" in col_names\n",
    "assert \"count\" in col_names"
   ]
  },
  {
   "cell_type": "markdown",
   "metadata": {},
   "source": [
    "Note that if the HTML document had multiple tables, then the XPath expression above would match header cells from all `th` elements anywhere in the document, including ones in totally separate tables.  In such a case, we may have to make further assumptions about the structure of the HTML to uniquely find the desired table.  \n",
    "\n",
    "In the following, we will assume that the variable `table` refers to the correct table, and focus on extracting the data and transforming it into a data frame.\n",
    "\n",
    "A method from the textbook solves this problem by the following steps:\n",
    "\n",
    "1. Use XPath to retrieve a single list of the text property of all `td` nodes under the `tbody`.\n",
    "2. Using the knowledge that there are four fields per row, iterate over this single list and, by putting sequential sets of four elements into a row list, create a LoL representation of the data.\n",
    "3. Build the dataframe based on the LoL and the column names.\n",
    "\n",
    "In the following cells, we ask you to reproduce that method.  Use your textbook if you  need  help."
   ]
  },
  {
   "cell_type": "markdown",
   "metadata": {},
   "source": [
    "**Q5:** In the following cell, use XPath on  `table` to obtain a single list of the text of all the `td`-tagged nodes.  Assign the result to `tdlist`."
   ]
  },
  {
   "cell_type": "code",
   "execution_count": null,
   "metadata": {
    "deletable": false,
    "nbgrader": {
     "cell_type": "code",
     "checksum": "e8b4f17c387b157aaf7c69400f6f888b",
     "grade": true,
     "grade_id": "cell-9c9048a25bbb6592",
     "locked": false,
     "points": 1,
     "schema_version": 3,
     "solution": true,
     "task": false
    }
   },
   "outputs": [],
   "source": [
    "# YOUR CODE HERE\n",
    "raise NotImplementedError()\n",
    "\n",
    "print(len(tdlist))\n",
    "print(\"td list prefix:\", tdlist[0:10])"
   ]
  },
  {
   "cell_type": "code",
   "execution_count": null,
   "metadata": {},
   "outputs": [],
   "source": [
    "# Testing cell\n",
    "assert type(tdlist) is list\n",
    "assert len(tdlist) == 112\n",
    "assert tdlist[0] == \"2005\"\n",
    "assert tdlist[7] == \"25833\""
   ]
  },
  {
   "cell_type": "markdown",
   "metadata": {},
   "source": [
    "**Q6:** Process the `td` text in `tdlist` into an LoL, stored in a variable `LoL`.  Here are the steps used in the book:\n",
    "\n",
    "* Create an  empty  list, `LoL`, and a counter variable.\n",
    "* Write a `for`-loop that iterates over `tdlist`.\n",
    "  - If the counter is zero, create a new empty row list.\n",
    "  - Add the current `td` item to the list.\n",
    "  - Increment the counter if there are more fields to be accumulated into the row list, or reset the counter to zero if a row is complete.\n",
    "  - When a row is complete, the row should be appended to `LoL`.\n",
    "\n",
    "Upon completion, `LoL` should be a list of row lists with string versions of the data for each row."
   ]
  },
  {
   "cell_type": "code",
   "execution_count": null,
   "metadata": {
    "deletable": false,
    "nbgrader": {
     "cell_type": "code",
     "checksum": "58f87168d4b11871c7568c1060a526a6",
     "grade": true,
     "grade_id": "cell-02a79f605526bfc9",
     "locked": false,
     "points": 2,
     "schema_version": 3,
     "solution": true,
     "task": false
    }
   },
   "outputs": [],
   "source": [
    "# YOUR CODE HERE\n",
    "raise NotImplementedError()\n",
    "\n",
    "# Display the first ten rows of data\n",
    "LoL[:10]"
   ]
  },
  {
   "cell_type": "code",
   "execution_count": null,
   "metadata": {},
   "outputs": [],
   "source": [
    "# Testing cell\n",
    "assert type(LoL) is list\n",
    "assert len(LoL) == 28\n",
    "assert len(LoL[0]) == 4\n",
    "assert LoL[0][-1] == \"23940\"\n",
    "assert LoL[-1][2] == \"Liam\""
   ]
  },
  {
   "cell_type": "markdown",
   "metadata": {},
   "source": [
    "**Q7:** Finally, use our standard techniques for turning the LoL into a `pandas` data frame, setting the index to the combination of year and sex, and assigning the result to variable `df`."
   ]
  },
  {
   "cell_type": "code",
   "execution_count": null,
   "metadata": {
    "deletable": false,
    "nbgrader": {
     "cell_type": "code",
     "checksum": "deaf9a171e82b464ff31d273fda856ae",
     "grade": true,
     "grade_id": "cell-ef9540dd1070bcb4",
     "locked": false,
     "points": 1,
     "schema_version": 3,
     "solution": true,
     "task": false
    }
   },
   "outputs": [],
   "source": [
    "# YOUR CODE HERE\n",
    "raise NotImplementedError()\n",
    "\n",
    "# Display the first ten rows of the DataFrame\n",
    "df.head(10)"
   ]
  },
  {
   "cell_type": "code",
   "execution_count": null,
   "metadata": {},
   "outputs": [],
   "source": [
    "# Testing cell\n",
    "assert type(df) is pd.DataFrame\n",
    "assert df.shape == (28,2)\n",
    "assert df.loc[(\"2007\", 'Male'), 'count'] == \"24282\"\n",
    "assert df.loc[(\"2016\", 'Male'), 'name'] == \"Noah\""
   ]
  },
  {
   "cell_type": "markdown",
   "metadata": {},
   "source": [
    "#### Programmatic Extraction: Dictionary of Column Lists\n",
    "\n",
    "A perhaps simpler solution involves using the regularity of the columns in a table (be it in HTML or other regular table form).  Within each `tr`, the **position** of each of the `td` elements for the four fields in this table is always the same, regardless of row.  So at position 1 within all the rows, we always have the year, at position 2, we always have the sex, and so forth."
   ]
  },
  {
   "cell_type": "markdown",
   "metadata": {},
   "source": [
    "**Q8:** Assign to `xs_q8` an XPath expression that retrieves, relative to `table`, the text property for all `td` elements under a `tr` where the `td` is the position 1 child of the `tr`.  Execute the xpath on `table` and assign the result to variable `year_vector`."
   ]
  },
  {
   "cell_type": "code",
   "execution_count": null,
   "metadata": {
    "deletable": false,
    "nbgrader": {
     "cell_type": "code",
     "checksum": "267f3b58a2d62fccab066fa843b340e0",
     "grade": true,
     "grade_id": "cell-df631f45510f24ea",
     "locked": false,
     "points": 1,
     "schema_version": 3,
     "solution": true,
     "task": false
    }
   },
   "outputs": [],
   "source": [
    "# YOUR CODE HERE\n",
    "raise NotImplementedError()\n",
    "\n",
    "# Print info about the year vector\n",
    "print(len(year_vector))\n",
    "print(\"year vector prefix:\", year_vector[:10])"
   ]
  },
  {
   "cell_type": "code",
   "execution_count": null,
   "metadata": {},
   "outputs": [],
   "source": [
    "# Testing cell\n",
    "assert type(xs_q8) is str\n",
    "assert len(root.xpath(xs_q8)) == 28\n",
    "assert type(year_vector) is list\n",
    "assert len(year_vector) == 28\n",
    "assert year_vector[0] == \"2005\"\n",
    "assert year_vector[-1] == \"2018\""
   ]
  },
  {
   "cell_type": "markdown",
   "metadata": {},
   "source": [
    "**Q9:** We could do this four times, with different values for the position, creating four vectors and then constructing the dictionary.  Instead, we want to use Python string formatting to dynamically create an xpath query that retrieves the `td` at a position given by a variable, and then traverses to the text attribute.\n",
    "\n",
    "Assign to `xs_template_q9` a Python string using `{}` in place of the position from your solution above, so that the testing code shows its use by obtaining the four data columns from the table."
   ]
  },
  {
   "cell_type": "code",
   "execution_count": null,
   "metadata": {
    "deletable": false,
    "nbgrader": {
     "cell_type": "code",
     "checksum": "4c2376ae8d382c4177f0a4fc79448a24",
     "grade": true,
     "grade_id": "cell-2dba3d6ffed57fcb",
     "locked": false,
     "points": 1,
     "schema_version": 3,
     "solution": true,
     "task": false
    }
   },
   "outputs": [],
   "source": [
    "# YOUR CODE HERE\n",
    "raise NotImplementedError()\n",
    "\n",
    "# Test your template, retrieving two of the four column vectors\n",
    "years = table.xpath(xs_template_q9.format(1))\n",
    "print(years[:8])\n",
    "counts = table.xpath(xs_template_q9.format(4))\n",
    "print(counts[:8])"
   ]
  },
  {
   "cell_type": "code",
   "execution_count": null,
   "metadata": {},
   "outputs": [],
   "source": [
    "# Testing cell\n",
    "assert type(xs_template_q9) is str\n",
    "assert \"'pineapple'\" in xs_template_q9.format(\"pineapple\")\n",
    "assert len(years) == 28\n",
    "assert len(counts) == 28\n",
    "assert years[2] == \"2006\"\n",
    "assert counts[-1] == \"19837\""
   ]
  },
  {
   "cell_type": "markdown",
   "metadata": {},
   "source": [
    "**Q10:** We can build a DoL using a `for` loop that, at each iteration, allows us to define a `position` and a `columnname`.  The position should be used to format an appropriate xpath query to get the set of column values at that position (like we did without a loop in the last question).\n",
    "\n",
    "Build the DoL, in a variable `DoL`, using the above approach.  The dictionary keys should be column names, and the value lists should be built using your xpath template string."
   ]
  },
  {
   "cell_type": "code",
   "execution_count": null,
   "metadata": {
    "deletable": false,
    "nbgrader": {
     "cell_type": "code",
     "checksum": "29675f815f0f3ca01b108d1703cfa952",
     "grade": true,
     "grade_id": "cell-3f2c606502df2603",
     "locked": false,
     "points": 2,
     "schema_version": 3,
     "solution": true,
     "task": false
    }
   },
   "outputs": [],
   "source": [
    "# YOUR CODE HERE\n",
    "raise NotImplementedError()\n",
    "\n",
    "# Print the first ten rows of the resulting DoL\n",
    "print(list(DoL.keys()))\n",
    "for rowid in range(10):\n",
    "    print([DoL[col][rowid] for col in DoL])"
   ]
  },
  {
   "cell_type": "code",
   "execution_count": null,
   "metadata": {},
   "outputs": [],
   "source": [
    "# Testing cell\n",
    "assert type(DoL) is dict\n",
    "assert type(DoL[\"name\"]) is list\n",
    "assert len(DoL[\"count\"]) == 28\n",
    "assert DoL[\"year\"][0] == \"2005\"\n",
    "assert DoL[\"name\"][-1] == \"Liam\"\n",
    "assert DoL[\"count\"][7] == \"22594\""
   ]
  },
  {
   "cell_type": "markdown",
   "metadata": {},
   "source": [
    "---\n",
    "\n",
    "---\n",
    "\n",
    "## Part B\n",
    "\n",
    "**Q11:** How much time (in minutes/hours) did you spend on this homework assignment?"
   ]
  },
  {
   "cell_type": "markdown",
   "metadata": {},
   "source": [
    "YOUR ANSWER HERE"
   ]
  },
  {
   "cell_type": "markdown",
   "metadata": {},
   "source": [
    "**Q12:** Who was your partner for this assignment?  If you worked alone, say so instead."
   ]
  },
  {
   "cell_type": "markdown",
   "metadata": {},
   "source": [
    "YOUR ANSWER HERE"
   ]
  }
 ],
 "metadata": {
  "kernelspec": {
   "display_name": "Python 3",
   "language": "python",
   "name": "python3"
  },
  "language_info": {
   "codemirror_mode": {
    "name": "ipython",
    "version": 3
   },
   "file_extension": ".py",
   "mimetype": "text/x-python",
   "name": "python",
   "nbconvert_exporter": "python",
   "pygments_lexer": "ipython3",
   "version": "3.9.7"
  }
 },
 "nbformat": 4,
 "nbformat_minor": 4
}
