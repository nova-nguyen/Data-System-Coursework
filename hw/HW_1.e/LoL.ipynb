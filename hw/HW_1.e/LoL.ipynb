{
 "cells": [
  {
   "cell_type": "markdown",
   "metadata": {},
   "source": [
    "# Denison CS181/DA210 Homework 1.e - Step 2\n",
    "\n",
    "Before you turn this problem in, make sure everything runs as expected. This is a combination of **restarting the kernel** and then **running all cells** (in the menubar, select Kernel$\\rightarrow$Restart And Run All).\n",
    "\n",
    "Make sure you fill in any place that says `# YOUR CODE HERE` or \"YOUR ANSWER HERE\"."
   ]
  },
  {
   "cell_type": "markdown",
   "metadata": {},
   "source": [
    "---"
   ]
  },
  {
   "cell_type": "code",
   "execution_count": 1,
   "metadata": {},
   "outputs": [],
   "source": [
    "import os\n",
    "import os.path\n",
    "\n",
    "datadir = \"publicdata\""
   ]
  },
  {
   "cell_type": "markdown",
   "metadata": {},
   "source": [
    "---\n",
    "\n",
    "## Part C\n",
    "\n",
    "**Q1** Assuming that `path` refers to a CSV file with one header line (with columns `year`, `sex`, `name`, `count`) and data lines with the same four fields, write a function\n",
    "\n",
    "```\n",
    "    readTopNamesLoL(path)\n",
    "```\n",
    "\n",
    "that reads the file and creates a LoL representation, returning both the list of column names and the list of lists structure from the function."
   ]
  },
  {
   "cell_type": "code",
   "execution_count": 2,
   "metadata": {
    "deletable": false,
    "nbgrader": {
     "cell_type": "code",
     "checksum": "3a0d1c4e8d0d0c76bb4f0259b80b6440",
     "grade": false,
     "grade_id": "cell-a2f3d39ffa88a59d",
     "locked": false,
     "schema_version": 3,
     "solution": true,
     "task": false
    }
   },
   "outputs": [],
   "source": [
    "def readTopNamesLoL(path):\n",
    "    '''\n",
    "    Reads a CSV file and returns its column names and LoL representation\n",
    "    '''\n",
    "    f = open(path, 'r')\n",
    "    headers = f.readline().strip().split(',')\n",
    "    s = f.readlines()\n",
    "    newLoL = []\n",
    "    for line in s:\n",
    "        line = line.strip().split(',')\n",
    "        newlist = [int(item) if item.isdigit() else item for item in line]\n",
    "        newLoL.append(newlist)\n",
    "    return headers, newLoL"
   ]
  },
  {
   "cell_type": "code",
   "execution_count": 3,
   "metadata": {},
   "outputs": [
    {
     "name": "stdout",
     "output_type": "stream",
     "text": [
      "['year', 'sex', 'name', 'count']\n",
      "[[2014, 'Female', 'Emma', 20936], [2014, 'Male', 'Noah', 19305], [2015, 'Female', 'Emma', 20455], [2015, 'Male', 'Noah', 19635], [2016, 'Female', 'Emma', 19496], [2016, 'Male', 'Noah', 19117], [2017, 'Female', 'Emma', 19800], [2017, 'Male', 'Liam', 18798], [2018, 'Female', 'Emma', 18688], [2018, 'Male', 'Liam', 19837]]\n"
     ]
    }
   ],
   "source": [
    "# Debugging cell\n",
    "tn10columns, tn10data = readTopNamesLoL(os.path.join(datadir, \"tn10.csv\"))\n",
    "print(tn10columns)\n",
    "print(tn10data)"
   ]
  },
  {
   "cell_type": "code",
   "execution_count": 4,
   "metadata": {
    "deletable": false,
    "editable": false,
    "nbgrader": {
     "cell_type": "code",
     "checksum": "85e738f6f1e0ff14f5a75d0b64dcc5d1",
     "grade": true,
     "grade_id": "cell-06e29c14178a4333",
     "locked": true,
     "points": 2,
     "schema_version": 3,
     "solution": false,
     "task": false
    }
   },
   "outputs": [],
   "source": [
    "# Testing cell\n",
    "assert readTopNamesLoL.__doc__ is not None # don't forget the docstring!\n",
    "\n",
    "tn10columns, tn10data = readTopNamesLoL(os.path.join(datadir, \"tn10.csv\"))\n",
    "\n",
    "assert isinstance(tn10data, list)\n",
    "assert len(tn10data) == 10\n",
    "\n",
    "assert 'year' in tn10columns\n",
    "assert 'sex' in tn10columns\n",
    "assert 'count' in tn10columns\n",
    "assert 'name' in tn10columns\n",
    "\n",
    "assert len(tn10data[0]) == 4\n",
    "assert tn10data[0] == [2014, \"Female\", \"Emma\", 20936]"
   ]
  },
  {
   "cell_type": "markdown",
   "metadata": {},
   "source": [
    "**Q2** Write a function \n",
    "\n",
    "```\n",
    "    filterTopNamesLoL(tnLoL, threshold)\n",
    "```\n",
    "\n",
    "to create a **filter** copy of a topnames LoL `tnLoL` (with columns `year`, `sex`, `name`, `count`) so that only rows with a count value greater than or equal to `threshold` are present in the newly created LoL.\n",
    "\n",
    "Note that you are creating a **new** LoL with the filtered data, and **not** modifying `tnLoL` in place.  Your function should return the new LoL."
   ]
  },
  {
   "cell_type": "code",
   "execution_count": 5,
   "metadata": {
    "deletable": false,
    "nbgrader": {
     "cell_type": "code",
     "checksum": "1001d16f5d94a0c9870f32ebea0ca03b",
     "grade": false,
     "grade_id": "cell-a97c99c74a286d53",
     "locked": false,
     "schema_version": 3,
     "solution": true,
     "task": false
    }
   },
   "outputs": [],
   "source": [
    "filterTopNamesLoL = lambda tnLoL, threshold : [item for item in tnLoL if item[3] >= threshold]\n",
    "filterTopNamesLoL.__doc__ = '''Returns a new LoL with names whose count are higher than threshold'''"
   ]
  },
  {
   "cell_type": "code",
   "execution_count": 6,
   "metadata": {},
   "outputs": [
    {
     "name": "stdout",
     "output_type": "stream",
     "text": [
      "[[2014, 'Female', 'Emma', 20936], [2014, 'Male', 'Noah', 19305], [2015, 'Female', 'Emma', 20455], [2015, 'Male', 'Noah', 19635], [2016, 'Female', 'Emma', 19496], [2016, 'Male', 'Noah', 19117], [2017, 'Female', 'Emma', 19800], [2018, 'Male', 'Liam', 19837]]\n"
     ]
    }
   ],
   "source": [
    "# Debugging cell\n",
    "tn10columns, tn10data = readTopNamesLoL(os.path.join(datadir, \"tn10.csv\"))\n",
    "tncolumns,tndata = readTopNamesLoL(os.path.join(datadir, \"topnames.csv\"))\n",
    "tn_filter = filterTopNamesLoL(tn10data, 19000)\n",
    "print(tn_filter)"
   ]
  },
  {
   "cell_type": "code",
   "execution_count": 7,
   "metadata": {
    "deletable": false,
    "editable": false,
    "nbgrader": {
     "cell_type": "code",
     "checksum": "9f8a8b9a44dfd4babc7d11a8b6bf0b93",
     "grade": true,
     "grade_id": "cell-e47341b9e033c921",
     "locked": true,
     "points": 2,
     "schema_version": 3,
     "solution": false,
     "task": false
    }
   },
   "outputs": [],
   "source": [
    "# Testing cell\n",
    "assert filterTopNamesLoL.__doc__ is not None # don't forget the docstring!\n",
    "\n",
    "topnames = [[2018, 'Male', 'Liam', 19837],\n",
    "            [2018, 'Female', 'Emma', 18688],\n",
    "            [2017, 'Male', 'Liam', 18798],\n",
    "            [2017, 'Female', 'Emma', 19800],\n",
    "            [2016, 'Male', 'Noah', 19117],\n",
    "            [2016, 'Female', 'Emma', 19496]]\n",
    "columns = ['year', 'sex', 'name', 'count']\n",
    "\n",
    "filtered = filterTopNamesLoL(topnames, 19000)\n",
    "assert len(filtered) == 4"
   ]
  },
  {
   "cell_type": "markdown",
   "metadata": {},
   "source": [
    "**Q3** Write a function \n",
    "\n",
    "```\n",
    "    addCatColumnLoL(tnLoL, threshold1, threshold2)\n",
    "```\n",
    "\n",
    "that adds a categorical column to a LoL representation in parameter `tnLoL` with the new column named `category` whose values are the strings `\"small\"` when count is below `threshold1`, is `\"medium\"` when `count` is greater than or equal to `threshold1` and less than `threshold2`, and `large` when count is greater than or equal to `threshold2`.\n",
    "\n",
    "This change to `tnLoL` happens in place, rather than creating a new list of lists, and so nothing is returned from the function."
   ]
  },
  {
   "cell_type": "code",
   "execution_count": 8,
   "metadata": {},
   "outputs": [],
   "source": [
    "def addCatColumnLoL(tnLoL, threshold1, threshold2):\n",
    "    '''\n",
    "    Categorize the list of names according to count based on 2 thresholds and update existing LoL accordingly\n",
    "    '''\n",
    "    for item in tnLoL:\n",
    "        if item[3] < threshold1:\n",
    "            item.append('small')\n",
    "        elif item[3] >= threshold1 and item[3] < threshold2:\n",
    "            item.append('medium')\n",
    "        else:\n",
    "            item.append('large')"
   ]
  },
  {
   "cell_type": "code",
   "execution_count": 9,
   "metadata": {},
   "outputs": [
    {
     "name": "stdout",
     "output_type": "stream",
     "text": [
      "[[2018, 'Male', 'Liam', 19837, 'large'], [2018, 'Female', 'Emma', 18688, 'small'], [2017, 'Male', 'Liam', 18798, 'small'], [2017, 'Female', 'Emma', 19800, 'large'], [2016, 'Male', 'Noah', 19117, 'medium'], [2016, 'Female', 'Emma', 19496, 'medium']]\n"
     ]
    }
   ],
   "source": [
    "# Printing cell\n",
    "topnames = [[2018, 'Male', 'Liam', 19837],\n",
    "            [2018, 'Female', 'Emma', 18688],\n",
    "            [2017, 'Male', 'Liam', 18798],\n",
    "            [2017, 'Female', 'Emma', 19800],\n",
    "            [2016, 'Male', 'Noah', 19117],\n",
    "            [2016, 'Female', 'Emma', 19496]]\n",
    "\n",
    "addCatColumnLoL(topnames, 19000, 19500)\n",
    "print(topnames)"
   ]
  },
  {
   "cell_type": "code",
   "execution_count": 10,
   "metadata": {},
   "outputs": [],
   "source": [
    "# Testing cell\n",
    "assert addCatColumnLoL.__doc__ is not None # don't forget the docstring!\n",
    "\n",
    "topnames = [[2018, 'Male', 'Liam', 19837],\n",
    "            [2018, 'Female', 'Emma', 18688],\n",
    "            [2017, 'Male', 'Liam', 18798],\n",
    "            [2017, 'Female', 'Emma', 19800],\n",
    "            [2016, 'Male', 'Noah', 19117],\n",
    "            [2016, 'Female', 'Emma', 19496]]\n",
    "\n",
    "res = addCatColumnLoL(topnames, 19000, 19500)\n",
    "assert res is None\n",
    "\n",
    "assert len(topnames) == 6\n",
    "assert isinstance(topnames[0], list)\n",
    "assert len(topnames[0]) == 5\n",
    "assert topnames[0][4] == \"large\"\n",
    "assert topnames[2][4] == \"small\"\n",
    "assert topnames[5][4] == \"medium\""
   ]
  },
  {
   "cell_type": "markdown",
   "metadata": {},
   "source": [
    "---\n",
    "\n",
    "---\n",
    "## Part D\n",
    "\n",
    "How much time (in minutes/hours) did you spend on this homework assignment?"
   ]
  },
  {
   "cell_type": "markdown",
   "metadata": {},
   "source": [
    "30 minutes"
   ]
  }
 ],
 "metadata": {
  "kernelspec": {
   "display_name": "Python 3 (ipykernel)",
   "language": "python",
   "name": "python3"
  },
  "language_info": {
   "codemirror_mode": {
    "name": "ipython",
    "version": 3
   },
   "file_extension": ".py",
   "mimetype": "text/x-python",
   "name": "python",
   "nbconvert_exporter": "python",
   "pygments_lexer": "ipython3",
   "version": "3.9.7"
  }
 },
 "nbformat": 4,
 "nbformat_minor": 4
}
