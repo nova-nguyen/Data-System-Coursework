{
 "cells": [
  {
   "cell_type": "markdown",
   "metadata": {},
   "source": [
    "# Denison CS181/DA210 APIs Case Study"
   ]
  },
  {
   "cell_type": "markdown",
   "metadata": {},
   "source": [
    "---"
   ]
  },
  {
   "cell_type": "code",
   "execution_count": 1,
   "metadata": {},
   "outputs": [],
   "source": [
    "import os\n",
    "import os.path\n",
    "import sys\n",
    "import importlib\n",
    "import io\n",
    "import pandas as pd\n",
    "from lxml import etree\n",
    "\n",
    "if os.path.isdir(os.path.join(\"../../..\", \"modules\")):\n",
    "    module_dir = os.path.join(\"../../..\", \"modules\")\n",
    "else:\n",
    "    module_dir = os.path.join(\"../..\", \"modules\")\n",
    "\n",
    "module_path = os.path.abspath(module_dir)\n",
    "if not module_path in sys.path:\n",
    "    sys.path.append(module_path)\n",
    "\n",
    "import util\n",
    "importlib.reload(util)\n",
    "\n",
    "import requests"
   ]
  },
  {
   "cell_type": "markdown",
   "metadata": {},
   "source": [
    "---\n",
    "\n",
    "## Part A: High-Level Planning\n",
    "\n",
    "We can use the GitHub API to retrieve information about organizations, repositories, and users.  Even without authenticating, we can find the commits and users that have made changes to specific files in a repository.\n",
    "\n",
    "With this goal in mind, we will divide our work into two phases:\n",
    "1. Build a table of commits to a specific file.\n",
    "2. Build a table of users who have modified that file.\n",
    "\n",
    "To do this, we'll make use of two GitHub API endpoints:\n",
    "* [/repos/{owner}/{repo}/commits](https://docs.github.com/en/rest/commits/commits#list-commits)\n",
    "* [/users/{username}](https://docs.github.com/en/rest/users/users#get-a-user)"
   ]
  },
  {
   "cell_type": "markdown",
   "metadata": {
    "deletable": false,
    "editable": false,
    "nbgrader": {
     "cell_type": "code",
     "checksum": "f2fd93d0e89b10bade86cff95b35d739",
     "grade": true,
     "grade_id": "cell-125cbee27c447392",
     "locked": true,
     "points": 2,
     "schema_version": 3,
     "solution": false,
     "task": false
    }
   },
   "source": [
    "---\n",
    "\n",
    "## Part B: Building a table of commits to a specific file\n",
    "\n",
    "We'll try to gather information about the `pandas` repository on GitHub, specifically looking at changes to the `groupby.py` file.  Here is its [file docstring](https://github.com/pandas-dev/pandas/blob/main/pandas/core/groupby/groupby.py):\n",
    "\n",
    "```\n",
    "\"\"\"\n",
    "Provide the groupby split-apply-combine paradigm. Define the GroupBy\n",
    "class providing the base-class of operations.\n",
    "\n",
    "The SeriesGroupBy and DataFrameGroupBy sub-class\n",
    "(defined in pandas.core.groupby.generic)\n",
    "expose these user-facing objects to provide specific functionality.\n",
    "\"\"\"\n",
    "```"
   ]
  },
  {
   "cell_type": "markdown",
   "metadata": {
    "deletable": false,
    "nbgrader": {
     "cell_type": "code",
     "checksum": "8c5aa5f46db2ef30705092d581601525",
     "grade": false,
     "grade_id": "cell-7af55ab11001c5ef",
     "locked": false,
     "schema_version": 3,
     "solution": true,
     "task": false
    }
   },
   "source": [
    "#### Design a function to issue a request\n",
    "\n",
    "First, we'll write a function `getRepositoryCommits(owner, repo, path, page=1)`, which will retrieve one _page_ of results from the list-commits endpoint.  Using the `page` parameter will allow us to easily programmatically request different pages of results."
   ]
  },
  {
   "cell_type": "code",
   "execution_count": 2,
   "metadata": {},
   "outputs": [],
   "source": [
    "def getRepositoryCommits(owner, repo, path, num_per_page=10, page=1):\n",
    "    # Build the URL\n",
    "    host = \"api.github.com\"\n",
    "    resource_path = f\"/repos/{owner}/{repo}/commits\"\n",
    "    url = util.buildURL(resource_path, host, protocol=\"https\")\n",
    "\n",
    "    # Make the request\n",
    "    query_params = {\"path\": path,\n",
    "                    \"per_page\": num_per_page,\n",
    "                    \"page\": page}\n",
    "    try:\n",
    "        response = requests.get(url, params=query_params)\n",
    "        assert response.status_code == 200\n",
    "    except AssertionError:\n",
    "        print(f\"Failed: {resource_path} with status code {response.status_code}\")\n",
    "\n",
    "    # Return the parsed JSON object\n",
    "    return response.json()"
   ]
  },
  {
   "cell_type": "code",
   "execution_count": 3,
   "metadata": {
    "deletable": false,
    "editable": false,
    "nbgrader": {
     "cell_type": "code",
     "checksum": "f2fd93d0e89b10bade86cff95b35d739",
     "grade": true,
     "grade_id": "cell-125cbee27c447392",
     "locked": true,
     "points": 2,
     "schema_version": 3,
     "solution": false,
     "task": false
    }
   },
   "outputs": [
    {
     "name": "stdout",
     "output_type": "stream",
     "text": [
      "         [\n",
      "           {\n",
      "            \"sha\": \"1213a173335527aa445a5cd90ea0ef457e09e24d\"\n",
      "            \"node_id\": \"C_kwDOAA0YD9oAKDEyMTNhMTczMzM1NTI3YWE0NDVhNWNkOTBlYTBlZjQ1N2UwOWUyNGQ\"\n",
      "            \"commit\": \n",
      "             {\n",
      "               ...\n",
      "             }\n",
      "            \"url\": \"https://api.github.com/repos/pandas-dev/pandas/commits/1213a173335527aa445a5cd90ea0ef457e09e24d\"\n",
      "            \"html_url\": \"https://github.com/pandas-dev/pandas/commit/1213a173335527aa445a5cd90ea0ef457e09e24d\"\n",
      "             ...\n",
      "           }\n",
      "           {\n",
      "            \"sha\": \"79fb2debb14e77d6d4af9c4db058e6f994507e29\"\n",
      "            \"node_id\": \"C_kwDOAA0YD9oAKDc5ZmIyZGViYjE0ZTc3ZDZkNGFmOWM0ZGIwNThlNmY5OTQ1MDdlMjk\"\n",
      "            \"commit\": \n",
      "             {\n",
      "               ...\n",
      "             }\n",
      "            \"url\": \"https://api.github.com/repos/pandas-dev/pandas/commits/79fb2debb14e77d6d4af9c4db058e6f994507e29\"\n",
      "            \"html_url\": \"https://github.com/pandas-dev/pandas/commit/79fb2debb14e77d6d4af9c4db058e6f994507e29\"\n",
      "             ...\n",
      "           }\n",
      "           {\n",
      "            \"sha\": \"382aefc6b746b20d047313c15a591f99b210fbf4\"\n",
      "            \"node_id\": \"C_kwDOAA0YD9oAKDM4MmFlZmM2Yjc0NmIyMGQwNDczMTNjMTVhNTkxZjk5YjIxMGZiZjQ\"\n",
      "            \"commit\": \n",
      "             {\n",
      "               ...\n",
      "             }\n",
      "            \"url\": \"https://api.github.com/repos/pandas-dev/pandas/commits/382aefc6b746b20d047313c15a591f99b210fbf4\"\n",
      "            \"html_url\": \"https://github.com/pandas-dev/pandas/commit/382aefc6b746b20d047313c15a591f99b210fbf4\"\n",
      "             ...\n",
      "           }\n",
      "           {\n",
      "            \"sha\": \"efb262ff526b6f8810b3ad1f675ffdb919af343f\"\n",
      "            \"node_id\": \"C_kwDOAA0YD9oAKGVmYjI2MmZmNTI2YjZmODgxMGIzYWQxZjY3NWZmZGI5MTlhZjM0M2Y\"\n",
      "            \"commit\": \n",
      "             {\n",
      "               ...\n",
      "             }\n",
      "            \"url\": \"https://api.github.com/repos/pandas-dev/pandas/commits/efb262ff526b6f8810b3ad1f675ffdb919af343f\"\n",
      "            \"html_url\": \"https://github.com/pandas-dev/pandas/commit/efb262ff526b6f8810b3ad1f675ffdb919af343f\"\n",
      "             ...\n",
      "           }\n",
      "           {\n",
      "            \"sha\": \"258cfccf8106814504ca07a118037d3f32073732\"\n",
      "            \"node_id\": \"C_kwDOAA0YD9oAKDI1OGNmY2NmODEwNjgxNDUwNGNhMDdhMTE4MDM3ZDNmMzIwNzM3MzI\"\n",
      "            \"commit\": \n",
      "             {\n",
      "               ...\n",
      "             }\n",
      "            \"url\": \"https://api.github.com/repos/pandas-dev/pandas/commits/258cfccf8106814504ca07a118037d3f32073732\"\n",
      "            \"html_url\": \"https://github.com/pandas-dev/pandas/commit/258cfccf8106814504ca07a118037d3f32073732\"\n",
      "             ...\n",
      "           }\n",
      "           ...\n",
      "         ]\n"
     ]
    }
   ],
   "source": [
    "# Example using list-commits endpoint\n",
    "owner = \"pandas-dev\"\n",
    "repo = \"pandas\"\n",
    "query_path = \"pandas/core/groupby/groupby.py\"\n",
    "data = getRepositoryCommits(owner, repo, query_path)\n",
    "\n",
    "util.print_json(data, level=4)"
   ]
  },
  {
   "cell_type": "markdown",
   "metadata": {},
   "source": [
    "#### Understand results\n",
    "\n",
    "Let's explore the results we get from this endpoint.\n",
    "\n",
    "We can view the commits for this file on GitHub: https://github.com/pandas-dev/pandas/commits/main/pandas/core/groupby/groupby.py.\n",
    "\n",
    "Also, as this is a GET request, we can view the general version (without the query parameters) in a web browser to get a feel for the results: https://api.github.com/repos/pandas-dev/pandas/commits.  (Firefox in particular has a very nice view of the headers, raw JSON data, and parsed JSON result.)"
   ]
  },
  {
   "cell_type": "markdown",
   "metadata": {},
   "source": [
    "The GitHub documentation shows that this result should be a JSON array (corresponding to a Python list) of JSON objects (Python dictionaries).  There are at most 30 (by default) objects per \"page\", and each object should represent a single commit."
   ]
  },
  {
   "cell_type": "code",
   "execution_count": 4,
   "metadata": {},
   "outputs": [
    {
     "name": "stdout",
     "output_type": "stream",
     "text": [
      "     {\n",
      "      \"sha\": \"1213a173335527aa445a5cd90ea0ef457e09e24d\"\n",
      "      \"node_id\": \"C_kwDOAA0YD9oAKDEyMTNhMTczMzM1NTI3YWE0NDVhNWNkOTBlYTBlZjQ1N2UwOWUyNGQ\"\n",
      "      \"commit\": \n",
      "       {\n",
      "        \"author\": \n",
      "         {\n",
      "          \"name\": \"Thierry Moisan\"\n",
      "          \"email\": \"thierry.moisan@gmail.com\"\n",
      "          \"date\": \"2022-04-26T00:25:32Z\"\n",
      "         }\n",
      "        \"committer\": \n",
      "         {\n",
      "          \"name\": \"GitHub\"\n",
      "          \"email\": \"noreply@github.com\"\n",
      "          \"date\": \"2022-04-26T00:25:32Z\"\n",
      "         }\n",
      "        \"message\": \"DOC: add examples to groupby.first (#46766)\"\n",
      "        \"tree\": \n",
      "         {\n",
      "          \"sha\": \"15147591e35755006082e466b4d2914c444cb350\"\n",
      "          \"url\": \"https://api.github.com/repos/pandas-dev/pandas/git/trees/15147591e35755006082e466b4d2914c444cb350\"\n",
      "         }\n",
      "        \"url\": \"https://api.github.com/repos/pandas-dev/pandas/git/commits/1213a173335527aa445a5cd90ea0ef457e09e24d\"\n",
      "         ...\n",
      "       }\n",
      "      \"url\": \"https://api.github.com/repos/pandas-dev/pandas/commits/1213a173335527aa445a5cd90ea0ef457e09e24d\"\n",
      "      \"html_url\": \"https://github.com/pandas-dev/pandas/commit/1213a173335527aa445a5cd90ea0ef457e09e24d\"\n",
      "       ...\n",
      "     }\n"
     ]
    }
   ],
   "source": [
    "# Look at the most recent commit's info\n",
    "commit_obj = data[0]\n",
    "util.print_json(commit_obj, level=2)"
   ]
  },
  {
   "cell_type": "code",
   "execution_count": 5,
   "metadata": {},
   "outputs": [
    {
     "data": {
      "text/plain": [
       "'DOC: add examples to groupby.first (#46766)'"
      ]
     },
     "execution_count": 5,
     "metadata": {},
     "output_type": "execute_result"
    }
   ],
   "source": [
    "# Look at the most recent commit's message\n",
    "commit_obj[\"commit\"][\"message\"]"
   ]
  },
  {
   "cell_type": "code",
   "execution_count": 6,
   "metadata": {},
   "outputs": [
    {
     "data": {
      "text/plain": [
       "'2022-04-26T00:25:32Z'"
      ]
     },
     "execution_count": 6,
     "metadata": {},
     "output_type": "execute_result"
    }
   ],
   "source": [
    "# Look at the most recent commit's timestamp\n",
    "commit_obj[\"commit\"][\"author\"][\"date\"]"
   ]
  },
  {
   "cell_type": "markdown",
   "metadata": {},
   "source": [
    "#### Design commit table\n",
    "\n",
    "We'll collect the following information about each commit:\n",
    "- commit ID\n",
    "- message\n",
    "- commiter username\n",
    "- commit timestamp\n",
    "\n",
    "We can write a function that produces a list of row dictionaries (LoD) representation from the JSON-parsed data structure of a request."
   ]
  },
  {
   "cell_type": "code",
   "execution_count": 7,
   "metadata": {},
   "outputs": [],
   "source": [
    "def commitResult2LoD(result, maxelements=None):\n",
    "    assert isinstance(result, list)\n",
    "\n",
    "    LoD = []\n",
    "    count = 0\n",
    "    for commit_obj in result:\n",
    "        if maxelements != None and count >= maxelements:\n",
    "            break\n",
    "\n",
    "        D = {}\n",
    "        D[\"id\"] = commit_obj[\"sha\"]\n",
    "        D[\"message\"] = commit_obj[\"commit\"][\"message\"]\n",
    "        D[\"author\"] = commit_obj[\"author\"][\"login\"]\n",
    "        D[\"timestamp\"] = commit_obj[\"commit\"][\"author\"][\"date\"]\n",
    "        LoD.append(D)\n",
    "\n",
    "        count += 1\n",
    "\n",
    "    return LoD"
   ]
  },
  {
   "cell_type": "code",
   "execution_count": 8,
   "metadata": {},
   "outputs": [
    {
     "name": "stdout",
     "output_type": "stream",
     "text": [
      "{\n",
      "  \"id\": \"1213a173335527aa445a5cd90ea0ef457e09e24d\",\n",
      "  \"message\": \"DOC: add examples to groupby.first (#46766)\",\n",
      "  \"author\": \"Moisan\",\n",
      "  \"timestamp\": \"2022-04-26T00:25:32Z\"\n",
      "}\n",
      "{\n",
      "  \"id\": \"79fb2debb14e77d6d4af9c4db058e6f994507e29\",\n",
      "  \"message\": \"TYP: rename (#46428)\",\n",
      "  \"author\": \"twoertwein\",\n",
      "  \"timestamp\": \"2022-04-03T03:20:40Z\"\n",
      "}\n",
      "{\n",
      "  \"id\": \"382aefc6b746b20d047313c15a591f99b210fbf4\",\n",
      "  \"message\": \"REGR: groupby.transform producing segfault ...\n",
      "  \"author\": \"rhshadrach\",\n",
      "  \"timestamp\": \"2022-03-31T17:59:23Z\"\n",
      "}\n"
     ]
    }
   ],
   "source": [
    "# Try parsing the commit results from our previous request\n",
    "LoD = commitResult2LoD(data)\n",
    "for row in LoD[:3]:\n",
    "    util.print_data(row)"
   ]
  },
  {
   "cell_type": "markdown",
   "metadata": {},
   "source": [
    "#### Handle multiple pages\n",
    "\n",
    "API service providers often throttle results to avoid sending too much data at once.  The results are typically divided into _chunks_, or _pages_, and the request must specify the desired page and/or the desired number of results per page.  Then, it is up to the client to navigate this, and issue additional requests if necessary, until the desired amount of data is acquired.\n",
    "\n",
    "If we want more than 30 results (the default page size for the list-commit endpoint), we need to make more than one request.  We'll do that in a function `getCommits(owner, repo, query_path, num_commits)`."
   ]
  },
  {
   "cell_type": "code",
   "execution_count": 9,
   "metadata": {},
   "outputs": [],
   "source": [
    "def getCommits(owner, repo, query_path, num_commits = 15, num_per_page = 10):\n",
    "    fullLoD = []\n",
    "\n",
    "    page = 1\n",
    "    commits_left = num_commits\n",
    "    more_pages = True\n",
    "\n",
    "    while more_pages and commits_left > 0:\n",
    "        commit_page = getRepositoryCommits(owner, repo, query_path, num_per_page, page)\n",
    "\n",
    "        if len(commit_page) < num_per_page:\n",
    "            more_pages = False\n",
    "\n",
    "        pageLoD = commitResult2LoD(commit_page)\n",
    "        fullLoD.extend(pageLoD)\n",
    "\n",
    "        commits_left -= len(pageLoD)\n",
    "        page += 1\n",
    "\n",
    "    df = pd.DataFrame(fullLoD)\n",
    "    return df"
   ]
  },
  {
   "cell_type": "code",
   "execution_count": 10,
   "metadata": {},
   "outputs": [
    {
     "name": "stdout",
     "output_type": "stream",
     "text": [
      "Number of commits in DataFrame: 16\n"
     ]
    },
    {
     "data": {
      "text/html": [
       "<div>\n",
       "<style scoped>\n",
       "    .dataframe tbody tr th:only-of-type {\n",
       "        vertical-align: middle;\n",
       "    }\n",
       "\n",
       "    .dataframe tbody tr th {\n",
       "        vertical-align: top;\n",
       "    }\n",
       "\n",
       "    .dataframe thead th {\n",
       "        text-align: right;\n",
       "    }\n",
       "</style>\n",
       "<table border=\"1\" class=\"dataframe\">\n",
       "  <thead>\n",
       "    <tr style=\"text-align: right;\">\n",
       "      <th></th>\n",
       "      <th>id</th>\n",
       "      <th>message</th>\n",
       "      <th>author</th>\n",
       "      <th>timestamp</th>\n",
       "    </tr>\n",
       "  </thead>\n",
       "  <tbody>\n",
       "    <tr>\n",
       "      <th>0</th>\n",
       "      <td>1213a173335527aa445a5cd90ea0ef457e09e24d</td>\n",
       "      <td>DOC: add examples to groupby.first (#46766)</td>\n",
       "      <td>Moisan</td>\n",
       "      <td>2022-04-26T00:25:32Z</td>\n",
       "    </tr>\n",
       "    <tr>\n",
       "      <th>1</th>\n",
       "      <td>79fb2debb14e77d6d4af9c4db058e6f994507e29</td>\n",
       "      <td>TYP: rename (#46428)</td>\n",
       "      <td>twoertwein</td>\n",
       "      <td>2022-04-03T03:20:40Z</td>\n",
       "    </tr>\n",
       "    <tr>\n",
       "      <th>2</th>\n",
       "      <td>382aefc6b746b20d047313c15a591f99b210fbf4</td>\n",
       "      <td>REGR: groupby.transform producing segfault (#4...</td>\n",
       "      <td>rhshadrach</td>\n",
       "      <td>2022-03-31T17:59:23Z</td>\n",
       "    </tr>\n",
       "    <tr>\n",
       "      <th>3</th>\n",
       "      <td>efb262ff526b6f8810b3ad1f675ffdb919af343f</td>\n",
       "      <td>API: User-control of result keys in GroupBy.ap...</td>\n",
       "      <td>TomAugspurger</td>\n",
       "      <td>2022-03-30T15:43:37Z</td>\n",
       "    </tr>\n",
       "    <tr>\n",
       "      <th>4</th>\n",
       "      <td>258cfccf8106814504ca07a118037d3f32073732</td>\n",
       "      <td>BUG: Allow passing of args/kwargs to groupby.a...</td>\n",
       "      <td>rhshadrach</td>\n",
       "      <td>2022-03-25T23:00:33Z</td>\n",
       "    </tr>\n",
       "  </tbody>\n",
       "</table>\n",
       "</div>"
      ],
      "text/plain": [
       "                                         id  \\\n",
       "0  1213a173335527aa445a5cd90ea0ef457e09e24d   \n",
       "1  79fb2debb14e77d6d4af9c4db058e6f994507e29   \n",
       "2  382aefc6b746b20d047313c15a591f99b210fbf4   \n",
       "3  efb262ff526b6f8810b3ad1f675ffdb919af343f   \n",
       "4  258cfccf8106814504ca07a118037d3f32073732   \n",
       "\n",
       "                                             message         author  \\\n",
       "0        DOC: add examples to groupby.first (#46766)         Moisan   \n",
       "1                               TYP: rename (#46428)     twoertwein   \n",
       "2  REGR: groupby.transform producing segfault (#4...     rhshadrach   \n",
       "3  API: User-control of result keys in GroupBy.ap...  TomAugspurger   \n",
       "4  BUG: Allow passing of args/kwargs to groupby.a...     rhshadrach   \n",
       "\n",
       "              timestamp  \n",
       "0  2022-04-26T00:25:32Z  \n",
       "1  2022-04-03T03:20:40Z  \n",
       "2  2022-03-31T17:59:23Z  \n",
       "3  2022-03-30T15:43:37Z  \n",
       "4  2022-03-25T23:00:33Z  "
      ]
     },
     "execution_count": 10,
     "metadata": {},
     "output_type": "execute_result"
    }
   ],
   "source": [
    "# Build a table of commits\n",
    "num_commits = 12\n",
    "num_per_page = 8\n",
    "commits_df = getCommits(owner, repo, query_path, num_commits, num_per_page)\n",
    "\n",
    "print(\"Number of commits in DataFrame:\", len(commits_df))\n",
    "commits_df.iloc[:5, :]"
   ]
  },
  {
   "cell_type": "markdown",
   "metadata": {},
   "source": [
    "---\n",
    "\n",
    "## Part C: Building a table of users who modified the file\n",
    "\n",
    "Given the set of author usernames from the previous part, we can build a table of user information for those users.  This will involve multiple requests, one per user, to obtain information about each user.  From this, we can build a table and remove any duplicates."
   ]
  },
  {
   "cell_type": "markdown",
   "metadata": {},
   "source": [
    "#### Understand `users` API endpoint\n",
    "\n",
    "First, we'll need to understand the `users` API endpoint.  Here is the documentation: https://docs.github.com/en/rest/users/users#get-a-user.\n",
    "\n",
    "Let's look at the documentation:\n",
    "- The root of the returned value (JSON object).\n",
    "- The root has lots of children, including: `\"login\"`, `\"type\"`, `\"company\"`, `\"name\"`, and `\"email\"`.\n",
    "- Each of the values of these children is a string."
   ]
  },
  {
   "cell_type": "code",
   "execution_count": 11,
   "metadata": {},
   "outputs": [],
   "source": [
    "def getUser(username):\n",
    "    # Build the URL\n",
    "    host = \"api.github.com\"\n",
    "    resource_path = f\"/users/{username}\"\n",
    "    url = util.buildURL(resource_path, host, protocol=\"https\")\n",
    "\n",
    "    # Make the request\n",
    "    try:\n",
    "        response = requests.get(url)\n",
    "        assert response.status_code == 200\n",
    "    except AssertionError:\n",
    "        print(f\"Failed: {resource_path} with status code {response.status_code}\")\n",
    "        return None\n",
    "\n",
    "    # Return the parsed JSON object\n",
    "    return response.json()"
   ]
  },
  {
   "cell_type": "code",
   "execution_count": 12,
   "metadata": {},
   "outputs": [
    {
     "name": "stdout",
     "output_type": "stream",
     "text": [
      "   {\n",
      "    \"login\": \"cpcloud\"\n",
      "    \"id\": 417981\n",
      "    \"node_id\": \"MDQ6VXNlcjQxNzk4MQ==\"\n",
      "    \"avatar_url\": \"https://avatars.githubusercontent.com/u/417981?v=4\"\n",
      "    \"gravatar_id\": \"\"\n",
      "    \"url\": \"https://api.github.com/users/cpcloud\"\n",
      "    \"html_url\": \"https://github.com/cpcloud\"\n",
      "    \"followers_url\": \"https://api.github.com/users/cpcloud/followers\"\n",
      "    \"following_url\": \"https://api.github.com/users/cpcloud/following{/other_user}\"\n",
      "    \"gists_url\": \"https://api.github.com/users/cpcloud/gists{/gist_id}\"\n",
      "    \"starred_url\": \"https://api.github.com/users/cpcloud/starred{/owner}{/repo}\"\n",
      "    \"subscriptions_url\": \"https://api.github.com/users/cpcloud/subscriptions\"\n",
      "    \"organizations_url\": \"https://api.github.com/users/cpcloud/orgs\"\n",
      "    \"repos_url\": \"https://api.github.com/users/cpcloud/repos\"\n",
      "    \"events_url\": \"https://api.github.com/users/cpcloud/events{/privacy}\"\n",
      "    \"received_events_url\": \"https://api.github.com/users/cpcloud/received_events\"\n",
      "    \"type\": \"User\"\n",
      "    \"site_admin\": False\n",
      "    \"name\": \"Phillip Cloud\"\n",
      "    \"company\": \"@voltrondata\"\n",
      "    \"blog\": \"\"\n",
      "    \"location\": \"New York, NY\"\n",
      "    \"email\": \n",
      "    \"hireable\": \n",
      "    \"bio\": \"I like puns.\"\n",
      "    \"twitter_username\": \n",
      "    \"public_repos\": 54\n",
      "    \"public_gists\": 49\n",
      "    \"followers\": 308\n",
      "    \"following\": 116\n",
      "     ...\n",
      "   }\n"
     ]
    }
   ],
   "source": [
    "# Look up one of the people in the pandas-dev org\n",
    "# (https://github.com/orgs/pandas-dev/people)\n",
    "user1 = getUser(\"cpcloud\")\n",
    "util.print_json(user1, level=1, maxchildren=30)"
   ]
  },
  {
   "cell_type": "markdown",
   "metadata": {},
   "source": [
    "#### Design users table\n",
    "\n",
    "To build a tabular representation of GitHub users, we need to decide on the fields.  For simplicity, we'll specify just four fields:\n",
    "\n",
    "| Field     | Python type | Notes |\n",
    "| --------- | ----------- | ----- |\n",
    "| `username`   | `str`       | The GitHub username of the user |\n",
    "| `name`    | `str`       | The name of the user |\n",
    "| `location`   | `str`       | The location of the user |\n",
    "| `company` | `str`       | The company of the user |\n",
    "\n",
    "We can get this information from a user object returned from the `users` API endpoint, which we'll do in a function `getUserRow(user)`."
   ]
  },
  {
   "cell_type": "code",
   "execution_count": 13,
   "metadata": {},
   "outputs": [],
   "source": [
    "def getUserRow(user):\n",
    "    if user is None:\n",
    "        return {}\n",
    "\n",
    "    D = {}\n",
    "    D[\"username\"] = user[\"login\"]\n",
    "    D[\"name\"] = user[\"name\"]\n",
    "    D[\"location\"] = user[\"location\"]\n",
    "    D[\"company\"] = user[\"company\"]\n",
    "    return D"
   ]
  },
  {
   "cell_type": "code",
   "execution_count": 14,
   "metadata": {},
   "outputs": [
    {
     "data": {
      "text/plain": [
       "{'username': 'cpcloud',\n",
       " 'name': 'Phillip Cloud',\n",
       " 'location': 'New York, NY',\n",
       " 'company': '@voltrondata'}"
      ]
     },
     "execution_count": 14,
     "metadata": {},
     "output_type": "execute_result"
    }
   ],
   "source": [
    "# Try this out\n",
    "getUserRow(user1)"
   ]
  },
  {
   "cell_type": "markdown",
   "metadata": {},
   "source": [
    "Using these functions, we can build the full list of users given a list of usernames."
   ]
  },
  {
   "cell_type": "code",
   "execution_count": 15,
   "metadata": {},
   "outputs": [],
   "source": [
    "def getUsers(usernames):\n",
    "    LoD = []\n",
    "\n",
    "    for username in usernames:\n",
    "        user = getUser(username)\n",
    "        row = getUserRow(user)\n",
    "        LoD.append(row)\n",
    "\n",
    "    df = pd.DataFrame(LoD)\n",
    "    df.drop_duplicates(\"username\", inplace=True) # remove dups\n",
    "    return df"
   ]
  },
  {
   "cell_type": "code",
   "execution_count": 16,
   "metadata": {},
   "outputs": [
    {
     "name": "stdout",
     "output_type": "stream",
     "text": [
      "Number of users in DataFrame: 11\n"
     ]
    },
    {
     "data": {
      "text/html": [
       "<div>\n",
       "<style scoped>\n",
       "    .dataframe tbody tr th:only-of-type {\n",
       "        vertical-align: middle;\n",
       "    }\n",
       "\n",
       "    .dataframe tbody tr th {\n",
       "        vertical-align: top;\n",
       "    }\n",
       "\n",
       "    .dataframe thead th {\n",
       "        text-align: right;\n",
       "    }\n",
       "</style>\n",
       "<table border=\"1\" class=\"dataframe\">\n",
       "  <thead>\n",
       "    <tr style=\"text-align: right;\">\n",
       "      <th></th>\n",
       "      <th>username</th>\n",
       "      <th>name</th>\n",
       "      <th>location</th>\n",
       "      <th>company</th>\n",
       "    </tr>\n",
       "  </thead>\n",
       "  <tbody>\n",
       "    <tr>\n",
       "      <th>0</th>\n",
       "      <td>Moisan</td>\n",
       "      <td>Thierry Moisan</td>\n",
       "      <td>Montréal, QC, Canada</td>\n",
       "      <td>None</td>\n",
       "    </tr>\n",
       "    <tr>\n",
       "      <th>1</th>\n",
       "      <td>twoertwein</td>\n",
       "      <td>Torsten Wörtwein</td>\n",
       "      <td>None</td>\n",
       "      <td>None</td>\n",
       "    </tr>\n",
       "    <tr>\n",
       "      <th>2</th>\n",
       "      <td>rhshadrach</td>\n",
       "      <td>Richard Shadrach</td>\n",
       "      <td>Cincinnati, OH</td>\n",
       "      <td>84.51</td>\n",
       "    </tr>\n",
       "    <tr>\n",
       "      <th>3</th>\n",
       "      <td>TomAugspurger</td>\n",
       "      <td>Tom Augspurger</td>\n",
       "      <td>None</td>\n",
       "      <td>@microsoft</td>\n",
       "    </tr>\n",
       "    <tr>\n",
       "      <th>6</th>\n",
       "      <td>nafarya</td>\n",
       "      <td>Danil Iashchenko</td>\n",
       "      <td>London</td>\n",
       "      <td>None</td>\n",
       "    </tr>\n",
       "  </tbody>\n",
       "</table>\n",
       "</div>"
      ],
      "text/plain": [
       "        username              name              location     company\n",
       "0         Moisan    Thierry Moisan  Montréal, QC, Canada        None\n",
       "1     twoertwein  Torsten Wörtwein                  None        None\n",
       "2     rhshadrach  Richard Shadrach        Cincinnati, OH       84.51\n",
       "3  TomAugspurger    Tom Augspurger                  None  @microsoft\n",
       "6        nafarya  Danil Iashchenko                London        None"
      ]
     },
     "execution_count": 16,
     "metadata": {},
     "output_type": "execute_result"
    }
   ],
   "source": [
    "# Build the users DataFrame\n",
    "usernames = list(commits_df[\"author\"])\n",
    "users_df = getUsers(usernames)\n",
    "\n",
    "print(\"Number of users in DataFrame:\", len(users_df))\n",
    "users_df.head()"
   ]
  },
  {
   "cell_type": "markdown",
   "metadata": {},
   "source": [
    "---\n",
    "\n",
    "## Summary\n",
    "\n",
    "We created two DataFrames, one for commit info for a given file, and another for the users involved in those commits.  The two DataFrames are shown again below."
   ]
  },
  {
   "cell_type": "code",
   "execution_count": 17,
   "metadata": {},
   "outputs": [
    {
     "data": {
      "text/html": [
       "<div>\n",
       "<style scoped>\n",
       "    .dataframe tbody tr th:only-of-type {\n",
       "        vertical-align: middle;\n",
       "    }\n",
       "\n",
       "    .dataframe tbody tr th {\n",
       "        vertical-align: top;\n",
       "    }\n",
       "\n",
       "    .dataframe thead th {\n",
       "        text-align: right;\n",
       "    }\n",
       "</style>\n",
       "<table border=\"1\" class=\"dataframe\">\n",
       "  <thead>\n",
       "    <tr style=\"text-align: right;\">\n",
       "      <th></th>\n",
       "      <th>id</th>\n",
       "      <th>message</th>\n",
       "      <th>author</th>\n",
       "      <th>timestamp</th>\n",
       "    </tr>\n",
       "  </thead>\n",
       "  <tbody>\n",
       "    <tr>\n",
       "      <th>0</th>\n",
       "      <td>1213a173335527aa445a5cd90ea0ef457e09e24d</td>\n",
       "      <td>DOC: add examples to groupby.first (#46766)</td>\n",
       "      <td>Moisan</td>\n",
       "      <td>2022-04-26T00:25:32Z</td>\n",
       "    </tr>\n",
       "    <tr>\n",
       "      <th>1</th>\n",
       "      <td>79fb2debb14e77d6d4af9c4db058e6f994507e29</td>\n",
       "      <td>TYP: rename (#46428)</td>\n",
       "      <td>twoertwein</td>\n",
       "      <td>2022-04-03T03:20:40Z</td>\n",
       "    </tr>\n",
       "    <tr>\n",
       "      <th>2</th>\n",
       "      <td>382aefc6b746b20d047313c15a591f99b210fbf4</td>\n",
       "      <td>REGR: groupby.transform producing segfault (#4...</td>\n",
       "      <td>rhshadrach</td>\n",
       "      <td>2022-03-31T17:59:23Z</td>\n",
       "    </tr>\n",
       "    <tr>\n",
       "      <th>3</th>\n",
       "      <td>efb262ff526b6f8810b3ad1f675ffdb919af343f</td>\n",
       "      <td>API: User-control of result keys in GroupBy.ap...</td>\n",
       "      <td>TomAugspurger</td>\n",
       "      <td>2022-03-30T15:43:37Z</td>\n",
       "    </tr>\n",
       "    <tr>\n",
       "      <th>4</th>\n",
       "      <td>258cfccf8106814504ca07a118037d3f32073732</td>\n",
       "      <td>BUG: Allow passing of args/kwargs to groupby.a...</td>\n",
       "      <td>rhshadrach</td>\n",
       "      <td>2022-03-25T23:00:33Z</td>\n",
       "    </tr>\n",
       "  </tbody>\n",
       "</table>\n",
       "</div>"
      ],
      "text/plain": [
       "                                         id  \\\n",
       "0  1213a173335527aa445a5cd90ea0ef457e09e24d   \n",
       "1  79fb2debb14e77d6d4af9c4db058e6f994507e29   \n",
       "2  382aefc6b746b20d047313c15a591f99b210fbf4   \n",
       "3  efb262ff526b6f8810b3ad1f675ffdb919af343f   \n",
       "4  258cfccf8106814504ca07a118037d3f32073732   \n",
       "\n",
       "                                             message         author  \\\n",
       "0        DOC: add examples to groupby.first (#46766)         Moisan   \n",
       "1                               TYP: rename (#46428)     twoertwein   \n",
       "2  REGR: groupby.transform producing segfault (#4...     rhshadrach   \n",
       "3  API: User-control of result keys in GroupBy.ap...  TomAugspurger   \n",
       "4  BUG: Allow passing of args/kwargs to groupby.a...     rhshadrach   \n",
       "\n",
       "              timestamp  \n",
       "0  2022-04-26T00:25:32Z  \n",
       "1  2022-04-03T03:20:40Z  \n",
       "2  2022-03-31T17:59:23Z  \n",
       "3  2022-03-30T15:43:37Z  \n",
       "4  2022-03-25T23:00:33Z  "
      ]
     },
     "execution_count": 17,
     "metadata": {},
     "output_type": "execute_result"
    }
   ],
   "source": [
    "commits_df.head()"
   ]
  },
  {
   "cell_type": "code",
   "execution_count": 18,
   "metadata": {},
   "outputs": [
    {
     "data": {
      "text/html": [
       "<div>\n",
       "<style scoped>\n",
       "    .dataframe tbody tr th:only-of-type {\n",
       "        vertical-align: middle;\n",
       "    }\n",
       "\n",
       "    .dataframe tbody tr th {\n",
       "        vertical-align: top;\n",
       "    }\n",
       "\n",
       "    .dataframe thead th {\n",
       "        text-align: right;\n",
       "    }\n",
       "</style>\n",
       "<table border=\"1\" class=\"dataframe\">\n",
       "  <thead>\n",
       "    <tr style=\"text-align: right;\">\n",
       "      <th></th>\n",
       "      <th>username</th>\n",
       "      <th>name</th>\n",
       "      <th>location</th>\n",
       "      <th>company</th>\n",
       "    </tr>\n",
       "  </thead>\n",
       "  <tbody>\n",
       "    <tr>\n",
       "      <th>0</th>\n",
       "      <td>Moisan</td>\n",
       "      <td>Thierry Moisan</td>\n",
       "      <td>Montréal, QC, Canada</td>\n",
       "      <td>None</td>\n",
       "    </tr>\n",
       "    <tr>\n",
       "      <th>1</th>\n",
       "      <td>twoertwein</td>\n",
       "      <td>Torsten Wörtwein</td>\n",
       "      <td>None</td>\n",
       "      <td>None</td>\n",
       "    </tr>\n",
       "    <tr>\n",
       "      <th>2</th>\n",
       "      <td>rhshadrach</td>\n",
       "      <td>Richard Shadrach</td>\n",
       "      <td>Cincinnati, OH</td>\n",
       "      <td>84.51</td>\n",
       "    </tr>\n",
       "    <tr>\n",
       "      <th>3</th>\n",
       "      <td>TomAugspurger</td>\n",
       "      <td>Tom Augspurger</td>\n",
       "      <td>None</td>\n",
       "      <td>@microsoft</td>\n",
       "    </tr>\n",
       "    <tr>\n",
       "      <th>6</th>\n",
       "      <td>nafarya</td>\n",
       "      <td>Danil Iashchenko</td>\n",
       "      <td>London</td>\n",
       "      <td>None</td>\n",
       "    </tr>\n",
       "  </tbody>\n",
       "</table>\n",
       "</div>"
      ],
      "text/plain": [
       "        username              name              location     company\n",
       "0         Moisan    Thierry Moisan  Montréal, QC, Canada        None\n",
       "1     twoertwein  Torsten Wörtwein                  None        None\n",
       "2     rhshadrach  Richard Shadrach        Cincinnati, OH       84.51\n",
       "3  TomAugspurger    Tom Augspurger                  None  @microsoft\n",
       "6        nafarya  Danil Iashchenko                London        None"
      ]
     },
     "execution_count": 18,
     "metadata": {},
     "output_type": "execute_result"
    }
   ],
   "source": [
    "users_df.head()"
   ]
  }
 ],
 "metadata": {
  "kernelspec": {
   "display_name": "Python 3",
   "language": "python",
   "name": "python3"
  },
  "language_info": {
   "codemirror_mode": {
    "name": "ipython",
    "version": 3
   },
   "file_extension": ".py",
   "mimetype": "text/x-python",
   "name": "python",
   "nbconvert_exporter": "python",
   "pygments_lexer": "ipython3",
   "version": "3.9.7"
  }
 },
 "nbformat": 4,
 "nbformat_minor": 4
}
