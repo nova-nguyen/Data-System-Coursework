{
 "cells": [
  {
   "cell_type": "markdown",
   "metadata": {},
   "source": [
    "# Denison CS181/DA210 Homework 4.f - Step 1\n",
    "\n",
    "Before you turn this problem in, make sure everything runs as expected. This is a combination of **restarting the kernel** and then **running all cells** (in the menubar, select Kernel$\\rightarrow$Restart And Run All).\n",
    "\n",
    "Make sure you fill in any place that says `# YOUR CODE HERE` or \"YOUR ANSWER HERE\"."
   ]
  },
  {
   "cell_type": "markdown",
   "metadata": {},
   "source": [
    "---"
   ]
  },
  {
   "cell_type": "markdown",
   "metadata": {},
   "source": [
    "## Part A: Designing Relationships Between Tables\n",
    "\n",
    "These exercises will continue the design process from the previous homework.  Again, you should think about the data you plan to use in your final project.  You are not committed to the design you develop for the homework, but the goal here is to walk you through the steps of sound database design, to help you along the way with your project.\n",
    "\n",
    "Note that these kinds of questions rarely have a single right answer, so keep an open mind and try to think carefully about what you are trying to design."
   ]
  },
  {
   "cell_type": "markdown",
   "metadata": {
    "deletable": false,
    "editable": false,
    "nbgrader": {
     "cell_type": "markdown",
     "checksum": "d0f7af3f221eeefb0d779df21126a846",
     "grade": false,
     "grade_id": "cell-d6749c5a3b138384",
     "locked": true,
     "schema_version": 3,
     "solution": false,
     "task": false
    }
   },
   "source": [
    "**Q1:** First, reflect on the previous homework.  What, if anything, changed from the initial table/field design you started thinking about to what you were planning by the end of the homework?"
   ]
  },
  {
   "cell_type": "markdown",
   "metadata": {},
   "source": [
    "Nothing, except I just feel that there is not much I can solve by using SQL specifically because all of my team's tables have one-to-one relation (so maybe using pandas instead of SQL database would make things easier, but we will still use SQL of course)"
   ]
  },
  {
   "cell_type": "markdown",
   "metadata": {
    "deletable": false,
    "editable": false,
    "nbgrader": {
     "cell_type": "markdown",
     "checksum": "c5edddc09e4cc6fb69887b1c7024355c",
     "grade": false,
     "grade_id": "cell-0b928df805d2e793",
     "locked": true,
     "schema_version": 3,
     "solution": false,
     "task": false
    }
   },
   "source": [
    "**Q2:** Think about the entities in your dataset, and how they might relate to each other.  For example, if your dataset were focused on a sports league, you may ask yourself:\n",
    "- Can a player belong to more than one team?\n",
    "- Can a team have more than one captain?\n",
    "- Does a contest between two teams consist of more than one game?\n",
    "\n",
    "Such questions may cause you to add tables that correspond to entities that you did not originally forsee.  List any new tables you need to add, as well as their fields, based on the table and field design steps (review the previous homework if you've forgotten them)."
   ]
  },
  {
   "cell_type": "markdown",
   "metadata": {},
   "source": [
    "N/A. All of our tables have a one-to-one relation to country name, and the dependent variables are distinct/independent from each other"
   ]
  },
  {
   "cell_type": "markdown",
   "metadata": {
    "deletable": false,
    "editable": false,
    "nbgrader": {
     "cell_type": "markdown",
     "checksum": "e6abc96cbe5f68daca7665461fdc8e92",
     "grade": false,
     "grade_id": "cell-7f186baf19e8c17f",
     "locked": true,
     "schema_version": 3,
     "solution": false,
     "task": false
    }
   },
   "source": [
    "**Q3:** Think about the entities in your dataset, and how they might relate to each other.  Write down the relationships bewteen any of your entity tables, listing each as one of the following:\n",
    " - one-to-one\n",
    " - many-to-one\n",
    " - many-to-many"
   ]
  },
  {
   "cell_type": "markdown",
   "metadata": {},
   "source": [
    "All 3 tables have a one-to-one relation with country name as the primary/foreign key"
   ]
  },
  {
   "cell_type": "markdown",
   "metadata": {
    "deletable": false,
    "editable": false,
    "nbgrader": {
     "cell_type": "markdown",
     "checksum": "c319b460329c52fe9056b921144df423",
     "grade": false,
     "grade_id": "cell-ca0441f511c8bb02",
     "locked": true,
     "schema_version": 3,
     "solution": false,
     "task": false
    }
   },
   "source": [
    "**Q4:** Add any needed linking fields to allow for many-to-one relationships, and add a linkin table with an appropriate name for any many-to-many relationships.  List these new fields/tables below."
   ]
  },
  {
   "cell_type": "markdown",
   "metadata": {},
   "source": [
    "N/A"
   ]
  },
  {
   "cell_type": "markdown",
   "metadata": {},
   "source": [
    "**Q5:** What foreign-key constraints do you need?"
   ]
  },
  {
   "cell_type": "raw",
   "metadata": {},
   "source": [
    "REFERENCE country (in other tables)"
   ]
  },
  {
   "cell_type": "markdown",
   "metadata": {},
   "source": [
    "---\n",
    "\n",
    "## Part B: Table Creation\n",
    "\n",
    "**Q6:** Provide the SQL CREATE TABLE statements for three tables in your dataset, at least two of which have a relationship between them."
   ]
  },
  {
   "cell_type": "code",
   "execution_count": null,
   "metadata": {},
   "outputs": [],
   "source": [
    "query1 = \"\"\"CREATE TABLE economics(\n",
    "country VARCHAR(30) NOT NULL UNIQUE\n",
    "GDP int NULL\n",
    "GDPpercap int NULL\n",
    "GINI float NULL\n",
    "PRIMARY KEY (country))\n",
    "\"\"\"\n",
    "query2 = \"\"\"CREATE TABLE social(\n",
    "country VARCHAR(30) NOT NULL UNIQUE\n",
    "press float NULL\n",
    "gender float NULL\n",
    "PRIMARY KEY (country))\n",
    "\"\"\"\n",
    "query3 = \"\"\"CREATE TABLE health(\n",
    "country VARCHAR(30) NOT NULL UNIQUE\n",
    "healthexp int NULL\n",
    "BMI float NULL\n",
    "height float NULL\n",
    "PRIMARY KEY (country))\n",
    "\"\"\"\n",
    "# YOUR CODE HERE\n",
    "raise NotImplementedError()"
   ]
  },
  {
   "cell_type": "markdown",
   "metadata": {},
   "source": [
    "---\n",
    "\n",
    "## Part C: Table Population\n",
    "\n",
    "**Q7:** Provide hard-coded SQL statements to insert one record into each of the three tables from the previous question."
   ]
  },
  {
   "cell_type": "code",
   "execution_count": null,
   "metadata": {},
   "outputs": [],
   "source": [
    "query1 = \"\"\"\n",
    "\"\"\"\n",
    "query2 = \"\"\"\n",
    "\"\"\"\n",
    "query3 = \"\"\"\n",
    "\"\"\"\n",
    "# YOUR CODE HERE\n",
    "raise NotImplementedError()"
   ]
  },
  {
   "cell_type": "markdown",
   "metadata": {},
   "source": [
    "---\n",
    "\n",
    "---\n",
    "\n",
    "## Part D\n",
    "\n",
    "**Q8:** How much time (in minutes/hours) did you spend on this homework assignment?"
   ]
  },
  {
   "cell_type": "markdown",
   "metadata": {},
   "source": [
    "YOUR ANSWER HERE"
   ]
  },
  {
   "cell_type": "markdown",
   "metadata": {},
   "source": [
    "**Q9:** Who was your partner for this assignment?  If you worked alone, say so instead."
   ]
  },
  {
   "cell_type": "markdown",
   "metadata": {},
   "source": [
    "YOUR ANSWER HERE"
   ]
  }
 ],
 "metadata": {
  "kernelspec": {
   "display_name": "Python 3 (ipykernel)",
   "language": "python",
   "name": "python3"
  },
  "language_info": {
   "codemirror_mode": {
    "name": "ipython",
    "version": 3
   },
   "file_extension": ".py",
   "mimetype": "text/x-python",
   "name": "python",
   "nbconvert_exporter": "python",
   "pygments_lexer": "ipython3",
   "version": "3.9.7"
  }
 },
 "nbformat": 4,
 "nbformat_minor": 4
}
