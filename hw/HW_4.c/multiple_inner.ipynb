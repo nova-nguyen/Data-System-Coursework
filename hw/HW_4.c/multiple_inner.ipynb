{
 "cells": [
  {
   "cell_type": "markdown",
   "metadata": {},
   "source": [
    "# Denison CS181/DA210 Homework 4.c - Step 1\n",
    "\n",
    "Before you turn this problem in, make sure everything runs as expected. This is a combination of **restarting the kernel** and then **running all cells** (in the menubar, select Kernel$\\rightarrow$Restart And Run All).\n",
    "\n",
    "Make sure you fill in any place that says `# YOUR CODE HERE` or \"YOUR ANSWER HERE\"."
   ]
  },
  {
   "cell_type": "markdown",
   "metadata": {},
   "source": [
    "---"
   ]
  },
  {
   "cell_type": "markdown",
   "metadata": {},
   "source": [
    "#### Import Python modules and load \"SQL Magic\""
   ]
  },
  {
   "cell_type": "code",
   "execution_count": null,
   "metadata": {
    "deletable": false,
    "editable": false,
    "nbgrader": {
     "cell_type": "code",
     "checksum": "2c15bf49fe13507b473a89ebc6ffdea5",
     "grade": false,
     "grade_id": "cell-b9abcf27cf7faf8f",
     "locked": true,
     "schema_version": 3,
     "solution": false,
     "task": false
    }
   },
   "outputs": [],
   "source": [
    "import pandas as pd\n",
    "import os\n",
    "import os.path\n",
    "import json\n",
    "import sys\n",
    "import importlib\n",
    "\n",
    "module_dir = \"../../modules\"\n",
    "module_path = os.path.abspath(module_dir)\n",
    "if not module_path in sys.path:\n",
    "    sys.path.append(module_path)\n",
    "\n",
    "%load_ext sql"
   ]
  },
  {
   "cell_type": "code",
   "execution_count": null,
   "metadata": {},
   "outputs": [],
   "source": [
    "def getsqlite_creds(dirname=\".\",filename=\"creds.json\",source=\"sqlite\"):\n",
    "    \"\"\" Using directory and filename parameters, open a credentials file\n",
    "        and obtain the two parts needed for a connection string to\n",
    "        a local provider using the \"sqlite\" dictionary within\n",
    "        an outer dictionary.  \n",
    "        \n",
    "        Return a scheme and a dbfile\n",
    "    \"\"\"\n",
    "    assert os.path.isfile(os.path.join(dirname, filename))\n",
    "    with open(os.path.join(dirname, filename)) as f:\n",
    "        D = json.load(f)\n",
    "    sqlite = D[source]\n",
    "    return sqlite[\"scheme\"], sqlite[\"dbdir\"], sqlite[\"database\"]"
   ]
  },
  {
   "cell_type": "code",
   "execution_count": null,
   "metadata": {},
   "outputs": [],
   "source": [
    "scheme, dbdir, database = getsqlite_creds(source=\"sqlite\")\n",
    "template = '{}:///{}/{}.db'\n",
    "cstring = template.format(scheme, dbdir, database)\n",
    "print(\"Connection string:\", cstring)"
   ]
  },
  {
   "cell_type": "markdown",
   "metadata": {},
   "source": [
    "#### Establish Connection from Client to Server"
   ]
  },
  {
   "cell_type": "code",
   "execution_count": null,
   "metadata": {},
   "outputs": [],
   "source": [
    "%sql $cstring"
   ]
  },
  {
   "cell_type": "markdown",
   "metadata": {},
   "source": [
    "---\n",
    "\n",
    "## Part A: Familiarizing Yourself with the Database\n",
    "\n",
    "For this homework, you'll be working with the `school` database.  The schema is shown below."
   ]
  },
  {
   "cell_type": "code",
   "execution_count": null,
   "metadata": {},
   "outputs": [],
   "source": [
    "from IPython.display import Image\n",
    "Image(\"figs/school_schema.jpg\", width=600, height=600)"
   ]
  },
  {
   "cell_type": "markdown",
   "metadata": {
    "deletable": false,
    "editable": false,
    "nbgrader": {
     "cell_type": "markdown",
     "checksum": "d0f7af3f221eeefb0d779df21126a846",
     "grade": false,
     "grade_id": "cell-d6749c5a3b138384",
     "locked": true,
     "schema_version": 3,
     "solution": false,
     "task": false
    }
   },
   "source": [
    "**Q1:** In reference to the `school` database, how many departments are there? Your query should result in a 1 x 1 table with just one number in it."
   ]
  },
  {
   "cell_type": "code",
   "execution_count": null,
   "metadata": {
    "deletable": false,
    "nbgrader": {
     "cell_type": "code",
     "checksum": "c14b753d190d022926fb2af63475a8e4",
     "grade": false,
     "grade_id": "cell-813f3d8c501abc88",
     "locked": false,
     "schema_version": 3,
     "solution": true,
     "task": false
    }
   },
   "outputs": [],
   "source": [
    "query = \"\"\"\n",
    "\"\"\"\n",
    "# YOUR CODE HERE\n",
    "raise NotImplementedError()\n",
    "\n",
    "resultset = %sql $query\n",
    "resultdf1 = resultset.DataFrame()\n",
    "resultdf1.head()"
   ]
  },
  {
   "cell_type": "code",
   "execution_count": null,
   "metadata": {
    "deletable": false,
    "editable": false,
    "nbgrader": {
     "cell_type": "code",
     "checksum": "e169ba64306829f2bf6a5585998e21c4",
     "grade": true,
     "grade_id": "cell-55217154c20cac6f",
     "locked": true,
     "points": 1,
     "schema_version": 3,
     "solution": false,
     "task": false
    }
   },
   "outputs": [],
   "source": [
    "# Testing cell\n",
    "assert resultdf1.iloc[0,0] == 36"
   ]
  },
  {
   "cell_type": "markdown",
   "metadata": {
    "deletable": false,
    "editable": false,
    "nbgrader": {
     "cell_type": "markdown",
     "checksum": "c5edddc09e4cc6fb69887b1c7024355c",
     "grade": false,
     "grade_id": "cell-0b928df805d2e793",
     "locked": true,
     "schema_version": 3,
     "solution": false,
     "task": false
    }
   },
   "source": [
    "**Q2:** In reference to the `school` database, how many departments appear to address multiple distinct areas of study?\n",
    "\n",
    "_Hint:_ this question is asking about the field `departmentname`, but your answer should be general enough that it would work even if some departments changed name (e.g., \"Cinema and Culture\") or if new departments were added (e.g., \"Agriculture/Culinary studies\")."
   ]
  },
  {
   "cell_type": "code",
   "execution_count": null,
   "metadata": {
    "deletable": false,
    "nbgrader": {
     "cell_type": "code",
     "checksum": "f9a4eee164a5f9ed9ae7212406158078",
     "grade": false,
     "grade_id": "cell-1fde10ade11087a6",
     "locked": false,
     "schema_version": 3,
     "solution": true,
     "task": false
    }
   },
   "outputs": [],
   "source": [
    "# Hint: look for 'and', &, /\n",
    " \n",
    "query = \"\"\"\n",
    "\"\"\"\n",
    "# YOUR CODE HERE\n",
    "raise NotImplementedError()\n",
    "\n",
    "resultset = %sql $query\n",
    "resultdf2 = resultset.DataFrame()\n",
    "resultdf2.head()"
   ]
  },
  {
   "cell_type": "code",
   "execution_count": null,
   "metadata": {
    "deletable": false,
    "editable": false,
    "nbgrader": {
     "cell_type": "code",
     "checksum": "b9d74e77c067e30e7409d2578faab69f",
     "grade": true,
     "grade_id": "cell-93ae1b241c387745",
     "locked": true,
     "points": 2,
     "schema_version": 3,
     "solution": false,
     "task": false
    }
   },
   "outputs": [],
   "source": [
    "# Testing cell\n",
    "assert resultdf2.iloc[0,0] == 9"
   ]
  },
  {
   "cell_type": "markdown",
   "metadata": {
    "deletable": false,
    "editable": false,
    "nbgrader": {
     "cell_type": "markdown",
     "checksum": "e6abc96cbe5f68daca7665461fdc8e92",
     "grade": false,
     "grade_id": "cell-7f186baf19e8c17f",
     "locked": true,
     "schema_version": 3,
     "solution": false,
     "task": false
    }
   },
   "source": [
    "**Q3:** In reference to the `school` database, how many classes have at least three sections? Your query should result in a 1 x 1 table."
   ]
  },
  {
   "cell_type": "code",
   "execution_count": null,
   "metadata": {
    "deletable": false,
    "nbgrader": {
     "cell_type": "code",
     "checksum": "6bb1f554f1ba90b1a25056de3971a3cc",
     "grade": false,
     "grade_id": "cell-05098357e6c13aa5",
     "locked": false,
     "schema_version": 3,
     "solution": true,
     "task": false
    }
   },
   "outputs": [],
   "source": [
    "query = \"\"\"\n",
    "\"\"\"\n",
    "# YOUR CODE HERE\n",
    "raise NotImplementedError()\n",
    "\n",
    "resultset = %sql $query\n",
    "resultdf3 = resultset.DataFrame()\n",
    "resultdf3.head()"
   ]
  },
  {
   "cell_type": "code",
   "execution_count": null,
   "metadata": {
    "deletable": false,
    "editable": false,
    "nbgrader": {
     "cell_type": "code",
     "checksum": "c144729c6b888fe195148ded8f358b69",
     "grade": true,
     "grade_id": "cell-c2986fe0d56c7522",
     "locked": true,
     "points": 2,
     "schema_version": 3,
     "solution": false,
     "task": false
    }
   },
   "outputs": [],
   "source": [
    "# Testing cell\n",
    "assert resultdf3.iloc[0,0] == 160"
   ]
  },
  {
   "cell_type": "markdown",
   "metadata": {
    "deletable": false,
    "editable": false,
    "nbgrader": {
     "cell_type": "markdown",
     "checksum": "c319b460329c52fe9056b921144df423",
     "grade": false,
     "grade_id": "cell-ca0441f511c8bb02",
     "locked": true,
     "schema_version": 3,
     "solution": false,
     "task": false
    }
   },
   "source": [
    "**Q4:** In reference to the `school` database, how many students are from each state?  Order your results by state (alphabetically) and alias your new column as `count`.  You should omit NULL entries."
   ]
  },
  {
   "cell_type": "code",
   "execution_count": null,
   "metadata": {
    "deletable": false,
    "nbgrader": {
     "cell_type": "code",
     "checksum": "d6690027d3d024b1ab872a1f16b6ea5f",
     "grade": true,
     "grade_id": "cell-b03265b79a15e496",
     "locked": false,
     "points": 2,
     "schema_version": 3,
     "solution": true,
     "task": false
    }
   },
   "outputs": [],
   "source": [
    "query = \"\"\"\n",
    "\"\"\"\n",
    "# YOUR CODE HERE\n",
    "raise NotImplementedError()\n",
    "\n",
    "resultset = %sql $query\n",
    "resultdf4 = resultset.DataFrame()\n",
    "resultdf4.head()"
   ]
  },
  {
   "cell_type": "code",
   "execution_count": null,
   "metadata": {
    "deletable": false,
    "editable": false,
    "nbgrader": {
     "cell_type": "code",
     "checksum": "c144729c6b888fe195148ded8f358b69",
     "grade": true,
     "grade_id": "cell-c2986fe0d56c7522",
     "locked": true,
     "points": 2,
     "schema_version": 3,
     "solution": false,
     "task": false
    }
   },
   "outputs": [],
   "source": [
    "# Testing cell\n",
    "assert resultdf4.loc[0,\"count\"] == 1\n",
    "assert resultdf4.loc[24,\"count\"] == 25\n",
    "assert resultdf4.loc[37,\"count\"] == 531"
   ]
  },
  {
   "cell_type": "markdown",
   "metadata": {
    "deletable": false,
    "editable": false,
    "nbgrader": {
     "cell_type": "markdown",
     "checksum": "76492d4f4c1371cbee02719c9a17ee0d",
     "grade": false,
     "grade_id": "cell-0f5b56f8e2cea76e",
     "locked": true,
     "schema_version": 3,
     "solution": false,
     "task": false
    }
   },
   "source": [
    "---\n",
    "\n",
    "## Part B: Multi-Table Inner Joins\n",
    "\n",
    "Recall from class that we can join two tables together using the following change to our _table-spec_:\n",
    "\n",
    "_table-spec_ |= _table_ | (subquery) AS newName | _join-table_\n",
    "\n",
    "where an inner join is specified using:\n",
    "\n",
    "_join-table_ |= _table-spec_ [AS alias1] INNER JOIN _table-spec_ [AS alias2] ON _match-cond_\n",
    "\n",
    "or:\n",
    "\n",
    "_join-table_ |= _table-spec_ [AS alias1] INNER JOIN _table-spec_ [AS alias2] USING (_common-fields_)\n",
    "\n",
    "For example, we could find the meeting times of each spring-semester class of any course worth 2 credits (sorted by the course subject and then number):"
   ]
  },
  {
   "cell_type": "code",
   "execution_count": null,
   "metadata": {},
   "outputs": [],
   "source": [
    "query = \"\"\"\n",
    "SELECT co.coursesubject, co.coursenum, co.coursehours, cl.classmeeting\n",
    "FROM classes as cl INNER JOIN courses as co\n",
    "    ON cl.coursesubject = co.coursesubject AND\n",
    "       cl.coursenum = co.coursenum\n",
    "WHERE cl.classterm = 'SPRING' AND co.coursehours >= 2 AND\n",
    "      cl.classmeeting IS NOT NULL\n",
    "ORDER BY co.coursesubject, cl.coursenum\n",
    "\"\"\"\n",
    "\n",
    "resultset = %sql $query\n",
    "resultset.DataFrame()"
   ]
  },
  {
   "cell_type": "markdown",
   "metadata": {},
   "source": [
    "\n",
    "**Q5:** Using the SQL database `school`, select departments (by name) and instructors in each department (first and last name).  Order alphabetically by department name and then instructor last name.  Only include departments that have instructors and instructors that are part of departments."
   ]
  },
  {
   "cell_type": "code",
   "execution_count": null,
   "metadata": {
    "deletable": false,
    "nbgrader": {
     "cell_type": "code",
     "checksum": "bf84c3f47b59aa69d56df98fd95f43e2",
     "grade": false,
     "grade_id": "cell-5607a6a9e0e392f6",
     "locked": false,
     "schema_version": 3,
     "solution": true,
     "task": false
    }
   },
   "outputs": [],
   "source": [
    "query = \"\"\"\n",
    "\"\"\"\n",
    "# YOUR CODE HERE\n",
    "raise NotImplementedError()\n",
    "\n",
    "resultset = %sql $query\n",
    "resultdf5 = resultset.DataFrame()\n",
    "print(len(resultdf5))\n",
    "resultdf5.head()"
   ]
  },
  {
   "cell_type": "code",
   "execution_count": null,
   "metadata": {
    "deletable": false,
    "editable": false,
    "nbgrader": {
     "cell_type": "code",
     "checksum": "9a09e83541d9f7486433898bbfeefacd",
     "grade": true,
     "grade_id": "cell-8fc210c27d5a01c0",
     "locked": true,
     "points": 2,
     "schema_version": 3,
     "solution": false,
     "task": false
    }
   },
   "outputs": [],
   "source": [
    "# Testing cell\n",
    "assert len(resultdf5) == 293 or len(resultdf5) == 277\n",
    "assert list(resultdf5.columns) == ['departmentname', 'instructorfirst', 'instructorlast']"
   ]
  },
  {
   "cell_type": "markdown",
   "metadata": {},
   "source": [
    "---\n",
    "\n",
    "---\n",
    "\n",
    "## Part C\n",
    "\n",
    "**Q6:** How much time (in minutes/hours) did you spend on this homework assignment?"
   ]
  },
  {
   "cell_type": "markdown",
   "metadata": {},
   "source": [
    "YOUR ANSWER HERE"
   ]
  },
  {
   "cell_type": "markdown",
   "metadata": {},
   "source": [
    "**Q7:** Who was your partner for this assignment?  If you worked alone, say so instead."
   ]
  },
  {
   "cell_type": "markdown",
   "metadata": {},
   "source": [
    "YOUR ANSWER HERE"
   ]
  }
 ],
 "metadata": {
  "kernelspec": {
   "display_name": "Python 3",
   "language": "python",
   "name": "python3"
  },
  "language_info": {
   "codemirror_mode": {
    "name": "ipython",
    "version": 3
   },
   "file_extension": ".py",
   "mimetype": "text/x-python",
   "name": "python",
   "nbconvert_exporter": "python",
   "pygments_lexer": "ipython3",
   "version": "3.9.7"
  }
 },
 "nbformat": 4,
 "nbformat_minor": 4
}
