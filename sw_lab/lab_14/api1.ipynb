{
 "cells": [
  {
   "cell_type": "markdown",
   "metadata": {},
   "source": [
    "# Denison CS181/DA210 SW Lab #14 - Step 1\n",
    "\n",
    "Before you turn this problem in, make sure everything runs as expected. This is a combination of **restarting the kernel** and then **running all cells** (in the menubar, select Kernel$\\rightarrow$Restart And Run All).\n",
    "\n",
    "Make sure you fill in any place that says `# YOUR CODE HERE` or \"YOUR ANSWER HERE\"."
   ]
  },
  {
   "cell_type": "markdown",
   "metadata": {},
   "source": [
    "---"
   ]
  },
  {
   "cell_type": "code",
   "execution_count": null,
   "metadata": {},
   "outputs": [],
   "source": [
    "import os\n",
    "import os.path\n",
    "import sys\n",
    "import importlib\n",
    "import json\n",
    "import requests\n",
    "\n",
    "if os.path.isdir(os.path.join(\"../../..\", \"modules\")):\n",
    "    module_dir = os.path.join(\"../../..\", \"modules\")\n",
    "else:\n",
    "    module_dir = os.path.join(\"../..\", \"modules\")\n",
    "\n",
    "module_path = os.path.abspath(module_dir)\n",
    "if not module_path in sys.path:\n",
    "    sys.path.append(module_path)\n",
    "\n",
    "import util\n",
    "importlib.reload(util)"
   ]
  },
  {
   "cell_type": "markdown",
   "metadata": {},
   "source": [
    "---\n",
    "\n",
    "## Part A: Endpoints (via GitHub API)\n",
    "\n",
    "API providers generally define a set of _endpoints_, which utilize the resource-tree structure of the resource path in an HTTP request.\n",
    "\n",
    "We'll first consider the [GitHub API](https://docs.github.com/en/rest).  The provider, GitHub, defines a _root endpoint_ that serves as a \"meta\" endpoint, providing data about the other endpoints available.  This data is given as a JSON object."
   ]
  },
  {
   "cell_type": "code",
   "execution_count": null,
   "metadata": {},
   "outputs": [],
   "source": [
    "# Access the root endpoint of the GitHub API\n",
    "resource_path = \"/\"\n",
    "location = \"api.github.com\"\n",
    "url = util.buildURL(resource_path, location)\n",
    "\n",
    "response = requests.get(url)\n",
    "assert response.status_code == 200\n",
    "\n",
    "# The root endpoint provides a JSON-formatted result\n",
    "# of the top-level endpoints available in the GitHub API\n",
    "endpoints = response.json()\n",
    "util.print_data(endpoints, nlines=10)"
   ]
  },
  {
   "cell_type": "markdown",
   "metadata": {},
   "source": [
    "The results from the GitHub API's root endpoint include specific endpoints for interacting with, among other things:\n",
    "\n",
    "- organizations:\n",
    "\n",
    "  - to list repositories of a particular organization and\n",
    "  - to get detailed information about an organization.\n",
    "\n",
    "- repositories:\n",
    "\n",
    "  - to list public repositories.\n",
    "\n",
    "- users/owners:\n",
    "\n",
    "  - to retrieve basic information about the user,\n",
    "  - to find the set of users who are followers of a user,\n",
    "  - to find the set of users this user is following, and\n",
    "  - to retrieve information about a particular repository of this user.\n",
    "\n",
    "As an example, we'll look at the `/events` endpoint."
   ]
  },
  {
   "cell_type": "code",
   "execution_count": null,
   "metadata": {},
   "outputs": [],
   "source": [
    "# Access the non-root /events endpoint of the GitHub API\n",
    "resource_path = \"/events\"\n",
    "url = util.buildURL(resource_path, location)\n",
    "\n",
    "response = requests.get(url)\n",
    "assert response.status_code == 200\n",
    "\n",
    "# The /events endpoint provides a JSON-formatted list of dictionaries,\n",
    "# with each dictionary representing one event\n",
    "event_list = response.json()\n",
    "print(\"Number of events received:\", len(event_list))\n",
    "\n",
    "util.print_data(event_list, depth=2, nchild=7, nlines=25)"
   ]
  },
  {
   "cell_type": "markdown",
   "metadata": {},
   "source": [
    "---\n",
    "\n",
    "## Part B: Path Parameters\n",
    "\n",
    "In the previous section, we considered the `/events` endpoint, which did not make use of parameters.  Therefore, we could also view the results in a browswer: http://api.github.com/events.\n",
    "\n",
    "Some APIs use the _endpoint-path_ portion of the _resource-path_ in a request to provide parameters as steps within the path.  An example of this is the endpoint to query information about a specific organization from the GitHub API.\n",
    "\n",
    "Such a request is shown as:\n",
    "```\n",
    "GET /orgs/:org\n",
    "```\n",
    "where `:org` specifies a parameter that must be inserted.  Note that some API documentation will use `{variable}` or `<<variable>>` instead of `:variable` to identify parameters that must be provided.\n",
    "\n",
    "You can see more about this endpoint in the [GitHub API documentation](https://docs.github.com/en/rest/orgs/orgs#get-an-organization).\n",
    "\n",
    "We'll try it out for the `microsoft` organization."
   ]
  },
  {
   "cell_type": "code",
   "execution_count": null,
   "metadata": {},
   "outputs": [],
   "source": [
    "# Use the endpoint-path portion of the resource-path to encode parameters\n",
    "org = \"microsoft\"\n",
    "resource_path = f\"/orgs/{org}\" # using format-string instead of s.format()\n",
    "url = util.buildURL(resource_path, location)\n",
    "\n",
    "response = requests.get(url)\n",
    "assert response.status_code == 200\n",
    "\n",
    "# The /orgs endpoint provides JSON-formatted info about a given org\n",
    "data = response.json()\n",
    "util.print_data(data, depth=3, nchild=7, width=80)"
   ]
  },
  {
   "cell_type": "markdown",
   "metadata": {},
   "source": [
    "Similarly, we can view events related to a specific repository belonging to a specific organization, using the endpoint:\n",
    "```\n",
    "GET /repos/:owner/:repo/events\n",
    "```\n",
    "\n",
    "One public Microsoft repository is [`vscode`](https://github.com/microsoft/vscode), the repository housing the code for [Visual Studio Code](https://code.visualstudio.com/).  We'll again use path parameters to perform a `GET` request using this endpoint."
   ]
  },
  {
   "cell_type": "code",
   "execution_count": null,
   "metadata": {},
   "outputs": [],
   "source": [
    "# Use the endpoint-path portion of the resource-path to encode parameters\n",
    "org = \"microsoft\"\n",
    "repo = \"vscode\"\n",
    "resource_path = f\"/repos/{org}/{repo}/events\" # using format-string\n",
    "url = util.buildURL(resource_path, location)\n",
    "\n",
    "response = requests.get(url)\n",
    "assert response.status_code == 200\n",
    "\n",
    "# The /repos/:owner/:repo/events endpoint provides a list of\n",
    "# JSON-formatted events for a given repository belonging to a given org\n",
    "data = response.json()\n",
    "util.print_data(data, depth=3, nchild=7, nlines=30, width=80)"
   ]
  },
  {
   "cell_type": "markdown",
   "metadata": {},
   "source": [
    "**Q1:** Now, try out another GitHub API endpoint that uses path parameters.  For example, you could [list repository contributors](https://docs.github.com/en/rest/repos/repos#list-repository-contributors), [list repository issues](https://docs.github.com/en/rest/issues/issues#list-repository-issues), or [list your own public repositories](https://docs.github.com/en/rest/repos/repos#list-repositories-for-a-user)."
   ]
  },
  {
   "cell_type": "code",
   "execution_count": null,
   "metadata": {},
   "outputs": [],
   "source": [
    "# YOUR CODE HERE\n",
    "raise NotImplementedError()"
   ]
  },
  {
   "cell_type": "markdown",
   "metadata": {},
   "source": [
    "> You've reached the first checkpoint in the lab.  Make sure to have it signed off by the instructor or TA.\n",
    ">\n",
    "> Checkpoint 1: Look at the documentation for the GitHub API endpoint you tried out.  What are the possible status codes your request can return?"
   ]
  },
  {
   "cell_type": "markdown",
   "metadata": {},
   "source": [
    "---\n",
    "\n",
    "## Part C: Authenticating API Key\n",
    "\n",
    "Although GitHub has endpoints that can illustrate the remaining concepts we'll explore, it can be helpful to see multiple examples.  For this, we'll use The Movie Database (TMDB).\n",
    "\n",
    "First, you'll need to make a free TMDB account to work with its API: [https://www.themoviedb.org/signup](https://www.themoviedb.org/signup).\n",
    "\n",
    "Here are some helpful links:\n",
    "\n",
    "- TMDB Terms of Use: [https://www.themoviedb.org/documentation/api/terms-of-use](https://www.themoviedb.org/documentation/api/terms-of-use)\n",
    "- TMDB API Getting Started page: [https://developers.themoviedb.org/3/getting-started/introduction](https://developers.themoviedb.org/3/getting-started/introduction)\n",
    "- TMDB API Documentation: [https://www.themoviedb.org/documentation/api](https://www.themoviedb.org/documentation/api)"
   ]
  },
  {
   "cell_type": "markdown",
   "metadata": {},
   "source": [
    "Some APIs require an API key, which is obtained by an application developer, and identifies the application the API.  Your API key is like a password -- you should not share it with anyone!\n",
    "\n",
    "Before continuing, register an \"application\" with TMDB to get an API key: [https://www.themoviedb.org/settings/api](https://www.themoviedb.org/settings/api).\n",
    "\n",
    "Note that you do not need to give too much information.  For example, you could reasonably use Denison's campus address for the address.  Here is an example:\n",
    "\n",
    "```\n",
    "    Application Type: Personal\n",
    "\n",
    "    Application Name: Test Application\n",
    "    Application URL: localhost\n",
    "    Application Summary: Test application to try out TMDB API\n",
    "\n",
    "    Address: 100 West College Street, Granville, Ohio 43023\n",
    "```"
   ]
  },
  {
   "cell_type": "markdown",
   "metadata": {},
   "source": [
    "You should treat your API key like a password -- it unqiuely identifies you.  We'll store it locally in a `creds.json` file.  Open [creds.json](`creds.json`) and paste your \"API Key (v3 auth) from https://www.themoviedb.org/settings/api as the value for the key `\"apikey\"`.  Your file should look something like this (note that the API key below is not valid, but it's the same length yours should be):"
   ]
  },
  {
   "cell_type": "code",
   "execution_count": null,
   "metadata": {},
   "outputs": [],
   "source": [
    "{\n",
    "    \"tmdb\": {\n",
    "        \"protocol\": \"https\",\n",
    "        \"location\": \"api.themoviedb.org\",\n",
    "        \"apikey\": \"64cefb3e82db8d373423a7bd0aa8956d\"\n",
    "    }\n",
    "}"
   ]
  },
  {
   "cell_type": "markdown",
   "metadata": {},
   "source": [
    "**Q2:** Perform an API request given your API key.  Note that we can use another utility function to parse the JSON-formatted `creds.json`, returning the dictionary for `\"tmdb\"` information.\n",
    "\n",
    "Write code to access this endpoint: `https://api.themoviedb.org/3/tv/popular?api_key={apikey}`."
   ]
  },
  {
   "cell_type": "code",
   "execution_count": null,
   "metadata": {},
   "outputs": [],
   "source": [
    "# Use a util function to read the API key from creds.json\n",
    "tmdb_creds = util.read_creds(\"tmdb\", \".\", \"creds.json\")\n",
    "apikey = tmdb_creds[\"apikey\"]\n",
    "\n",
    "# YOUR CODE HERE\n",
    "raise NotImplementedError()"
   ]
  },
  {
   "cell_type": "markdown",
   "metadata": {},
   "source": [
    "> You've reached the second checkpoint in the lab.  Make sure to have it signed off by the instructor or TA.\n",
    ">\n",
    "> Checkpoint 2: What is the type of the result for this request?  How many results does it return?  From looking at the [documentation for this endpoint](https://developers.themoviedb.org/3/tv/get-popular-tv-shows), what are the possible response status codes?"
   ]
  },
  {
   "cell_type": "markdown",
   "metadata": {},
   "source": [
    "---\n",
    "\n",
    "## Part D: Query Parameters\n",
    "\n",
    "In addition to the API key, we can provide other parameters as part of the _query-string_ portion of the _resource-path_ in a `GET` request.  For example, the `/search` endpoint of the TMDB API allows us to provide the `query` string to search for movies matching that query."
   ]
  },
  {
   "cell_type": "code",
   "execution_count": null,
   "metadata": {},
   "outputs": [],
   "source": [
    "# Build the URL\n",
    "resource_path = \"/3/search/movie\"\n",
    "location = \"api.themoviedb.org\"\n",
    "url = util.buildURL(resource_path, location)\n",
    "\n",
    "# Use a util function to read the API key from creds.json\n",
    "tmdb_creds = util.read_creds(\"tmdb\", \".\", \"creds.json\")\n",
    "apikey = tmdb_creds[\"apikey\"]\n",
    "\n",
    "query_params = {\"query\": \"Star Wars\",\n",
    "                \"api_key\": apikey}\n",
    "\n",
    "# Use the query parameters within the request\n",
    "response = requests.get(url, params=query_params)\n",
    "print(response.status_code)\n",
    "assert response.status_code == 200\n",
    "\n",
    "# Look at how the path URL was encoded (e.g., the space as +)\n",
    "print(response.request.path_url[:46] + \"...\")\n",
    "\n",
    "# View the resulting JSON\n",
    "search_results = response.json()\n",
    "util.print_data(search_results, depth=2, nchild=9, nlines=30, width=80)"
   ]
  },
  {
   "cell_type": "markdown",
   "metadata": {},
   "source": [
    "---\n",
    "\n",
    "## Part E: Header Parameters\n",
    "\n",
    "The final place we may supply parameters to a `GET` request is within the request headers.  For example, even though TMDB always returns JSON-formatted data, some other APIs may allow the client to specify the desired data format, e.g., `\"Accept\": \"application/json\"` or `\"Accept\": \"text/xml\"`.\n",
    "\n",
    "Looking at the TMDB API documentation, you would find the headers are required for `POST` and `DELETE` requests, as well as `GET` requests related to a specific account; these headers have additional authentication information (discussed in Chatper 24).\n",
    "\n",
    "For now, we can still create a headers dictionary and provide it for our `GET` requests, even if it may be ignored."
   ]
  },
  {
   "cell_type": "code",
   "execution_count": null,
   "metadata": {},
   "outputs": [],
   "source": [
    "# Build the URL\n",
    "resource_path = \"/3/search/movie\"\n",
    "location = \"api.themoviedb.org\"\n",
    "url = util.buildURL(resource_path, location)\n",
    "\n",
    "# Use a util function to read the API key from creds.json\n",
    "tmdb_creds = util.read_creds(\"tmdb\", \".\", \"creds.json\")\n",
    "apikey = tmdb_creds[\"apikey\"]\n",
    "\n",
    "query_params = {\"query\": \"Star Wars\",\n",
    "                \"api_key\": apikey}\n",
    "header_params = {\"Content-Type\": \"application/json\",\n",
    "                 \"Accept-Encoding\": \"gzip, deflate\"}\n",
    "\n",
    "# Use the query and header parameters within the request\n",
    "response = requests.get(url, params=query_params, headers=header_params)\n",
    "assert response.status_code == 200\n",
    "\n",
    "# View the headers of the request\n",
    "request = response.request\n",
    "util.print_headers(request.headers)"
   ]
  },
  {
   "cell_type": "markdown",
   "metadata": {},
   "source": [
    "Note that our headers may be ignored.  For instance, TMDB will only provide JSON-formatted data, so if we give a different `Content-Type`, it still provides valid JSON."
   ]
  },
  {
   "cell_type": "code",
   "execution_count": null,
   "metadata": {},
   "outputs": [],
   "source": [
    "# Repeat the previous request, but specify a different content type\n",
    "# (which will be ignored by the API)\n",
    "header_params = {\"Content-Type\": \"text/html\",\n",
    "                 \"Accept-Encoding\": \"gzip, deflate\"}\n",
    "\n",
    "# Use the query and header parameters within the request\n",
    "response = requests.get(url, params=query_params, headers=header_params)\n",
    "assert response.status_code == 200\n",
    "\n",
    "# View the headers of the request\n",
    "request = response.request\n",
    "util.print_headers(request.headers)"
   ]
  },
  {
   "cell_type": "code",
   "execution_count": null,
   "metadata": {},
   "outputs": [],
   "source": [
    "# Try to parse the result as JSON\n",
    "data = response.json()\n",
    "util.print_data(search_results, depth=2, nchild=9, nlines=10, width=80)"
   ]
  },
  {
   "cell_type": "markdown",
   "metadata": {},
   "source": [
    "However, some APIs are more restrictive than general web resources, so it is not a good idea to use unsupported headers.  For instance, the TMDB API does not support `\"Transfer-Encoding\": \"chunked\"`, and adding this header results in a `501: Not Implemented` status code for the response."
   ]
  },
  {
   "cell_type": "code",
   "execution_count": null,
   "metadata": {},
   "outputs": [],
   "source": [
    "# Repeat the previous request, but add an unsupported header\n",
    "header_params = {\"Content-Type\": \"text/html\",\n",
    "                 \"Accept-Encoding\": \"gzip, deflate\",\n",
    "                 \"Transfer-Encoding\": \"chunked\"}\n",
    "\n",
    "# Use the query and header parameters within the request\n",
    "response = requests.get(url, params=query_params, headers=header_params)\n",
    "print(\"Status code:\", response.status_code) # 501: Not Implemented"
   ]
  },
  {
   "cell_type": "markdown",
   "metadata": {},
   "source": [
    "---\n",
    "\n",
    "## Part F: `POST` and `POST` Body\n",
    "\n",
    "For our final example, we build a `POST` request to rate a movie using the TMDB API.  If we look at the [documentation for this endpoint](https://developers.themoviedb.org/3/movies/rate-movie), we'll see that we need the following:\n",
    "\n",
    "- Path parameter: `movie_id` (integer) - the movie to rate\n",
    "- Header: `Content-Type` (string) - content type, defaults to `\"application/json;charset=utf-8\"`\n",
    "- Query String: `api_key` (string) - your API key\n",
    "- Request Body: `value` (number) - the rating\n",
    "\n",
    "The `POST` request will not succeed unless we provide a guest session ID (this is separate from the user's API key).  First, we retrieve a guest session ID:"
   ]
  },
  {
   "cell_type": "code",
   "execution_count": null,
   "metadata": {},
   "outputs": [],
   "source": [
    "# Build the URL\n",
    "resource_path = \"/3/authentication/guest_session/new\"\n",
    "location = \"api.themoviedb.org\"\n",
    "url = util.buildURL(resource_path, location)\n",
    "\n",
    "# Use a util function to read the API key from creds.json\n",
    "tmdb_creds = util.read_creds(\"tmdb\", \".\", \"creds.json\")\n",
    "apikey = tmdb_creds[\"apikey\"]\n",
    "\n",
    "query_params = {\"api_key\": apikey}\n",
    "\n",
    "# Perform a GET request to receive a guest session ID\n",
    "response = requests.get(url, params=query_params)\n",
    "assert response.status_code == 200\n",
    "\n",
    "results = response.json()\n",
    "util.print_data(results, depth=2, nchild=3)"
   ]
  },
  {
   "cell_type": "markdown",
   "metadata": {},
   "source": [
    "Copy the guest session ID you receive into the code cell below.  Now we can execute the `POST` request.  Note the provided body, as well as the expected status code for the response."
   ]
  },
  {
   "cell_type": "code",
   "execution_count": null,
   "metadata": {},
   "outputs": [],
   "source": [
    "# Use the endpoint-path portion of the resource-path to encode parameters\n",
    "movie_id = 181812\n",
    "resource_path = f\"/3/movie/{movie_id}/rating\"\n",
    "location = \"api.themoviedb.org\"\n",
    "url = util.buildURL(resource_path, location)\n",
    "\n",
    "# Use a util function to read the API key from creds.json\n",
    "tmdb_creds = util.read_creds(\"tmdb\", \".\", \"creds.json\")\n",
    "apikey = tmdb_creds[\"apikey\"]\n",
    "\n",
    "# TODO: use the result from the previous cell's output\n",
    "guest_session_id = \"# TODO\"\n",
    "query_params = {\"api_key\": apikey,\n",
    "                \"guest_session_id\": guest_session_id}\n",
    "header_params = {\"Content-Type\": \"application/json;charset=utf-8\"}\n",
    "\n",
    "# Build the body\n",
    "body = {\"value\": 9.5}\n",
    "bodystr = json.dumps(body)\n",
    "\n",
    "# Make the POST request\n",
    "response = requests.post(url,\n",
    "                         params=query_params,\n",
    "                         headers=header_params,\n",
    "                         data=bodystr)\n",
    "print(response.status_code)\n",
    "assert response.status_code == 201\n",
    "\n",
    "util.print_data(response.json())"
   ]
  },
  {
   "cell_type": "code",
   "execution_count": null,
   "metadata": {},
   "outputs": [],
   "source": [
    "print(bodystr)"
   ]
  },
  {
   "cell_type": "code",
   "execution_count": null,
   "metadata": {},
   "outputs": [],
   "source": [
    "print(response.request.body)"
   ]
  },
  {
   "cell_type": "markdown",
   "metadata": {},
   "source": [
    "> You've reached the third checkpoint in the lab.  Make sure to have it signed off by the instructor or TA.\n",
    ">\n",
    "> Checkpoint 3: Look at the response information printed/asserted for this example.  What does the status code mean?  What is the data type of the request body?  How do you know?"
   ]
  },
  {
   "cell_type": "markdown",
   "metadata": {},
   "source": [
    "---\n",
    "\n",
    "## Part G: Try It Out Yourself!\n",
    "\n",
    "**Q3:** Write a function \n",
    "```\n",
    "    getGenreDict(my_api_key)\n",
    "``` \n",
    "that returns a Python dictionary mapping **Movie** genre names to id numbers, e.g.,\n",
    "```\n",
    "    {'Action': 28,\n",
    "     'Adventure': 12,\n",
    "      ...}\n",
    "```\n",
    "\n",
    "Your function should only make a single call to `requests.get()`, with the appropriate [endpoint path](https://developers.themoviedb.org/3/genres/get-movie-list) for TMDB, and with the given API key.\n",
    "\n",
    "Return `None` if something goes wrong.  Note that this is not asking for the entire JSON result, but a dictionary mapping genre names to id numbers.\n",
    "\n",
    "You may want to write this as a global cell to get it working and to examine the results, and then convert it into a function."
   ]
  },
  {
   "cell_type": "code",
   "execution_count": null,
   "metadata": {},
   "outputs": [],
   "source": [
    "# YOUR CODE HERE\n",
    "raise NotImplementedError()"
   ]
  },
  {
   "cell_type": "code",
   "execution_count": null,
   "metadata": {},
   "outputs": [],
   "source": [
    "# Debugging cell\n",
    "d = getGenreDict(apikey)\n",
    "print(d)"
   ]
  },
  {
   "cell_type": "code",
   "execution_count": null,
   "metadata": {},
   "outputs": [],
   "source": [
    "# Testing cell\n",
    "d = getGenreDict(apikey)\n",
    "assert len(d) == 19\n",
    "assert d[\"Action\"] == 28\n",
    "assert d[\"Fantasy\"] == 14\n",
    "assert d[\"Music\"] == 10402"
   ]
  },
  {
   "cell_type": "markdown",
   "metadata": {},
   "source": [
    "**Q4:** Write a function \n",
    "```\n",
    "    search_person_id(my_api_key, name)\n",
    "``` \n",
    "that uses the `/search/person` endpoint ([https://developers.themoviedb.org/3/search/search-people](https://developers.themoviedb.org/3/search/search-people)) to conduct a search for the given `name`, and returns the `id` of the first entry in the `results` list. This should use only one call to `requests.get()`.\n",
    "\n",
    "Return `None` if something goes wrong, and return `-1` if there were no results."
   ]
  },
  {
   "cell_type": "code",
   "execution_count": null,
   "metadata": {},
   "outputs": [],
   "source": [
    "# YOUR CODE HERE\n",
    "raise NotImplementedError()"
   ]
  },
  {
   "cell_type": "code",
   "execution_count": null,
   "metadata": {},
   "outputs": [],
   "source": [
    "# Debugging cell\n",
    "print(search_person_id(apikey, \"Karen Gillan\"))"
   ]
  },
  {
   "cell_type": "code",
   "execution_count": null,
   "metadata": {},
   "outputs": [],
   "source": [
    "# Testing cell\n",
    "assert search_person_id(apikey, \"Karen Gillan\") == 543261\n",
    "assert search_person_id(apikey, \"Bradley Cooper\") == 51329\n",
    "\n",
    "assert search_person_id(apikey, \"Lulu Amert\") == None # no results for a cat\n",
    "assert search_person_id(apikey+'z', 'Bill Murray') == None # invalid API key"
   ]
  },
  {
   "cell_type": "markdown",
   "metadata": {},
   "source": [
    "> You've reached the fourth (and final) checkpoint in the lab.  Make sure to have it signed off by the instructor or TA.\n",
    ">\n",
    "> Checkpoint 4: For each of the previous two questions, what parameters did you need (that is, path parameters, query parameters, header parameters)?"
   ]
  },
  {
   "cell_type": "markdown",
   "metadata": {},
   "source": [
    "---\n",
    "\n",
    "---\n",
    "\n",
    "## Part H\n",
    "\n",
    "How much time (in minutes/hours) did you spend on this lab outside of class?"
   ]
  },
  {
   "cell_type": "markdown",
   "metadata": {},
   "source": [
    "YOUR ANSWER HERE"
   ]
  }
 ],
 "metadata": {
  "interpreter": {
   "hash": "c1b6934e936e1ef54c6a95f48075e41a1292402ce0d7d094af8478baa001b4f5"
  },
  "kernelspec": {
   "display_name": "Python 3.9.7 ('base')",
   "language": "python",
   "name": "python3"
  },
  "language_info": {
   "codemirror_mode": {
    "name": "ipython",
    "version": 3
   },
   "file_extension": ".py",
   "mimetype": "text/x-python",
   "name": "python",
   "nbconvert_exporter": "python",
   "pygments_lexer": "ipython3",
   "version": "3.9.7"
  },
  "orig_nbformat": 4
 },
 "nbformat": 4,
 "nbformat_minor": 2
}
