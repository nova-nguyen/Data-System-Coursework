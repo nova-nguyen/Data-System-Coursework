{
 "cells": [
  {
   "cell_type": "markdown",
   "metadata": {},
   "source": [
    "# Denison CS181/DA210 SW Lab #12 - Step 2\n",
    "\n",
    "Before you turn this problem in, make sure everything runs as expected. This is a combination of **restarting the kernel** and then **running all cells** (in the menubar, select Kernel$\\rightarrow$Restart And Run All).\n",
    "\n",
    "Make sure you fill in any place that says `# YOUR CODE HERE` or \"YOUR ANSWER HERE\"."
   ]
  },
  {
   "cell_type": "markdown",
   "metadata": {},
   "source": [
    "---"
   ]
  },
  {
   "cell_type": "markdown",
   "metadata": {},
   "source": [
    "#### Import Python modules"
   ]
  },
  {
   "cell_type": "code",
   "execution_count": null,
   "metadata": {
    "deletable": false,
    "editable": false,
    "nbgrader": {
     "cell_type": "code",
     "checksum": "2c15bf49fe13507b473a89ebc6ffdea5",
     "grade": false,
     "grade_id": "cell-b9abcf27cf7faf8f",
     "locked": true,
     "schema_version": 3,
     "solution": false,
     "task": false
    }
   },
   "outputs": [],
   "source": [
    "import pandas as pd\n",
    "import os\n",
    "import os.path\n",
    "import json\n",
    "import sqlalchemy as sa"
   ]
  },
  {
   "cell_type": "markdown",
   "metadata": {},
   "source": [
    "#### Set credentials"
   ]
  },
  {
   "cell_type": "code",
   "execution_count": null,
   "metadata": {},
   "outputs": [],
   "source": [
    "def getsqlite_creds(dirname=\".\",filename=\"creds.json\",source=\"sqlite\"):\n",
    "    \"\"\" Using directory and filename parameters, open a credentials file\n",
    "        and obtain the two parts needed for a connection string to\n",
    "        a local provider using the \"sqlite\" dictionary within\n",
    "        an outer dictionary.  \n",
    "        \n",
    "        Return a scheme and a dbfile\n",
    "    \"\"\"\n",
    "    assert os.path.isfile(os.path.join(dirname, filename))\n",
    "    with open(os.path.join(dirname, filename)) as f:\n",
    "        D = json.load(f)\n",
    "    sqlite = D[source]\n",
    "    return sqlite[\"scheme\"], sqlite[\"dbdir\"], sqlite[\"database\"]"
   ]
  },
  {
   "cell_type": "code",
   "execution_count": null,
   "metadata": {},
   "outputs": [],
   "source": [
    "def buildConnectionString(source=\"sqlite_book\"):\n",
    "    scheme, dbdir, database = getsqlite_creds(source=source)\n",
    "    template = '{}:///{}/{}.db'\n",
    "    return template.format(scheme, dbdir, database)\n",
    "\n",
    "cstring = buildConnectionString(\"sqlite_book\")\n",
    "print(\"Connection string:\", cstring)"
   ]
  },
  {
   "cell_type": "markdown",
   "metadata": {},
   "source": [
    "---\n",
    "\n",
    "## Part D: Using Variables with `sqlalchemy`\n",
    "\n",
    "#### Template strings\n",
    "\n",
    "We already know how to use Python string formatting to build template strings.  We can use this strategy to write SQL queries that use variables for the source of values (e.g., in the `WHERE` clause):"
   ]
  },
  {
   "cell_type": "code",
   "execution_count": null,
   "metadata": {},
   "outputs": [],
   "source": [
    "# Re-connect to the database\n",
    "engine = sa.create_engine(cstring)\n",
    "connection = engine.connect()"
   ]
  },
  {
   "cell_type": "code",
   "execution_count": null,
   "metadata": {},
   "outputs": [],
   "source": [
    "# Build a query template string\n",
    "query_template = \"\"\"\n",
    "SELECT code, pop, gdp, life\n",
    "FROM indicators\n",
    "WHERE year = {} AND life > {}\n",
    "\"\"\""
   ]
  },
  {
   "cell_type": "code",
   "execution_count": null,
   "metadata": {},
   "outputs": [],
   "source": [
    "# Use the template with year=2010 and threshold=82\n",
    "query_2010 = query_template.format(2010, 82)\n",
    "df1 = pd.read_sql_query(query_2010, con=connection)\n",
    "df1"
   ]
  },
  {
   "cell_type": "code",
   "execution_count": null,
   "metadata": {},
   "outputs": [],
   "source": [
    "# Use the template with year=2017 and threshold=84\n",
    "query_2017 = query_template.format(2017, 84)\n",
    "df2 = pd.read_sql_query(query_2017, con=connection)\n",
    "df2"
   ]
  },
  {
   "cell_type": "markdown",
   "metadata": {},
   "source": [
    "We could, in fact, write a function to abstract performing this query.  In the SQL query below, we also join with `countries` to get the name of the countries that pass the filters."
   ]
  },
  {
   "cell_type": "code",
   "execution_count": null,
   "metadata": {},
   "outputs": [],
   "source": [
    "def indicators_life(dbcon, year=2017, threshold=0):\n",
    "    query_template = \"\"\"\n",
    "    SELECT i.code, country, pop, gdp, life\n",
    "    FROM indicators AS i\n",
    "        INNER JOIN countries USING (code)\n",
    "    WHERE year = {} AND life > {}\n",
    "    \"\"\"\n",
    "\n",
    "    query = query_template.format(year, threshold)\n",
    "    return pd.read_sql_query(query, con=connection)"
   ]
  },
  {
   "cell_type": "code",
   "execution_count": null,
   "metadata": {},
   "outputs": [],
   "source": [
    "df3 = indicators_life(connection, year=2000, threshold=80)\n",
    "df3"
   ]
  },
  {
   "cell_type": "markdown",
   "metadata": {},
   "source": [
    "#### Variable binding\n",
    "\n",
    "The `sqlalchemy` package provides another possibility: _binding_ variables by providing the names of the bound variables in the query string, binding those variables to values in Python, and executing the resulting query."
   ]
  },
  {
   "cell_type": "code",
   "execution_count": null,
   "metadata": {},
   "outputs": [],
   "source": [
    "def indicators_life2(connection, year, threshold):\n",
    "    # Prepare\n",
    "    pyquery = \"\"\"\n",
    "    SELECT i.code, country, pop, gdp, life\n",
    "    FROM indicators AS i\n",
    "        INNER JOIN countries USING (code)\n",
    "    WHERE year = :yr AND life > :thrsh\n",
    "    \"\"\"\n",
    "    prepare_statement = sa.sql.text(pyquery)\n",
    "    \n",
    "    # Bind variables (match :x in query)\n",
    "    bound_statement = prepare_statement.bindparams(yr = year, thrsh = threshold)\n",
    "\n",
    "    # Execute\n",
    "    df = pd.read_sql_query(bound_statement, connection)\n",
    "    return df"
   ]
  },
  {
   "cell_type": "code",
   "execution_count": null,
   "metadata": {},
   "outputs": [],
   "source": [
    "df4 = indicators_life2(connection, 1980, 76)\n",
    "df4"
   ]
  },
  {
   "cell_type": "code",
   "execution_count": null,
   "metadata": {},
   "outputs": [],
   "source": [
    "df5 = indicators_life2(connection, 1990, 77)\n",
    "df5"
   ]
  },
  {
   "cell_type": "code",
   "execution_count": null,
   "metadata": {},
   "outputs": [],
   "source": [
    "# Close the connection!\n",
    "try:\n",
    "    connection.close()\n",
    "except:\n",
    "    pass\n",
    "del engine"
   ]
  },
  {
   "cell_type": "markdown",
   "metadata": {},
   "source": [
    "---\n",
    "\n",
    "We'll use this technique for populating tables with data.  For now, let's get some practice using the `school` database."
   ]
  },
  {
   "cell_type": "code",
   "execution_count": null,
   "metadata": {},
   "outputs": [],
   "source": [
    "# Build the connection\n",
    "\n",
    "cstring = buildConnectionString(\"sqlite_school\")\n",
    "print(\"Connection string:\", cstring)\n",
    "\n",
    "# Connect to the database\n",
    "engine = sa.create_engine(cstring)\n",
    "connection = engine.connect()"
   ]
  },
  {
   "cell_type": "markdown",
   "metadata": {},
   "source": [
    "**Q3:** Write a function\n",
    "```\n",
    "    departmentsByDivision(connection, division)\n",
    "```\n",
    "that queries the `departments` table for the set of departments (all fields) in the given `division`.  Use Python string composition and the `format()` method for building the query.  Return a `pandas` `DataFrame`."
   ]
  },
  {
   "cell_type": "code",
   "execution_count": null,
   "metadata": {},
   "outputs": [],
   "source": [
    "# YOUR CODE HERE\n",
    "raise NotImplementedError()"
   ]
  },
  {
   "cell_type": "code",
   "execution_count": null,
   "metadata": {},
   "outputs": [],
   "source": [
    "# Testing cell\n",
    "df_finearts = departmentsByDivision(connection, \"Fine Arts\")\n",
    "assert df_finearts.shape == (5, 4)\n",
    "assert \"Cinema\" in list(df_finearts[\"departmentname\"])\n",
    "\n",
    "df_inter = departmentsByDivision(connection, \"Interdisciplinary\")\n",
    "assert df_inter.shape == (13, 4)\n",
    "assert \"Biology\" not in list(df_inter[\"departmentname\"])"
   ]
  },
  {
   "cell_type": "markdown",
   "metadata": {},
   "source": [
    "**Q4:** Write a function\n",
    "```\n",
    "    departmentsByDivision2(connection, division)\n",
    "```\n",
    "that queries the `departments` table for the set of departments (all fields) in the given `division`.  Use _variable binding_ for building the query.  Return a `pandas` `DataFrame`."
   ]
  },
  {
   "cell_type": "code",
   "execution_count": null,
   "metadata": {},
   "outputs": [],
   "source": [
    "# YOUR CODE HERE\n",
    "raise NotImplementedError()"
   ]
  },
  {
   "cell_type": "code",
   "execution_count": null,
   "metadata": {},
   "outputs": [],
   "source": [
    "# Testing cell\n",
    "df_finearts = departmentsByDivision2(connection, \"Fine Arts\")\n",
    "assert df_finearts.shape == (5, 4)\n",
    "assert \"Cinema\" in list(df_finearts[\"departmentname\"])\n",
    "\n",
    "df_inter = departmentsByDivision2(connection, \"Interdisciplinary\")\n",
    "assert df_inter.shape == (13, 4)\n",
    "assert \"Biology\" not in list(df_inter[\"departmentname\"])"
   ]
  },
  {
   "cell_type": "code",
   "execution_count": null,
   "metadata": {},
   "outputs": [],
   "source": [
    "# Close the connection!\n",
    "try:\n",
    "    connection.close()\n",
    "except:\n",
    "    pass\n",
    "del engine"
   ]
  }
 ],
 "metadata": {
  "kernelspec": {
   "display_name": "Python 3",
   "language": "python",
   "name": "python3"
  },
  "language_info": {
   "codemirror_mode": {
    "name": "ipython",
    "version": 3
   },
   "file_extension": ".py",
   "mimetype": "text/x-python",
   "name": "python",
   "nbconvert_exporter": "python",
   "pygments_lexer": "ipython3",
   "version": "3.9.7"
  }
 },
 "nbformat": 4,
 "nbformat_minor": 4
}
