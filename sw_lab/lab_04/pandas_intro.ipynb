{
 "cells": [
  {
   "cell_type": "markdown",
   "metadata": {},
   "source": [
    "# Denison CS181/DA210 SW Lab #4 - Step 1\n",
    "\n",
    "Before you turn this problem in, make sure everything runs as expected. This is a combination of **restarting the kernel** and then **running all cells** (in the menubar, select Kernel$\\rightarrow$Restart And Run All).\n",
    "\n",
    "Make sure you fill in any place that says `# YOUR CODE HERE` or \"YOUR ANSWER HERE\"."
   ]
  },
  {
   "cell_type": "markdown",
   "metadata": {},
   "source": [
    "---"
   ]
  },
  {
   "cell_type": "code",
   "execution_count": 1,
   "metadata": {},
   "outputs": [],
   "source": [
    "import os\n",
    "import os.path\n",
    "import pandas as pd\n",
    "\n",
    "datadir = \"publicdata\""
   ]
  },
  {
   "cell_type": "markdown",
   "metadata": {},
   "source": [
    "---\n",
    "\n",
    "## Part A: Data Frame - Creation\n",
    "\n",
    "### Creation from Native Data Structure\n",
    "\n",
    "You can create a `DataFrame` given a variety of different 2D data representations.  For example, we can use our hard-coded DoL snippet from `topnames.csv`.  (Note that it is customary to refer to `pandas` as `pd`.)"
   ]
  },
  {
   "cell_type": "code",
   "execution_count": 2,
   "metadata": {},
   "outputs": [
    {
     "data": {
      "text/html": [
       "<div>\n",
       "<style scoped>\n",
       "    .dataframe tbody tr th:only-of-type {\n",
       "        vertical-align: middle;\n",
       "    }\n",
       "\n",
       "    .dataframe tbody tr th {\n",
       "        vertical-align: top;\n",
       "    }\n",
       "\n",
       "    .dataframe thead th {\n",
       "        text-align: right;\n",
       "    }\n",
       "</style>\n",
       "<table border=\"1\" class=\"dataframe\">\n",
       "  <thead>\n",
       "    <tr style=\"text-align: right;\">\n",
       "      <th></th>\n",
       "      <th>year</th>\n",
       "      <th>sex</th>\n",
       "      <th>name</th>\n",
       "      <th>count</th>\n",
       "    </tr>\n",
       "  </thead>\n",
       "  <tbody>\n",
       "    <tr>\n",
       "      <th>0</th>\n",
       "      <td>2018</td>\n",
       "      <td>Male</td>\n",
       "      <td>Liam</td>\n",
       "      <td>19837</td>\n",
       "    </tr>\n",
       "    <tr>\n",
       "      <th>1</th>\n",
       "      <td>2018</td>\n",
       "      <td>Female</td>\n",
       "      <td>Emma</td>\n",
       "      <td>18688</td>\n",
       "    </tr>\n",
       "    <tr>\n",
       "      <th>2</th>\n",
       "      <td>2017</td>\n",
       "      <td>Male</td>\n",
       "      <td>Liam</td>\n",
       "      <td>18798</td>\n",
       "    </tr>\n",
       "    <tr>\n",
       "      <th>3</th>\n",
       "      <td>2017</td>\n",
       "      <td>Female</td>\n",
       "      <td>Emma</td>\n",
       "      <td>19800</td>\n",
       "    </tr>\n",
       "    <tr>\n",
       "      <th>4</th>\n",
       "      <td>2016</td>\n",
       "      <td>Male</td>\n",
       "      <td>Noah</td>\n",
       "      <td>19117</td>\n",
       "    </tr>\n",
       "    <tr>\n",
       "      <th>5</th>\n",
       "      <td>2016</td>\n",
       "      <td>Female</td>\n",
       "      <td>Emma</td>\n",
       "      <td>19496</td>\n",
       "    </tr>\n",
       "  </tbody>\n",
       "</table>\n",
       "</div>"
      ],
      "text/plain": [
       "   year     sex  name  count\n",
       "0  2018    Male  Liam  19837\n",
       "1  2018  Female  Emma  18688\n",
       "2  2017    Male  Liam  18798\n",
       "3  2017  Female  Emma  19800\n",
       "4  2016    Male  Noah  19117\n",
       "5  2016  Female  Emma  19496"
      ]
     },
     "execution_count": 2,
     "metadata": {},
     "output_type": "execute_result"
    }
   ],
   "source": [
    "import pandas as pd\n",
    "\n",
    "topnamesDoL = {'year':  [2018, 2018, 2017, 2017, 2016, 2016],\n",
    "               'sex':   ['Male', 'Female', 'Male', 'Female', 'Male', 'Female'],\n",
    "               'name':  ['Liam', 'Emma', 'Liam', 'Emma', 'Noah', 'Emma'],\n",
    "               'count': [19837, 18688, 18798, 19800, 19117, 19496]}\n",
    "\n",
    "topnames = pd.DataFrame(topnamesDoL)\n",
    "\n",
    "topnames"
   ]
  },
  {
   "cell_type": "markdown",
   "metadata": {},
   "source": [
    "In the display of this data frame, above, we see that the columns are labeled, as are the rows.  By default, the row labels take values 0, 1, 2, ....\n",
    "\n",
    "The row labels are also called the _index_ of the data set.\n",
    "\n",
    "Similarly to creating a `DataFrame` from a DoL, we can do so from an LoL or LoD.  For an LoL, we need to specify the columns:"
   ]
  },
  {
   "cell_type": "code",
   "execution_count": 3,
   "metadata": {},
   "outputs": [
    {
     "data": {
      "text/html": [
       "<div>\n",
       "<style scoped>\n",
       "    .dataframe tbody tr th:only-of-type {\n",
       "        vertical-align: middle;\n",
       "    }\n",
       "\n",
       "    .dataframe tbody tr th {\n",
       "        vertical-align: top;\n",
       "    }\n",
       "\n",
       "    .dataframe thead th {\n",
       "        text-align: right;\n",
       "    }\n",
       "</style>\n",
       "<table border=\"1\" class=\"dataframe\">\n",
       "  <thead>\n",
       "    <tr style=\"text-align: right;\">\n",
       "      <th></th>\n",
       "      <th>year</th>\n",
       "      <th>sex</th>\n",
       "      <th>name</th>\n",
       "      <th>count</th>\n",
       "    </tr>\n",
       "  </thead>\n",
       "  <tbody>\n",
       "    <tr>\n",
       "      <th>0</th>\n",
       "      <td>2018</td>\n",
       "      <td>Male</td>\n",
       "      <td>Liam</td>\n",
       "      <td>19837</td>\n",
       "    </tr>\n",
       "    <tr>\n",
       "      <th>1</th>\n",
       "      <td>2018</td>\n",
       "      <td>Female</td>\n",
       "      <td>Emma</td>\n",
       "      <td>18688</td>\n",
       "    </tr>\n",
       "    <tr>\n",
       "      <th>2</th>\n",
       "      <td>2017</td>\n",
       "      <td>Male</td>\n",
       "      <td>Liam</td>\n",
       "      <td>18798</td>\n",
       "    </tr>\n",
       "    <tr>\n",
       "      <th>3</th>\n",
       "      <td>2017</td>\n",
       "      <td>Female</td>\n",
       "      <td>Emma</td>\n",
       "      <td>19800</td>\n",
       "    </tr>\n",
       "    <tr>\n",
       "      <th>4</th>\n",
       "      <td>2016</td>\n",
       "      <td>Male</td>\n",
       "      <td>Noah</td>\n",
       "      <td>19117</td>\n",
       "    </tr>\n",
       "    <tr>\n",
       "      <th>5</th>\n",
       "      <td>2016</td>\n",
       "      <td>Female</td>\n",
       "      <td>Emma</td>\n",
       "      <td>19496</td>\n",
       "    </tr>\n",
       "  </tbody>\n",
       "</table>\n",
       "</div>"
      ],
      "text/plain": [
       "   year     sex  name  count\n",
       "0  2018    Male  Liam  19837\n",
       "1  2018  Female  Emma  18688\n",
       "2  2017    Male  Liam  18798\n",
       "3  2017  Female  Emma  19800\n",
       "4  2016    Male  Noah  19117\n",
       "5  2016  Female  Emma  19496"
      ]
     },
     "execution_count": 3,
     "metadata": {},
     "output_type": "execute_result"
    }
   ],
   "source": [
    "topnamesLoL = [[2018, 'Male', 'Liam', 19837],\n",
    "               [2018, 'Female', 'Emma', 18688],\n",
    "               [2017, 'Male', 'Liam', 18798],\n",
    "               [2017, 'Female', 'Emma', 19800],\n",
    "               [2016, 'Male', 'Noah', 19117],\n",
    "               [2016, 'Female', 'Emma', 19496]]\n",
    "columns = ['year', 'sex', 'name', 'count']\n",
    "\n",
    "topnames = pd.DataFrame(topnamesLoL, columns=columns)\n",
    "\n",
    "topnames"
   ]
  },
  {
   "cell_type": "markdown",
   "metadata": {},
   "source": [
    "---\n",
    "\n",
    "### Creation from a CSV file\n",
    "\n",
    "If you have a function that can read a CSV file and convert it to a DoL, LoL, or LoD representation, you could use that to create a `DataFrame`, as discussed above.  However, `pandas` provides some handy functionality to create a `DataFrame` directly from a CSV file using the `read_csv()` function."
   ]
  },
  {
   "cell_type": "code",
   "execution_count": 4,
   "metadata": {},
   "outputs": [
    {
     "data": {
      "text/html": [
       "<div>\n",
       "<style scoped>\n",
       "    .dataframe tbody tr th:only-of-type {\n",
       "        vertical-align: middle;\n",
       "    }\n",
       "\n",
       "    .dataframe tbody tr th {\n",
       "        vertical-align: top;\n",
       "    }\n",
       "\n",
       "    .dataframe thead th {\n",
       "        text-align: right;\n",
       "    }\n",
       "</style>\n",
       "<table border=\"1\" class=\"dataframe\">\n",
       "  <thead>\n",
       "    <tr style=\"text-align: right;\">\n",
       "      <th></th>\n",
       "      <th>year</th>\n",
       "      <th>sex</th>\n",
       "      <th>name</th>\n",
       "      <th>count</th>\n",
       "    </tr>\n",
       "  </thead>\n",
       "  <tbody>\n",
       "    <tr>\n",
       "      <th>0</th>\n",
       "      <td>1880</td>\n",
       "      <td>Female</td>\n",
       "      <td>Mary</td>\n",
       "      <td>7065</td>\n",
       "    </tr>\n",
       "    <tr>\n",
       "      <th>1</th>\n",
       "      <td>1880</td>\n",
       "      <td>Male</td>\n",
       "      <td>John</td>\n",
       "      <td>9655</td>\n",
       "    </tr>\n",
       "    <tr>\n",
       "      <th>2</th>\n",
       "      <td>1881</td>\n",
       "      <td>Female</td>\n",
       "      <td>Mary</td>\n",
       "      <td>6919</td>\n",
       "    </tr>\n",
       "    <tr>\n",
       "      <th>3</th>\n",
       "      <td>1881</td>\n",
       "      <td>Male</td>\n",
       "      <td>John</td>\n",
       "      <td>8769</td>\n",
       "    </tr>\n",
       "    <tr>\n",
       "      <th>4</th>\n",
       "      <td>1882</td>\n",
       "      <td>Female</td>\n",
       "      <td>Mary</td>\n",
       "      <td>8148</td>\n",
       "    </tr>\n",
       "  </tbody>\n",
       "</table>\n",
       "</div>"
      ],
      "text/plain": [
       "   year     sex  name  count\n",
       "0  1880  Female  Mary   7065\n",
       "1  1880    Male  John   9655\n",
       "2  1881  Female  Mary   6919\n",
       "3  1881    Male  John   8769\n",
       "4  1882  Female  Mary   8148"
      ]
     },
     "execution_count": 4,
     "metadata": {},
     "output_type": "execute_result"
    }
   ],
   "source": [
    "filepath = os.path.join(datadir, \"topnames.csv\")\n",
    "topnames0 = pd.read_csv(filepath)\n",
    "\n",
    "topnames0.head()"
   ]
  },
  {
   "cell_type": "markdown",
   "metadata": {},
   "source": [
    "  If we know that a given column (or set of columns) should be the index, we can specify that when parsing the CSV using the `index_col` parameter."
   ]
  },
  {
   "cell_type": "code",
   "execution_count": 5,
   "metadata": {},
   "outputs": [
    {
     "data": {
      "text/html": [
       "<div>\n",
       "<style scoped>\n",
       "    .dataframe tbody tr th:only-of-type {\n",
       "        vertical-align: middle;\n",
       "    }\n",
       "\n",
       "    .dataframe tbody tr th {\n",
       "        vertical-align: top;\n",
       "    }\n",
       "\n",
       "    .dataframe thead th {\n",
       "        text-align: right;\n",
       "    }\n",
       "</style>\n",
       "<table border=\"1\" class=\"dataframe\">\n",
       "  <thead>\n",
       "    <tr style=\"text-align: right;\">\n",
       "      <th></th>\n",
       "      <th></th>\n",
       "      <th>name</th>\n",
       "      <th>count</th>\n",
       "    </tr>\n",
       "    <tr>\n",
       "      <th>year</th>\n",
       "      <th>sex</th>\n",
       "      <th></th>\n",
       "      <th></th>\n",
       "    </tr>\n",
       "  </thead>\n",
       "  <tbody>\n",
       "    <tr>\n",
       "      <th rowspan=\"2\" valign=\"top\">1880</th>\n",
       "      <th>Female</th>\n",
       "      <td>Mary</td>\n",
       "      <td>7065</td>\n",
       "    </tr>\n",
       "    <tr>\n",
       "      <th>Male</th>\n",
       "      <td>John</td>\n",
       "      <td>9655</td>\n",
       "    </tr>\n",
       "    <tr>\n",
       "      <th rowspan=\"2\" valign=\"top\">1881</th>\n",
       "      <th>Female</th>\n",
       "      <td>Mary</td>\n",
       "      <td>6919</td>\n",
       "    </tr>\n",
       "    <tr>\n",
       "      <th>Male</th>\n",
       "      <td>John</td>\n",
       "      <td>8769</td>\n",
       "    </tr>\n",
       "    <tr>\n",
       "      <th>1882</th>\n",
       "      <th>Female</th>\n",
       "      <td>Mary</td>\n",
       "      <td>8148</td>\n",
       "    </tr>\n",
       "  </tbody>\n",
       "</table>\n",
       "</div>"
      ],
      "text/plain": [
       "             name  count\n",
       "year sex                \n",
       "1880 Female  Mary   7065\n",
       "     Male    John   9655\n",
       "1881 Female  Mary   6919\n",
       "     Male    John   8769\n",
       "1882 Female  Mary   8148"
      ]
     },
     "execution_count": 5,
     "metadata": {},
     "output_type": "execute_result"
    }
   ],
   "source": [
    "filepath = os.path.join(datadir, \"topnames.csv\")\n",
    "topnames = pd.read_csv(filepath, index_col=[\"year\", \"sex\"])\n",
    "\n",
    "topnames.head()"
   ]
  },
  {
   "cell_type": "markdown",
   "metadata": {},
   "source": [
    "In the previous examples, we have used the `head()` method to return, by default, the first 5 rows of data.  We could specify `n` rows by providing `n` as a parameter."
   ]
  },
  {
   "cell_type": "code",
   "execution_count": 6,
   "metadata": {},
   "outputs": [
    {
     "data": {
      "text/html": [
       "<div>\n",
       "<style scoped>\n",
       "    .dataframe tbody tr th:only-of-type {\n",
       "        vertical-align: middle;\n",
       "    }\n",
       "\n",
       "    .dataframe tbody tr th {\n",
       "        vertical-align: top;\n",
       "    }\n",
       "\n",
       "    .dataframe thead th {\n",
       "        text-align: right;\n",
       "    }\n",
       "</style>\n",
       "<table border=\"1\" class=\"dataframe\">\n",
       "  <thead>\n",
       "    <tr style=\"text-align: right;\">\n",
       "      <th></th>\n",
       "      <th></th>\n",
       "      <th>name</th>\n",
       "      <th>count</th>\n",
       "    </tr>\n",
       "    <tr>\n",
       "      <th>year</th>\n",
       "      <th>sex</th>\n",
       "      <th></th>\n",
       "      <th></th>\n",
       "    </tr>\n",
       "  </thead>\n",
       "  <tbody>\n",
       "    <tr>\n",
       "      <th rowspan=\"2\" valign=\"top\">1880</th>\n",
       "      <th>Female</th>\n",
       "      <td>Mary</td>\n",
       "      <td>7065</td>\n",
       "    </tr>\n",
       "    <tr>\n",
       "      <th>Male</th>\n",
       "      <td>John</td>\n",
       "      <td>9655</td>\n",
       "    </tr>\n",
       "    <tr>\n",
       "      <th rowspan=\"2\" valign=\"top\">1881</th>\n",
       "      <th>Female</th>\n",
       "      <td>Mary</td>\n",
       "      <td>6919</td>\n",
       "    </tr>\n",
       "    <tr>\n",
       "      <th>Male</th>\n",
       "      <td>John</td>\n",
       "      <td>8769</td>\n",
       "    </tr>\n",
       "    <tr>\n",
       "      <th rowspan=\"2\" valign=\"top\">1882</th>\n",
       "      <th>Female</th>\n",
       "      <td>Mary</td>\n",
       "      <td>8148</td>\n",
       "    </tr>\n",
       "    <tr>\n",
       "      <th>Male</th>\n",
       "      <td>John</td>\n",
       "      <td>9557</td>\n",
       "    </tr>\n",
       "    <tr>\n",
       "      <th rowspan=\"2\" valign=\"top\">1883</th>\n",
       "      <th>Female</th>\n",
       "      <td>Mary</td>\n",
       "      <td>8012</td>\n",
       "    </tr>\n",
       "    <tr>\n",
       "      <th>Male</th>\n",
       "      <td>John</td>\n",
       "      <td>8894</td>\n",
       "    </tr>\n",
       "    <tr>\n",
       "      <th rowspan=\"2\" valign=\"top\">1884</th>\n",
       "      <th>Female</th>\n",
       "      <td>Mary</td>\n",
       "      <td>9217</td>\n",
       "    </tr>\n",
       "    <tr>\n",
       "      <th>Male</th>\n",
       "      <td>John</td>\n",
       "      <td>9388</td>\n",
       "    </tr>\n",
       "  </tbody>\n",
       "</table>\n",
       "</div>"
      ],
      "text/plain": [
       "             name  count\n",
       "year sex                \n",
       "1880 Female  Mary   7065\n",
       "     Male    John   9655\n",
       "1881 Female  Mary   6919\n",
       "     Male    John   8769\n",
       "1882 Female  Mary   8148\n",
       "     Male    John   9557\n",
       "1883 Female  Mary   8012\n",
       "     Male    John   8894\n",
       "1884 Female  Mary   9217\n",
       "     Male    John   9388"
      ]
     },
     "execution_count": 6,
     "metadata": {},
     "output_type": "execute_result"
    }
   ],
   "source": [
    "topnames.head(10)"
   ]
  },
  {
   "cell_type": "markdown",
   "metadata": {},
   "source": [
    "Similarly, we can view the last `n` rows of the data frame using `tail(n)`."
   ]
  },
  {
   "cell_type": "code",
   "execution_count": 7,
   "metadata": {},
   "outputs": [
    {
     "data": {
      "text/html": [
       "<div>\n",
       "<style scoped>\n",
       "    .dataframe tbody tr th:only-of-type {\n",
       "        vertical-align: middle;\n",
       "    }\n",
       "\n",
       "    .dataframe tbody tr th {\n",
       "        vertical-align: top;\n",
       "    }\n",
       "\n",
       "    .dataframe thead th {\n",
       "        text-align: right;\n",
       "    }\n",
       "</style>\n",
       "<table border=\"1\" class=\"dataframe\">\n",
       "  <thead>\n",
       "    <tr style=\"text-align: right;\">\n",
       "      <th></th>\n",
       "      <th></th>\n",
       "      <th>name</th>\n",
       "      <th>count</th>\n",
       "    </tr>\n",
       "    <tr>\n",
       "      <th>year</th>\n",
       "      <th>sex</th>\n",
       "      <th></th>\n",
       "      <th></th>\n",
       "    </tr>\n",
       "  </thead>\n",
       "  <tbody>\n",
       "    <tr>\n",
       "      <th rowspan=\"2\" valign=\"top\">2017</th>\n",
       "      <th>Female</th>\n",
       "      <td>Emma</td>\n",
       "      <td>19800</td>\n",
       "    </tr>\n",
       "    <tr>\n",
       "      <th>Male</th>\n",
       "      <td>Liam</td>\n",
       "      <td>18798</td>\n",
       "    </tr>\n",
       "    <tr>\n",
       "      <th rowspan=\"2\" valign=\"top\">2018</th>\n",
       "      <th>Female</th>\n",
       "      <td>Emma</td>\n",
       "      <td>18688</td>\n",
       "    </tr>\n",
       "    <tr>\n",
       "      <th>Male</th>\n",
       "      <td>Liam</td>\n",
       "      <td>19837</td>\n",
       "    </tr>\n",
       "  </tbody>\n",
       "</table>\n",
       "</div>"
      ],
      "text/plain": [
       "             name  count\n",
       "year sex                \n",
       "2017 Female  Emma  19800\n",
       "     Male    Liam  18798\n",
       "2018 Female  Emma  18688\n",
       "     Male    Liam  19837"
      ]
     },
     "execution_count": 7,
     "metadata": {},
     "output_type": "execute_result"
    }
   ],
   "source": [
    "topnames.tail(4)"
   ]
  },
  {
   "cell_type": "markdown",
   "metadata": {},
   "source": [
    "---\n",
    "\n",
    "## Part B: Data Frame - Basic Access\n",
    "\n",
    "Now that we have a `DataFrame` object, we can view relevant metadata.  For example, we can find the number of rows in the `DataFrame`:"
   ]
  },
  {
   "cell_type": "code",
   "execution_count": 8,
   "metadata": {},
   "outputs": [
    {
     "data": {
      "text/plain": [
       "278"
      ]
     },
     "execution_count": 8,
     "metadata": {},
     "output_type": "execute_result"
    }
   ],
   "source": [
    "len(topnames)"
   ]
  },
  {
   "cell_type": "markdown",
   "metadata": {},
   "source": [
    "Alternatively, we can access both the row and column dimensions using the `shape` attribute of the `DataFrame` object:"
   ]
  },
  {
   "cell_type": "code",
   "execution_count": 9,
   "metadata": {},
   "outputs": [
    {
     "data": {
      "text/plain": [
       "(278, 4)"
      ]
     },
     "execution_count": 9,
     "metadata": {},
     "output_type": "execute_result"
    }
   ],
   "source": [
    "# Look at the shape when the index is *not* specified\n",
    "topnames0.shape"
   ]
  },
  {
   "cell_type": "code",
   "execution_count": 10,
   "metadata": {},
   "outputs": [
    {
     "data": {
      "text/plain": [
       "(278, 2)"
      ]
     },
     "execution_count": 10,
     "metadata": {},
     "output_type": "execute_result"
    }
   ],
   "source": [
    "# Look at the shape when the index *is* specified\n",
    "topnames.shape"
   ]
  },
  {
   "cell_type": "markdown",
   "metadata": {},
   "source": [
    "The number of columns in the data frame depends on the number of columns in the index.  We can get more information about these columns using the `info()` method."
   ]
  },
  {
   "cell_type": "code",
   "execution_count": 11,
   "metadata": {},
   "outputs": [
    {
     "name": "stdout",
     "output_type": "stream",
     "text": [
      "<class 'pandas.core.frame.DataFrame'>\n",
      "RangeIndex: 278 entries, 0 to 277\n",
      "Data columns (total 4 columns):\n",
      " #   Column  Non-Null Count  Dtype \n",
      "---  ------  --------------  ----- \n",
      " 0   year    278 non-null    int64 \n",
      " 1   sex     278 non-null    object\n",
      " 2   name    278 non-null    object\n",
      " 3   count   278 non-null    int64 \n",
      "dtypes: int64(2), object(2)\n",
      "memory usage: 8.8+ KB\n"
     ]
    }
   ],
   "source": [
    "# Get info about the data frame without indices specified\n",
    "topnames0.info()"
   ]
  },
  {
   "cell_type": "code",
   "execution_count": 12,
   "metadata": {},
   "outputs": [
    {
     "name": "stdout",
     "output_type": "stream",
     "text": [
      "<class 'pandas.core.frame.DataFrame'>\n",
      "MultiIndex: 278 entries, (1880, 'Female') to (2018, 'Male')\n",
      "Data columns (total 2 columns):\n",
      " #   Column  Non-Null Count  Dtype \n",
      "---  ------  --------------  ----- \n",
      " 0   name    278 non-null    object\n",
      " 1   count   278 non-null    int64 \n",
      "dtypes: int64(1), object(1)\n",
      "memory usage: 10.5+ KB\n"
     ]
    }
   ],
   "source": [
    "# Get info about the data frame without indices specified\n",
    "topnames.info()"
   ]
  },
  {
   "cell_type": "markdown",
   "metadata": {},
   "source": [
    "In the examples above, notice that one has a `RangeIndex` and the other has a `MultiIndex` (because we specified two columns in the index).\n",
    "\n",
    "We can get the column labels using the `columns` attribute:"
   ]
  },
  {
   "cell_type": "code",
   "execution_count": 13,
   "metadata": {},
   "outputs": [
    {
     "data": {
      "text/plain": [
       "Index(['year', 'sex', 'name', 'count'], dtype='object')"
      ]
     },
     "execution_count": 13,
     "metadata": {},
     "output_type": "execute_result"
    }
   ],
   "source": [
    "# Get column names: no index specified\n",
    "topnames0.columns"
   ]
  },
  {
   "cell_type": "code",
   "execution_count": 14,
   "metadata": {},
   "outputs": [
    {
     "data": {
      "text/plain": [
       "Index(['name', 'count'], dtype='object')"
      ]
     },
     "execution_count": 14,
     "metadata": {},
     "output_type": "execute_result"
    }
   ],
   "source": [
    "# Get column names: (year, sex) index\n",
    "topnames.columns"
   ]
  },
  {
   "cell_type": "markdown",
   "metadata": {},
   "source": [
    "We can inspect the indices using the `index` attribute:"
   ]
  },
  {
   "cell_type": "code",
   "execution_count": 15,
   "metadata": {},
   "outputs": [
    {
     "data": {
      "text/plain": [
       "RangeIndex(start=0, stop=278, step=1)"
      ]
     },
     "execution_count": 15,
     "metadata": {},
     "output_type": "execute_result"
    }
   ],
   "source": [
    "# Get index info: no index specified\n",
    "topnames0.index"
   ]
  },
  {
   "cell_type": "markdown",
   "metadata": {},
   "source": [
    "If we have specified an index, the `index` attribute lists every combination.  (This should correspond to every combination of independent variables for Tidy Data.)"
   ]
  },
  {
   "cell_type": "code",
   "execution_count": 16,
   "metadata": {},
   "outputs": [
    {
     "data": {
      "text/plain": [
       "MultiIndex([(1880, 'Female'),\n",
       "            (1880,   'Male'),\n",
       "            (1881, 'Female'),\n",
       "            (1881,   'Male'),\n",
       "            (1882, 'Female'),\n",
       "            (1882,   'Male'),\n",
       "            (1883, 'Female'),\n",
       "            (1883,   'Male'),\n",
       "            (1884, 'Female'),\n",
       "            (1884,   'Male'),\n",
       "            ...\n",
       "            (2014, 'Female'),\n",
       "            (2014,   'Male'),\n",
       "            (2015, 'Female'),\n",
       "            (2015,   'Male'),\n",
       "            (2016, 'Female'),\n",
       "            (2016,   'Male'),\n",
       "            (2017, 'Female'),\n",
       "            (2017,   'Male'),\n",
       "            (2018, 'Female'),\n",
       "            (2018,   'Male')],\n",
       "           names=['year', 'sex'], length=278)"
      ]
     },
     "execution_count": 16,
     "metadata": {},
     "output_type": "execute_result"
    }
   ],
   "source": [
    "# Get index info: (year, sex) index\n",
    "topnames.index"
   ]
  },
  {
   "cell_type": "markdown",
   "metadata": {},
   "source": [
    "---\n",
    "\n",
    "## Part C: Data Frame - Try it yourself\n",
    "\n",
    "In the next couple of weeks, we'll work with a new dataset of country-based indicators, such as population (`pop`), gross domestic product (`gdp`), and life expectancy (`life`).\n",
    "\n",
    "**Q1** Use the `pandas` module to load the data from `indicators2016.csv` in the `datadir` directory into a `DataFrame` object called `indicators2016`."
   ]
  },
  {
   "cell_type": "code",
   "execution_count": 17,
   "metadata": {},
   "outputs": [],
   "source": [
    "filepath = os.path.join(datadir, \"indicators2016.csv\")\n",
    "indicators2016 = pd.read_csv(filepath)"
   ]
  },
  {
   "cell_type": "markdown",
   "metadata": {},
   "source": [
    "**Q2** This is a big dataset.  Write an expression to visualize the first 8 rows of data."
   ]
  },
  {
   "cell_type": "code",
   "execution_count": 18,
   "metadata": {},
   "outputs": [
    {
     "data": {
      "text/html": [
       "<div>\n",
       "<style scoped>\n",
       "    .dataframe tbody tr th:only-of-type {\n",
       "        vertical-align: middle;\n",
       "    }\n",
       "\n",
       "    .dataframe tbody tr th {\n",
       "        vertical-align: top;\n",
       "    }\n",
       "\n",
       "    .dataframe thead th {\n",
       "        text-align: right;\n",
       "    }\n",
       "</style>\n",
       "<table border=\"1\" class=\"dataframe\">\n",
       "  <thead>\n",
       "    <tr style=\"text-align: right;\">\n",
       "      <th></th>\n",
       "      <th>code</th>\n",
       "      <th>country</th>\n",
       "      <th>pop</th>\n",
       "      <th>gdp</th>\n",
       "      <th>life</th>\n",
       "      <th>cell</th>\n",
       "    </tr>\n",
       "  </thead>\n",
       "  <tbody>\n",
       "    <tr>\n",
       "      <th>0</th>\n",
       "      <td>ABW</td>\n",
       "      <td>Aruba</td>\n",
       "      <td>0.10</td>\n",
       "      <td>NaN</td>\n",
       "      <td>75.87</td>\n",
       "      <td>NaN</td>\n",
       "    </tr>\n",
       "    <tr>\n",
       "      <th>1</th>\n",
       "      <td>AFG</td>\n",
       "      <td>Afghanistan</td>\n",
       "      <td>34.66</td>\n",
       "      <td>19.47</td>\n",
       "      <td>63.67</td>\n",
       "      <td>21.60</td>\n",
       "    </tr>\n",
       "    <tr>\n",
       "      <th>2</th>\n",
       "      <td>AGO</td>\n",
       "      <td>Angola</td>\n",
       "      <td>28.81</td>\n",
       "      <td>95.34</td>\n",
       "      <td>61.55</td>\n",
       "      <td>13.00</td>\n",
       "    </tr>\n",
       "    <tr>\n",
       "      <th>3</th>\n",
       "      <td>ALB</td>\n",
       "      <td>Albania</td>\n",
       "      <td>2.88</td>\n",
       "      <td>11.86</td>\n",
       "      <td>78.34</td>\n",
       "      <td>3.37</td>\n",
       "    </tr>\n",
       "    <tr>\n",
       "      <th>4</th>\n",
       "      <td>AND</td>\n",
       "      <td>Andorra</td>\n",
       "      <td>0.08</td>\n",
       "      <td>2.86</td>\n",
       "      <td>NaN</td>\n",
       "      <td>0.07</td>\n",
       "    </tr>\n",
       "    <tr>\n",
       "      <th>5</th>\n",
       "      <td>ARE</td>\n",
       "      <td>United Arab Emirates</td>\n",
       "      <td>9.27</td>\n",
       "      <td>348.74</td>\n",
       "      <td>77.26</td>\n",
       "      <td>19.91</td>\n",
       "    </tr>\n",
       "    <tr>\n",
       "      <th>6</th>\n",
       "      <td>ARG</td>\n",
       "      <td>Argentina</td>\n",
       "      <td>43.85</td>\n",
       "      <td>545.48</td>\n",
       "      <td>76.58</td>\n",
       "      <td>63.72</td>\n",
       "    </tr>\n",
       "    <tr>\n",
       "      <th>7</th>\n",
       "      <td>ARM</td>\n",
       "      <td>Armenia</td>\n",
       "      <td>2.92</td>\n",
       "      <td>10.57</td>\n",
       "      <td>74.62</td>\n",
       "      <td>3.43</td>\n",
       "    </tr>\n",
       "    <tr>\n",
       "      <th>8</th>\n",
       "      <td>ASM</td>\n",
       "      <td>American Samoa</td>\n",
       "      <td>0.06</td>\n",
       "      <td>0.66</td>\n",
       "      <td>NaN</td>\n",
       "      <td>NaN</td>\n",
       "    </tr>\n",
       "  </tbody>\n",
       "</table>\n",
       "</div>"
      ],
      "text/plain": [
       "  code               country    pop     gdp   life   cell\n",
       "0  ABW                 Aruba   0.10     NaN  75.87    NaN\n",
       "1  AFG           Afghanistan  34.66   19.47  63.67  21.60\n",
       "2  AGO                Angola  28.81   95.34  61.55  13.00\n",
       "3  ALB               Albania   2.88   11.86  78.34   3.37\n",
       "4  AND               Andorra   0.08    2.86    NaN   0.07\n",
       "5  ARE  United Arab Emirates   9.27  348.74  77.26  19.91\n",
       "6  ARG             Argentina  43.85  545.48  76.58  63.72\n",
       "7  ARM               Armenia   2.92   10.57  74.62   3.43\n",
       "8  ASM        American Samoa   0.06    0.66    NaN    NaN"
      ]
     },
     "execution_count": 18,
     "metadata": {},
     "output_type": "execute_result"
    }
   ],
   "source": [
    "indicators2016.head(9)"
   ]
  },
  {
   "cell_type": "markdown",
   "metadata": {},
   "source": [
    "**Q3** We can use the `code` column to represent the row labels (the _index_) of this dataset.  Re-read in the data in `indicators2016.csv`, but this time use `code` as the index.  Again, display the first 8 rows."
   ]
  },
  {
   "cell_type": "code",
   "execution_count": 19,
   "metadata": {},
   "outputs": [
    {
     "data": {
      "text/html": [
       "<div>\n",
       "<style scoped>\n",
       "    .dataframe tbody tr th:only-of-type {\n",
       "        vertical-align: middle;\n",
       "    }\n",
       "\n",
       "    .dataframe tbody tr th {\n",
       "        vertical-align: top;\n",
       "    }\n",
       "\n",
       "    .dataframe thead th {\n",
       "        text-align: right;\n",
       "    }\n",
       "</style>\n",
       "<table border=\"1\" class=\"dataframe\">\n",
       "  <thead>\n",
       "    <tr style=\"text-align: right;\">\n",
       "      <th></th>\n",
       "      <th>country</th>\n",
       "      <th>pop</th>\n",
       "      <th>gdp</th>\n",
       "      <th>life</th>\n",
       "      <th>cell</th>\n",
       "    </tr>\n",
       "    <tr>\n",
       "      <th>code</th>\n",
       "      <th></th>\n",
       "      <th></th>\n",
       "      <th></th>\n",
       "      <th></th>\n",
       "      <th></th>\n",
       "    </tr>\n",
       "  </thead>\n",
       "  <tbody>\n",
       "    <tr>\n",
       "      <th>ABW</th>\n",
       "      <td>Aruba</td>\n",
       "      <td>0.10</td>\n",
       "      <td>NaN</td>\n",
       "      <td>75.87</td>\n",
       "      <td>NaN</td>\n",
       "    </tr>\n",
       "    <tr>\n",
       "      <th>AFG</th>\n",
       "      <td>Afghanistan</td>\n",
       "      <td>34.66</td>\n",
       "      <td>19.47</td>\n",
       "      <td>63.67</td>\n",
       "      <td>21.60</td>\n",
       "    </tr>\n",
       "    <tr>\n",
       "      <th>AGO</th>\n",
       "      <td>Angola</td>\n",
       "      <td>28.81</td>\n",
       "      <td>95.34</td>\n",
       "      <td>61.55</td>\n",
       "      <td>13.00</td>\n",
       "    </tr>\n",
       "    <tr>\n",
       "      <th>ALB</th>\n",
       "      <td>Albania</td>\n",
       "      <td>2.88</td>\n",
       "      <td>11.86</td>\n",
       "      <td>78.34</td>\n",
       "      <td>3.37</td>\n",
       "    </tr>\n",
       "    <tr>\n",
       "      <th>AND</th>\n",
       "      <td>Andorra</td>\n",
       "      <td>0.08</td>\n",
       "      <td>2.86</td>\n",
       "      <td>NaN</td>\n",
       "      <td>0.07</td>\n",
       "    </tr>\n",
       "    <tr>\n",
       "      <th>ARE</th>\n",
       "      <td>United Arab Emirates</td>\n",
       "      <td>9.27</td>\n",
       "      <td>348.74</td>\n",
       "      <td>77.26</td>\n",
       "      <td>19.91</td>\n",
       "    </tr>\n",
       "    <tr>\n",
       "      <th>ARG</th>\n",
       "      <td>Argentina</td>\n",
       "      <td>43.85</td>\n",
       "      <td>545.48</td>\n",
       "      <td>76.58</td>\n",
       "      <td>63.72</td>\n",
       "    </tr>\n",
       "    <tr>\n",
       "      <th>ARM</th>\n",
       "      <td>Armenia</td>\n",
       "      <td>2.92</td>\n",
       "      <td>10.57</td>\n",
       "      <td>74.62</td>\n",
       "      <td>3.43</td>\n",
       "    </tr>\n",
       "    <tr>\n",
       "      <th>ASM</th>\n",
       "      <td>American Samoa</td>\n",
       "      <td>0.06</td>\n",
       "      <td>0.66</td>\n",
       "      <td>NaN</td>\n",
       "      <td>NaN</td>\n",
       "    </tr>\n",
       "  </tbody>\n",
       "</table>\n",
       "</div>"
      ],
      "text/plain": [
       "                   country    pop     gdp   life   cell\n",
       "code                                                   \n",
       "ABW                  Aruba   0.10     NaN  75.87    NaN\n",
       "AFG            Afghanistan  34.66   19.47  63.67  21.60\n",
       "AGO                 Angola  28.81   95.34  61.55  13.00\n",
       "ALB                Albania   2.88   11.86  78.34   3.37\n",
       "AND                Andorra   0.08    2.86    NaN   0.07\n",
       "ARE   United Arab Emirates   9.27  348.74  77.26  19.91\n",
       "ARG              Argentina  43.85  545.48  76.58  63.72\n",
       "ARM                Armenia   2.92   10.57  74.62   3.43\n",
       "ASM         American Samoa   0.06    0.66    NaN    NaN"
      ]
     },
     "execution_count": 19,
     "metadata": {},
     "output_type": "execute_result"
    }
   ],
   "source": [
    "indicators2016 = pd.read_csv(filepath, index_col = [\"code\"])\n",
    "indicators2016.head(9)"
   ]
  },
  {
   "cell_type": "code",
   "execution_count": 20,
   "metadata": {},
   "outputs": [
    {
     "name": "stdout",
     "output_type": "stream",
     "text": [
      "<class 'pandas.core.frame.DataFrame'>\n",
      "Index: 220 entries, ABW to ZWE\n",
      "Data columns (total 5 columns):\n",
      " #   Column   Non-Null Count  Dtype  \n",
      "---  ------   --------------  -----  \n",
      " 0   country  220 non-null    object \n",
      " 1   pop      219 non-null    float64\n",
      " 2   gdp      194 non-null    float64\n",
      " 3   life     202 non-null    float64\n",
      " 4   cell     203 non-null    float64\n",
      "dtypes: float64(4), object(1)\n",
      "memory usage: 10.3+ KB\n"
     ]
    }
   ],
   "source": [
    "indicators2016.info()"
   ]
  },
  {
   "cell_type": "markdown",
   "metadata": {},
   "source": [
    "**Q4** In a single assignment line, using an attribute of the data frame object, assign to `nrows` and `ncols` the number of rows and columns in the indicators 2016 data set."
   ]
  },
  {
   "cell_type": "code",
   "execution_count": 21,
   "metadata": {},
   "outputs": [
    {
     "name": "stdout",
     "output_type": "stream",
     "text": [
      "220 5\n"
     ]
    }
   ],
   "source": [
    "(nrows, ncols) = indicators2016.shape\n",
    "\n",
    "print(nrows, ncols)"
   ]
  },
  {
   "cell_type": "markdown",
   "metadata": {},
   "source": [
    "> You've reached the first checkpoint in the lab.  Make sure to have it signed off by the instructor or TA.\n",
    ">\n",
    "> Checkpoint 1: How many columns are in the `indicators2016` dataset?  Which correspond to independent variables?  Which correspond to dependent variables?  Finally, in the information listed above, why are the count values different for each column?"
   ]
  },
  {
   "cell_type": "markdown",
   "metadata": {},
   "source": [
    "---\n",
    "\n",
    "## Part D: Sorting a DataFrame\n",
    "\n",
    "By default, a `DataFrame` is sorted in ascending order based on the index.  For `indicator2016`, that means it is sorted alphabetically by the 3-letter `code`.  For `topnames`, it sorts by `year` and `sex`.\n",
    "\n",
    "We can sort (in-place if we use `inplace=True`) in reverse order using `ascending=False`:"
   ]
  },
  {
   "cell_type": "code",
   "execution_count": 22,
   "metadata": {},
   "outputs": [
    {
     "data": {
      "text/html": [
       "<div>\n",
       "<style scoped>\n",
       "    .dataframe tbody tr th:only-of-type {\n",
       "        vertical-align: middle;\n",
       "    }\n",
       "\n",
       "    .dataframe tbody tr th {\n",
       "        vertical-align: top;\n",
       "    }\n",
       "\n",
       "    .dataframe thead th {\n",
       "        text-align: right;\n",
       "    }\n",
       "</style>\n",
       "<table border=\"1\" class=\"dataframe\">\n",
       "  <thead>\n",
       "    <tr style=\"text-align: right;\">\n",
       "      <th></th>\n",
       "      <th></th>\n",
       "      <th>name</th>\n",
       "      <th>count</th>\n",
       "    </tr>\n",
       "    <tr>\n",
       "      <th>year</th>\n",
       "      <th>sex</th>\n",
       "      <th></th>\n",
       "      <th></th>\n",
       "    </tr>\n",
       "  </thead>\n",
       "  <tbody>\n",
       "    <tr>\n",
       "      <th rowspan=\"2\" valign=\"top\">2018</th>\n",
       "      <th>Male</th>\n",
       "      <td>Liam</td>\n",
       "      <td>19837</td>\n",
       "    </tr>\n",
       "    <tr>\n",
       "      <th>Female</th>\n",
       "      <td>Emma</td>\n",
       "      <td>18688</td>\n",
       "    </tr>\n",
       "    <tr>\n",
       "      <th rowspan=\"2\" valign=\"top\">2017</th>\n",
       "      <th>Male</th>\n",
       "      <td>Liam</td>\n",
       "      <td>18798</td>\n",
       "    </tr>\n",
       "    <tr>\n",
       "      <th>Female</th>\n",
       "      <td>Emma</td>\n",
       "      <td>19800</td>\n",
       "    </tr>\n",
       "    <tr>\n",
       "      <th rowspan=\"2\" valign=\"top\">2016</th>\n",
       "      <th>Male</th>\n",
       "      <td>Noah</td>\n",
       "      <td>19117</td>\n",
       "    </tr>\n",
       "    <tr>\n",
       "      <th>Female</th>\n",
       "      <td>Emma</td>\n",
       "      <td>19496</td>\n",
       "    </tr>\n",
       "    <tr>\n",
       "      <th rowspan=\"2\" valign=\"top\">2015</th>\n",
       "      <th>Male</th>\n",
       "      <td>Noah</td>\n",
       "      <td>19635</td>\n",
       "    </tr>\n",
       "    <tr>\n",
       "      <th>Female</th>\n",
       "      <td>Emma</td>\n",
       "      <td>20455</td>\n",
       "    </tr>\n",
       "  </tbody>\n",
       "</table>\n",
       "</div>"
      ],
      "text/plain": [
       "             name  count\n",
       "year sex                \n",
       "2018 Male    Liam  19837\n",
       "     Female  Emma  18688\n",
       "2017 Male    Liam  18798\n",
       "     Female  Emma  19800\n",
       "2016 Male    Noah  19117\n",
       "     Female  Emma  19496\n",
       "2015 Male    Noah  19635\n",
       "     Female  Emma  20455"
      ]
     },
     "execution_count": 22,
     "metadata": {},
     "output_type": "execute_result"
    }
   ],
   "source": [
    "topnames_sorted = topnames.sort_index(ascending=False)\n",
    "topnames_sorted.head(8) # most recent year first"
   ]
  },
  {
   "cell_type": "markdown",
   "metadata": {},
   "source": [
    "If we want to sort on a different column, we could sort by that column's values using `sort_values()`:"
   ]
  },
  {
   "cell_type": "code",
   "execution_count": 23,
   "metadata": {},
   "outputs": [
    {
     "data": {
      "text/html": [
       "<div>\n",
       "<style scoped>\n",
       "    .dataframe tbody tr th:only-of-type {\n",
       "        vertical-align: middle;\n",
       "    }\n",
       "\n",
       "    .dataframe tbody tr th {\n",
       "        vertical-align: top;\n",
       "    }\n",
       "\n",
       "    .dataframe thead th {\n",
       "        text-align: right;\n",
       "    }\n",
       "</style>\n",
       "<table border=\"1\" class=\"dataframe\">\n",
       "  <thead>\n",
       "    <tr style=\"text-align: right;\">\n",
       "      <th></th>\n",
       "      <th></th>\n",
       "      <th>name</th>\n",
       "      <th>count</th>\n",
       "    </tr>\n",
       "    <tr>\n",
       "      <th>year</th>\n",
       "      <th>sex</th>\n",
       "      <th></th>\n",
       "      <th></th>\n",
       "    </tr>\n",
       "  </thead>\n",
       "  <tbody>\n",
       "    <tr>\n",
       "      <th>1947</th>\n",
       "      <th>Female</th>\n",
       "      <td>Linda</td>\n",
       "      <td>99689</td>\n",
       "    </tr>\n",
       "    <tr>\n",
       "      <th>1948</th>\n",
       "      <th>Female</th>\n",
       "      <td>Linda</td>\n",
       "      <td>96211</td>\n",
       "    </tr>\n",
       "    <tr>\n",
       "      <th>1947</th>\n",
       "      <th>Male</th>\n",
       "      <td>James</td>\n",
       "      <td>94757</td>\n",
       "    </tr>\n",
       "    <tr>\n",
       "      <th>1957</th>\n",
       "      <th>Male</th>\n",
       "      <td>Michael</td>\n",
       "      <td>92704</td>\n",
       "    </tr>\n",
       "    <tr>\n",
       "      <th>1949</th>\n",
       "      <th>Female</th>\n",
       "      <td>Linda</td>\n",
       "      <td>91016</td>\n",
       "    </tr>\n",
       "    <tr>\n",
       "      <th>1956</th>\n",
       "      <th>Male</th>\n",
       "      <td>Michael</td>\n",
       "      <td>90656</td>\n",
       "    </tr>\n",
       "    <tr>\n",
       "      <th>1958</th>\n",
       "      <th>Male</th>\n",
       "      <td>Michael</td>\n",
       "      <td>90517</td>\n",
       "    </tr>\n",
       "    <tr>\n",
       "      <th>1948</th>\n",
       "      <th>Male</th>\n",
       "      <td>James</td>\n",
       "      <td>88584</td>\n",
       "    </tr>\n",
       "  </tbody>\n",
       "</table>\n",
       "</div>"
      ],
      "text/plain": [
       "                name  count\n",
       "year sex                   \n",
       "1947 Female    Linda  99689\n",
       "1948 Female    Linda  96211\n",
       "1947 Male      James  94757\n",
       "1957 Male    Michael  92704\n",
       "1949 Female    Linda  91016\n",
       "1956 Male    Michael  90656\n",
       "1958 Male    Michael  90517\n",
       "1948 Male      James  88584"
      ]
     },
     "execution_count": 23,
     "metadata": {},
     "output_type": "execute_result"
    }
   ],
   "source": [
    "# Find most popular names since 1880: sort 'count' largest->smallest\n",
    "topnames_sorted.sort_values(by=[\"count\"], inplace=True, ascending=False)\n",
    "\n",
    "topnames_sorted.head(8)"
   ]
  },
  {
   "cell_type": "markdown",
   "metadata": {},
   "source": [
    "**Q5** Sort the `indicators2016` `DataFrame` by GDP, with highest GDP listed first."
   ]
  },
  {
   "cell_type": "code",
   "execution_count": 27,
   "metadata": {},
   "outputs": [],
   "source": [
    "indicators2016_sorted = indicators2016.sort_index(ascending=False)\n",
    "indicators2016_sorted.sort_values(by=[\"gdp\"], inplace = True, ascending = False)"
   ]
  },
  {
   "cell_type": "code",
   "execution_count": 28,
   "metadata": {},
   "outputs": [
    {
     "data": {
      "text/html": [
       "<div>\n",
       "<style scoped>\n",
       "    .dataframe tbody tr th:only-of-type {\n",
       "        vertical-align: middle;\n",
       "    }\n",
       "\n",
       "    .dataframe tbody tr th {\n",
       "        vertical-align: top;\n",
       "    }\n",
       "\n",
       "    .dataframe thead th {\n",
       "        text-align: right;\n",
       "    }\n",
       "</style>\n",
       "<table border=\"1\" class=\"dataframe\">\n",
       "  <thead>\n",
       "    <tr style=\"text-align: right;\">\n",
       "      <th></th>\n",
       "      <th>country</th>\n",
       "      <th>pop</th>\n",
       "      <th>gdp</th>\n",
       "      <th>life</th>\n",
       "      <th>cell</th>\n",
       "    </tr>\n",
       "    <tr>\n",
       "      <th>code</th>\n",
       "      <th></th>\n",
       "      <th></th>\n",
       "      <th></th>\n",
       "      <th></th>\n",
       "      <th></th>\n",
       "    </tr>\n",
       "  </thead>\n",
       "  <tbody>\n",
       "    <tr>\n",
       "      <th>WLD</th>\n",
       "      <td>World</td>\n",
       "      <td>7444.03</td>\n",
       "      <td>75871.74</td>\n",
       "      <td>72.04</td>\n",
       "      <td>7508.99</td>\n",
       "    </tr>\n",
       "    <tr>\n",
       "      <th>USA</th>\n",
       "      <td>United States</td>\n",
       "      <td>323.13</td>\n",
       "      <td>18624.47</td>\n",
       "      <td>78.69</td>\n",
       "      <td>395.88</td>\n",
       "    </tr>\n",
       "    <tr>\n",
       "      <th>CHN</th>\n",
       "      <td>China</td>\n",
       "      <td>1378.66</td>\n",
       "      <td>11199.15</td>\n",
       "      <td>76.25</td>\n",
       "      <td>1364.93</td>\n",
       "    </tr>\n",
       "    <tr>\n",
       "      <th>JPN</th>\n",
       "      <td>Japan</td>\n",
       "      <td>126.99</td>\n",
       "      <td>4949.27</td>\n",
       "      <td>83.98</td>\n",
       "      <td>166.85</td>\n",
       "    </tr>\n",
       "    <tr>\n",
       "      <th>DEU</th>\n",
       "      <td>Germany</td>\n",
       "      <td>82.49</td>\n",
       "      <td>3477.80</td>\n",
       "      <td>80.64</td>\n",
       "      <td>103.47</td>\n",
       "    </tr>\n",
       "    <tr>\n",
       "      <th>TSA</th>\n",
       "      <td>South Asia (IDA &amp; IBRD)</td>\n",
       "      <td>1766.39</td>\n",
       "      <td>2892.48</td>\n",
       "      <td>68.71</td>\n",
       "      <td>1481.31</td>\n",
       "    </tr>\n",
       "    <tr>\n",
       "      <th>GBR</th>\n",
       "      <td>United Kingdom</td>\n",
       "      <td>65.60</td>\n",
       "      <td>2650.85</td>\n",
       "      <td>80.96</td>\n",
       "      <td>78.93</td>\n",
       "    </tr>\n",
       "    <tr>\n",
       "      <th>FRA</th>\n",
       "      <td>France</td>\n",
       "      <td>66.89</td>\n",
       "      <td>2465.45</td>\n",
       "      <td>82.27</td>\n",
       "      <td>67.57</td>\n",
       "    </tr>\n",
       "  </tbody>\n",
       "</table>\n",
       "</div>"
      ],
      "text/plain": [
       "                      country      pop       gdp   life     cell\n",
       "code                                                            \n",
       "WLD                     World  7444.03  75871.74  72.04  7508.99\n",
       "USA             United States   323.13  18624.47  78.69   395.88\n",
       "CHN                     China  1378.66  11199.15  76.25  1364.93\n",
       "JPN                     Japan   126.99   4949.27  83.98   166.85\n",
       "DEU                   Germany    82.49   3477.80  80.64   103.47\n",
       "TSA   South Asia (IDA & IBRD)  1766.39   2892.48  68.71  1481.31\n",
       "GBR            United Kingdom    65.60   2650.85  80.96    78.93\n",
       "FRA                    France    66.89   2465.45  82.27    67.57"
      ]
     },
     "execution_count": 28,
     "metadata": {},
     "output_type": "execute_result"
    }
   ],
   "source": [
    "# View highest-GDP countries in 2016\n",
    "indicators2016_sorted.head(8)"
   ]
  },
  {
   "cell_type": "markdown",
   "metadata": {},
   "source": [
    "**Q6** Sort the `indicators2016` `DataFrame` by life expectancy, with highest life expectancy listed first."
   ]
  },
  {
   "cell_type": "code",
   "execution_count": 29,
   "metadata": {},
   "outputs": [],
   "source": [
    "indicators2016_sorted = indicators2016.sort_index(ascending=False)\n",
    "indicators2016_sorted.sort_values(by=[\"life\"], inplace = True, ascending = False)"
   ]
  },
  {
   "cell_type": "code",
   "execution_count": 30,
   "metadata": {},
   "outputs": [
    {
     "data": {
      "text/html": [
       "<div>\n",
       "<style scoped>\n",
       "    .dataframe tbody tr th:only-of-type {\n",
       "        vertical-align: middle;\n",
       "    }\n",
       "\n",
       "    .dataframe tbody tr th {\n",
       "        vertical-align: top;\n",
       "    }\n",
       "\n",
       "    .dataframe thead th {\n",
       "        text-align: right;\n",
       "    }\n",
       "</style>\n",
       "<table border=\"1\" class=\"dataframe\">\n",
       "  <thead>\n",
       "    <tr style=\"text-align: right;\">\n",
       "      <th></th>\n",
       "      <th>country</th>\n",
       "      <th>pop</th>\n",
       "      <th>gdp</th>\n",
       "      <th>life</th>\n",
       "      <th>cell</th>\n",
       "    </tr>\n",
       "    <tr>\n",
       "      <th>code</th>\n",
       "      <th></th>\n",
       "      <th></th>\n",
       "      <th></th>\n",
       "      <th></th>\n",
       "      <th></th>\n",
       "    </tr>\n",
       "  </thead>\n",
       "  <tbody>\n",
       "    <tr>\n",
       "      <th>HKG</th>\n",
       "      <td>Hong Kong SAR, China</td>\n",
       "      <td>7.34</td>\n",
       "      <td>320.91</td>\n",
       "      <td>84.23</td>\n",
       "      <td>17.58</td>\n",
       "    </tr>\n",
       "    <tr>\n",
       "      <th>JPN</th>\n",
       "      <td>Japan</td>\n",
       "      <td>126.99</td>\n",
       "      <td>4949.27</td>\n",
       "      <td>83.98</td>\n",
       "      <td>166.85</td>\n",
       "    </tr>\n",
       "    <tr>\n",
       "      <th>MAC</th>\n",
       "      <td>Macao SAR, China</td>\n",
       "      <td>0.61</td>\n",
       "      <td>45.31</td>\n",
       "      <td>83.85</td>\n",
       "      <td>1.97</td>\n",
       "    </tr>\n",
       "    <tr>\n",
       "      <th>CHE</th>\n",
       "      <td>Switzerland</td>\n",
       "      <td>8.37</td>\n",
       "      <td>668.85</td>\n",
       "      <td>82.90</td>\n",
       "      <td>11.24</td>\n",
       "    </tr>\n",
       "    <tr>\n",
       "      <th>ESP</th>\n",
       "      <td>Spain</td>\n",
       "      <td>46.48</td>\n",
       "      <td>1237.26</td>\n",
       "      <td>82.83</td>\n",
       "      <td>51.52</td>\n",
       "    </tr>\n",
       "    <tr>\n",
       "      <th>SGP</th>\n",
       "      <td>Singapore</td>\n",
       "      <td>5.61</td>\n",
       "      <td>296.98</td>\n",
       "      <td>82.80</td>\n",
       "      <td>8.46</td>\n",
       "    </tr>\n",
       "    <tr>\n",
       "      <th>LIE</th>\n",
       "      <td>Liechtenstein</td>\n",
       "      <td>0.04</td>\n",
       "      <td>NaN</td>\n",
       "      <td>82.66</td>\n",
       "      <td>0.04</td>\n",
       "    </tr>\n",
       "    <tr>\n",
       "      <th>ITA</th>\n",
       "      <td>Italy</td>\n",
       "      <td>60.63</td>\n",
       "      <td>1859.38</td>\n",
       "      <td>82.54</td>\n",
       "      <td>90.93</td>\n",
       "    </tr>\n",
       "  </tbody>\n",
       "</table>\n",
       "</div>"
      ],
      "text/plain": [
       "                   country     pop      gdp   life    cell\n",
       "code                                                      \n",
       "HKG   Hong Kong SAR, China    7.34   320.91  84.23   17.58\n",
       "JPN                  Japan  126.99  4949.27  83.98  166.85\n",
       "MAC       Macao SAR, China    0.61    45.31  83.85    1.97\n",
       "CHE            Switzerland    8.37   668.85  82.90   11.24\n",
       "ESP                  Spain   46.48  1237.26  82.83   51.52\n",
       "SGP              Singapore    5.61   296.98  82.80    8.46\n",
       "LIE          Liechtenstein    0.04      NaN  82.66    0.04\n",
       "ITA                  Italy   60.63  1859.38  82.54   90.93"
      ]
     },
     "execution_count": 30,
     "metadata": {},
     "output_type": "execute_result"
    }
   ],
   "source": [
    "# View highest-GDP countries in 2016\n",
    "indicators2016_sorted.head(8)"
   ]
  },
  {
   "cell_type": "markdown",
   "metadata": {},
   "source": [
    "**Q7** We can always re-sort the data using the index with `sort_index`.  Imagine you've forgotten whether you already set the index for the `indicators2016` `DataFrame`, so you can set it again.\n",
    "\n",
    "Why does the following give an error?"
   ]
  },
  {
   "cell_type": "code",
   "execution_count": 31,
   "metadata": {
    "deletable": false,
    "nbgrader": {
     "cell_type": "code",
     "checksum": "87cb23aa2e28953f880e1a8b090254c4",
     "grade": true,
     "grade_id": "cell-95a884efb4c95c06",
     "locked": false,
     "points": 1,
     "schema_version": 3,
     "solution": true,
     "task": false
    }
   },
   "outputs": [
    {
     "ename": "KeyError",
     "evalue": "\"None of ['code'] are in the columns\"",
     "output_type": "error",
     "traceback": [
      "\u001b[1;31m---------------------------------------------------------------------------\u001b[0m",
      "\u001b[1;31mKeyError\u001b[0m                                  Traceback (most recent call last)",
      "\u001b[1;32m~\\AppData\\Local\\Temp/ipykernel_13028/392638729.py\u001b[0m in \u001b[0;36m<module>\u001b[1;34m\u001b[0m\n\u001b[1;32m----> 1\u001b[1;33m \u001b[0mindicators2016_v2\u001b[0m \u001b[1;33m=\u001b[0m \u001b[0mindicators2016\u001b[0m\u001b[1;33m.\u001b[0m\u001b[0mset_index\u001b[0m\u001b[1;33m(\u001b[0m\u001b[1;33m[\u001b[0m\u001b[1;34m\"code\"\u001b[0m\u001b[1;33m]\u001b[0m\u001b[1;33m,\u001b[0m \u001b[0minplace\u001b[0m\u001b[1;33m=\u001b[0m\u001b[1;32mTrue\u001b[0m\u001b[1;33m)\u001b[0m\u001b[1;33m\u001b[0m\u001b[1;33m\u001b[0m\u001b[0m\n\u001b[0m",
      "\u001b[1;32m~\\anaconda3\\lib\\site-packages\\pandas\\util\\_decorators.py\u001b[0m in \u001b[0;36mwrapper\u001b[1;34m(*args, **kwargs)\u001b[0m\n\u001b[0;32m    309\u001b[0m                     \u001b[0mstacklevel\u001b[0m\u001b[1;33m=\u001b[0m\u001b[0mstacklevel\u001b[0m\u001b[1;33m,\u001b[0m\u001b[1;33m\u001b[0m\u001b[1;33m\u001b[0m\u001b[0m\n\u001b[0;32m    310\u001b[0m                 )\n\u001b[1;32m--> 311\u001b[1;33m             \u001b[1;32mreturn\u001b[0m \u001b[0mfunc\u001b[0m\u001b[1;33m(\u001b[0m\u001b[1;33m*\u001b[0m\u001b[0margs\u001b[0m\u001b[1;33m,\u001b[0m \u001b[1;33m**\u001b[0m\u001b[0mkwargs\u001b[0m\u001b[1;33m)\u001b[0m\u001b[1;33m\u001b[0m\u001b[1;33m\u001b[0m\u001b[0m\n\u001b[0m\u001b[0;32m    312\u001b[0m \u001b[1;33m\u001b[0m\u001b[0m\n\u001b[0;32m    313\u001b[0m         \u001b[1;32mreturn\u001b[0m \u001b[0mwrapper\u001b[0m\u001b[1;33m\u001b[0m\u001b[1;33m\u001b[0m\u001b[0m\n",
      "\u001b[1;32m~\\anaconda3\\lib\\site-packages\\pandas\\core\\frame.py\u001b[0m in \u001b[0;36mset_index\u001b[1;34m(self, keys, drop, append, inplace, verify_integrity)\u001b[0m\n\u001b[0;32m   5449\u001b[0m \u001b[1;33m\u001b[0m\u001b[0m\n\u001b[0;32m   5450\u001b[0m         \u001b[1;32mif\u001b[0m \u001b[0mmissing\u001b[0m\u001b[1;33m:\u001b[0m\u001b[1;33m\u001b[0m\u001b[1;33m\u001b[0m\u001b[0m\n\u001b[1;32m-> 5451\u001b[1;33m             \u001b[1;32mraise\u001b[0m \u001b[0mKeyError\u001b[0m\u001b[1;33m(\u001b[0m\u001b[1;34mf\"None of {missing} are in the columns\"\u001b[0m\u001b[1;33m)\u001b[0m\u001b[1;33m\u001b[0m\u001b[1;33m\u001b[0m\u001b[0m\n\u001b[0m\u001b[0;32m   5452\u001b[0m \u001b[1;33m\u001b[0m\u001b[0m\n\u001b[0;32m   5453\u001b[0m         \u001b[1;32mif\u001b[0m \u001b[0minplace\u001b[0m\u001b[1;33m:\u001b[0m\u001b[1;33m\u001b[0m\u001b[1;33m\u001b[0m\u001b[0m\n",
      "\u001b[1;31mKeyError\u001b[0m: \"None of ['code'] are in the columns\""
     ]
    }
   ],
   "source": [
    "indicators2016_v2 = indicators2016.set_index([\"code\"], inplace=True)"
   ]
  },
  {
   "cell_type": "markdown",
   "metadata": {},
   "source": [
    "> You've reached the second checkpoint in the lab.  Make sure to have it signed off by the instructor or TA.\n",
    ">\n",
    "> Checkpoint 2: Why does updating the index, above, cause an error?"
   ]
  },
  {
   "cell_type": "markdown",
   "metadata": {},
   "source": [
    "---\n",
    "\n",
    "---\n",
    "## Part E\n",
    "\n",
    "How much time (in minutes/hours) did you spend on this lab outside of class?"
   ]
  },
  {
   "cell_type": "markdown",
   "metadata": {},
   "source": [
    "30 minutes"
   ]
  }
 ],
 "metadata": {
  "kernelspec": {
   "display_name": "Python 3 (ipykernel)",
   "language": "python",
   "name": "python3"
  },
  "language_info": {
   "codemirror_mode": {
    "name": "ipython",
    "version": 3
   },
   "file_extension": ".py",
   "mimetype": "text/x-python",
   "name": "python",
   "nbconvert_exporter": "python",
   "pygments_lexer": "ipython3",
   "version": "3.9.7"
  }
 },
 "nbformat": 4,
 "nbformat_minor": 4
}
