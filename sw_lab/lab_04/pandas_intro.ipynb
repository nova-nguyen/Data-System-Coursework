{
 "cells": [
  {
   "cell_type": "markdown",
   "metadata": {},
   "source": [
    "# Denison CS181/DA210 SW Lab #4 - Step 1\n",
    "\n",
    "Before you turn this problem in, make sure everything runs as expected. This is a combination of **restarting the kernel** and then **running all cells** (in the menubar, select Kernel$\\rightarrow$Restart And Run All).\n",
    "\n",
    "Make sure you fill in any place that says `# YOUR CODE HERE` or \"YOUR ANSWER HERE\"."
   ]
  },
  {
   "cell_type": "markdown",
   "metadata": {},
   "source": [
    "---"
   ]
  },
  {
   "cell_type": "code",
   "execution_count": null,
   "metadata": {},
   "outputs": [],
   "source": [
    "import os\n",
    "import os.path\n",
    "import pandas as pd\n",
    "\n",
    "datadir = \"publicdata\""
   ]
  },
  {
   "cell_type": "markdown",
   "metadata": {},
   "source": [
    "---\n",
    "\n",
    "## Part A: Data Frame - Creation\n",
    "\n",
    "### Creation from Native Data Structure\n",
    "\n",
    "You can create a `DataFrame` given a variety of different 2D data representations.  For example, we can use our hard-coded DoL snippet from `topnames.csv`.  (Note that it is customary to refer to `pandas` as `pd`.)"
   ]
  },
  {
   "cell_type": "code",
   "execution_count": null,
   "metadata": {},
   "outputs": [],
   "source": [
    "import pandas as pd\n",
    "\n",
    "topnamesDoL = {'year':  [2018, 2018, 2017, 2017, 2016, 2016],\n",
    "               'sex':   ['Male', 'Female', 'Male', 'Female', 'Male', 'Female'],\n",
    "               'name':  ['Liam', 'Emma', 'Liam', 'Emma', 'Noah', 'Emma'],\n",
    "               'count': [19837, 18688, 18798, 19800, 19117, 19496]}\n",
    "\n",
    "topnames = pd.DataFrame(topnamesDoL)\n",
    "\n",
    "topnames"
   ]
  },
  {
   "cell_type": "markdown",
   "metadata": {},
   "source": [
    "In the display of this data frame, above, we see that the columns are labeled, as are the rows.  By default, the row labels take values 0, 1, 2, ....\n",
    "\n",
    "The row labels are also called the _index_ of the data set.\n",
    "\n",
    "Similarly to creating a `DataFrame` from a DoL, we can do so from an LoL or LoD.  For an LoL, we need to specify the columns:"
   ]
  },
  {
   "cell_type": "code",
   "execution_count": null,
   "metadata": {},
   "outputs": [],
   "source": [
    "topnamesLoL = [[2018, 'Male', 'Liam', 19837],\n",
    "               [2018, 'Female', 'Emma', 18688],\n",
    "               [2017, 'Male', 'Liam', 18798],\n",
    "               [2017, 'Female', 'Emma', 19800],\n",
    "               [2016, 'Male', 'Noah', 19117],\n",
    "               [2016, 'Female', 'Emma', 19496]]\n",
    "columns = ['year', 'sex', 'name', 'count']\n",
    "\n",
    "topnames = pd.DataFrame(topnamesDoL, columns=columns)\n",
    "\n",
    "topnames"
   ]
  },
  {
   "cell_type": "markdown",
   "metadata": {},
   "source": [
    "---\n",
    "\n",
    "### Creation from a CSV file\n",
    "\n",
    "If you have a function that can read a CSV file and convert it to a DoL, LoL, or LoD representation, you could use that to create a `DataFrame`, as discussed above.  However, `pandas` provides some handy functionality to create a `DataFrame` directly from a CSV file using the `read_csv()` function."
   ]
  },
  {
   "cell_type": "code",
   "execution_count": null,
   "metadata": {},
   "outputs": [],
   "source": [
    "filepath = os.path.join(datadir, \"topnames.csv\")\n",
    "topnames0 = pd.read_csv(filepath)\n",
    "\n",
    "topnames0.head()"
   ]
  },
  {
   "cell_type": "markdown",
   "metadata": {},
   "source": [
    "  If we know that a given column (or set of columns) should be the index, we can specify that when parsing the CSV using the `index_col` parameter."
   ]
  },
  {
   "cell_type": "code",
   "execution_count": null,
   "metadata": {},
   "outputs": [],
   "source": [
    "filepath = os.path.join(datadir, \"topnames.csv\")\n",
    "topnames = pd.read_csv(filepath, index_col=[\"year\", \"sex\"])\n",
    "\n",
    "topnames.head()"
   ]
  },
  {
   "cell_type": "markdown",
   "metadata": {},
   "source": [
    "In the previous examples, we have used the `head()` method to return, by default, the first 5 rows of data.  We could specify `n` rows by providing `n` as a parameter."
   ]
  },
  {
   "cell_type": "code",
   "execution_count": null,
   "metadata": {},
   "outputs": [],
   "source": [
    "topnames.head(10)"
   ]
  },
  {
   "cell_type": "markdown",
   "metadata": {},
   "source": [
    "Similarly, we can view the last `n` rows of the data frame using `tail(n)`."
   ]
  },
  {
   "cell_type": "code",
   "execution_count": null,
   "metadata": {},
   "outputs": [],
   "source": [
    "topnames.tail(4)"
   ]
  },
  {
   "cell_type": "markdown",
   "metadata": {},
   "source": [
    "---\n",
    "\n",
    "## Part B: Data Frame - Basic Access\n",
    "\n",
    "Now that we have a `DataFrame` object, we can view relevant metadata.  For example, we can find the number of rows in the `DataFrame`:"
   ]
  },
  {
   "cell_type": "code",
   "execution_count": null,
   "metadata": {},
   "outputs": [],
   "source": [
    "len(topnames)"
   ]
  },
  {
   "cell_type": "markdown",
   "metadata": {},
   "source": [
    "Alternatively, we can access both the row and column dimensions using the `shape` attribute of the `DataFrame` object:"
   ]
  },
  {
   "cell_type": "code",
   "execution_count": null,
   "metadata": {},
   "outputs": [],
   "source": [
    "# Look at the shape when the index is *not* specified\n",
    "topnames0.shape"
   ]
  },
  {
   "cell_type": "code",
   "execution_count": null,
   "metadata": {},
   "outputs": [],
   "source": [
    "# Look at the shape when the index *is* specified\n",
    "topnames.shape"
   ]
  },
  {
   "cell_type": "markdown",
   "metadata": {},
   "source": [
    "The number of columns in the data frame depends on the number of columns in the index.  We can get more information about these columns using the `info()` method."
   ]
  },
  {
   "cell_type": "code",
   "execution_count": null,
   "metadata": {},
   "outputs": [],
   "source": [
    "# Get info about the data frame without indices specified\n",
    "topnames0.info()"
   ]
  },
  {
   "cell_type": "code",
   "execution_count": null,
   "metadata": {},
   "outputs": [],
   "source": [
    "# Get info about the data frame without indices specified\n",
    "topnames.info()"
   ]
  },
  {
   "cell_type": "markdown",
   "metadata": {},
   "source": [
    "In the examples above, notice that one has a `RangeIndex` and the other has a `MultiIndex` (because we specified two columns in the index).\n",
    "\n",
    "We can get the column labels using the `columns` attribute:"
   ]
  },
  {
   "cell_type": "code",
   "execution_count": null,
   "metadata": {},
   "outputs": [],
   "source": [
    "# Get column names: no index specified\n",
    "topnames0.columns"
   ]
  },
  {
   "cell_type": "code",
   "execution_count": null,
   "metadata": {},
   "outputs": [],
   "source": [
    "# Get column names: (year, sex) index\n",
    "topnames.columns"
   ]
  },
  {
   "cell_type": "markdown",
   "metadata": {},
   "source": [
    "We can inspect the indices using the `index` attribute:"
   ]
  },
  {
   "cell_type": "code",
   "execution_count": null,
   "metadata": {},
   "outputs": [],
   "source": [
    "# Get index info: no index specified\n",
    "topnames0.index"
   ]
  },
  {
   "cell_type": "markdown",
   "metadata": {},
   "source": [
    "If we have specified an index, the `index` attribute lists every combination.  (This should correspond to every combination of independent variables for Tidy Data.)"
   ]
  },
  {
   "cell_type": "code",
   "execution_count": null,
   "metadata": {},
   "outputs": [],
   "source": [
    "# Get index info: (year, sex) index\n",
    "topnames.index"
   ]
  },
  {
   "cell_type": "markdown",
   "metadata": {},
   "source": [
    "---\n",
    "\n",
    "## Part C: Data Frame - Try it yourself\n",
    "\n",
    "In the next couple of weeks, we'll work with a new dataset of country-based indicators, such as population (`pop`), gross domestic product (`gdp`), and life expectancy (`life`).\n",
    "\n",
    "**Q1** Use the `pandas` module to load the data from `indicators2016.csv` in the `datadir` directory into a `DataFrame` object called `indicators2016`."
   ]
  },
  {
   "cell_type": "code",
   "execution_count": null,
   "metadata": {},
   "outputs": [],
   "source": [
    "# YOUR CODE HERE\n",
    "raise NotImplementedError()"
   ]
  },
  {
   "cell_type": "markdown",
   "metadata": {},
   "source": [
    "**Q2** This is a big dataset.  Write an expression to visualize the first 8 rows of data."
   ]
  },
  {
   "cell_type": "code",
   "execution_count": null,
   "metadata": {},
   "outputs": [],
   "source": [
    "# YOUR CODE HERE\n",
    "raise NotImplementedError()"
   ]
  },
  {
   "cell_type": "markdown",
   "metadata": {},
   "source": [
    "**Q3** We can use the `code` column to represent the row labels (the _index_) of this dataset.  Re-read in the data in `indicators2016.csv`, but this time use `code` as the index.  Again, display the first 8 rows."
   ]
  },
  {
   "cell_type": "code",
   "execution_count": null,
   "metadata": {},
   "outputs": [],
   "source": [
    "# YOUR CODE HERE\n",
    "raise NotImplementedError()"
   ]
  },
  {
   "cell_type": "code",
   "execution_count": null,
   "metadata": {},
   "outputs": [],
   "source": [
    "indicators2016.info()"
   ]
  },
  {
   "cell_type": "markdown",
   "metadata": {},
   "source": [
    "**Q4** In a single assignment line, using an attribute of the data frame object, assign to `nrows` and `ncols` the number of rows and columns in the indicators 2016 data set."
   ]
  },
  {
   "cell_type": "code",
   "execution_count": null,
   "metadata": {},
   "outputs": [],
   "source": [
    "# YOUR CODE HERE\n",
    "raise NotImplementedError()\n",
    "\n",
    "print(nrows, ncols)"
   ]
  },
  {
   "cell_type": "markdown",
   "metadata": {},
   "source": [
    "> You've reached the first checkpoint in the lab.  Make sure to have it signed off by the instructor or TA.\n",
    ">\n",
    "> Checkpoint 1: How many columns are in the `indicators2016` dataset?  Which correspond to independent variables?  Which correspond to dependent variables?  Finally, in the information listed above, why are the count values different for each column?"
   ]
  },
  {
   "cell_type": "markdown",
   "metadata": {},
   "source": [
    "---\n",
    "\n",
    "## Part D: Sorting a DataFrame\n",
    "\n",
    "By default, a `DataFrame` is sorted in ascending order based on the index.  For `indicator2016`, that means it is sorted alphabetically by the 3-letter `code`.  For `topnames`, it sorts by `year` and `sex`.\n",
    "\n",
    "We can sort (in-place if we use `inplace=True`) in reverse order using `ascending=False`:"
   ]
  },
  {
   "cell_type": "code",
   "execution_count": null,
   "metadata": {},
   "outputs": [],
   "source": [
    "topnames_sorted = topnames.sort_index(ascending=False)\n",
    "topnames_sorted.head(8) # most recent year first"
   ]
  },
  {
   "cell_type": "markdown",
   "metadata": {},
   "source": [
    "If we want to sort on a different column, we could sort by that column's values using `sort_values()`:"
   ]
  },
  {
   "cell_type": "code",
   "execution_count": null,
   "metadata": {},
   "outputs": [],
   "source": [
    "# Find most popular names since 1880: sort 'count' largest->smallest\n",
    "topnames_sorted.sort_values(by=[\"count\"], inplace=True, ascending=False)\n",
    "\n",
    "topnames_sorted.head(8)"
   ]
  },
  {
   "cell_type": "markdown",
   "metadata": {},
   "source": [
    "**Q5** Sort the `indicators2016` `DataFrame` by GDP, with highest GDP listed first."
   ]
  },
  {
   "cell_type": "code",
   "execution_count": null,
   "metadata": {},
   "outputs": [],
   "source": [
    "# YOUR CODE HERE\n",
    "raise NotImplementedError()"
   ]
  },
  {
   "cell_type": "code",
   "execution_count": null,
   "metadata": {},
   "outputs": [],
   "source": [
    "# View highest-GDP countries in 2016\n",
    "indicators2016_sorted.head(8)"
   ]
  },
  {
   "cell_type": "markdown",
   "metadata": {},
   "source": [
    "**Q6** Sort the `indicators2016` `DataFrame` by life expectancy, with highest life expectancy listed first."
   ]
  },
  {
   "cell_type": "code",
   "execution_count": null,
   "metadata": {},
   "outputs": [],
   "source": [
    "# YOUR CODE HERE\n",
    "raise NotImplementedError()"
   ]
  },
  {
   "cell_type": "code",
   "execution_count": null,
   "metadata": {},
   "outputs": [],
   "source": [
    "# View highest-GDP countries in 2016\n",
    "indicators2016_sorted.head(8)"
   ]
  },
  {
   "cell_type": "markdown",
   "metadata": {},
   "source": [
    "**Q7** We can always re-sort the data using the index with `sort_index`.  Imagine you've forgotten whether you already set the index for the `indicators2016` `DataFrame`, so you can set it again.\n",
    "\n",
    "Why does the following give an error?"
   ]
  },
  {
   "cell_type": "code",
   "execution_count": null,
   "metadata": {
    "deletable": false,
    "nbgrader": {
     "cell_type": "code",
     "checksum": "87cb23aa2e28953f880e1a8b090254c4",
     "grade": true,
     "grade_id": "cell-95a884efb4c95c06",
     "locked": false,
     "points": 1,
     "schema_version": 3,
     "solution": true,
     "task": false
    }
   },
   "outputs": [],
   "source": [
    "indicators2016_v2 = indicators2016.set_index([\"code\"], inplace=True)"
   ]
  },
  {
   "cell_type": "markdown",
   "metadata": {},
   "source": [
    "> You've reached the second checkpoint in the lab.  Make sure to have it signed off by the instructor or TA.\n",
    ">\n",
    "> Checkpoint 2: Why does updating the index, above, cause an error?"
   ]
  },
  {
   "cell_type": "markdown",
   "metadata": {},
   "source": [
    "---\n",
    "\n",
    "---\n",
    "## Part E\n",
    "\n",
    "How much time (in minutes/hours) did you spend on this lab outside of class?"
   ]
  },
  {
   "cell_type": "markdown",
   "metadata": {},
   "source": [
    "YOUR ANSWER HERE"
   ]
  }
 ],
 "metadata": {
  "kernelspec": {
   "display_name": "Python 3",
   "language": "python",
   "name": "python3"
  },
  "language_info": {
   "codemirror_mode": {
    "name": "ipython",
    "version": 3
   },
   "file_extension": ".py",
   "mimetype": "text/x-python",
   "name": "python",
   "nbconvert_exporter": "python",
   "pygments_lexer": "ipython3",
   "version": "3.9.7"
  }
 },
 "nbformat": 4,
 "nbformat_minor": 4
}
