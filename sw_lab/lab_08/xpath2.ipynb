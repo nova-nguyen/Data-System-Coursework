{
 "cells": [
  {
   "cell_type": "markdown",
   "metadata": {},
   "source": [
    "# Denison CS181/DA210 SW Lab #8 - Step 1\n",
    "\n",
    "Before you turn this problem in, make sure everything runs as expected. This is a combination of **restarting the kernel** and then **running all cells** (in the menubar, select Kernel$\\rightarrow$Restart And Run All).\n",
    "\n",
    "Make sure you fill in any place that says `# YOUR CODE HERE` or \"YOUR ANSWER HERE\"."
   ]
  },
  {
   "cell_type": "markdown",
   "metadata": {},
   "source": [
    "---"
   ]
  },
  {
   "cell_type": "markdown",
   "metadata": {},
   "source": [
    "> **In the questions that follow, we are looking for XPath declarative solutions to the problems, not procedural solutions.  You will not get credit for procedural solutions.**"
   ]
  },
  {
   "cell_type": "markdown",
   "metadata": {},
   "source": [
    "---\n",
    "\n",
    "## Part A: XPath basics\n",
    "\n",
    "As we've seen in class, XPath provides a powerful declarative alternative to XML procedural operations.\n",
    "\n",
    "We'll summarize some basic XPath operations here, as well as some we haven't seen yet.\n",
    "\n",
    "We'll use the `indicators` dataset in `ind0.xml`."
   ]
  },
  {
   "cell_type": "code",
   "execution_count": null,
   "metadata": {},
   "outputs": [],
   "source": [
    "from lxml import etree\n",
    "import os.path\n",
    "\n",
    "datadir = \"publicdata\"\n",
    "\n",
    "ind_path = os.path.join(datadir, \"ind0.xml\")\n",
    "parser = etree.XMLParser(remove_blank_text=True)\n",
    "tree = etree.parse(ind_path, parser)\n",
    "\n",
    "ind_root = tree.getroot()"
   ]
  },
  {
   "cell_type": "markdown",
   "metadata": {},
   "source": [
    "#### First child of the root\n",
    "\n",
    "We can use the procedural operation `getchildren` and index into the resulting list:"
   ]
  },
  {
   "cell_type": "code",
   "execution_count": null,
   "metadata": {},
   "outputs": [],
   "source": [
    "first_child = ind_root.getchildren()[0]\n",
    "print(\"First child:\", first_child, \"with tag:\", first_child.tag) # how else?"
   ]
  },
  {
   "cell_type": "markdown",
   "metadata": {},
   "source": [
    "Alternatively, we can use XPath to match all nodes with the given tag:"
   ]
  },
  {
   "cell_type": "code",
   "execution_count": null,
   "metadata": {},
   "outputs": [],
   "source": [
    "first_child = ind_root.xpath(\"/indicators/country\")[0]\n",
    "print(\"First child:\", first_child, \"with tag:\", first_child.tag)"
   ]
  },
  {
   "cell_type": "markdown",
   "metadata": {},
   "source": [
    "Or, we could use the built-in function `position()` to specify that we want the first node that matches the path.  (Note that `position()` indexes from 1, and not 0.)"
   ]
  },
  {
   "cell_type": "code",
   "execution_count": null,
   "metadata": {},
   "outputs": [],
   "source": [
    "first_child = ind_root.xpath(\"/indicators/country[position() = 1]\")[0] # only one element\n",
    "print(\"First child:\", first_child, \"with tag:\", first_child.tag)"
   ]
  },
  {
   "cell_type": "markdown",
   "metadata": {},
   "source": [
    "#### Value of attribute\n",
    "\n",
    "In procedural XML operations, we need to use the `attrib` dictionary or `.get()` to get the value of an attribute:"
   ]
  },
  {
   "cell_type": "code",
   "execution_count": null,
   "metadata": {},
   "outputs": [],
   "source": [
    "country_names = []\n",
    "for country_node in ind_root:\n",
    "    country_names.append(country_node.get(\"name\"))\n",
    "print(country_names)"
   ]
  },
  {
   "cell_type": "markdown",
   "metadata": {},
   "source": [
    "In XPath, we can take another \"step\" in our path for the given attribute (but have no need to specify a loop):"
   ]
  },
  {
   "cell_type": "code",
   "execution_count": null,
   "metadata": {},
   "outputs": [],
   "source": [
    "country_names = ind_root.xpath(\"/indicators/country/@name\")\n",
    "print(country_names)"
   ]
  },
  {
   "cell_type": "markdown",
   "metadata": {},
   "source": [
    "#### Children (tags) of a node\n",
    "\n",
    "Similarly, in procedural XML, we need to use a loop to get the tags of all children of a node."
   ]
  },
  {
   "cell_type": "code",
   "execution_count": null,
   "metadata": {},
   "outputs": [],
   "source": [
    "# Goal: tags below timedata for France in 2007\n",
    "code = \"FRA\"\n",
    "year = \"2007\"\n",
    "tags = []\n",
    "for country_node in ind_root:\n",
    "    if country_node.get(\"code\") != code: continue\n",
    "    for timedata_node in country_node:\n",
    "        if timedata_node.get(\"year\") != year: continue\n",
    "        for ind_node in timedata_node:\n",
    "            tags.append(ind_node.tag)\n",
    "print(tags)"
   ]
  },
  {
   "cell_type": "markdown",
   "metadata": {},
   "source": [
    "In XPath, this is significantly simpler, as we can filter on attributes:"
   ]
  },
  {
   "cell_type": "code",
   "execution_count": null,
   "metadata": {},
   "outputs": [],
   "source": [
    "code = \"FRA\"\n",
    "year = \"2007\"\n",
    "# Note: we have to be careful and escape the value of the attribute\n",
    "# with '', so we use a string format to perform the match\n",
    "path = \"/indicators/country[@code='{}']/timedata[@year='{}']/*\".format(\n",
    "    code, year)\n",
    "ind_nodes = ind_root.xpath(path)\n",
    "tags = [node.tag for node in ind_nodes]\n",
    "print(tags)"
   ]
  },
  {
   "cell_type": "markdown",
   "metadata": {},
   "source": [
    "#### Text of a node\n",
    "\n",
    "Using procedural XML operations, we could find all nodes with a given tag and get their text, but this again requires a loop:"
   ]
  },
  {
   "cell_type": "code",
   "execution_count": null,
   "metadata": {},
   "outputs": [],
   "source": [
    "pop_list = []\n",
    "for pop_node in ind_root.iter(\"pop\"):\n",
    "    pop_list.append(pop_node.text)\n",
    "print(pop_list)"
   ]
  },
  {
   "cell_type": "markdown",
   "metadata": {},
   "source": [
    "In XPath, we need only get the `text()` of each node in the path:"
   ]
  },
  {
   "cell_type": "code",
   "execution_count": null,
   "metadata": {},
   "outputs": [],
   "source": [
    "pop_list = ind_root.xpath(\"/indicators/country/timedata/pop/text()\")\n",
    "print(pop_list)"
   ]
  },
  {
   "cell_type": "markdown",
   "metadata": {},
   "source": [
    "Additionally, we can use a shortcut if we want all nodes with a given tag in the tree:"
   ]
  },
  {
   "cell_type": "code",
   "execution_count": null,
   "metadata": {},
   "outputs": [],
   "source": [
    "pop_list = ind_root.xpath(\"//pop/text()\")\n",
    "print(pop_list)"
   ]
  },
  {
   "cell_type": "markdown",
   "metadata": {},
   "source": [
    "#### Filtering on attributes and text\n",
    "\n",
    "We can use XML procedural operations to get the countries with 2017 population less than 100 million:"
   ]
  },
  {
   "cell_type": "code",
   "execution_count": null,
   "metadata": {},
   "outputs": [],
   "source": [
    "small_list = []\n",
    "for country_node in ind_root:\n",
    "    for timedata_node in country_node:\n",
    "        if timedata_node.get(\"year\") != \"2017\": continue\n",
    "        pop_node = timedata_node.find(\"pop\")\n",
    "        if float(pop_node.text) < 100:\n",
    "            small_list.append(country_node.get(\"name\"))\n",
    "            break\n",
    "print(small_list)"
   ]
  },
  {
   "cell_type": "markdown",
   "metadata": {},
   "source": [
    "With XPath, we can do this filtering within our path, with some extra steps at the end to backtrack up the tree to get the country's name:"
   ]
  },
  {
   "cell_type": "code",
   "execution_count": null,
   "metadata": {},
   "outputs": [],
   "source": [
    "small_list = ind_root.xpath(\"//timedata[@year='2017']/pop[text()<100]/../../@name\")\n",
    "print(small_list)"
   ]
  },
  {
   "cell_type": "markdown",
   "metadata": {},
   "source": [
    "---\n",
    "\n",
    "## Part B: Familiarize yourself with the files\n",
    "\n",
    "**Q1:** Begin by reading in and parsing the relevant datasets and familiarizing yourself with them.  In this file, we will work with:\n",
    "\n",
    "* `countries.xml`\n",
    "* `topnames.xml`\n",
    "\n",
    "You should name the variables representing the root nodes `countries_root` and `topnames_root`, respectively."
   ]
  },
  {
   "cell_type": "code",
   "execution_count": null,
   "metadata": {},
   "outputs": [],
   "source": [
    "# YOUR CODE HERE\n",
    "raise NotImplementedError()"
   ]
  },
  {
   "cell_type": "code",
   "execution_count": null,
   "metadata": {
    "deletable": false,
    "editable": false,
    "nbgrader": {
     "cell_type": "code",
     "checksum": "e8c84a7787e151ea7b0e5f3142465e62",
     "grade": true,
     "grade_id": "cell-8e1e34e520cb833f",
     "locked": true,
     "points": 2,
     "schema_version": 3,
     "solution": false,
     "task": false
    }
   },
   "outputs": [],
   "source": [
    "# Testing cell\n",
    "assert type(countries_root) is etree._Element\n",
    "assert len(countries_root) == 231\n",
    "\n",
    "assert type(topnames_root) is etree._Element\n",
    "assert len(topnames_root) == 139"
   ]
  },
  {
   "cell_type": "markdown",
   "metadata": {},
   "source": [
    "---\n",
    "\n",
    "## Part C: `countries.xml`\n",
    "\n",
    "**Q2:** Generate a list of all the country names in the `countries.xml` file, assigning to a variable `countries`.  Then, assign the number of countries to the variable `countrycount`."
   ]
  },
  {
   "cell_type": "code",
   "execution_count": null,
   "metadata": {
    "deletable": false,
    "nbgrader": {
     "cell_type": "code",
     "checksum": "b0b2d0bb01a21a24f4474b9cc1f9184a",
     "grade": false,
     "grade_id": "cell-25002dba76a305fa",
     "locked": false,
     "schema_version": 3,
     "solution": true,
     "task": false
    }
   },
   "outputs": [],
   "source": [
    "# YOUR CODE HERE\n",
    "raise NotImplementedError()"
   ]
  },
  {
   "cell_type": "code",
   "execution_count": null,
   "metadata": {
    "deletable": false,
    "editable": false,
    "nbgrader": {
     "cell_type": "code",
     "checksum": "ef3f4dbe66a79ef0f9e8c13f65d0bfb9",
     "grade": true,
     "grade_id": "cell-e6b57802a3191252",
     "locked": true,
     "points": 2,
     "schema_version": 3,
     "solution": false,
     "task": false
    }
   },
   "outputs": [],
   "source": [
    "# Testing cell\n",
    "assert(countrycount == 231)\n",
    "assert('Uruguay' in countries)"
   ]
  },
  {
   "cell_type": "markdown",
   "metadata": {},
   "source": [
    "**Q3:** Write a function `findPop(root,countryName)` that finds the population of a given `country` in the dataset `countries.xml`. Use an XPath expression and a format string. Return your answer as an integer."
   ]
  },
  {
   "cell_type": "code",
   "execution_count": null,
   "metadata": {
    "deletable": false,
    "nbgrader": {
     "cell_type": "code",
     "checksum": "2b64775959c8c67cb943c1411cc94d35",
     "grade": false,
     "grade_id": "cell-5f336a2f4c0c938e",
     "locked": false,
     "schema_version": 3,
     "solution": true,
     "task": false
    }
   },
   "outputs": [],
   "source": [
    "# YOUR CODE HERE\n",
    "raise NotImplementedError()"
   ]
  },
  {
   "cell_type": "code",
   "execution_count": null,
   "metadata": {
    "deletable": false,
    "editable": false,
    "nbgrader": {
     "cell_type": "code",
     "checksum": "e8c84a7787e151ea7b0e5f3142465e62",
     "grade": true,
     "grade_id": "cell-8e1e34e520cb833f",
     "locked": true,
     "points": 2,
     "schema_version": 3,
     "solution": false,
     "task": false
    }
   },
   "outputs": [],
   "source": [
    "# Testing cell\n",
    "assert findPop(countries_root,'Cuba') == 10951334\n",
    "assert findPop(countries_root,'Uruguay') == 3238952"
   ]
  },
  {
   "cell_type": "markdown",
   "metadata": {},
   "source": [
    "**Q4:** Study the `countries` data carefully.  Then, use the `position()` function to create a node set consisting of, for countries in positions 5-55 inclusive, the population of the second city listed, if there are at least two cities listed.  (Note that you can use `and` inside the filter in `[]` for a given node.)\n",
    "\n",
    "For example, nothing is in the node set for Aruba (no cities listed) or Armenia (only Yerevan listed), but Cordoba (a city in Argentina) is in the node set because Argentina has four cities listed.\n",
    "\n",
    "Your answer should use a single XPath expression.  Store the results in a list `secondPops` of integers."
   ]
  },
  {
   "cell_type": "code",
   "execution_count": null,
   "metadata": {
    "deletable": false,
    "nbgrader": {
     "cell_type": "code",
     "checksum": "fe82e0817ecd91fa3702b21c75bf3491",
     "grade": false,
     "grade_id": "cell-0f4c2d6f97e62299",
     "locked": false,
     "schema_version": 3,
     "solution": true,
     "task": false
    }
   },
   "outputs": [],
   "source": [
    "# YOUR CODE HERE\n",
    "raise NotImplementedError()\n",
    "\n",
    "# Print the list\n",
    "print(secondPops)"
   ]
  },
  {
   "cell_type": "code",
   "execution_count": null,
   "metadata": {
    "deletable": false,
    "editable": false,
    "nbgrader": {
     "cell_type": "code",
     "checksum": "9e4122e297e2ab21f3eec5f2d9eac45b",
     "grade": true,
     "grade_id": "cell-c8e11dca9ab80a40",
     "locked": true,
     "points": 2,
     "schema_version": 3,
     "solution": false,
     "task": false
    }
   },
   "outputs": [],
   "source": [
    "assert len(secondPops) == 6\n",
    "assert secondPops[0] == 1208713\n",
    "assert secondPops[5] == 1064255"
   ]
  },
  {
   "cell_type": "markdown",
   "metadata": {},
   "source": [
    "> You've reached the first checkpoint in the lab.  Make sure to have it signed off by the instructor or TA.\n",
    ">\n",
    "> Checkpoint 1: How could you change the previous question's answer to instead return the names of the second cities, but only if the population is at least 1500000?"
   ]
  },
  {
   "cell_type": "markdown",
   "metadata": {},
   "source": [
    "---\n",
    "\n",
    "## Part D: `topnames.xml`\n",
    "\n",
    "**Q5:** With reference to the `topnames` dataset, find all years where there was a count (either sex) that was strictly larger than 50,000.  Store the resulting list of years (as strings) in a variable `yearsList1`."
   ]
  },
  {
   "cell_type": "code",
   "execution_count": null,
   "metadata": {
    "deletable": false,
    "nbgrader": {
     "cell_type": "code",
     "checksum": "5f9250440cf720eb223d68d28673cf21",
     "grade": false,
     "grade_id": "cell-3fc5a4015ec5e485",
     "locked": false,
     "schema_version": 3,
     "solution": true,
     "task": false
    }
   },
   "outputs": [],
   "source": [
    "# YOUR CODE HERE\n",
    "raise NotImplementedError()\n",
    "\n",
    "# Print the beginning of the list\n",
    "print(yearsList1)"
   ]
  },
  {
   "cell_type": "code",
   "execution_count": null,
   "metadata": {
    "deletable": false,
    "editable": false,
    "nbgrader": {
     "cell_type": "code",
     "checksum": "9e838bb762fec60b40deea0810d3a7a4",
     "grade": true,
     "grade_id": "cell-49d4e8d051b06d3d",
     "locked": true,
     "points": 2,
     "schema_version": 3,
     "solution": false,
     "task": false
    }
   },
   "outputs": [],
   "source": [
    "# Testing cell\n",
    "assert yearsList1[0] == '1915'\n",
    "assert len(yearsList1) == 78"
   ]
  },
  {
   "cell_type": "markdown",
   "metadata": {},
   "source": [
    "**Q6:** With reference to the `topnames` dataset, find all years where the top female name had a count that was strictly larger than 50,000. Store the resulting list of years (as strings) in a variable `yearsList2`."
   ]
  },
  {
   "cell_type": "code",
   "execution_count": null,
   "metadata": {
    "deletable": false,
    "nbgrader": {
     "cell_type": "code",
     "checksum": "50f3cda5c90e394021d1fa1280fa4d42",
     "grade": false,
     "grade_id": "cell-7b7db8ff25fd5342",
     "locked": false,
     "schema_version": 3,
     "solution": true,
     "task": false
    }
   },
   "outputs": [],
   "source": [
    "# YOUR CODE HERE\n",
    "raise NotImplementedError()\n",
    "\n",
    "# Print the beginning of the list\n",
    "print(yearsList2)"
   ]
  },
  {
   "cell_type": "code",
   "execution_count": null,
   "metadata": {
    "deletable": false,
    "editable": false,
    "nbgrader": {
     "cell_type": "code",
     "checksum": "18be402018526ec031ac28b270a20d41",
     "grade": true,
     "grade_id": "cell-462efe3b0c32724c",
     "locked": true,
     "points": 2,
     "schema_version": 3,
     "solution": false,
     "task": false
    }
   },
   "outputs": [],
   "source": [
    "# Testing cell\n",
    "assert yearsList2[0] == '1915'\n",
    "assert len(yearsList2) == 68"
   ]
  },
  {
   "cell_type": "markdown",
   "metadata": {},
   "source": [
    "> You've reached the second (and final) checkpoint in the lab.  Make sure to have it signed off by the instructor or TA.\n",
    ">\n",
    "> Checkpoint 2: How could you instead find all years for which the combined male and female count was strictly larger than 50,000?"
   ]
  },
  {
   "cell_type": "markdown",
   "metadata": {},
   "source": [
    "---\n",
    "\n",
    "---\n",
    "## Part E\n",
    "\n",
    "How much time (in minutes/hours) did you spend on this lab outside of class?"
   ]
  },
  {
   "cell_type": "markdown",
   "metadata": {},
   "source": [
    "YOUR ANSWER HERE"
   ]
  }
 ],
 "metadata": {
  "kernelspec": {
   "display_name": "Python 3",
   "language": "python",
   "name": "python3"
  },
  "language_info": {
   "codemirror_mode": {
    "name": "ipython",
    "version": 3
   },
   "file_extension": ".py",
   "mimetype": "text/x-python",
   "name": "python",
   "nbconvert_exporter": "python",
   "pygments_lexer": "ipython3",
   "version": "3.9.7"
  }
 },
 "nbformat": 4,
 "nbformat_minor": 4
}
