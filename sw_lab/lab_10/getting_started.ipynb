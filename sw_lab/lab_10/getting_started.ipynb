{
 "cells": [
  {
   "cell_type": "markdown",
   "metadata": {},
   "source": [
    "# Denison CS181/DA210 SW Lab #10 - Step 1\n",
    "\n",
    "Before you turn this problem in, make sure everything runs as expected. This is a combination of **restarting the kernel** and then **running all cells** (in the menubar, select Kernel$\\rightarrow$Restart And Run All).\n",
    "\n",
    "Make sure you fill in any place that says `# YOUR CODE HERE` or \"YOUR ANSWER HERE\"."
   ]
  },
  {
   "cell_type": "markdown",
   "metadata": {},
   "source": [
    "---"
   ]
  },
  {
   "cell_type": "code",
   "execution_count": null,
   "metadata": {},
   "outputs": [],
   "source": [
    "import pandas as pd\n",
    "import os\n",
    "import os.path\n",
    "import json"
   ]
  },
  {
   "cell_type": "code",
   "execution_count": null,
   "metadata": {},
   "outputs": [],
   "source": [
    "def getsqlite_creds(dirname=\".\",filename=\"creds.json\"):\n",
    "    \"\"\" Using directory and filename parameters, open a credentials file\n",
    "        and obtain the two parts needed for a connection string to\n",
    "        a local provider using the \"sqlite\" dictionary within\n",
    "        an outer dictionary.  \n",
    "        \n",
    "        Return a scheme and a dbfile\n",
    "    \"\"\"\n",
    "    assert os.path.isfile(os.path.join(dirname, filename))\n",
    "    with open(os.path.join(dirname, filename)) as f:\n",
    "        D = json.load(f)\n",
    "    sqlite = D[\"sqlite\"]\n",
    "    return sqlite[\"scheme\"], sqlite[\"dbdir\"], sqlite[\"database\"]"
   ]
  },
  {
   "cell_type": "markdown",
   "metadata": {},
   "source": [
    "---\n",
    "\n",
    "## Part A: Working with Independent Client(s)\n",
    "\n",
    "#### Download/install client(s)\n",
    "\n",
    "Working with databases gives us the opportunity to use an independent client as a tool to look at the tables of a database and even to create and try out SQL queries.  This indpendent route allows us to separate the concerns of the Python programming that we do in Jupyter notebooks from problem solving data queries.\n",
    "\n",
    "There are several independent clients you could use, depending on the type of relational database you're working with.  For now, I'll use SQLiteStudio:\n",
    "- **SQLiteStudio** is cross-platform (PC, Mac, Linux) and open source, and works with SQLite databases.  This is the type of database we'll work with on our local machines.\n",
    "    - Link: https://sqlitestudio.pl/\n",
    "    - Works with: local SQLite file-based databases\n",
    "\n",
    "Other choices include:\n",
    "- **Table Plus**, a cross-platform (PC, Mac, Linux) with a free trial version.  The trial version only allows two open tabs and/or two database connections, but can be sufficient for many \"check it out\" scenarios.  \n",
    "    - Link: https://tableplus.com/\n",
    "    - Works with: both remote MySQL databases as well as local SQLite file-based databases\n",
    "- **MySQL Workbench**, another cross-platorm client application that is more full-featured than Table Plus, but is specific to remote MySQL databases.\n",
    "    - Link: https://www.mysql.com/products/workbench/\n",
    "    - Works with: remote MySQL databases\n",
    "    \n",
    "Go ahead and download at least SQLiteStudio on your own machine.  You need not install this program; instead, you can run it directly from the folder you download.\n",
    "\n",
    "We will not spend time configuring these now, or trying to connect to remote MySQL databases.  For now, we'll focus on local SQLite databases.  You should take note of the information needed to connect to the SQLite databases in the cells below, as this same information will be used to configure connection setups in independent clients."
   ]
  },
  {
   "cell_type": "markdown",
   "metadata": {},
   "source": [
    "#### Explore a SQLite database\n",
    "\n",
    "You can use SQLiteStudio to visualize the schema and data of local SQLite file-based databases.  Use these steps:\n",
    "\n",
    "1. Open `SQLiteStudio`.\n",
    "\n",
    "2. Go to `Database` -> `Add a database`.\n",
    "\n",
    "3. Click the folder icon and navigate to your class repository -> `dbfiles` -> `book.db`.\n",
    "\n",
    "4. Leave the \"Name (on the list)\" setting as `book` and the \"Database type\" as `SQLite 3`, then click `OK`."
   ]
  },
  {
   "cell_type": "markdown",
   "metadata": {},
   "source": [
    "> You've reached the first checkpoint in the lab.  Make sure to have it signed off by the instructor or TA.\n",
    ">\n",
    "> Checkpoint 1: In the far level pane, expand `Tables` and double-click on `indicators`.  Based on the `Structure` tab (which should be the default view), how many fields are there in this table?  Which field(s) form the primary key?"
   ]
  },
  {
   "cell_type": "markdown",
   "metadata": {},
   "source": [
    "---\n",
    "\n",
    "## Part B: SQL and Jupyter Notebooks\n",
    "\n",
    "#### Get SQL-Related Packages\n",
    "\n",
    "We need to install some SQL-related packages.\n",
    "\n",
    "1. Use `pip` to install `ipython-sql` and its dependencies (don't type the `$` -- that's your prompt):\n",
    "\n",
    "    `$ pip install ipython-sql`\n",
    "\n",
    "    Accept the defaults and install.\n",
    "\n",
    "    Mine generates lots of lines of text, with this at the end:\n",
    "\n",
    "    ```\n",
    "    Installing collected packages: sqlparse, prettytable, ipython-sql\n",
    "    Successfully installed ipython-sql-0.4.0 prettytable-0.7.2 sqlparse-0.4.2\n",
    "    ```\n",
    "    \n",
    "    &nbsp;\n",
    "\n",
    "2. Verify that the SQL-related packages are installed:  If you have a Mac, click the `+` in the upper left of Jupyter Lab and open a Terminal.  If you are using Windows, open the `Anaconda Powershell Prompt` program.  In Linux, this may just work; if not, ask for help!\n",
    "\n",
    "    At the command prompt, type the following command (but without the dollar sign):\n",
    "\n",
    "    `$ conda list | grep sql`\n",
    "\n",
    "    I get the following (you may have other packages, but you should at least have these):\n",
    "    ```\n",
    "    ipython-sql               0.4.0                    pypi_0    pypi\n",
    "    sqlalchemy                1.4.22           py39h2bbff1b_0  \n",
    "    sqlite                    3.36.0               h2bbff1b_0  \n",
    "    sqlparse                  0.4.2                    pypi_0    pypi\n",
    "    ```"
   ]
  },
  {
   "cell_type": "markdown",
   "metadata": {},
   "source": [
    "#### Load notebook extension to enable \"SQL Magic\"\n",
    "\n",
    "This extension is provided by the `ipython-sql` package installed previously, and allows the three forms of sql within Notebooks (code cells, not markdown cells)\n",
    "\n",
    "1. `%%sql`: Magic to make an entire multi-line cell be interpreted as an SQL to be sent as a request to a connected server.\n",
    "2. Single line `%sql`: Magic to allow a single line SQL, placed in its entirety to the right of the `%sql` and the only thing in the cell.\n",
    "3. Embedded `%sql`: Magic to allow the SQL command *following the `%sql`* to be executed as part of a larger Python code block.  This allows the integration of Python code and variables incorporated with sql requests.\n",
    "\n",
    "**Execute the following cell to load the sql-magics extension**\n",
    "\n",
    "_Note that if this cell is executed a second time within the same kernel, it will not reload.  Normally this is fine, unless the sql magics module has changed._"
   ]
  },
  {
   "cell_type": "code",
   "execution_count": null,
   "metadata": {},
   "outputs": [],
   "source": [
    "%load_ext sql"
   ]
  },
  {
   "cell_type": "markdown",
   "metadata": {},
   "source": [
    "---\n",
    "\n",
    "## Part C: Connect to a Local SQLite Database\n",
    "\n",
    "#### Connection String\n",
    "\n",
    "For a local database file, like those used by SQLite for `book.db` and `school.db` in the `dbfiles` directory, a connection string rolls together the information about the scheme, the directory holding the database files, and the name of the database.  At this point, it is just a string that we construct in Python, named `cstring`."
   ]
  },
  {
   "cell_type": "code",
   "execution_count": null,
   "metadata": {},
   "outputs": [],
   "source": [
    "scheme, dbdir, database = getsqlite_creds()\n",
    "template = '{}:///{}/{}.db'\n",
    "cstring = template.format(scheme, dbdir, database)\n",
    "print(\"Connection string:\", cstring)"
   ]
  },
  {
   "cell_type": "markdown",
   "metadata": {},
   "source": [
    "#### Establish Connection from Client to Server\n",
    "\n",
    "The cell below uses the Python variable constructed earlier to actually establish a connection with the server (for SQLite, there is no formal server process, as SQLite works directly with ordinary files on the disk).  We'll maintain the illusion of a server, however, for our mental model of relational databases."
   ]
  },
  {
   "cell_type": "code",
   "execution_count": null,
   "metadata": {},
   "outputs": [],
   "source": [
    "%sql $cstring"
   ]
  },
  {
   "cell_type": "markdown",
   "metadata": {},
   "source": [
    "#### Make a Query"
   ]
  },
  {
   "cell_type": "markdown",
   "metadata": {},
   "source": [
    "Try and execute the following line, which uses an \"inline\" sql magic to exectute a query to the database and retrieve the result."
   ]
  },
  {
   "cell_type": "code",
   "execution_count": null,
   "metadata": {
    "nbgrader": {
     "grade": true,
     "grade_id": "cell-bbdb09230afb60cf",
     "locked": false,
     "points": 0,
     "schema_version": 3,
     "solution": true,
     "task": false
    }
   },
   "outputs": [],
   "source": [
    "%sql SELECT * from indicators0"
   ]
  },
  {
   "cell_type": "markdown",
   "metadata": {},
   "source": [
    "> You've reached the second checkpoint in the lab.  Make sure to have it signed off by the instructor or TA.\n",
    ">\n",
    "> Checkpoint 2: Based on the result of your query in the previous cell, how many fields are present in the `indicators0` table?  How many records are there?"
   ]
  }
 ],
 "metadata": {
  "celltoolbar": "Create Assignment",
  "kernelspec": {
   "display_name": "Python 3",
   "language": "python",
   "name": "python3"
  },
  "language_info": {
   "codemirror_mode": {
    "name": "ipython",
    "version": 3
   },
   "file_extension": ".py",
   "mimetype": "text/x-python",
   "name": "python",
   "nbconvert_exporter": "python",
   "pygments_lexer": "ipython3",
   "version": "3.9.7"
  }
 },
 "nbformat": 4,
 "nbformat_minor": 4
}
