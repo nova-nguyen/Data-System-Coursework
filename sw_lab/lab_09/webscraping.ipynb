{
 "cells": [
  {
   "cell_type": "markdown",
   "metadata": {},
   "source": [
    "# Denison CS181/DA210 SW Lab #9 - Step 1\n",
    "\n",
    "Before you turn this problem in, make sure everything runs as expected. This is a combination of **restarting the kernel** and then **running all cells** (in the menubar, select Kernel$\\rightarrow$Restart And Run All).\n",
    "\n",
    "Make sure you fill in any place that says `# YOUR CODE HERE` or \"YOUR ANSWER HERE\"."
   ]
  },
  {
   "cell_type": "markdown",
   "metadata": {},
   "source": [
    "---"
   ]
  },
  {
   "cell_type": "code",
   "execution_count": null,
   "metadata": {
    "nbgrader": {
     "grade": false,
     "grade_id": "cell-b9abcf27cf7faf8f",
     "locked": true,
     "schema_version": 3,
     "solution": false,
     "task": false
    }
   },
   "outputs": [],
   "source": [
    "import os\n",
    "import io\n",
    "import sys\n",
    "import importlib\n",
    "import pandas as pd\n",
    "from lxml import etree\n",
    "import requests\n",
    "\n",
    "if os.path.isdir(os.path.join(\"../../..\", \"modules\")):\n",
    "    module_dir = os.path.join(\"../../..\", \"modules\")\n",
    "else:\n",
    "    module_dir = os.path.join(\"../..\", \"modules\")\n",
    "\n",
    "module_path = os.path.abspath(module_dir)\n",
    "if not module_path in sys.path:\n",
    "    sys.path.append(module_path)\n",
    "\n",
    "import util\n",
    "importlib.reload(util)"
   ]
  },
  {
   "cell_type": "markdown",
   "metadata": {},
   "source": [
    "---\n",
    "\n",
    "## Part A: HTML Structure\n",
    "\n",
    "Although we will typically assume that HTML is properly formatted, that is no guarantee when using real websites, as they may have been created without (or before) such assumptions.\n",
    "\n",
    "For example, consider the following string: `\"<html><head><title>test<body><h1>header title</h3>\"`.  This is \"bad\" for several reasons:\n",
    "\n",
    "* The `<html>`, `<head>`, `<title>`, and `<body>` tags are all missing a closing tag.\n",
    "* The `<h1>` header tag is closed with a `<h3>` tag.\n",
    "\n",
    "If we try to use an XML parser, this will fail:"
   ]
  },
  {
   "cell_type": "code",
   "execution_count": null,
   "metadata": {
    "collapsed": true,
    "jupyter": {
     "outputs_hidden": true
    }
   },
   "outputs": [],
   "source": [
    "# Broken HTML: <html>, <head>, <title>, <body> not closed, <h1> closed as <h3>\n",
    "bad_html = \"<html><head><title>test<body><h1>header title</h3>\"\n",
    "\n",
    "# Try and fail to parse as XML\n",
    "xmlparser = etree.XMLParser()\n",
    "try:\n",
    "    tree = etree.parse(io.StringIO(bad_html), parser=xmlparser)\n",
    "    util.print_xml(tree.getroot())\n",
    "except:\n",
    "    # Should end up here\n",
    "    print(\"Failed to parse as XML\")"
   ]
  },
  {
   "cell_type": "markdown",
   "metadata": {},
   "source": [
    "However, we can instead use a HTML parser provided by `etree`, which can handle such messy HTML:"
   ]
  },
  {
   "cell_type": "code",
   "execution_count": null,
   "metadata": {},
   "outputs": [],
   "source": [
    "# Try again as HTML\n",
    "htmlparser = etree.HTMLParser()\n",
    "try:\n",
    "    # This one should work\n",
    "    tree = etree.parse(io.StringIO(bad_html), parser=htmlparser)\n",
    "    util.print_xml(tree.getroot())\n",
    "except:\n",
    "    print(\"Failed to parse as HTML\")"
   ]
  },
  {
   "cell_type": "markdown",
   "metadata": {},
   "source": [
    "Now, let's consider well-formed HTML.  As XML, it must have a single root node.  For HTML documents, this should be `<html>`.  This node should have, at most, one `<head>` child and one `<body>` child, in that order.\n",
    "\n",
    "The `<head>` node contains meta information about the HTML document.  A common part of this is the webpage title, using the `<title>` tag.\n",
    "\n",
    "The `<body>` node contains the content of the webpage.  This can include text nodes (e.g., using `<div>`, `<p>`, and `<span>`), headers (`<h1>` through `<h6>`), links (`<a>`), lists (`<ul>` or `<ol>`) and tables (`<table>`).\n",
    "\n",
    "Here is a simple example (which we can parse as either XML or HTML, as it is properly formed XML):"
   ]
  },
  {
   "cell_type": "code",
   "execution_count": null,
   "metadata": {},
   "outputs": [],
   "source": [
    "# A simple HTML string\n",
    "simple_html = \"<html><head><title>test</title></head><body><h1>header title</h1></body></html>\"\n",
    "tree = etree.parse(io.StringIO(simple_html), parser=xmlparser)\n",
    "\n",
    "# Display the HTML\n",
    "util.print_xml(tree.getroot())"
   ]
  },
  {
   "cell_type": "markdown",
   "metadata": {},
   "source": [
    "---\n",
    "\n",
    "## Part B: Web scraping\n",
    "\n",
    "We can either work with locally saved HTML documents, or download them from the web.  We won't focus on this for now, so the code in the following cell doesn't need to make too much sense to you yet (see Chapters 18-21 for what we've skipped so far in this regard if you're curious).\n",
    "\n",
    "#### Scraping via GET request\n",
    "\n",
    "At a high level, we can use a _URL_ to access a document on the web, and form a _request_ to _get_ the content at that URL.  If the _response_ has _status_ `200`, then the request was successful.\n",
    "\n",
    "In this case, we will download the HTML source of the page: [http://datasystems.denison.edu/basic.html](http://datasystems.denison.edu/basic.html)."
   ]
  },
  {
   "cell_type": "code",
   "execution_count": null,
   "metadata": {},
   "outputs": [],
   "source": [
    "# Download HTML from a web URL\n",
    "\n",
    "location = \"datasystems.denison.edu\"\n",
    "resource = \"/basic.html\"\n",
    "\n",
    "url = util.buildURL(resource, location)\n",
    "response = requests.get(url)\n",
    "assert response.status_code == 200\n",
    "\n",
    "# Display the retrieved HTML text\n",
    "basic_html = response.text\n",
    "print(basic_html)"
   ]
  },
  {
   "cell_type": "markdown",
   "metadata": {},
   "source": [
    "As you can see, this webpage is slightly more complex than our previous simple example: it has a nested list, with the outer list being unordered (bullet points), and the inner list being ordered (numbered).\n",
    "\n",
    "It also contains two heading levels, as well as bolded text and a link inside of a paragraph node."
   ]
  },
  {
   "cell_type": "markdown",
   "metadata": {},
   "source": [
    "#### Scraping via `curl`\n",
    "\n",
    "Alternatively, we can use the `curl` command (a command-line tool, not part of Python itself) to download the webpage content to a local HTML file.  The following command will save the HTML source of [http://datasystems.denison.edu/basic.html](http://datasystems.denison.edu/basic.html) to your computer, in a file `basic.html` in the same folder as this notebook."
   ]
  },
  {
   "cell_type": "code",
   "execution_count": null,
   "metadata": {},
   "outputs": [],
   "source": [
    "# Download the HTML to a file -- do not modify this!\n",
    "!curl -s -o basic.html http://datasystems.denison.edu/basic.html"
   ]
  },
  {
   "cell_type": "markdown",
   "metadata": {},
   "source": [
    "---\n",
    "\n",
    "## Part C: Static Web Page Example: Table\n",
    "\n",
    "First, we'll consider the `indicators2016` dataset represented as a set of nested lists within a web page: [http://datasystems.denison.edu/ind2016.html](http://datasystems.denison.edu/ind2016.html)."
   ]
  },
  {
   "cell_type": "code",
   "execution_count": null,
   "metadata": {},
   "outputs": [],
   "source": [
    "# Download the HTML to a file -- do not modify this!\n",
    "!curl -s -o ind2016.html http://datasystems.denison.edu/ind2016.html"
   ]
  },
  {
   "cell_type": "markdown",
   "metadata": {},
   "source": [
    "**Q1:** First, we need to do some discovery.  Use `etree` to parse the root of the HTML tree from `ind2016.html` into the variable `ind2016_root`."
   ]
  },
  {
   "cell_type": "code",
   "execution_count": null,
   "metadata": {},
   "outputs": [],
   "source": [
    "# YOUR CODE HERE\n",
    "raise NotImplementedError()\n",
    "\n",
    "# Display a snippet of the file (using a util module provided with the textbook)\n",
    "util.print_xml(ind2016_root, depth=3, nchild=3)"
   ]
  },
  {
   "cell_type": "markdown",
   "metadata": {},
   "source": [
    "**Q2:** Use XPath to find all `<table>` nodes in the `ind2016` HTML tree.  Store the resulting list in a variable `ind2016_table_nodes`."
   ]
  },
  {
   "cell_type": "code",
   "execution_count": null,
   "metadata": {},
   "outputs": [],
   "source": [
    "# YOUR CODE HERE\n",
    "raise NotImplementedError()\n",
    "\n",
    "# Display the resulting list\n",
    "ind2016_table_nodes"
   ]
  },
  {
   "cell_type": "code",
   "execution_count": null,
   "metadata": {},
   "outputs": [],
   "source": [
    "# Testing cell\n",
    "assert type(ind2016_table_nodes) is list\n",
    "assert len(ind2016_table_nodes) == 1\n",
    "assert ind2016_table_nodes[0].tag == \"table\""
   ]
  },
  {
   "cell_type": "markdown",
   "metadata": {},
   "source": [
    "**Q3:** The previous question should have resulted in a list of only one node.  From this node, use XPath or XML procedural operations to retrive the column names in the table.  Store this list in a variable `ind2016_columns`."
   ]
  },
  {
   "cell_type": "code",
   "execution_count": null,
   "metadata": {},
   "outputs": [],
   "source": [
    "ind2016_table_node = ind2016_table_nodes[0]\n",
    "util.print_xml(ind2016_table_node, depth=3, nchild=3)\n",
    "\n",
    "# YOUR CODE HERE\n",
    "raise NotImplementedError()\n",
    "\n",
    "# Display the resulting list\n",
    "ind2016_columns"
   ]
  },
  {
   "cell_type": "code",
   "execution_count": null,
   "metadata": {},
   "outputs": [],
   "source": [
    "# Testing cell\n",
    "assert type(ind2016_columns) is list\n",
    "assert len(ind2016_columns) == 6\n",
    "assert \"code\" in ind2016_columns\n",
    "assert \"life\" in ind2016_columns"
   ]
  },
  {
   "cell_type": "markdown",
   "metadata": {},
   "source": [
    "**Q4:** One way to process the data in the table is to read the text of all data cells, and then group them into a LoL assuming the same number of cells in each row.\n",
    "\n",
    "Modify the following code to use XPath to retrieve the text of all data cells in the table, stored in a variable `ind2016_td_text`."
   ]
  },
  {
   "cell_type": "code",
   "execution_count": null,
   "metadata": {},
   "outputs": [],
   "source": [
    "# YOUR CODE HERE\n",
    "raise NotImplementedError()\n",
    "\n",
    "ind2016_LoL = []\n",
    "colNum = 0\n",
    "for text in ind2016_td_text:\n",
    "    if colNum == 0:\n",
    "        row = []\n",
    "\n",
    "    # Add the text to the current row\n",
    "    row.append(text)\n",
    "\n",
    "    # If this was the last element in the row, add it to the LoL,\n",
    "    # otherwise increment the column number\n",
    "    if colNum == len(ind2016_columns)-1:\n",
    "        ind2016_LoL.append(row)\n",
    "        colNum = 0\n",
    "    else:\n",
    "        colNum += 1\n",
    "\n",
    "# Print a subset of the resulting LoL\n",
    "util.print_data(ind2016_LoL, nlines=20)"
   ]
  },
  {
   "cell_type": "code",
   "execution_count": null,
   "metadata": {},
   "outputs": [],
   "source": [
    "# Testing cell\n",
    "assert type(ind2016_td_text) is list\n",
    "assert len(ind2016_td_text) == 36\n",
    "assert len(ind2016_LoL) == 6\n",
    "assert ind2016_LoL[0][0] == \"CAN\"\n",
    "assert ind2016_LoL[2][4] == \"68.56\""
   ]
  },
  {
   "cell_type": "markdown",
   "metadata": {},
   "source": [
    "> You've reached the first checkpoint in the lab.  Make sure to have it signed off by the instructor or TA.\n",
    ">\n",
    "> Checkpoint 1: Alternatively, we could use XPath to create a DoL representation of this data table.  How could you write an expression using `ind2016_table_node` to get the text for each cell in a given column?"
   ]
  },
  {
   "cell_type": "markdown",
   "metadata": {},
   "source": [
    "---\n",
    "\n",
    "## Part D: Static Web Page Example: Nested Lists\n",
    "\n",
    "Next, we'll consider the `indicators0` dataset represented as a set of nested lists within a web page: [http://datasystems.denison.edu/ind0.html](http://datasystems.denison.edu/ind0.html)."
   ]
  },
  {
   "cell_type": "code",
   "execution_count": null,
   "metadata": {},
   "outputs": [],
   "source": [
    "# Download the HTML to a file -- do not modify this!\n",
    "!curl -s -o ind0.html http://datasystems.denison.edu/ind0.html"
   ]
  },
  {
   "cell_type": "markdown",
   "metadata": {},
   "source": [
    "**Q5:** Once again, discovery is our first step.  Use `etree` to parse the root of the HTML tree from `ind0.html` into the variable `ind0_root`."
   ]
  },
  {
   "cell_type": "code",
   "execution_count": null,
   "metadata": {},
   "outputs": [],
   "source": [
    "# YOUR CODE HERE\n",
    "raise NotImplementedError()\n",
    "\n",
    "# Display a snippet of the file (using a util module provided with the textbook)\n",
    "util.print_xml(ind0_root, depth=3, nchild=3)"
   ]
  },
  {
   "cell_type": "markdown",
   "metadata": {},
   "source": [
    "> You've reached the second checkpoint in the lab.  Make sure to have it signed off by the instructor or TA.\n",
    ">\n",
    "> Checkpoint 2: Look through the HTML for `ind0.html` and/or play around with XPath.  How many `<ul>` nodes are there?  How can you identify the one containing the indicators nested-list data?"
   ]
  },
  {
   "cell_type": "markdown",
   "metadata": {},
   "source": [
    "**Q6:** This webpage was created by a tool, so it has a lot going on (e.g., due to formatting) between the `<body>` node and the nested lists.  Use XPath to find the top-level HTML unordered-list element representing the indicators data, and store that node in the variable `ind0_list_node`."
   ]
  },
  {
   "cell_type": "code",
   "execution_count": null,
   "metadata": {},
   "outputs": [],
   "source": [
    "# YOUR CODE HERE\n",
    "raise NotImplementedError()\n",
    "\n",
    "# You should get a single node with tag \"ul\"\n",
    "util.print_xml(ind0_list_node, depth=4, nchild=3, nlines=18)"
   ]
  },
  {
   "cell_type": "code",
   "execution_count": null,
   "metadata": {},
   "outputs": [],
   "source": [
    "# Testing cell\n",
    "assert type(ind0_list_node) is etree._Element\n",
    "assert ind0_list_node.tag == \"ul\"\n",
    "assert len(ind0_list_node) == 3"
   ]
  },
  {
   "cell_type": "markdown",
   "metadata": {},
   "source": [
    "**Q7:** The subtree for `FRA` is fairly straightforward.  Use XPath or XML procedural operations to construct a row dictionary for `FRA` with columns (keys) `code`, `pop2007`, `gdp2007`, `pop2017`, and `gdp2017`.  Store your dictionary in a variable `FRA_rowD`."
   ]
  },
  {
   "cell_type": "code",
   "execution_count": null,
   "metadata": {},
   "outputs": [],
   "source": [
    "# YOUR CODE HERE\n",
    "raise NotImplementedError()\n",
    "\n",
    "# Display the resulting data row dictionary\n",
    "print(FRA_rowD)"
   ]
  },
  {
   "cell_type": "code",
   "execution_count": null,
   "metadata": {},
   "outputs": [],
   "source": [
    "# Testing cell\n",
    "assert type(FRA_rowD) is dict\n",
    "assert len(FRA_rowD) == 5\n",
    "assert FRA_rowD[\"code\"] == \"FRA\"\n",
    "assert FRA_rowD[\"pop2007\"] == 64.02\n",
    "assert FRA_rowD[\"gdp2017\"] == 2586.29"
   ]
  },
  {
   "cell_type": "markdown",
   "metadata": {},
   "source": [
    "> You've reached the third (and final) checkpoint in the lab.  Make sure to have it signed off by the instructor or TA.\n",
    ">\n",
    "> Checkpoint 3: The subtrees for `GBR` and `USA` are more complex, as their data for 2007 are inside of `<span>` nodes, but the 2017 data are not.  How would you need to change your approach to handle this case?"
   ]
  },
  {
   "cell_type": "markdown",
   "metadata": {},
   "source": [
    "---\n",
    "\n",
    "---\n",
    "## Part E\n",
    "\n",
    "How much time (in minutes/hours) did you spend on this lab outside of class?"
   ]
  },
  {
   "cell_type": "markdown",
   "metadata": {},
   "source": [
    "YOUR ANSWER HERE"
   ]
  }
 ],
 "metadata": {
  "kernelspec": {
   "display_name": "Python 3",
   "language": "python",
   "name": "python3"
  },
  "language_info": {
   "codemirror_mode": {
    "name": "ipython",
    "version": 3
   },
   "file_extension": ".py",
   "mimetype": "text/x-python",
   "name": "python",
   "nbconvert_exporter": "python",
   "pygments_lexer": "ipython3",
   "version": "3.9.7"
  }
 },
 "nbformat": 4,
 "nbformat_minor": 4
}
