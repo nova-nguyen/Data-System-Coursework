{
 "cells": [
  {
   "cell_type": "markdown",
   "metadata": {},
   "source": [
    "# Denison CS181/DA210 SW Lab #2 - Step 1\n",
    "\n",
    "Before you get your checkpoint, make sure everything runs as expected. This is a combination of **restarting the kernel** and then **running all cells** (in the menubar, select Kernel$\\rightarrow$Restart And Run All).\n",
    "\n",
    "Make sure you fill in any place that says `# YOUR CODE HERE` or \"YOUR ANSWER HERE\"."
   ]
  },
  {
   "cell_type": "code",
   "execution_count": null,
   "metadata": {},
   "outputs": [],
   "source": [
    "import os\n",
    "import os.path\n",
    "import io\n",
    "import sys\n",
    "\n",
    "datadir = \"publicdata\""
   ]
  },
  {
   "cell_type": "markdown",
   "metadata": {},
   "source": [
    "---\n",
    "## Part A: Dictionaries\n",
    "\n",
    "A dictionary allows us to represent key-value pairs in Python in a way that ensures fast lookup of values.\n",
    "\n",
    "In Python, dictionaries are represented using \"curly braces\": `{}`.  (This is in contrast to `[]` used by lists or `()` used by tuples.)\n",
    "\n",
    "An empty dictionary is thus given by:"
   ]
  },
  {
   "cell_type": "code",
   "execution_count": null,
   "metadata": {},
   "outputs": [],
   "source": [
    "emptyDict = {}"
   ]
  },
  {
   "cell_type": "markdown",
   "metadata": {},
   "source": [
    "We can statically create a dictionary by specifying the key-value pairs.  Keys can be any immutable types (e.g., strings, ints, tuples).  Values can be *any* types (e.g., strings, ints, tuples, lists, floats, other dictionaries).\n",
    "\n",
    "For example, we can map people's names to their favorite colors:"
   ]
  },
  {
   "cell_type": "code",
   "execution_count": null,
   "metadata": {},
   "outputs": [],
   "source": [
    "favoriteColors = {\"Isabella\": \"teal\",\n",
    "                  \"Miyeon\": \"purple\",\n",
    "                  \"Joshua\": \"brown\",\n",
    "                  \"Abhishek\": \"blue\"}"
   ]
  },
  {
   "cell_type": "markdown",
   "metadata": {},
   "source": [
    "We can use square brackets, `[]`, to look up the value corresponding to a key:"
   ]
  },
  {
   "cell_type": "code",
   "execution_count": null,
   "metadata": {},
   "outputs": [],
   "source": [
    "# Look up the value for a given key\n",
    "favoriteColors[\"Isabella\"]"
   ]
  },
  {
   "cell_type": "markdown",
   "metadata": {},
   "source": [
    "We can also use square brackets, `[]`, to add a new key-value pair to the dictionary."
   ]
  },
  {
   "cell_type": "code",
   "execution_count": null,
   "metadata": {},
   "outputs": [],
   "source": [
    "print(favoriteColors)\n",
    "\n",
    "# Add a new key-value pair\n",
    "favoriteColors[\"Enrico\"] = \"yellow\"\n",
    "\n",
    "print(favoriteColors)"
   ]
  },
  {
   "cell_type": "markdown",
   "metadata": {},
   "source": [
    "If we provide an existing key, we can update its value.  Note that this means that _there cannot be duplicate keys_ in a Python dictionary."
   ]
  },
  {
   "cell_type": "code",
   "execution_count": null,
   "metadata": {},
   "outputs": [],
   "source": [
    "print(favoriteColors)\n",
    "\n",
    "# Update a key-value pair\n",
    "favoriteColors[\"Enrico\"] = \"orange\"\n",
    "\n",
    "print(favoriteColors)"
   ]
  },
  {
   "cell_type": "markdown",
   "metadata": {},
   "source": [
    "We can use the `in` keyword to check if a key exists in the dictionary:"
   ]
  },
  {
   "cell_type": "code",
   "execution_count": null,
   "metadata": {},
   "outputs": [],
   "source": [
    "print(\"Isabella\" in favoriteColors)\n",
    "\n",
    "print(\"Lulu\" in favoriteColors)"
   ]
  },
  {
   "cell_type": "markdown",
   "metadata": {},
   "source": [
    "Similarly, we can use a `for` loop to iterate through the keys in a dictionary:"
   ]
  },
  {
   "cell_type": "code",
   "execution_count": null,
   "metadata": {},
   "outputs": [],
   "source": [
    "for key in favoriteColors:\n",
    "    value = favoriteColors[key]\n",
    "    print(key + \"'s favorite color is \" + value)"
   ]
  },
  {
   "cell_type": "markdown",
   "metadata": {},
   "source": [
    "We can save a line in this for loop similar to using `enumerate()` with a list's indices and elements:"
   ]
  },
  {
   "cell_type": "code",
   "execution_count": null,
   "metadata": {},
   "outputs": [],
   "source": [
    "for key, value in favoriteColors.items():\n",
    "    print(key + \"'s favorite color is \" + value)"
   ]
  },
  {
   "cell_type": "markdown",
   "metadata": {},
   "source": [
    "> You've reached the first checkpoint in the lab.  Make sure to have it signed off by the instructor or TA.\n",
    ">\n",
    "> Checkpoint 1: Does `D = {'a': \"ant\", 'c': \"cat\", 'a': \"alligator\"}` represent a legitimate dictionary?  Explain."
   ]
  },
  {
   "cell_type": "markdown",
   "metadata": {},
   "source": [
    "---\n",
    "\n",
    "## Part B\n",
    "\n",
    "**Q1** Create a dictionary to represent the following data.  The keys should be strings and the values should be integers.\n",
    "\n",
    "Name       | Age     \n",
    ":--------- |:-------------\n",
    "Lulu       | 9\n",
    "Pug        | 15\n",
    "Max        | 7\n",
    "Sadie      | 14\n",
    "Hobbes     | 9\n",
    "\n",
    "You should name your dictionary `petAgeMap`."
   ]
  },
  {
   "cell_type": "code",
   "execution_count": null,
   "metadata": {},
   "outputs": [],
   "source": [
    "# YOUR CODE HERE\n",
    "raise NotImplementedError()"
   ]
  },
  {
   "cell_type": "code",
   "execution_count": null,
   "metadata": {},
   "outputs": [],
   "source": [
    "# Testing cell\n",
    "assert len(petAgeMap) == 5\n",
    "\n",
    "assert \"Sadie\" in petAgeMap\n",
    "assert \"Hobbes\" in petAgeMap\n",
    "assert \"Lulu\" in petAgeMap\n",
    "assert petAgeMap[\"Sadie\"] == 14\n",
    "assert petAgeMap[\"Hobbes\"] == 9\n",
    "assert petAgeMap[\"Lulu\"] == 9"
   ]
  },
  {
   "cell_type": "markdown",
   "metadata": {},
   "source": [
    "**Q2** Write a function\n",
    "\n",
    "```\n",
    "    incrementValue(d, key)\n",
    "```\n",
    "\n",
    "that takes a dictionary and key and increments the corresponding value by one.  Your function should modify the dictionary in place and not return anything.  You may assume that dictionary values are integers and that the key already exists in the dictionary."
   ]
  },
  {
   "cell_type": "code",
   "execution_count": null,
   "metadata": {},
   "outputs": [],
   "source": [
    "# YOUR CODE HERE\n",
    "raise NotImplementedError()"
   ]
  },
  {
   "cell_type": "code",
   "execution_count": null,
   "metadata": {},
   "outputs": [],
   "source": [
    "# Testing cell\n",
    "assert incrementValue.__doc__ is not None # don't forget the docstring!\n",
    "\n",
    "assert len(petAgeMap) == 5\n",
    "assert petAgeMap[\"Lulu\"] == 9\n",
    "incrementValue(petAgeMap, \"Lulu\")\n",
    "assert len(petAgeMap) == 5"
   ]
  },
  {
   "cell_type": "markdown",
   "metadata": {},
   "source": [
    "---\n",
    "## Part C\n",
    "\n",
    "**Q3** Write a function\n",
    "\n",
    "```\n",
    "    makeDictFromList(L)\n",
    "```\n",
    "    \n",
    "that creates a dictionary whose keys are the items of `L` and whose values are the corresponding *indices* of `L`.  You may assume `L` is a list without any duplicate items."
   ]
  },
  {
   "cell_type": "code",
   "execution_count": null,
   "metadata": {
    "deletable": false,
    "nbgrader": {
     "cell_type": "code",
     "checksum": "7bcbc0e9d91167e91810d36c07e77edc",
     "grade": false,
     "grade_id": "cell-1b48e481c8c4c6cc",
     "locked": false,
     "schema_version": 3,
     "solution": true,
     "task": false
    }
   },
   "outputs": [],
   "source": [
    "# YOUR CODE HERE\n",
    "raise NotImplementedError()"
   ]
  },
  {
   "cell_type": "code",
   "execution_count": null,
   "metadata": {
    "deletable": false,
    "editable": false,
    "nbgrader": {
     "cell_type": "code",
     "checksum": "45028805a71e76940ea7fb76719f053c",
     "grade": true,
     "grade_id": "cell-7a90d00c4694cb19",
     "locked": true,
     "points": 2,
     "schema_version": 3,
     "solution": false,
     "task": false
    }
   },
   "outputs": [],
   "source": [
    "# Testing cell\n",
    "assert makeDictFromList.__doc__ is not None # don't forget the docstring!\n",
    "\n",
    "L1 = [5, 4, 3, 2, 1]\n",
    "expect1 = {5: 0, 4: 1, 3: 2, 2: 3, 1:4}\n",
    "assert makeDictFromList(L1) == expect1\n",
    "\n",
    "L2 = \"Piotr Piper Picked a Pack of Pickled Peppers\".split()\n",
    "expect2 = {'Piotr': 0, 'Piper': 1, 'Picked': 2, \"a\": 3, \"Pack\": 4, \"of\": 5, \"Pickled\": 6, \"Peppers\": 7}\n",
    "assert makeDictFromList(L2) == expect2"
   ]
  },
  {
   "cell_type": "markdown",
   "metadata": {},
   "source": [
    "> You've reached the second checkpoint in the lab.  Make sure to have it signed off by the instructor or TA.\n",
    ">\n",
    "> Checkpoint 2: Given your implementation of `makeDictFromList`, what would happen if there were duplicate entries?  How could you instead represent multiple values for one key?"
   ]
  },
  {
   "cell_type": "markdown",
   "metadata": {},
   "source": [
    "**Q4** Write a function\n",
    "\n",
    "```\n",
    "    filmography(L)\n",
    "```\n",
    "\n",
    "whose parameter `L` is a list of tuples of the form `(actor, movie)`, and creates and returns a dictionary where the keys are actor names and the values are lists of movies that actor has been in.  For example, given \n",
    "\n",
    "```\n",
    "    L = [(‘DiCaprio’,‘Revenant’),\n",
    "         (‘Cumberbatch’,‘Hobbit’),\n",
    "         (‘DiCaprio’,‘Gatsby’),\n",
    "         (‘DiCaprio’,‘Django’)]\n",
    "```\n",
    "\n",
    "then you should return \n",
    "\n",
    "```\n",
    "    {‘DiCaprio’:[‘Revenant’,‘Gatsby’,‘Django’],\n",
    "     ‘Cumberbatch’:[‘Hobbit’]}\n",
    "```"
   ]
  },
  {
   "cell_type": "code",
   "execution_count": null,
   "metadata": {
    "deletable": false,
    "nbgrader": {
     "cell_type": "code",
     "checksum": "c4c20a48af5f5bf907601c503662434c",
     "grade": false,
     "grade_id": "cell-6b2af6f816026d9f",
     "locked": false,
     "schema_version": 3,
     "solution": true,
     "task": false
    }
   },
   "outputs": [],
   "source": [
    "# YOUR CODE HERE\n",
    "raise NotImplementedError()"
   ]
  },
  {
   "cell_type": "code",
   "execution_count": null,
   "metadata": {},
   "outputs": [],
   "source": [
    "# Sanity check\n",
    "L = [('DiCaprio','Revenant'),\n",
    "     ('Cumberbatch','Hobbit'),\n",
    "     ('DiCaprio','Gatsby'),\n",
    "     ('DiCaprio','Django')]\n",
    "D = filmography(L)\n",
    "print(D)"
   ]
  },
  {
   "cell_type": "code",
   "execution_count": null,
   "metadata": {
    "deletable": false,
    "editable": false,
    "nbgrader": {
     "cell_type": "code",
     "checksum": "351e3fbca745e78446875a00a19c795c",
     "grade": true,
     "grade_id": "cell-687b64ee889a4671",
     "locked": true,
     "points": 2,
     "schema_version": 3,
     "solution": false,
     "task": false
    }
   },
   "outputs": [],
   "source": [
    "# Testing cell\n",
    "assert filmography.__doc__ is not None # don't forget the docstring!\n",
    "\n",
    "L = [('DiCaprio','Revenant'),\n",
    "     ('Cumberbatch','Hobbit'),\n",
    "     ('DiCaprio','Gatsby'),\n",
    "     ('DiCaprio','Django')]\n",
    "D = filmography(L)\n",
    "assert len(D) == 2\n",
    "assert 'DiCaprio' in D.keys()\n",
    "assert 'Django' in D['DiCaprio']\n",
    "assert 'Cumberbatch' in D.keys()\n",
    "assert D['Cumberbatch'] == ['Hobbit']"
   ]
  }
 ],
 "metadata": {
  "kernelspec": {
   "display_name": "Python 3",
   "language": "python",
   "name": "python3"
  },
  "language_info": {
   "codemirror_mode": {
    "name": "ipython",
    "version": 3
   },
   "file_extension": ".py",
   "mimetype": "text/x-python",
   "name": "python",
   "nbconvert_exporter": "python",
   "pygments_lexer": "ipython3",
   "version": "3.9.7"
  }
 },
 "nbformat": 4,
 "nbformat_minor": 4
}
