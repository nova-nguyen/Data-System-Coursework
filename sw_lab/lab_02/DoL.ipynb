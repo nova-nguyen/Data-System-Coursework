{
 "cells": [
  {
   "cell_type": "markdown",
   "metadata": {},
   "source": [
    "# Denison CS181/DA210 SW Lab #2 - Step 2\n",
    "\n",
    "Before you get your checkpoint, make sure everything runs as expected. This is a combination of **restarting the kernel** and then **running all cells** (in the menubar, select Kernel$\\rightarrow$Restart And Run All).\n",
    "\n",
    "Make sure you fill in any place that says `# YOUR CODE HERE` or \"YOUR ANSWER HERE\"."
   ]
  },
  {
   "cell_type": "markdown",
   "metadata": {},
   "source": [
    "---"
   ]
  },
  {
   "cell_type": "code",
   "execution_count": null,
   "metadata": {},
   "outputs": [],
   "source": [
    "import os\n",
    "import os.path\n",
    "\n",
    "datadir = \"publicdata\""
   ]
  },
  {
   "cell_type": "markdown",
   "metadata": {},
   "source": [
    "---\n",
    "\n",
    "## Part D\n",
    "\n",
    "**Q1** As a warm-up, fill in the body of the `for` loop below to accumulate data from the rows in `\"topnames.csv\"` into the parallel lists initialized for you as `yearList`, `sexList`, etc.\n",
    "\n",
    "Here is a snippet of `topnames.csv`:\n",
    "\n",
    "```\n",
    "year,sex,name,count\n",
    "...\n",
    "2016,Male,Noah,19117\n",
    "2016,Female,Emma,19496\n",
    "2017,Female,Emma,19800\n",
    "2017,Male,Liam,18798\n",
    "2018,Female,Emma,18688\n",
    "2018,Male,Liam,19837\n",
    "```"
   ]
  },
  {
   "cell_type": "code",
   "execution_count": null,
   "metadata": {},
   "outputs": [],
   "source": [
    "path = os.path.join(datadir, \"topnames.csv\")\n",
    "\n",
    "yearList = []\n",
    "sexList = []\n",
    "nameList =[]\n",
    "countList = []\n",
    "\n",
    "with open(path, \"r\") as f:\n",
    "    headers = f.readline().strip().split(',') # get the headers in a list\n",
    "    print(headers)                            # see what the headers are\n",
    "    for line in f:\n",
    "        # YOUR CODE HERE\n",
    "        raise NotImplementedError()"
   ]
  },
  {
   "cell_type": "code",
   "execution_count": null,
   "metadata": {},
   "outputs": [],
   "source": [
    "# Sanity checks\n",
    "print(yearList[:6])\n",
    "print(sexList[:6])\n",
    "print(nameList[:6])\n",
    "print(countList[:6])\n",
    "\n",
    "print()\n",
    "print(yearList[-1], sexList[-1], nameList[-1], countList[-1])"
   ]
  },
  {
   "cell_type": "markdown",
   "metadata": {},
   "source": [
    "---\n",
    "\n",
    "## Part E: Dictionary of Lists (DoL)\n",
    "\n",
    "In this representation, the keys are the _names of the columns_.  The values being mapped to are _lists_.\n",
    "\n",
    "Each entry in the DoL represents **exactly one column** of the data set.  For example, in `topnames.csv`, column names are `\"year\"`, `\"sex\"`, `\"name\"`, and `\"count\"`.\n",
    "\n",
    "Elements in the column list represent the column value for the successive rows of the data set."
   ]
  },
  {
   "cell_type": "markdown",
   "metadata": {},
   "source": [
    "Here is an example hard-coded DoL corresponding to the `topnames.csv` snippet above:"
   ]
  },
  {
   "cell_type": "code",
   "execution_count": null,
   "metadata": {},
   "outputs": [],
   "source": [
    "topnames = {'year':  [2018, 2018, 2017, 2017, 2016, 2016],\n",
    "            'sex':   ['Male', 'Female', 'Male', 'Female', 'Male', 'Female'],\n",
    "            'name':  ['Liam', 'Emma', 'Liam', 'Emma', 'Noah', 'Emma'],\n",
    "            'count': [19837, 18688, 18798, 19800, 19117, 19496]}"
   ]
  },
  {
   "cell_type": "markdown",
   "metadata": {},
   "source": [
    "When a representation makes it easy to work with entire columns, but working with rows is more cumbersome, it is a **column-centric** representation.\n",
    "\n",
    "Here is how you can get a column of data with a DoL:"
   ]
  },
  {
   "cell_type": "code",
   "execution_count": null,
   "metadata": {},
   "outputs": [],
   "source": [
    "# Column operation: all values of 'count' column\n",
    "print(topnames[\"count\"])"
   ]
  },
  {
   "cell_type": "markdown",
   "metadata": {},
   "source": [
    "It is much more work to get a row of data using a DoL:"
   ]
  },
  {
   "cell_type": "code",
   "execution_count": null,
   "metadata": {},
   "outputs": [],
   "source": [
    "# Row operation: all column values for row with index 3\n",
    "row_index = 3\n",
    "print(topnames['year'][row_index], topnames['sex'][row_index],\n",
    "      topnames['name'][row_index], topnames['count'][row_index])"
   ]
  },
  {
   "cell_type": "markdown",
   "metadata": {},
   "source": [
    "It is very important that the values in each inner list (each column) correspond properly to each other.  If we delete an element of one list, the data won't line up:"
   ]
  },
  {
   "cell_type": "code",
   "execution_count": null,
   "metadata": {},
   "outputs": [],
   "source": [
    "# Breaking correspondence\n",
    "del topnames[\"sex\"][0]\n",
    "\n",
    "# Now Emma is a \"male\" name\n",
    "row_index = 3\n",
    "print(topnames['year'][row_index], topnames['sex'][row_index],\n",
    "      topnames['name'][row_index], topnames['count'][row_index])"
   ]
  },
  {
   "cell_type": "markdown",
   "metadata": {},
   "source": [
    "> You've reached the third checkpoint in the lab.  Make sure to have it signed off by the instructor or TA.\n",
    ">\n",
    "> Checkpoint 3: What expression could you use to get the number of rows in `topnames` (assuming we hadn't modified it in the previous cell).  What about the number of columns?"
   ]
  },
  {
   "cell_type": "markdown",
   "metadata": {},
   "source": [
    "---\n",
    "\n",
    "## Part F\n",
    "\n",
    "**Q2** Assuming that `path` refers to a CSV file with the header line of `year,sex,name,count` and data lines with those same four fields, write a function\n",
    "\n",
    "```\n",
    "    readTopNamesDoL(path)\n",
    "```\n",
    "\n",
    "that reads the file to create a DoL representation and returns that dictionary from the function."
   ]
  },
  {
   "cell_type": "code",
   "execution_count": null,
   "metadata": {
    "deletable": false,
    "nbgrader": {
     "cell_type": "code",
     "checksum": "c02bdfa684199538b536275c66ad31a4",
     "grade": false,
     "grade_id": "cell-8849b03d485bbf5d",
     "locked": false,
     "schema_version": 3,
     "solution": true,
     "task": false
    }
   },
   "outputs": [],
   "source": [
    "# YOUR CODE HERE\n",
    "raise NotImplementedError()"
   ]
  },
  {
   "cell_type": "code",
   "execution_count": null,
   "metadata": {},
   "outputs": [],
   "source": [
    "# Printing cell\n",
    "tn10 = readTopNamesDoL(os.path.join(datadir, \"tn10.csv\"))\n",
    "print(tn10)"
   ]
  },
  {
   "cell_type": "code",
   "execution_count": null,
   "metadata": {
    "deletable": false,
    "editable": false,
    "nbgrader": {
     "cell_type": "code",
     "checksum": "0f3fb6d610559cb8d452878d6cf231ec",
     "grade": true,
     "grade_id": "cell-44470aa818a11e56",
     "locked": true,
     "points": 2,
     "schema_version": 3,
     "solution": false,
     "task": false
    }
   },
   "outputs": [],
   "source": [
    "# Testing cell\n",
    "assert readTopNamesDoL.__doc__ is not None # don't forget the docstring!\n",
    "\n",
    "tn10 = readTopNamesDoL(os.path.join(datadir, \"tn10.csv\"))\n",
    "assert isinstance(tn10, dict)\n",
    "assert len(tn10) == 4\n",
    "assert 'year' in tn10\n",
    "assert 'sex' in tn10\n",
    "assert 'count' in tn10\n",
    "assert len(tn10['year']) == 10"
   ]
  },
  {
   "cell_type": "markdown",
   "metadata": {},
   "source": [
    "**Q3** Write a function \n",
    "\n",
    "```\n",
    "    filterTopNamesDoL(tnDoL, threshold)\n",
    "```\n",
    "    \n",
    "to create a **filter** copy of a topnames DoL `tnDoL` (with columns `year`, `sex`, `name`, `count`) so that only rows with a `count` value greater than or equal to `threshold` are present in the newly created DoL.\n",
    "\n",
    "Your function should return the new and filtered DoL, and not modify the original `tnDoL`."
   ]
  },
  {
   "cell_type": "code",
   "execution_count": null,
   "metadata": {
    "deletable": false,
    "nbgrader": {
     "cell_type": "code",
     "checksum": "09b53b39fbc116d67f9b40338344d92e",
     "grade": false,
     "grade_id": "cell-698093a1af18a3b9",
     "locked": false,
     "schema_version": 3,
     "solution": true,
     "task": false
    }
   },
   "outputs": [],
   "source": [
    "# YOUR CODE HERE\n",
    "raise NotImplementedError()"
   ]
  },
  {
   "cell_type": "code",
   "execution_count": null,
   "metadata": {},
   "outputs": [],
   "source": [
    "# Printing cell\n",
    "tn10 = readTopNamesDoL(os.path.join(datadir, \"tn10.csv\"))\n",
    "tn10_filter = filterTopNamesDoL(tn10, 19000)\n",
    "print(tn10_filter)"
   ]
  },
  {
   "cell_type": "code",
   "execution_count": null,
   "metadata": {
    "deletable": false,
    "editable": false,
    "nbgrader": {
     "cell_type": "code",
     "checksum": "d7fc19dece4966af91d3dd7601edb13d",
     "grade": true,
     "grade_id": "cell-a61460d2e6253eef",
     "locked": true,
     "points": 2,
     "schema_version": 3,
     "solution": false,
     "task": false
    }
   },
   "outputs": [],
   "source": [
    "# Testing cell\n",
    "assert filterTopNamesDoL.__doc__ is not None # don't forget the docstring!\n",
    "\n",
    "topnames = {'year':  [2018, 2018, 2017, 2017, 2016, 2016],\n",
    "            'sex':   ['Male', 'Female', 'Male', 'Female', 'Male', 'Female'],\n",
    "            'name':  ['Liam', 'Emma', 'Liam', 'Emma', 'Noah', 'Emma'],\n",
    "            'count': [19837, 18688, 18798, 19800, 19117, 19496]}\n",
    "\n",
    "filtered = filterTopNamesDoL(topnames, 19000)\n",
    "assert len(filtered['count']) == 4\n",
    "assert len(filtered['year']) == 4\n",
    "assert len(filtered['name']) == 4\n",
    "assert len(filtered['sex']) == 4\n",
    "\n",
    "assert len(topnames['count']) == 6\n",
    "assert len(topnames['year']) == 6\n",
    "assert len(topnames['name']) == 6\n",
    "assert len(topnames['sex']) == 6"
   ]
  },
  {
   "cell_type": "markdown",
   "metadata": {},
   "source": [
    "**Q4** Write a function \n",
    "\n",
    "```\n",
    "    addCatColumnDoL(tnDoL, threshold1, threshold2)\n",
    "```\n",
    "\n",
    "that adds a categorical column to a DoL representation in parameter `tnDoL` with the new column named `category` whose values are the strings `\"small\"` when count is below `threshold1`, is `\"medium\"` when count is greater than or equal to `threshold1` and less than `threshold2`, and `large` when count is greater than or equal to `threshold2`.\n",
    "\n",
    "This change to `tnDoL` happens in place, rather than creating a new dictionary, and so nothing is returned from the function."
   ]
  },
  {
   "cell_type": "code",
   "execution_count": null,
   "metadata": {
    "deletable": false,
    "nbgrader": {
     "cell_type": "code",
     "checksum": "2f82dc0a92c47d54237b96295ac6aa31",
     "grade": false,
     "grade_id": "cell-5a913843f1fafff9",
     "locked": false,
     "schema_version": 3,
     "solution": true,
     "task": false
    }
   },
   "outputs": [],
   "source": [
    "# YOUR CODE HERE\n",
    "raise NotImplementedError()"
   ]
  },
  {
   "cell_type": "code",
   "execution_count": null,
   "metadata": {},
   "outputs": [],
   "source": [
    "# Printing cell\n",
    "topnames = {'year':  [2018, 2018, 2017, 2017, 2016, 2016],\n",
    "            'sex':   ['Male', 'Female', 'Male', 'Female', 'Male', 'Female'],\n",
    "            'name':  ['Liam', 'Emma', 'Liam', 'Emma', 'Noah', 'Emma'],\n",
    "            'count': [19837, 18688, 18798, 19800, 19117, 19496]}\n",
    "\n",
    "addCatColumnDoL(topnames, 19000, 19500)\n",
    "print(topnames)"
   ]
  },
  {
   "cell_type": "code",
   "execution_count": null,
   "metadata": {
    "deletable": false,
    "editable": false,
    "nbgrader": {
     "cell_type": "code",
     "checksum": "41d78f4fa725816ef9ba33adba98d349",
     "grade": true,
     "grade_id": "cell-fec37caa6e87b5ef",
     "locked": true,
     "points": 3,
     "schema_version": 3,
     "solution": false,
     "task": false
    }
   },
   "outputs": [],
   "source": [
    "# Testing cell\n",
    "assert addCatColumnDoL.__doc__ is not None # don't forget the docstring!\n",
    "\n",
    "topnames = {'year':  [2018, 2018, 2017, 2017, 2016, 2016],\n",
    "            'sex':   ['Male', 'Female', 'Male', 'Female', 'Male', 'Female'],\n",
    "            'name':  ['Liam', 'Emma', 'Liam', 'Emma', 'Noah', 'Emma'],\n",
    "            'count': [19837, 18688, 18798, 19800, 19117, 19496]}\n",
    "\n",
    "res = addCatColumnDoL(topnames, 19000, 19500)\n",
    "assert res is None\n",
    "\n",
    "assert 'category' in topnames\n",
    "assert 'small' in topnames['category']\n",
    "assert 'medium' in topnames['category']\n",
    "assert 'large' in topnames['category']\n",
    "assert len(topnames['category']) == len(topnames['year'])"
   ]
  },
  {
   "cell_type": "markdown",
   "metadata": {},
   "source": [
    "> You've reached the final checkpoint in the lab.  Make sure to have it signed off by the instructor.\n",
    ">\n",
    "> Checkpoint 4: Let's imagine you added the `category` column to our `topnames` DoL, only to realize the second threshold was incorrect.  What would you have to do to update the DoL in place based on a new value of `threshold2`?"
   ]
  },
  {
   "cell_type": "markdown",
   "metadata": {},
   "source": [
    "---\n",
    "\n",
    "---\n",
    "## Part G\n",
    "\n",
    "How much time (in minutes/hours) did you spend on this lab outside of class?"
   ]
  },
  {
   "cell_type": "markdown",
   "metadata": {},
   "source": [
    "YOUR ANSWER HERE"
   ]
  }
 ],
 "metadata": {
  "kernelspec": {
   "display_name": "Python 3",
   "language": "python",
   "name": "python3"
  },
  "language_info": {
   "codemirror_mode": {
    "name": "ipython",
    "version": 3
   },
   "file_extension": ".py",
   "mimetype": "text/x-python",
   "name": "python",
   "nbconvert_exporter": "python",
   "pygments_lexer": "ipython3",
   "version": "3.7.6"
  }
 },
 "nbformat": 4,
 "nbformat_minor": 4
}
