{
 "cells": [
  {
   "cell_type": "markdown",
   "metadata": {},
   "source": [
    "# Denison CS181/DA210 SW Lab #11 - Step 2\n",
    "\n",
    "Before you turn this problem in, make sure everything runs as expected. This is a combination of **restarting the kernel** and then **running all cells** (in the menubar, select Kernel$\\rightarrow$Restart And Run All).\n",
    "\n",
    "Make sure you fill in any place that says `# YOUR CODE HERE` or \"YOUR ANSWER HERE\"."
   ]
  },
  {
   "cell_type": "markdown",
   "metadata": {},
   "source": [
    "---"
   ]
  },
  {
   "cell_type": "markdown",
   "metadata": {},
   "source": [
    "#### Import Python modules and load \"SQL Magic\""
   ]
  },
  {
   "cell_type": "code",
   "execution_count": null,
   "metadata": {
    "deletable": false,
    "editable": false,
    "nbgrader": {
     "cell_type": "code",
     "checksum": "2c15bf49fe13507b473a89ebc6ffdea5",
     "grade": false,
     "grade_id": "cell-b9abcf27cf7faf8f",
     "locked": true,
     "schema_version": 3,
     "solution": false,
     "task": false
    }
   },
   "outputs": [],
   "source": [
    "import pandas as pd\n",
    "import os\n",
    "import os.path\n",
    "import json\n",
    "import sys\n",
    "import importlib\n",
    "\n",
    "module_dir = \"../../modules\"\n",
    "module_path = os.path.abspath(module_dir)\n",
    "if not module_path in sys.path:\n",
    "    sys.path.append(module_path)\n",
    "\n",
    "%load_ext sql"
   ]
  },
  {
   "cell_type": "markdown",
   "metadata": {},
   "source": [
    "#### Set credentials"
   ]
  },
  {
   "cell_type": "code",
   "execution_count": null,
   "metadata": {},
   "outputs": [],
   "source": [
    "def getsqlite_creds(dirname=\".\",filename=\"creds.json\",source=\"sqlite\"):\n",
    "    \"\"\" Using directory and filename parameters, open a credentials file\n",
    "        and obtain the two parts needed for a connection string to\n",
    "        a local provider using the \"sqlite\" dictionary within\n",
    "        an outer dictionary.  \n",
    "        \n",
    "        Return a scheme and a dbfile\n",
    "    \"\"\"\n",
    "    assert os.path.isfile(os.path.join(dirname, filename))\n",
    "    with open(os.path.join(dirname, filename)) as f:\n",
    "        D = json.load(f)\n",
    "    sqlite = D[source]\n",
    "    return sqlite[\"scheme\"], sqlite[\"dbdir\"], sqlite[\"database\"]"
   ]
  },
  {
   "cell_type": "code",
   "execution_count": null,
   "metadata": {},
   "outputs": [],
   "source": [
    "scheme, dbdir, database = getsqlite_creds(source=\"sqlite1\")\n",
    "template = '{}:///{}/{}.db'\n",
    "cstring = template.format(scheme, dbdir, database)\n",
    "print(\"Connection string:\", cstring)"
   ]
  },
  {
   "cell_type": "markdown",
   "metadata": {},
   "source": [
    "#### Establish Connection from Client to Server"
   ]
  },
  {
   "cell_type": "code",
   "execution_count": null,
   "metadata": {},
   "outputs": [],
   "source": [
    "%sql $cstring"
   ]
  },
  {
   "cell_type": "markdown",
   "metadata": {},
   "source": [
    "---\n",
    "\n",
    "## Part C: Types of Joins\n",
    "\n",
    "We'll observe the differences in the types of joins using the following two tables (technically they're \"views\" in the `book` database, but for our purposes we'll treat them as tables):"
   ]
  },
  {
   "cell_type": "code",
   "execution_count": null,
   "metadata": {},
   "outputs": [],
   "source": [
    "%sql SELECT * FROM pop_gdp"
   ]
  },
  {
   "cell_type": "code",
   "execution_count": null,
   "metadata": {},
   "outputs": [],
   "source": [
    "%sql SELECT * FROM country_land"
   ]
  },
  {
   "cell_type": "markdown",
   "metadata": {},
   "source": [
    "We'll use the following \"match condition\" for the joins we'll explore:\n",
    "```\n",
    "    pop_gdp.code = country_land.code\n",
    "```"
   ]
  },
  {
   "cell_type": "markdown",
   "metadata": {},
   "source": [
    "#### Inner join\n",
    "\n",
    "We have already seen inner joins, so we'll use this as our starting point.\n",
    "\n",
    "First, we construct a combined table that includes all six columns from the two tables, and where the rows in the result satisfy the match condition, and the matching fields are present in **both** tables."
   ]
  },
  {
   "cell_type": "code",
   "execution_count": null,
   "metadata": {
    "deletable": false,
    "nbgrader": {
     "cell_type": "code",
     "checksum": "b8cc4a117f99a60c91507d2a7e4ec4b9",
     "grade": true,
     "grade_id": "cell-e026b8f4d3737e45",
     "locked": false,
     "points": 2,
     "schema_version": 3,
     "solution": true,
     "task": false
    }
   },
   "outputs": [],
   "source": [
    "query = \"\"\"\n",
    "SELECT pop_gdp.code AS pg_code,\n",
    "       pop_gdp.pop AS pg_pop,\n",
    "       pop_gdp.gdp AS pg_gdp,\n",
    "       country_land.code AS cl_code,\n",
    "       country_land.country AS cl_country,\n",
    "       country_land.land AS cl_land\n",
    "FROM pop_gdp INNER JOIN country_land ON country_land.code = pop_gdp.code\n",
    "\"\"\"\n",
    "\n",
    "resultset = %sql $query\n",
    "resultdf = resultset.DataFrame()\n",
    "resultdf.head()"
   ]
  },
  {
   "cell_type": "markdown",
   "metadata": {},
   "source": [
    "As only FRA, GBR, and USA are present in both tables, the resulting table has only three records."
   ]
  },
  {
   "cell_type": "markdown",
   "metadata": {},
   "source": [
    "#### Left join\n",
    "\n",
    "To use a `LEFT JOIN`, we simply replace `INNER JOIN` with `LEFT JOIN` in our SQL statement.\n",
    "\n",
    "Next, we construct a combined table that includes all six columns from the two tables, and where the rows in the result satisfy the match condition, and all rows in the `pop_gdp` table are present."
   ]
  },
  {
   "cell_type": "code",
   "execution_count": null,
   "metadata": {
    "deletable": false,
    "nbgrader": {
     "cell_type": "code",
     "checksum": "6562884802849081fa9eff60076e1ca6",
     "grade": true,
     "grade_id": "cell-9e9e8e442d6cfd48",
     "locked": false,
     "points": 2,
     "schema_version": 3,
     "solution": true,
     "task": false
    }
   },
   "outputs": [],
   "source": [
    "query = \"\"\"\n",
    "SELECT pop_gdp.code AS pg_code,\n",
    "       pop_gdp.pop AS pg_pop,\n",
    "       pop_gdp.gdp AS pg_gdp,\n",
    "       country_land.code AS cl_code,\n",
    "       country_land.country AS cl_country,\n",
    "       country_land.land AS cl_land\n",
    "FROM pop_gdp LEFT JOIN country_land ON country_land.code = pop_gdp.code\n",
    "\"\"\"\n",
    "\n",
    "resultset = %sql $query\n",
    "resultdf = resultset.DataFrame()\n",
    "resultdf.head()"
   ]
  },
  {
   "cell_type": "markdown",
   "metadata": {},
   "source": [
    "As this is a `LEFT JOIN`, it has all records present in the `pop_gdp` table, even if they are not present in the `country_land` table (e.g., CHN has NULL values in the columns coming from `country_land`)."
   ]
  },
  {
   "cell_type": "markdown",
   "metadata": {},
   "source": [
    "#### Right join\n",
    "\n",
    "Some systems do not implement a `RIGHT JOIN` and provide only a `LEFT JOIN`.  In this case, we can use a `LEFT JOIN` and reverse the order of the tables in the `FROM` clause.\n",
    "\n",
    "Now, we construct a combined table that includes all six columns from the two tables, and where the rows in the result satisfy the match condition, and all rows in the `land_country` table are present."
   ]
  },
  {
   "cell_type": "code",
   "execution_count": null,
   "metadata": {
    "deletable": false,
    "nbgrader": {
     "cell_type": "code",
     "checksum": "4a3e9f386ac1a6d283d96b0a913135c2",
     "grade": true,
     "grade_id": "cell-344872600cee0bfa",
     "locked": false,
     "points": 2,
     "schema_version": 3,
     "solution": true,
     "task": false
    }
   },
   "outputs": [],
   "source": [
    "query = \"\"\"\n",
    "SELECT pop_gdp.code AS pg_code,\n",
    "       pop_gdp.pop AS pg_pop,\n",
    "       pop_gdp.gdp AS pg_gdp,\n",
    "       country_land.code AS cl_code,\n",
    "       country_land.country AS cl_country,\n",
    "       country_land.land AS cl_land\n",
    "FROM country_land LEFT JOIN pop_gdp ON country_land.code = pop_gdp.code\n",
    "\"\"\"\n",
    "resultset = %sql $query\n",
    "resultdf = resultset.DataFrame()\n",
    "resultdf.head()"
   ]
  },
  {
   "cell_type": "markdown",
   "metadata": {},
   "source": [
    "Similar to the previous example, this result has all records present in the `country_land` table, even if they are not present in the `pop_gdp` table (e.g., IND and VNM have NULL values in the columns coming from `pop_gdp`)."
   ]
  },
  {
   "cell_type": "markdown",
   "metadata": {},
   "source": [
    "#### Full outer join\n",
    "\n",
    "An outer join, also called a `FULL OUTER JOIN`, is also not implemented in all systems.  Instead, we can take the `UNION` of both the `LEFT JOIN` and `RIGHT JOIN`.\n",
    "\n",
    "Finally, we construct a combined table that includes all six columns from the two tables, and where the rows in the result satisfy the match condition, and all rows in either original table are present."
   ]
  },
  {
   "cell_type": "code",
   "execution_count": null,
   "metadata": {},
   "outputs": [],
   "source": [
    "query = \"\"\"\n",
    "SELECT pop_gdp.code AS pg_code,\n",
    "       pop_gdp.pop AS pg_pop,\n",
    "       pop_gdp.gdp AS pg_gdp,\n",
    "       country_land.code AS cl_code,\n",
    "       country_land.country AS cl_country,\n",
    "       country_land.land AS cl_land\n",
    "FROM pop_gdp LEFT JOIN country_land ON country_land.code = pop_gdp.code\n",
    "UNION\n",
    "SELECT pop_gdp.code AS pg_code,\n",
    "       pop_gdp.pop AS pg_pop,\n",
    "       pop_gdp.gdp AS pg_gdp,\n",
    "       country_land.code AS cl_code,\n",
    "       country_land.country AS cl_country,\n",
    "       country_land.land AS cl_land\n",
    "FROM country_land LEFT JOIN pop_gdp ON country_land.code = pop_gdp.code\n",
    "\"\"\"\n",
    "resultset = %sql $query\n",
    "resultdf = resultset.DataFrame()\n",
    "resultdf.head()"
   ]
  },
  {
   "cell_type": "markdown",
   "metadata": {},
   "source": [
    "---\n",
    "\n",
    "## Part D: `LEFT JOIN` and Set Differences\n",
    "\n",
    "We can use a `LEFT JOIN` to compute differences between sets.  The next two exercises walk you through this process.  First, let's switch back to the `school` database."
   ]
  },
  {
   "cell_type": "code",
   "execution_count": null,
   "metadata": {},
   "outputs": [],
   "source": [
    "scheme, dbdir, database = getsqlite_creds(source=\"sqlite2\")\n",
    "template = '{}:///{}/{}.db'\n",
    "cstring = template.format(scheme, dbdir, database)\n",
    "print(\"Connection string:\", cstring)\n",
    "\n",
    "%sql $cstring"
   ]
  },
  {
   "cell_type": "markdown",
   "metadata": {},
   "source": [
    "**Q7:** Write a SQL query to collect course and class information for all courses (subject, number, and title) and classes (also term, as a column `term`).  Your resulting table should include directed studies, and should have records for all rows in the `courses` table."
   ]
  },
  {
   "cell_type": "code",
   "execution_count": null,
   "metadata": {},
   "outputs": [],
   "source": [
    "query = \"\"\"\n",
    "\"\"\"\n",
    "# YOUR CODE HERE\n",
    "raise NotImplementedError()\n",
    "\n",
    "resultset = %sql $query\n",
    "resultdf = resultset.DataFrame()\n",
    "print(len(resultdf))\n",
    "resultdf.head()"
   ]
  },
  {
   "cell_type": "code",
   "execution_count": null,
   "metadata": {},
   "outputs": [],
   "source": [
    "# Testing cell\n",
    "assert len(resultdf) == 1896\n",
    "assert True in list(resultdf[\"term\"].isna())\n",
    "assert True not in list(resultdf[\"coursetitle\"].isna())\n",
    "assert \"Beginning Arabic I\" in set(resultdf[\"coursetitle\"])"
   ]
  },
  {
   "cell_type": "markdown",
   "metadata": {},
   "source": [
    "**Q8:** Using the query from the previous question as a subquery, select the course subject, number, and title for any courses not offered in either the fall or spring terms.  (Hint: think about what you can filter from the result of the previous question.)"
   ]
  },
  {
   "cell_type": "code",
   "execution_count": null,
   "metadata": {},
   "outputs": [],
   "source": [
    "query = \"\"\"\n",
    "\"\"\"\n",
    "# YOUR CODE HERE\n",
    "raise NotImplementedError()\n",
    "\n",
    "resultset = %sql $query\n",
    "resultdf = resultset.DataFrame()\n",
    "print(len(resultdf))\n",
    "resultdf.head()"
   ]
  },
  {
   "cell_type": "code",
   "execution_count": null,
   "metadata": {},
   "outputs": [],
   "source": [
    "# Testing cell\n",
    "assert len(resultdf) == 94\n",
    "assert resultdf.iloc[0,1] == 363\n",
    "assert \"Beginning Arabic I\" not in set(resultdf[\"coursetitle\"])"
   ]
  },
  {
   "cell_type": "markdown",
   "metadata": {},
   "source": [
    "**Q9:** Further expand your previous SQL query to retrieve the English courses (subject, number, and title) that were not offered in either semester."
   ]
  },
  {
   "cell_type": "code",
   "execution_count": null,
   "metadata": {},
   "outputs": [],
   "source": [
    "query = \"\"\"\n",
    "\"\"\"\n",
    "# YOUR CODE HERE\n",
    "raise NotImplementedError()\n",
    "\n",
    "resultset = %sql $query\n",
    "resultdf = resultset.DataFrame()\n",
    "resultdf.head()"
   ]
  },
  {
   "cell_type": "code",
   "execution_count": null,
   "metadata": {},
   "outputs": [],
   "source": [
    "# Testing cell\n",
    "assert len(resultdf) == 2"
   ]
  },
  {
   "cell_type": "markdown",
   "metadata": {},
   "source": [
    "> You've reached the third (and final) checkpoint in the lab.  Make sure to have it signed off by the instructor or TA.\n",
    ">\n",
    "> Checkpoint 3: If a full outer join is made up of rows from an inner join, left join, and right join, then why is it that in forming the outer join, you do not need to `UNION` with the inner join, as well as the left and right joins?"
   ]
  },
  {
   "cell_type": "markdown",
   "metadata": {},
   "source": [
    "---\n",
    "\n",
    "---\n",
    "\n",
    "## Part E\n",
    "\n",
    "How much time (in minutes/hours) did you spend on this lab outside of class?"
   ]
  },
  {
   "cell_type": "markdown",
   "metadata": {},
   "source": [
    "YOUR ANSWER HERE"
   ]
  }
 ],
 "metadata": {
  "kernelspec": {
   "display_name": "Python 3",
   "language": "python",
   "name": "python3"
  },
  "language_info": {
   "codemirror_mode": {
    "name": "ipython",
    "version": 3
   },
   "file_extension": ".py",
   "mimetype": "text/x-python",
   "name": "python",
   "nbconvert_exporter": "python",
   "pygments_lexer": "ipython3",
   "version": "3.9.7"
  }
 },
 "nbformat": 4,
 "nbformat_minor": 4
}
