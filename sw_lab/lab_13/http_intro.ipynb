{
 "cells": [
  {
   "cell_type": "markdown",
   "metadata": {},
   "source": [
    "# Denison CS181/DA210 SW Lab #13 - Step 1\n",
    "\n",
    "Before you turn this problem in, make sure everything runs as expected. This is a combination of **restarting the kernel** and then **running all cells** (in the menubar, select Kernel$\\rightarrow$Restart And Run All).\n",
    "\n",
    "Make sure you fill in any place that says `# YOUR CODE HERE` or \"YOUR ANSWER HERE\"."
   ]
  },
  {
   "cell_type": "markdown",
   "metadata": {},
   "source": [
    "---"
   ]
  },
  {
   "cell_type": "markdown",
   "metadata": {},
   "source": [
    "#### Setup\n",
    "\n",
    "Note that for these exercises, we'll use `mysocket.py`, provided with the book, and available to you now in `modules/` in this repository."
   ]
  },
  {
   "cell_type": "code",
   "execution_count": null,
   "metadata": {
    "deletable": false,
    "editable": false,
    "nbgrader": {
     "cell_type": "code",
     "checksum": "4425ca38ce8727c571bf1f16ffe1e078",
     "grade": false,
     "grade_id": "cell-b9abcf27cf7faf8f",
     "locked": true,
     "schema_version": 3,
     "solution": false,
     "task": false
    }
   },
   "outputs": [],
   "source": [
    "import os\n",
    "import os.path\n",
    "import sys\n",
    "import importlib\n",
    "\n",
    "if os.path.isdir(os.path.join(\"../../..\", \"modules\")):\n",
    "    module_dir = os.path.join(\"../../..\", \"modules\")\n",
    "else:\n",
    "    module_dir = os.path.join(\"../..\", \"modules\")\n",
    "\n",
    "module_path = os.path.abspath(module_dir)\n",
    "if not module_path in sys.path:\n",
    "    sys.path.append(module_path)\n",
    "\n",
    "import mysocket as sock\n",
    "importlib.reload(sock)"
   ]
  },
  {
   "cell_type": "markdown",
   "metadata": {},
   "source": [
    "---\n",
    "\n",
    "## Part A: Identifying Resources with URLs and URIs\n",
    "\n",
    "Uniform Resource Identifiers (URIs) and Uniform Resource Locators (URLs) define a standard notation for specifying the files, data, and resources of the internet.  Note that URI is the broader term, so all URLs are URIs.\n",
    "\n",
    "Using an explicit protocol scheme, host location, and resource path, URLs can be used to uniquely identify a resource at a specific location on the internet.  These components are summarized in the following table:\n",
    "\n",
    "Item | Description\n",
    ":----|:--------------\n",
    "_protocol_ | The network stack layer above TCP; we'll use `http` and `https`\n",
    "_location_ | The server/host machine within the internet\n",
    "_port_     | The program used for connections; we usually use port 80 for `HTTP` web server programs and port 143 for HTTPS web server programs\n",
    "_resource-path_ | Identifies a particular resource within the host/port endpoint; could also include a query string"
   ]
  },
  {
   "cell_type": "markdown",
   "metadata": {},
   "source": [
    "The _resource-path_ given above is a resource relative to the _location_.  This starts with a `'/'` to indicate the root, and then is specified like we have seen for trees in a file system.\n",
    "\n",
    "The _resource-path_ includes the _endpoint-path_ and an optional _query-string_, which is a &-separated list of name-value pairs:\n",
    "\n",
    "_query-string_ |= ?_name_=_value_[&_name_=_value_]+\n",
    "\n",
    "Note that no part of a URL may contain spaces or other special characters, like `:`, `/`, `=`, or `&`, due to their special meanings.\n",
    "\n",
    "The general form of a URL is given by the following (shown with extra spaces for readability):\n",
    "\n",
    "_protocol_ : // _location_ [ : _port_ ] _resource-path_"
   ]
  },
  {
   "cell_type": "markdown",
   "metadata": {},
   "source": [
    "**Q1:** Type the following URL in a web browser: http://datasystems.denison.edu:80/topnames.html.  What are the _protocol_, _location_, _port_, and _resource-path_ for this URL?"
   ]
  },
  {
   "cell_type": "markdown",
   "metadata": {},
   "source": [
    "YOUR ANSWER HERE"
   ]
  },
  {
   "cell_type": "markdown",
   "metadata": {},
   "source": [
    "**Q2:** Now, use a search engine to search for \"Denison University\".  What are the _protocol_, _location_, _port_, and _resource-path_ for the resulting URL? "
   ]
  },
  {
   "cell_type": "markdown",
   "metadata": {},
   "source": [
    "YOUR ANSWER HERE"
   ]
  },
  {
   "cell_type": "markdown",
   "metadata": {},
   "source": [
    "> You've reached the first checkpoint in the lab.  Make sure to have it signed off by the instructor or TA.\n",
    ">\n",
    "> Checkpoint 1: Web browsers provide some shortcuts.  Which parts of the URL can we _not_ specify?  What are the defaults in that case?  (Hint: try leaving out parts of the URL and see if you still get to the same page.)"
   ]
  },
  {
   "cell_type": "markdown",
   "metadata": {},
   "source": [
    "---\n",
    "\n",
    "## Part B: HTTP Definition\n",
    "\n",
    "Web browsers are simply programs that request data (often HTML of web pages) from web servers, and display them to the user.  HTTP exists to enable these requests.\n",
    "\n",
    "As discussed in class, HTTP is an application protocol, and is therefore built on TCP and the sockets interface.\n",
    "\n",
    "1. The web server program is in an ``always ready'' state, waiting with an unresolved TCP socket endpoint, listening for requests for port 80 (for HTTP).\n",
    "2. A client (e.g., your web browser or this notebook) makes a TCP connection to the server endpoint, and a bidrectional communication is initiated.\n",
    "3. The client constructs an _HTTP request_, described below.\n",
    "4. The request is sent over the TCP socket connection to the server.\n",
    "5. The server receives the request and processes it, constructing an _HTTP response_.\n",
    "6. The response is sent over the TCP socket connection back to the client.\n",
    "7. The client receives the response and processes it.\n",
    "8. Both the client and server close the TCP socket connection.\n",
    "\n",
    "Note that steps 3-7 can happen just once or many times, depending on the HTTP request parameters."
   ]
  },
  {
   "cell_type": "markdown",
   "metadata": {
    "deletable": false,
    "editable": false,
    "nbgrader": {
     "cell_type": "markdown",
     "checksum": "5488800fab4fbc87db7ce2c1ad33e1da",
     "grade": false,
     "grade_id": "cell-afb078ae39cd7d9f",
     "locked": true,
     "schema_version": 3,
     "solution": false,
     "task": false
    }
   },
   "source": [
    "#### HTTP message format\n",
    "\n",
    "HTTP messages, both requests and responses, have the following syntax:\n",
    "\n",
    "_message_ |= _start-line_ \\\n",
    "&nbsp;&nbsp;&nbsp;&nbsp;&nbsp;&nbsp;&nbsp;&nbsp;&nbsp;&nbsp;&nbsp;&nbsp;&nbsp;&nbsp;&nbsp;&nbsp;&nbsp;&nbsp;&nbsp;[ _header-line_ ]* \\\n",
    "&nbsp;&nbsp;&nbsp;&nbsp;&nbsp;&nbsp;&nbsp;&nbsp;&nbsp;&nbsp;&nbsp;&nbsp;&nbsp;&nbsp;&nbsp;&nbsp;&nbsp;&nbsp;&nbsp;_empty-line_ \\\n",
    "&nbsp;&nbsp;&nbsp;&nbsp;&nbsp;&nbsp;&nbsp;&nbsp;&nbsp;&nbsp;&nbsp;&nbsp;&nbsp;&nbsp;&nbsp;&nbsp;&nbsp;&nbsp;&nbsp;[ _body_ ]\n",
    "\n",
    "The _start-line_ is either a _request-line_ for a request message or a _status-line_ for a response message:\n",
    "\n",
    "_start-line_ |= _request-line_ | _status-line_.\n",
    "\n",
    "Note that for both, the optional body is separated from any headers by an empty line.  Each of these pieces is separated by a combination of a carriage return (`'\\r'`) followed by a newline character (`'\\n'`): `'\\r\\n'`."
   ]
  },
  {
   "cell_type": "markdown",
   "metadata": {},
   "source": [
    "----\n",
    "\n",
    "#### HTTP requests\n",
    "\n",
    "For an HTTP request, the _request-line_ specifies the method, URI, and version.\n",
    "\n",
    "The method can be any of `GET`, `POST`, `HEAD`, `PUT`, `DELETE`.  For now, we'll focus on `GET` requests, which retrieve data, and do not include a body in the HTTP request message.\n",
    "\n",
    "The version is either `'HTTP/1.0'` or `'HTTP/1.1'`.\n",
    "\n",
    "An example _request-line_ is given in the following cell:"
   ]
  },
  {
   "cell_type": "code",
   "execution_count": null,
   "metadata": {},
   "outputs": [],
   "source": [
    "# method: GET\n",
    "# URI: /\n",
    "# version: HTTP/1.1\n",
    "# line ends with: \\r\\n\n",
    "request_line = 'GET / HTTP/1.1\\r\\n'"
   ]
  },
  {
   "cell_type": "markdown",
   "metadata": {},
   "source": [
    "#### Request/Response Sequence\n",
    "\n",
    "The following sequence establishes the general sequence of communication over HTTP:\n",
    "\n",
    "1. Establish a TCP socket connection with server machine $\\textit{host}$ at port $\\textit{port}$; call it `connection`.  \n",
    "2. Build a correctly formatted HTTP request string and assign it to a string variable, `request_message`.  This will use a an HTTP method (`GET`) and will include a header `Host` with value $\\textit{host}$ and use \\textit{resource path} as the URI in the *request-line*.  \n",
    "3. Perform a `send` of the string `request_message` over `connection`.  \n",
    "4. Perform a `receive` of the HTTP message response from `connection`.  Assuming a valid response message, this must retrieve the string of characters up to and including the \\textit{empty-line} after the message headers, and then, based on additional information, must retrieve the `body` of the response.  \n",
    "5. Perform a `close()` operation on `connection`.  "
   ]
  },
  {
   "cell_type": "markdown",
   "metadata": {},
   "source": [
    "A module, `mysocket`, is included with our textbook, and import above as `import mysocket as sock`.  It provides the following helper functions:\n",
    "\n",
    "Function                                           | Description\n",
    "---------------------------------------------------|-------------------------------------------------------------------\n",
    "`makeConnection(host, port)`                       | Establish a TCP connection from the client machine to a server at the given machine `host` and listening at the given `port`. This returns the socket connection.  This corresponds to Step 1 of the client-side steps.\n",
    "`sendString(conn, s)`                              | Given an established socket `conn`, take `s`, a string, and send it over the connection.  This corresponds to Step 3 of the client-side steps, where `s` would define all the characters making up a complete HTTP request.\n",
    "`receiveTillClose(conn)`                            | This performs a socket `recv()` from the connection, consuming data until the server closes the connection.  This returns the complete HTTP response message. This corresponds to Step 4 of the client-side steps, and assumes that a connection close will define the end of the response message.\n",
    "\n",
    "-----------------------------------------------------------------------------------------------------------------------"
   ]
  },
  {
   "cell_type": "markdown",
   "metadata": {},
   "source": [
    "Let's now walk through the steps of communication:"
   ]
  },
  {
   "cell_type": "markdown",
   "metadata": {},
   "source": [
    "**Step 1**"
   ]
  },
  {
   "cell_type": "code",
   "execution_count": null,
   "metadata": {},
   "outputs": [],
   "source": [
    "connection = sock.makeConnection(\"httpbin.org\", 80)\n",
    "assert connection is not None"
   ]
  },
  {
   "cell_type": "markdown",
   "metadata": {},
   "source": [
    "**Step 2**"
   ]
  },
  {
   "cell_type": "code",
   "execution_count": null,
   "metadata": {},
   "outputs": [],
   "source": [
    "request_line = 'GET / HTTP/1.1\\r\\n'     # we've already seen this\n",
    "host_line = 'Host: httpbin.org\\r\\n'     # required for HTTP 1.1\n",
    "one_and_done = 'Connection: close\\r\\n'  # specifies whether to keep connection alive\n",
    "empty_line = '\\r\\n'                     # we need this before the (optional) body\n",
    "\n",
    "request_message = request_line + host_line + \\\n",
    "                  one_and_done + empty_line\n",
    "                  \n",
    "print(request_message)"
   ]
  },
  {
   "cell_type": "markdown",
   "metadata": {},
   "source": [
    "**Step 3**"
   ]
  },
  {
   "cell_type": "code",
   "execution_count": null,
   "metadata": {},
   "outputs": [],
   "source": [
    "sock.sendString(connection, request_message)"
   ]
  },
  {
   "cell_type": "markdown",
   "metadata": {},
   "source": [
    "**Step 4**"
   ]
  },
  {
   "cell_type": "code",
   "execution_count": null,
   "metadata": {},
   "outputs": [],
   "source": [
    "response = sock.receiveTillClose(connection)"
   ]
  },
  {
   "cell_type": "markdown",
   "metadata": {},
   "source": [
    "**Step 5**"
   ]
  },
  {
   "cell_type": "code",
   "execution_count": null,
   "metadata": {},
   "outputs": [],
   "source": [
    "connection.close()"
   ]
  },
  {
   "cell_type": "markdown",
   "metadata": {},
   "source": [
    "We can view the first 250 characters of the response (lines are separated by `'\\r\\n'`):"
   ]
  },
  {
   "cell_type": "code",
   "execution_count": null,
   "metadata": {},
   "outputs": [],
   "source": [
    "print(response[:250])"
   ]
  },
  {
   "cell_type": "markdown",
   "metadata": {
    "deletable": false,
    "editable": false,
    "nbgrader": {
     "cell_type": "markdown",
     "checksum": "f3ff789e838ced12128b6321d7812a20",
     "grade": false,
     "grade_id": "cell-b0630fc52541276a",
     "locked": true,
     "schema_version": 3,
     "solution": false,
     "task": false
    }
   },
   "source": [
    "---\n",
    "\n",
    "## Part C: Practice with HTTP Requests\n",
    "\n",
    "**Q3:** Suppose we wish to retrieve (GET) a file via HTTP (so port 80) from `datasystems.denison.edu`.  The resource path of the file is `/data/ind0.json`.  We wish to use version 1.1 of HTTP and to request that the connection be closed after a single request/reply exchange.  We will need a header line to satisfy the HTTP 1.1 requirement of a valid `Host` header.  Write a sequence of code to compose a valid HTTP request as a Python string, and assign the result to `message`."
   ]
  },
  {
   "cell_type": "code",
   "execution_count": null,
   "metadata": {
    "deletable": false,
    "nbgrader": {
     "cell_type": "code",
     "checksum": "98b4d5b92050b39164ffe73b3df717ce",
     "grade": false,
     "grade_id": "cell-cae4365673329fd8",
     "locked": false,
     "schema_version": 3,
     "solution": true,
     "task": false
    }
   },
   "outputs": [],
   "source": [
    "# YOUR CODE HERE\n",
    "raise NotImplementedError()\n",
    "\n",
    "print(message)\n",
    "print(\"--------------------\")"
   ]
  },
  {
   "cell_type": "code",
   "execution_count": null,
   "metadata": {
    "deletable": false,
    "editable": false,
    "nbgrader": {
     "cell_type": "code",
     "checksum": "95eb520c5d1f6600409984dcb17ae253",
     "grade": true,
     "grade_id": "cell-c37e0233f773840c",
     "locked": true,
     "points": 2,
     "schema_version": 3,
     "solution": false,
     "task": false
    }
   },
   "outputs": [],
   "source": [
    "# Testing cell\n",
    "assert type(message) == str\n",
    "assert message[:3] == \"GET\"\n",
    "assert message[4:4+len(\"/data/ind0.json\")] == \"/data/ind0.json\"\n",
    "assert \"Host: datasystems.denison.edu\" in message\n",
    "assert message.count('\\r\\n') == 4\n",
    "assert message[-4:] == '\\r\\n\\r\\n'"
   ]
  },
  {
   "cell_type": "markdown",
   "metadata": {
    "deletable": false,
    "editable": false,
    "nbgrader": {
     "cell_type": "markdown",
     "checksum": "be3bdee9a1558d735ca8d017fe03c1fa",
     "grade": false,
     "grade_id": "cell-71dd066a007cc94e",
     "locked": true,
     "schema_version": 3,
     "solution": false,
     "task": false
    }
   },
   "source": [
    "**Q4:** Write a sequence of code to establish a connection to the host `datasystems.denison.edu` at port 80, to send the string `message` from the previous problem to the host, receive the reply from the host until the server closes the connection, assigning the reply to `reply`, and close the connection.  Note: if the request is not completely correct, a network connection can wait forever for a reply that will never come.  So if you have difficulty here, double check your answer to the previous problem."
   ]
  },
  {
   "cell_type": "code",
   "execution_count": null,
   "metadata": {
    "deletable": false,
    "nbgrader": {
     "cell_type": "code",
     "checksum": "2f71c9946d84bfddab0acc242b69efa2",
     "grade": false,
     "grade_id": "cell-59b25ae0233eb2f6",
     "locked": false,
     "schema_version": 3,
     "solution": true,
     "task": false
    }
   },
   "outputs": [],
   "source": [
    "# YOUR CODE HERE\n",
    "raise NotImplementedError()\n",
    "\n",
    "print(reply)"
   ]
  },
  {
   "cell_type": "code",
   "execution_count": null,
   "metadata": {
    "deletable": false,
    "editable": false,
    "nbgrader": {
     "cell_type": "code",
     "checksum": "d6656362f5c6e74e4e051f6dd3c9e7cc",
     "grade": true,
     "grade_id": "cell-a262284d7dd83250",
     "locked": true,
     "points": 2,
     "schema_version": 3,
     "solution": false,
     "task": false
    }
   },
   "outputs": [],
   "source": [
    "# Testing cell\n",
    "assert type(reply) == str\n",
    "assert \"200 OK\" in reply\n",
    "assert \"application/json\" in reply\n",
    "assert reply.endswith(\"19485.4}}}\")"
   ]
  },
  {
   "cell_type": "markdown",
   "metadata": {
    "deletable": false,
    "editable": false,
    "nbgrader": {
     "cell_type": "markdown",
     "checksum": "5d87df8e48d6980c81b479dd3a57bde9",
     "grade": false,
     "grade_id": "cell-3a541deeebbe933f",
     "locked": true,
     "schema_version": 3,
     "solution": false,
     "task": false
    }
   },
   "source": [
    "**Q5:** Suppose we want to generalize the scenario from the first exercise, where the two things that can change are the *host location* and the *resource path*.  For example, we might want to change the host to `httpbin.org` and the resource path to `/`, or many other combinations.  Write a function\n",
    "```\n",
    "    buildRequest(location, resource)\n",
    "```    \n",
    "that constructs and returns a Python string containing a valid HTTP GET request that incorporates the parameters `location` and `resource` into the request at the appropriate places, and includes the appropriate header lines (for the required `Host` and to request the server close the connection after the exchange)."
   ]
  },
  {
   "cell_type": "code",
   "execution_count": null,
   "metadata": {
    "deletable": false,
    "nbgrader": {
     "cell_type": "code",
     "checksum": "03a6242e28c1bda5fcbb946bf42b8b37",
     "grade": false,
     "grade_id": "cell-fdcdf3fee2f5371c",
     "locked": false,
     "schema_version": 3,
     "solution": true,
     "task": false
    }
   },
   "outputs": [],
   "source": [
    "# YOUR CODE HERE\n",
    "raise NotImplementedError()\n",
    "\n",
    "print(buildRequest(\"httpbin.org\", \"/get\"))\n",
    "print(\"---------------------\")"
   ]
  },
  {
   "cell_type": "code",
   "execution_count": null,
   "metadata": {
    "deletable": false,
    "editable": false,
    "nbgrader": {
     "cell_type": "code",
     "checksum": "8b48a658cb08f13258818fc2cbb8baa0",
     "grade": true,
     "grade_id": "cell-81a9009c478f82fa",
     "locked": true,
     "points": 2,
     "schema_version": 3,
     "solution": false,
     "task": false
    }
   },
   "outputs": [],
   "source": [
    "# Testing cell\n",
    "\n",
    "r1 = buildRequest(\"datasystems.denison.edu\", \"/data/ind0.json\")\n",
    "assert r1[:3] == \"GET\"\n",
    "assert r1[4:4+len(\"/data/ind0.json\")] == \"/data/ind0.json\"\n",
    "assert \"Host: datasystems.denison.edu\" in r1\n",
    "assert r1.count('\\r\\n') == 4\n",
    "assert r1[-4:] == '\\r\\n\\r\\n'\n",
    "\n",
    "r2 = buildRequest(\"httpbin.org\", \"/get\")\n",
    "assert r2[:3] == \"GET\"\n",
    "assert r2[4:4+len(\"/get\")] == \"/get\"\n",
    "assert \"Host: httpbin.org\" in r2\n",
    "assert r2.count('\\r\\n') == 4\n",
    "assert r2[-4:] == '\\r\\n\\r\\n'"
   ]
  },
  {
   "cell_type": "markdown",
   "metadata": {
    "deletable": false,
    "editable": false,
    "nbgrader": {
     "cell_type": "markdown",
     "checksum": "d51915b5cb1442d677ce07f519fee8ed",
     "grade": false,
     "grade_id": "cell-6002097ec5363a4b",
     "locked": true,
     "schema_version": 3,
     "solution": false,
     "task": false
    }
   },
   "source": [
    "**Q6:** Write a function\n",
    "```\n",
    "    makeRequest(location, resource)\n",
    "```\n",
    "that first constructs a valid HTTP GET request for `resource` at host `location`, as a Python string (using your function from the previous question), and then performs the  request-reply steps of making the connection, sending the string request, receiving a reply until the connection closes, and finally closing the client side of the connection.  The function should return the reply."
   ]
  },
  {
   "cell_type": "code",
   "execution_count": null,
   "metadata": {
    "deletable": false,
    "nbgrader": {
     "cell_type": "code",
     "checksum": "30b19964bf942508b8b6d992a796dc21",
     "grade": false,
     "grade_id": "cell-b0ae35dd066cdd61",
     "locked": false,
     "schema_version": 3,
     "solution": true,
     "task": false
    }
   },
   "outputs": [],
   "source": [
    "# YOUR CODE HERE\n",
    "raise NotImplementedError()\n",
    "\n",
    "print(makeRequest(\"datasystems.denison.edu\", \"/basic.html\"))"
   ]
  },
  {
   "cell_type": "code",
   "execution_count": null,
   "metadata": {
    "deletable": false,
    "editable": false,
    "nbgrader": {
     "cell_type": "code",
     "checksum": "ba04b19e9ece1d78a0377739d87620ff",
     "grade": true,
     "grade_id": "cell-558109be645f32b3",
     "locked": true,
     "points": 2,
     "schema_version": 3,
     "solution": false,
     "task": false
    }
   },
   "outputs": [],
   "source": [
    "# Testing cell\n",
    "\n",
    "resp1 = makeRequest(\"datasystems.denison.edu\", \"/basic.html\")\n",
    "# print(resp1)\n",
    "assert \"200 OK\" in resp1\n",
    "assert \"text/html\" in resp1\n",
    "assert resp1.endswith(\"</html>\\n\")\n",
    "\n",
    "resp2 = makeRequest(\"datasystems.denison.edu\", \"/data/ind0.json\")\n",
    "# print(resp2)\n",
    "assert \"200 OK\" in resp2\n",
    "assert \"application/json\" in resp2\n",
    "assert resp2.endswith(\"19485.4}}}\")\n",
    "\n",
    "resp3 = makeRequest(\"httpbin.org\", \"/get\")\n",
    "# print(resp3)\n",
    "assert \"200 OK\" in resp3\n",
    "assert \"application/json\" in resp3\n",
    "assert resp3.endswith(\"\"\"\"url\": \"http://httpbin.org/get\"\\n}\\n\"\"\")"
   ]
  },
  {
   "cell_type": "markdown",
   "metadata": {},
   "source": [
    "> You've reached the second checkpoint in the lab.  Make sure to have it signed off by the instructor or TA.\n",
    ">\n",
    "> Checkpoint 2: Consider the responses in the previous question's testing cell.  What do you think the `Content-Type` header line is used for by web browsers?  (Uncomment some of the `print` statements to see the responses.)"
   ]
  },
  {
   "cell_type": "markdown",
   "metadata": {
    "deletable": false,
    "editable": false,
    "nbgrader": {
     "cell_type": "markdown",
     "checksum": "ab62f69ff64a86cbcffbd134ca05c332",
     "grade": false,
     "grade_id": "cell-570f8c0f34f6b769",
     "locked": true,
     "schema_version": 3,
     "solution": false,
     "task": false
    }
   },
   "source": [
    "---\n",
    "\n",
    "## Part D: HTTP Response Messages\n",
    "\n",
    "The _start-line_ for an HTTP response message is given by a _status-line_, which is comprised of the protocol version, a status code, and the corresponding reason.  Status codes are divided into different categories, and are all 3 digits:\n",
    "\n",
    "Status Code | Reason | Examples\n",
    ":----|:--------------|:--------------\n",
    "100s | Informational | 100: continue, 102: processing\n",
    "200s | Success | 200: OK\n",
    "300s | Redirection | 301: moved permanently\n",
    "400s | Client error | 400: syntax error, 401: unauthorized, 404: not found\n",
    "500s | Server error | 500: internal server error\n",
    "\n",
    "If the request is for a web page, we expect the _body_ of the response to contain a character sequence in the HTML format, with the `Content-Type` header of `text/html`.  Alternatively, the body may contain other types of text, such as JSON, with `Content-Type` of `application/json`.  As with a request message, the body is provided after a single empty line."
   ]
  },
  {
   "cell_type": "markdown",
   "metadata": {},
   "source": [
    "The next set of exercises are about parsing through the reply resulting from a request.  If we consider an HTTP reply, we can partition it into a status line, the set of headers, and the body.  The exercises ask for functions that, given a reply, and parse the reply and return each of these pieces."
   ]
  },
  {
   "cell_type": "markdown",
   "metadata": {
    "deletable": false,
    "editable": false,
    "nbgrader": {
     "cell_type": "markdown",
     "checksum": "1f52ffc6364db8f1a2336389169d5efa",
     "grade": false,
     "grade_id": "cell-355896e383db531b",
     "locked": true,
     "schema_version": 3,
     "solution": false,
     "task": false
    }
   },
   "source": [
    "**Q7:** Write a function\n",
    "```\n",
    "    parseStatus(reply)\n",
    "```\n",
    "that finds and returns a Python string consisting of only the status line of a reply.  The returned value should include the line-terminating `\"\\r\\n\"`."
   ]
  },
  {
   "cell_type": "code",
   "execution_count": null,
   "metadata": {
    "deletable": false,
    "nbgrader": {
     "cell_type": "code",
     "checksum": "e9d2a665cca49b0688e3c11efcddfd07",
     "grade": false,
     "grade_id": "cell-db4474c167be79ae",
     "locked": false,
     "schema_version": 3,
     "solution": true,
     "task": false
    }
   },
   "outputs": [],
   "source": [
    "# YOUR CODE HERE\n",
    "raise NotImplementedError()\n",
    "\n",
    "reply = makeRequest(\"datasystems.denison.edu\", \"/basic.html\")\n",
    "print(repr(parseStatus(reply)))\n",
    "reply = makeRequest(\"datasystems.denison.edu\", \"/foobar.txt\")\n",
    "print(repr(parseStatus(reply)))"
   ]
  },
  {
   "cell_type": "code",
   "execution_count": null,
   "metadata": {
    "deletable": false,
    "editable": false,
    "nbgrader": {
     "cell_type": "code",
     "checksum": "10a0e5e628cbe7eca5f58731c99d6c08",
     "grade": true,
     "grade_id": "cell-4e8d16f523ad3818",
     "locked": true,
     "points": 2,
     "schema_version": 3,
     "solution": false,
     "task": false
    }
   },
   "outputs": [],
   "source": [
    "r1 = makeRequest(\"datasystems.denison.edu\", \"/basic.html\")\n",
    "s1 = parseStatus(r1)\n",
    "assert s1 == \"HTTP/1.1 200 OK\\r\\n\"\n",
    "\n",
    "r2 = makeRequest(\"datasystems.denison.edu\", \"/foobar.txt\")\n",
    "s2 = parseStatus(r2)\n",
    "assert s2 == \"HTTP/1.1 404 Not Found\\r\\n\""
   ]
  },
  {
   "cell_type": "markdown",
   "metadata": {
    "deletable": false,
    "editable": false,
    "nbgrader": {
     "cell_type": "markdown",
     "checksum": "9acc8db47c6d12cd54bb50d77ba72bd6",
     "grade": false,
     "grade_id": "cell-00719c363cfc65b8",
     "locked": true,
     "schema_version": 3,
     "solution": false,
     "task": false
    }
   },
   "source": [
    "**Q8:** Write a function\n",
    "```\n",
    "    parseHeaders(reply)\n",
    "```\n",
    "that finds and returns a single Python string that starts with the first header in the reply and continues up through the last header in the reply, including the line-terminating `\"\\r\\n\"`, but *not* the empty line separating the headers from the body."
   ]
  },
  {
   "cell_type": "code",
   "execution_count": null,
   "metadata": {
    "deletable": false,
    "nbgrader": {
     "cell_type": "code",
     "checksum": "a2c00409bce5c88e1922e9cf5bb6267a",
     "grade": false,
     "grade_id": "cell-4985de7e00373e2d",
     "locked": false,
     "schema_version": 3,
     "solution": true,
     "task": false
    }
   },
   "outputs": [],
   "source": [
    "# YOUR CODE HERE\n",
    "raise NotImplementedError()\n",
    "\n",
    "reply = makeRequest(\"datasystems.denison.edu\", \"/basic.html\")\n",
    "print(repr(parseHeaders(reply)))\n",
    "reply = makeRequest(\"datasystems.denison.edu\", \"/foobar.txt\")\n",
    "print(repr(parseHeaders(reply)))"
   ]
  },
  {
   "cell_type": "code",
   "execution_count": null,
   "metadata": {
    "deletable": false,
    "editable": false,
    "nbgrader": {
     "cell_type": "code",
     "checksum": "7da0d77518b26e6f9d72170f37adff78",
     "grade": true,
     "grade_id": "cell-c10750ab8472692f",
     "locked": true,
     "points": 2,
     "schema_version": 3,
     "solution": false,
     "task": false
    }
   },
   "outputs": [],
   "source": [
    "# Testing cell\n",
    "\n",
    "r1 = makeRequest(\"datasystems.denison.edu\", \"/basic.html\")\n",
    "h1 = parseHeaders(r1)\n",
    "assert \"Server: Apache\" in h1\n",
    "assert \"Connection: close\\r\\n\" in h1\n",
    "assert \"Content-Type: text/html\" in h1\n",
    "\n",
    "r2 = makeRequest(\"datasystems.denison.edu\", \"/foobar.txt\")\n",
    "h2 = parseHeaders(r2)\n",
    "assert \"Server: Apache\" in h2\n",
    "assert \"Connection: close\\r\\n\" in h2\n",
    "assert \"Content-Type: text/html\" in h2"
   ]
  },
  {
   "cell_type": "markdown",
   "metadata": {
    "deletable": false,
    "editable": false,
    "nbgrader": {
     "cell_type": "markdown",
     "checksum": "1d1b31a15d1ced695c444dc1c4cf0065",
     "grade": false,
     "grade_id": "cell-1a7baf449889a33a",
     "locked": true,
     "schema_version": 3,
     "solution": false,
     "task": false
    }
   },
   "source": [
    "**Q9:** Write a function\n",
    "```\n",
    "    parseBody(reply)\n",
    "```\n",
    "that finds and returns a single Python string that starts with the beginning of the body (i.e. after the empty line of the reply) and continues to the end of the reply."
   ]
  },
  {
   "cell_type": "code",
   "execution_count": null,
   "metadata": {
    "deletable": false,
    "nbgrader": {
     "cell_type": "code",
     "checksum": "129baf755382dd175737885fb65c504f",
     "grade": false,
     "grade_id": "cell-fd88ef8bb50a41c1",
     "locked": false,
     "schema_version": 3,
     "solution": true,
     "task": false
    }
   },
   "outputs": [],
   "source": [
    "# YOUR CODE HERE\n",
    "raise NotImplementedError()\n",
    "\n",
    "reply = makeRequest(\"datasystems.denison.edu\", \"/basic.html\")\n",
    "print(parseBody(reply))\n",
    "reply = makeRequest(\"datasystems.denison.edu\", \"/foobar.txt\")\n",
    "print(parseBody(reply))"
   ]
  },
  {
   "cell_type": "code",
   "execution_count": null,
   "metadata": {
    "deletable": false,
    "editable": false,
    "nbgrader": {
     "cell_type": "code",
     "checksum": "4993b452f397939e4b35b63c8e821b7c",
     "grade": true,
     "grade_id": "cell-7859319f27b6d899",
     "locked": true,
     "points": 2,
     "schema_version": 3,
     "solution": false,
     "task": false
    }
   },
   "outputs": [],
   "source": [
    "# Testing cell\n",
    "r1 = makeRequest(\"datasystems.denison.edu\", \"/basic.html\")\n",
    "b1 = parseBody(r1)\n",
    "r2 = makeRequest(\"datasystems.denison.edu\", \"/foobar.txt\")\n",
    "b2 = parseBody(r2)\n",
    "assert b1.startswith(\"<!DOCTYPE html>\")\n",
    "assert b1.endswith(\"</html>\\n\")\n",
    "assert b2.startswith(\"<!DOCTYPE HTML\")\n",
    "assert b2.endswith(\"</body></html>\\n\")"
   ]
  },
  {
   "cell_type": "markdown",
   "metadata": {},
   "source": [
    "> You've reached the third (and final) checkpoint in the lab.  Make sure to have it signed off by the instructor or TA.\n",
    ">\n",
    "> Checkpoint 3: How does the displayed _body_ in the previous question compare with what you would see for the page source using developer tools in a web browswer?"
   ]
  },
  {
   "cell_type": "markdown",
   "metadata": {},
   "source": [
    "---\n",
    "\n",
    "---\n",
    "\n",
    "## Part E\n",
    "\n",
    "How much time (in minutes/hours) did you spend on this lab outside of class?"
   ]
  },
  {
   "cell_type": "markdown",
   "metadata": {},
   "source": [
    "YOUR ANSWER HERE"
   ]
  }
 ],
 "metadata": {
  "kernelspec": {
   "display_name": "Python 3",
   "language": "python",
   "name": "python3"
  },
  "language_info": {
   "codemirror_mode": {
    "name": "ipython",
    "version": 3
   },
   "file_extension": ".py",
   "mimetype": "text/x-python",
   "name": "python",
   "nbconvert_exporter": "python",
   "pygments_lexer": "ipython3",
   "version": "3.9.7"
  }
 },
 "nbformat": 4,
 "nbformat_minor": 4
}
