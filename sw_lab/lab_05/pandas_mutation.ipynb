{
 "cells": [
  {
   "cell_type": "markdown",
   "metadata": {},
   "source": [
    "# Denison CS181/DA210 SW Lab #5 - Step 1\n",
    "\n",
    "Before you turn this problem in, make sure everything runs as expected. This is a combination of **restarting the kernel** and then **running all cells** (in the menubar, select Kernel$\\rightarrow$Restart And Run All).\n",
    "\n",
    "Make sure you fill in any place that says `# YOUR CODE HERE` or \"YOUR ANSWER HERE\"."
   ]
  },
  {
   "cell_type": "markdown",
   "metadata": {},
   "source": [
    "---"
   ]
  },
  {
   "cell_type": "code",
   "execution_count": null,
   "metadata": {},
   "outputs": [],
   "source": [
    "import os\n",
    "import os.path\n",
    "import pandas as pd\n",
    "\n",
    "datadir = \"publicdata\""
   ]
  },
  {
   "cell_type": "markdown",
   "metadata": {},
   "source": [
    "---\n",
    "\n",
    "## Part A: Deleting Columns/Rows\n",
    "\n",
    "We'll use the following subset of the `topnames` dataset as an example throughout.  Note that we'll use the `.copy()` method to copy our `DataFrame` before making any changes to it."
   ]
  },
  {
   "cell_type": "code",
   "execution_count": null,
   "metadata": {},
   "outputs": [],
   "source": [
    "# Create the DataFrame from a List of Lists\n",
    "topnamesLoL = [ [2018, \"Male\", \"Liam\", 19837],\n",
    "                [2018, \"Female\", \"Emma\", 18688],\n",
    "                [2017, \"Male\", \"Liam\", 18798],\n",
    "                [2017, \"Female\", \"Emma\", 19800],\n",
    "                [2016, \"Male\", \"Noah\", 19117],\n",
    "                [2016, \"Female\", \"Emma\", 19496] ]\n",
    "topnamesColumns = [\"year\", \"sex\", \"name\", \"count\"]\n",
    "\n",
    "topnames0 = pd.DataFrame(topnamesLoL, columns=topnamesColumns)\n",
    "\n",
    "# View the DataFrame before making any changes\n",
    "topnames0"
   ]
  },
  {
   "cell_type": "markdown",
   "metadata": {},
   "source": [
    "#### Single-column deletion\n",
    "\n",
    "If we want to delete a single column from a `DataFrame`, we can use a `del` statement."
   ]
  },
  {
   "cell_type": "code",
   "execution_count": null,
   "metadata": {},
   "outputs": [],
   "source": [
    "# First, copy the DataFrame (we'll modify the copy)\n",
    "tn2 = topnames0.copy()\n",
    "\n",
    "# Delete the 'name' column\n",
    "del tn2[\"name\"]\n",
    "\n",
    "# Display the modified DataFrame\n",
    "tn2"
   ]
  },
  {
   "cell_type": "markdown",
   "metadata": {},
   "source": [
    "Similarly, we could use `pop()` to delete a single column.  Like with `list`s in Python, `pop()` returns the removed element."
   ]
  },
  {
   "cell_type": "code",
   "execution_count": null,
   "metadata": {},
   "outputs": [],
   "source": [
    "# First, copy the DataFrame (we'll modify the copy)\n",
    "tn3 = topnames0.copy()\n",
    "\n",
    "# Delete and store the 'count' column\n",
    "column_series = tn3.pop(\"count\")\n",
    "\n",
    "# Display the modified DataFrame\n",
    "tn3"
   ]
  },
  {
   "cell_type": "markdown",
   "metadata": {},
   "source": [
    "As the result of using `pop()` is a single column, its type is a `Series`."
   ]
  },
  {
   "cell_type": "code",
   "execution_count": null,
   "metadata": {},
   "outputs": [],
   "source": [
    "# Display the popped Series\n",
    "column_series"
   ]
  },
  {
   "cell_type": "markdown",
   "metadata": {},
   "source": [
    "#### Multiple-column deletion\n",
    "\n",
    "We can use the `drop()` method of the `DataFrame` class to drop multiple columns.  The first argument to `drop()` should be a single column label (to drop one column) or a list of column labels (to drop multiple columns)."
   ]
  },
  {
   "cell_type": "code",
   "execution_count": null,
   "metadata": {},
   "outputs": [],
   "source": [
    "# First, copy the DataFrame (we'll modify the copy)\n",
    "tn4 = topnames0.copy()\n",
    "\n",
    "# Delete just the 'Name' column\n",
    "tn4.drop('name', axis=1, inplace=True)\n",
    "\n",
    "# Display the modified DataFrame\n",
    "tn4"
   ]
  },
  {
   "cell_type": "markdown",
   "metadata": {},
   "source": [
    "In the above example, we specified `inplace=True`.  This modifies the given `DataFrame`.  We could skip the copy step by using `inplace=False`, which would return the modified `DataFrame` copy."
   ]
  },
  {
   "cell_type": "code",
   "execution_count": null,
   "metadata": {},
   "outputs": [],
   "source": [
    "# Delete just the 'Name' column\n",
    "tn5 = topnames0.drop('name', axis=1, inplace=False) # return a modified copy\n",
    "\n",
    "# Display the modified DataFrame (same as tn4)\n",
    "tn5"
   ]
  },
  {
   "cell_type": "markdown",
   "metadata": {},
   "source": [
    "#### Row deletion\n",
    "\n",
    "In the previous two examples, we used `axis=1` to specify that we wanted to drop one or more columns.  We could instead use `axis=0` to specify that we should drop rows."
   ]
  },
  {
   "cell_type": "code",
   "execution_count": null,
   "metadata": {},
   "outputs": [],
   "source": [
    "# Delete rows 2-3 (using the row labels)\n",
    "tn6 = topnames0.drop([2,3], axis=0, inplace=False) # return a modified copy\n",
    "\n",
    "# Display the modified DataFrame\n",
    "tn6"
   ]
  },
  {
   "cell_type": "markdown",
   "metadata": {},
   "source": [
    "If we use a multi-level index for row labels, we can specify a drop using a specific level."
   ]
  },
  {
   "cell_type": "code",
   "execution_count": null,
   "metadata": {},
   "outputs": [],
   "source": [
    "# Copy topnames0 and give it a two-level index\n",
    "tn7 = topnames0.set_index(['year', 'sex'], inplace=False)\n",
    "\n",
    "# Delete rows for 2017 (using the two-level index)\n",
    "tn7.drop([2017], level=\"year\", axis=0, inplace=True)\n",
    "\n",
    "# Display the modified DataFrame\n",
    "tn7"
   ]
  },
  {
   "cell_type": "code",
   "execution_count": null,
   "metadata": {},
   "outputs": [],
   "source": [
    "# Copy topnames0 and give it a two-level index\n",
    "tn8 = topnames0.set_index(['year', 'sex'], inplace=False)\n",
    "\n",
    "# Delete rows for Male (using the two-level index)\n",
    "tn8.drop([\"Male\"], level=\"sex\", axis=0, inplace=True)\n",
    "\n",
    "# Display the modified DataFrame\n",
    "tn8"
   ]
  },
  {
   "cell_type": "markdown",
   "metadata": {},
   "source": [
    "---\n",
    "\n",
    "## Part B: Adding a Column\n",
    "\n",
    "We can add a new column, represented as a `Series`, to an existing `DataFrame`.  To do this, we use the same syntax to project a column, but on the _left-hand side_ of an assignment statement."
   ]
  },
  {
   "cell_type": "code",
   "execution_count": null,
   "metadata": {},
   "outputs": [],
   "source": [
    "# First, copy the DataFrame (we'll modify the copy)\n",
    "tn9 = topnames0.copy()\n",
    "\n",
    "# Add some new columns\n",
    "tn9[\"oddyear\"] = tn9[\"year\"] % 2 == 1                     # year is odd\n",
    "tn9[\"namelen\"] = tn9[\"name\"].apply(len)                   # length of each name\n",
    "tn9[\"namecaps\"] = tn9[\"name\"].apply(lambda s: s.upper())  # name in all caps\n",
    "\n",
    "# Display the modified DataFrame\n",
    "tn9"
   ]
  },
  {
   "cell_type": "markdown",
   "metadata": {},
   "source": [
    "Note that if we project multiple columns, this projection is tied to the original data.  This means that if we modify the projection, we modify the original as well.\n",
    "\n",
    "The same thing occurs with Python `list`s."
   ]
  },
  {
   "cell_type": "code",
   "execution_count": null,
   "metadata": {},
   "outputs": [],
   "source": [
    "# Start with a large list\n",
    "mylist = [1, 3, 6, 7, 19, 22]\n",
    "\n",
    "# Create an alias for my list\n",
    "alias = mylist\n",
    "\n",
    "# Modify the alias\n",
    "alias[-1] = -10\n",
    "alias.append(1000)\n",
    "\n",
    "# Check the state of both\n",
    "print(mylist)\n",
    "print(alias)"
   ]
  },
  {
   "cell_type": "markdown",
   "metadata": {},
   "source": [
    "With `DataFrame`s, this can cause issues if we try to add a column to a projection."
   ]
  },
  {
   "cell_type": "code",
   "execution_count": null,
   "metadata": {},
   "outputs": [],
   "source": [
    "# First, copy the DataFrame (we'll modify the copy)\n",
    "tn10 = topnames0.copy()\n",
    "\n",
    "# Project the \"name\" and \"count\" columns\n",
    "tn10_proj = tn10[[\"name\", \"count\"]]\n",
    "\n",
    "# Attempt to add a column to the projection\n",
    "tn10_proj[\"namelen\"] = tn10[\"name\"].apply(len) # displays warning"
   ]
  },
  {
   "cell_type": "markdown",
   "metadata": {},
   "source": [
    "However, despite this warning, it will add the column to the projection."
   ]
  },
  {
   "cell_type": "code",
   "execution_count": null,
   "metadata": {},
   "outputs": [],
   "source": [
    "# Display the original DataFrame\n",
    "tn10"
   ]
  },
  {
   "cell_type": "code",
   "execution_count": null,
   "metadata": {},
   "outputs": [],
   "source": [
    "# Display the modified projection\n",
    "tn10_proj"
   ]
  },
  {
   "cell_type": "markdown",
   "metadata": {},
   "source": [
    "Because of the assumed correspondence of a projection and the original data, we can use `copy()` to make clear that the assignment is a one-time operator."
   ]
  },
  {
   "cell_type": "markdown",
   "metadata": {},
   "source": [
    "---\n",
    "\n",
    "## Part C: Updating columns\n",
    "\n",
    "We can use the same syntax for adding a column to update all values in a given column."
   ]
  },
  {
   "cell_type": "code",
   "execution_count": null,
   "metadata": {},
   "outputs": [],
   "source": [
    "# First, copy the DataFrame (we'll modify the copy)\n",
    "tn11 = topnames0.copy()\n",
    "\n",
    "# Modify the 'count' column (e.g., to change units)\n",
    "tn11[\"count\"] = tn11[\"count\"] / 1000\n",
    "\n",
    "# Display the modified DataFrame\n",
    "tn11"
   ]
  },
  {
   "cell_type": "markdown",
   "metadata": {},
   "source": [
    "We can use `.loc` and a row filter to update only some values in a given column."
   ]
  },
  {
   "cell_type": "code",
   "execution_count": null,
   "metadata": {},
   "outputs": [],
   "source": [
    "# First, copy the DataFrame (we'll modify the copy)\n",
    "tn12 = topnames0.copy()\n",
    "\n",
    "# Modify the 'count' column for rows with Female 'sex' (e.g., to change units)\n",
    "tn12.loc[tn12.sex == \"Female\", \"count\"] = tn12[\"count\"] / 1000\n",
    "\n",
    "# Display the modified DataFrame\n",
    "tn12"
   ]
  },
  {
   "cell_type": "markdown",
   "metadata": {},
   "source": [
    "We have the same issue trying to modify the values in a projection as we did trying to add a column."
   ]
  },
  {
   "cell_type": "code",
   "execution_count": null,
   "metadata": {},
   "outputs": [],
   "source": [
    "# First, copy the DataFrame (we'll modify the copy)\n",
    "tn13 = topnames0.copy()\n",
    "\n",
    "# Project the \"name\" and \"count\" columns\n",
    "tn13_proj = tn13[[\"name\", \"count\"]]\n",
    "\n",
    "# Modify the projection\n",
    "tn13_proj.loc[:,\"count\"] = tn13_proj[\"count\"] / 1000 # displays a warning"
   ]
  },
  {
   "cell_type": "markdown",
   "metadata": {},
   "source": [
    "---\n",
    "\n",
    "## Part D: Try it Yourself\n",
    "\n",
    "**Q1:** Read CSV file `indicators2016.csv` in `datadir` into a data frame named `indicators0`, with no index."
   ]
  },
  {
   "cell_type": "code",
   "execution_count": null,
   "metadata": {},
   "outputs": [],
   "source": [
    "# YOUR CODE HERE\n",
    "raise NotImplementedError()\n",
    "\n",
    "# Display a subset of the DataFrame\n",
    "indicators0.head()"
   ]
  },
  {
   "cell_type": "markdown",
   "metadata": {},
   "source": [
    "**Q2:** Use `.pop()` to remove the `'code'` column from the dataset (modifying the original dataset), and store the resulting `Series` in `code_series`."
   ]
  },
  {
   "cell_type": "code",
   "execution_count": null,
   "metadata": {},
   "outputs": [],
   "source": [
    "# YOUR CODE HERE\n",
    "raise NotImplementedError()\n",
    "\n",
    "# Display the Series\n",
    "code_series"
   ]
  },
  {
   "cell_type": "code",
   "execution_count": null,
   "metadata": {},
   "outputs": [],
   "source": [
    "# Display the modified DataFrame (should not have a 'code' column)\n",
    "indicators0.head()"
   ]
  },
  {
   "cell_type": "markdown",
   "metadata": {},
   "source": [
    "**Q3:** Make a copy of `indicators0`, called `indicators`, and assign `code_series` to be its index."
   ]
  },
  {
   "cell_type": "code",
   "execution_count": null,
   "metadata": {},
   "outputs": [],
   "source": [
    "# YOUR CODE HERE\n",
    "raise NotImplementedError()\n",
    "\n",
    "# Display the modified DataFrame copy\n",
    "indicators"
   ]
  },
  {
   "cell_type": "markdown",
   "metadata": {},
   "source": [
    "> You've reached the first checkpoint in the lab.  Make sure to have it signed off by the instructor or TA.\n",
    ">\n",
    "> Checkpoint 1: After popping the `'code'` column from `indicators0`, how could you instead create a new column in the data frame with the same value as `code_series`, effectively putting that column back into the data frame?"
   ]
  },
  {
   "cell_type": "markdown",
   "metadata": {},
   "source": [
    "---\n",
    "\n",
    "## Part E: A New Dataset\n",
    "\n",
    "The file `members.csv` in `publicdata` has (fake) information on a number of individuals in Ohio.\n",
    "\n",
    "**Q4:** Read this dataset into a `pandas DataFrame` using `read_csv`.  Name it `members0` and do not include an index."
   ]
  },
  {
   "cell_type": "code",
   "execution_count": null,
   "metadata": {},
   "outputs": [],
   "source": [
    "# YOUR CODE HERE\n",
    "raise NotImplementedError()\n",
    "\n",
    "# Display the DataFrame\n",
    "members0"
   ]
  },
  {
   "cell_type": "markdown",
   "metadata": {},
   "source": [
    "**Q5:** Repeat the above, but now do include an index by specifying `index_col` in the constructor.  Name this `DataFrame` `members`.  (Hint: take a look at the file to determine a reasonable index.)"
   ]
  },
  {
   "cell_type": "code",
   "execution_count": null,
   "metadata": {},
   "outputs": [],
   "source": [
    "# YOUR CODE HERE\n",
    "raise NotImplementedError()\n",
    "\n",
    "# Display the DataFrame\n",
    "members"
   ]
  },
  {
   "cell_type": "markdown",
   "metadata": {},
   "source": [
    "**Q6:** We will now split the column 'Name' into two different columns for first and last name.  As a first step:\n",
    "\n",
    "  1. Write a lambda function that will, given a string, split on spaces and select only the first element of the resultant list.\n",
    "  2. Apply the lambda function to the `'Name'` column, and store the result as `fname_series`."
   ]
  },
  {
   "cell_type": "code",
   "execution_count": null,
   "metadata": {},
   "outputs": [],
   "source": [
    "# YOUR CODE HERE\n",
    "raise NotImplementedError()\n",
    "\n",
    "# Display the Series\n",
    "fname_series"
   ]
  },
  {
   "cell_type": "markdown",
   "metadata": {},
   "source": [
    "**Q7:** Assign `fname_series` as a new column in `members` with column name `FName`."
   ]
  },
  {
   "cell_type": "code",
   "execution_count": null,
   "metadata": {},
   "outputs": [],
   "source": [
    "# YOUR CODE HERE\n",
    "raise NotImplementedError()\n",
    "\n",
    "# Display the DataFrame (should have a new column, FName)\n",
    "members"
   ]
  },
  {
   "cell_type": "markdown",
   "metadata": {},
   "source": [
    "**Q8:** Similar to Q6-Q7, create a new column, called `LName`, in `members` using the last name."
   ]
  },
  {
   "cell_type": "code",
   "execution_count": null,
   "metadata": {},
   "outputs": [],
   "source": [
    "# YOUR CODE HERE\n",
    "raise NotImplementedError()\n",
    "\n",
    "# Display the DataFrame (should have a new column, LName)\n",
    "members"
   ]
  },
  {
   "cell_type": "markdown",
   "metadata": {},
   "source": [
    "**Q9:** Similar to Q6-Q8, create two new columns, called `City` and `State`, based on the `Address` column.  Make sure that neither the city nor state has any leading or trailing spaces."
   ]
  },
  {
   "cell_type": "code",
   "execution_count": null,
   "metadata": {},
   "outputs": [],
   "source": [
    "# YOUR CODE HERE\n",
    "raise NotImplementedError()\n",
    "\n",
    "# Display the DataFrame (should have two new columns, City and State)\n",
    "members"
   ]
  },
  {
   "cell_type": "markdown",
   "metadata": {},
   "source": [
    "**Q10:** Drop the original `'Name'` and `'Address'` columns."
   ]
  },
  {
   "cell_type": "code",
   "execution_count": null,
   "metadata": {},
   "outputs": [],
   "source": [
    "# YOUR CODE HERE\n",
    "raise NotImplementedError()\n",
    "\n",
    "# Display the DataFrame (should have removed Name and Address columns)\n",
    "members"
   ]
  },
  {
   "cell_type": "markdown",
   "metadata": {},
   "source": [
    "> You've reached the second checkpoint in the lab.  Make sure to have it signed off by the instructor or TA.\n",
    ">\n",
    "> Checkpoint 2: One of the users, Kirk Marshall, wants to change his last name to Crossley.  How would you use `loc` do do this?  What about `iloc`?"
   ]
  },
  {
   "cell_type": "markdown",
   "metadata": {},
   "source": [
    "---\n",
    "\n",
    "---\n",
    "## Part F\n",
    "\n",
    "How much time (in minutes/hours) did you spend on this lab outside of class?"
   ]
  },
  {
   "cell_type": "markdown",
   "metadata": {},
   "source": [
    "YOUR ANSWER HERE"
   ]
  }
 ],
 "metadata": {
  "kernelspec": {
   "display_name": "Python 3",
   "language": "python",
   "name": "python3"
  },
  "language_info": {
   "codemirror_mode": {
    "name": "ipython",
    "version": 3
   },
   "file_extension": ".py",
   "mimetype": "text/x-python",
   "name": "python",
   "nbconvert_exporter": "python",
   "pygments_lexer": "ipython3",
   "version": "3.9.7"
  }
 },
 "nbformat": 4,
 "nbformat_minor": 4
}
