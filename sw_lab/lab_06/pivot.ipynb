{
 "cells": [
  {
   "cell_type": "markdown",
   "metadata": {},
   "source": [
    "# Denison CS181/DA210 SW Lab #6 - Step 1\n",
    "\n",
    "Before you turn this problem in, make sure everything runs as expected. This is a combination of **restarting the kernel** and then **running all cells** (in the menubar, select Kernel$\\rightarrow$Restart And Run All).\n",
    "\n",
    "Make sure you fill in any place that says `# YOUR CODE HERE` or \"YOUR ANSWER HERE\"."
   ]
  },
  {
   "cell_type": "markdown",
   "metadata": {},
   "source": [
    "---"
   ]
  },
  {
   "cell_type": "code",
   "execution_count": null,
   "metadata": {},
   "outputs": [],
   "source": [
    "import os\n",
    "import os.path\n",
    "import pandas as pd\n",
    "\n",
    "datadir = \"publicdata\""
   ]
  },
  {
   "cell_type": "markdown",
   "metadata": {},
   "source": [
    "---\n",
    "\n",
    "## Part A: Transformation operation: `pivot`\n",
    "\n",
    "The pivot operation is the dual to `melt()`.  As we saw in class, `melt` converts several columns to a single stacked column.  The `pivot` operation, on the other hand, converts a stacked column to a series of columns.\n",
    "\n",
    "### Pivoting with one value column\n",
    "\n",
    "Consider the following subset of the `indicators0` dataset:"
   ]
  },
  {
   "cell_type": "code",
   "execution_count": null,
   "metadata": {},
   "outputs": [],
   "source": [
    "data = { \"code\": [\"CAN\", \"CAN\", \"CAN\", \"USA\", \"USA\", \"USA\"],\n",
    "         \"ind\": [\"pop\", \"gdp\", \"life\", \"pop\", \"gdp\", \"life\"],\n",
    "         \"value\": [36.26, 1535.77, 82.30, 323.13, 18624.47, 76.25]}\n",
    "\n",
    "indicators0_untidy = pd.DataFrame(data)\n",
    "\n",
    "# Display the DataFrame\n",
    "indicators0_untidy"
   ]
  },
  {
   "cell_type": "markdown",
   "metadata": {},
   "source": [
    "As you can see, this dataset is not tidy.  Specifically, it should map `code -> pop, gdp, life`.  However, a given mapping of independent to dependent variables appears across several rows (violating `TidyData2`).  Furthermore, the columns labeled `ind` and `value` contain information about three different variables, rather than having each column represent exactly one variable (violating `TidyData1`)."
   ]
  },
  {
   "cell_type": "markdown",
   "metadata": {},
   "source": [
    "We can fix this using a `pivot` operation.  We'll need a few pieces of information:\n",
    "\n",
    "* `index`: a set of columns to serve as the row index (should uniquely identify a mapping of independent to dependent varaibles)\n",
    "* `pivot column`: the name of the column that provides the column labels after pivoting (e.g., a column containing variable names)\n",
    "* `value column(s)`: the names of columns containing values of the variables in the pivot column"
   ]
  },
  {
   "cell_type": "markdown",
   "metadata": {},
   "source": [
    "In this example, this information is the following:\n",
    "\n",
    "* `index`: `'code'`\n",
    "* `pivot column`: `'ind'`, with values `'pop'`, `'gdp'`, and `'life'`\n",
    "* `value column`: `'value'`"
   ]
  },
  {
   "cell_type": "code",
   "execution_count": null,
   "metadata": {},
   "outputs": [],
   "source": [
    "# Display the original DataFrame again\n",
    "indicators0_untidy"
   ]
  },
  {
   "cell_type": "code",
   "execution_count": null,
   "metadata": {},
   "outputs": [],
   "source": [
    "# Pivot the untidy DataFrame to attain separate columns\n",
    "# for the different indicators\n",
    "indicators0_pivoted = indicators0_untidy.pivot(\n",
    "    index = \"code\",   # index column\n",
    "    columns = \"ind\",  # pivot column\n",
    "    values = \"value\"  # value column\n",
    ")\n",
    "\n",
    "# Display the tidy version of this DataFrame\n",
    "indicators0_pivoted"
   ]
  },
  {
   "cell_type": "markdown",
   "metadata": {},
   "source": [
    "Note that `code` is used as the row-label `Index`, and there are just three columns for the two data rows."
   ]
  },
  {
   "cell_type": "markdown",
   "metadata": {},
   "source": [
    "### Pivoting with more than one value column\n",
    "\n",
    "Note that `pandas` does not enforce that data should be tidy.  For the purpose of illustration, let's consider a variation of the `indicators` dataset in which we'll pivot with more than one `value` column."
   ]
  },
  {
   "cell_type": "code",
   "execution_count": null,
   "metadata": {},
   "outputs": [],
   "source": [
    "data = [[\"CHN\", 2005, 1303.72,  2285.97],\n",
    "        [\"CHN\", 2010, 1337.70,  6087.16],\n",
    "        [\"CHN\", 2015, 1371.22, 11015.54],\n",
    "        [\"GBR\", 2005,   60.40,  2525.01],\n",
    "        [\"GBR\", 2010,   62.77,  2452.90],\n",
    "        [\"GBR\", 2015,   65.13,  2896.42],\n",
    "        [\"IND\", 2005, 1147.61,   820.38],\n",
    "        [\"IND\", 2010, 1234.28,  1675.62],\n",
    "        [\"IND\", 2015, 1310.15,  2103.59]]\n",
    "columns = [\"code\", \"year\", \"pop\", \"gdp\"]\n",
    "\n",
    "indicators0_mult_pivot_vals = pd.DataFrame(data, columns=columns)\n",
    "\n",
    "# Display the DataFrame\n",
    "indicators0_mult_pivot_vals"
   ]
  },
  {
   "cell_type": "markdown",
   "metadata": {},
   "source": [
    "We can now perform a pivot on this dataset with the following parameters:\n",
    "\n",
    "* `index`: `'code'`\n",
    "* `pivot column`: `'year''`, with values `2005`, `2010`, and `2015`\n",
    "* `value columns`: `'pop'` and `'gdp'`"
   ]
  },
  {
   "cell_type": "code",
   "execution_count": null,
   "metadata": {},
   "outputs": [],
   "source": [
    "# Perform the pivot\n",
    "indicators0_pivoted_multvals = indicators0_mult_pivot_vals.pivot(\n",
    "    index = \"code\",  # index column\n",
    "    columns = \"year\" # pivot column\n",
    ")\n",
    "\n",
    "# Note that value columns are not specified, so all remaining columns are used\n",
    "\n",
    "# Display the resulting DataFrame\n",
    "indicators0_pivoted_multvals"
   ]
  },
  {
   "cell_type": "markdown",
   "metadata": {},
   "source": [
    "A few key notes:\n",
    "* The result has a multi-level column index after we pivot with multiple `value` columns.\n",
    "* We don't need to specify the `value` columns, because they're any columns that are neither `index` or `pivot` columns.\n",
    "\n",
    "We could alternately decide to pivot with the years as rows and country code as columns (like the previous example, this is not tidy, but may be a useful display for our data)."
   ]
  },
  {
   "cell_type": "code",
   "execution_count": null,
   "metadata": {},
   "outputs": [],
   "source": [
    "# Perform a different pivot\n",
    "indicators0_pivoted_multvals2 = indicators0_mult_pivot_vals.pivot(\n",
    "    index = \"year\",  # index column\n",
    "    columns = \"code\" # pivot column\n",
    ")\n",
    "\n",
    "# Note that value columns are not specified, so all remaining columns are used\n",
    "\n",
    "# Display the resulting DataFrame\n",
    "indicators0_pivoted_multvals2"
   ]
  },
  {
   "cell_type": "markdown",
   "metadata": {},
   "source": [
    "Our top-level column labels are still `'pop'` and `'gdp'`, but the lower-level column labels have swapped with the row labels from the previous output."
   ]
  },
  {
   "cell_type": "markdown",
   "metadata": {},
   "source": [
    "---\n",
    "\n",
    "## Part B: Try it for yourself: pivot\n",
    "\n",
    "**Q1:** Make the following into a `pandas` data frame, assigning it to variable `df`.\n",
    "```\n",
    "    {'foo': ['one', 'one', 'one', 'two', 'two', 'two'],\n",
    "     'bar': ['A', 'B', 'C', 'A', 'B', 'C'],\n",
    "     'baz': [1, 2, 3, 4, 5, 6]}\n",
    "```"
   ]
  },
  {
   "cell_type": "code",
   "execution_count": null,
   "metadata": {
    "deletable": false,
    "nbgrader": {
     "cell_type": "code",
     "checksum": "4e2d4dea1183f10839c078be952a71b9",
     "grade": false,
     "grade_id": "cell-c93bf4fe3e267518",
     "locked": false,
     "schema_version": 3,
     "solution": true,
     "task": false
    }
   },
   "outputs": [],
   "source": [
    "# YOUR CODE HERE\n",
    "raise NotImplementedError()\n",
    "\n",
    "# Display the DataFrame\n",
    "df"
   ]
  },
  {
   "cell_type": "code",
   "execution_count": null,
   "metadata": {
    "deletable": false,
    "editable": false,
    "nbgrader": {
     "cell_type": "code",
     "checksum": "19bce4344d5140387d06852a38f0c886",
     "grade": true,
     "grade_id": "cell-886fdd47df433623",
     "locked": true,
     "points": 2,
     "schema_version": 3,
     "solution": false,
     "task": false
    }
   },
   "outputs": [],
   "source": [
    "# Testing cell\n",
    "assert df.shape == (6,3)\n",
    "assert list(df.columns) == [\"foo\", \"bar\", \"baz\"]\n",
    "assert list(df.index) == list(range(6))"
   ]
  },
  {
   "cell_type": "markdown",
   "metadata": {},
   "source": [
    "**Q2:** Suppose the column `'bar'` should provide the row-label `Index`, the values `'one'` and `'two'` from columns `'foo'` should be column labels (so it takes more than one row of `df` to interpret a single observation), and the values themselves should come from the `'baz'` column.  \n",
    "\n",
    "We can obtain a tidy version of this data using a `pivot` operation.  What parameter arguments would be needed for this operation?"
   ]
  },
  {
   "cell_type": "markdown",
   "metadata": {},
   "source": [
    "Parameters:\n",
    "\n",
    "* `index`: YOUR ANSWER HERE\n",
    "* `pivot column`: YOUR ANSWER HERE\n",
    "* `value column(s)`: YOUR ANSWER HERE"
   ]
  },
  {
   "cell_type": "markdown",
   "metadata": {},
   "source": [
    "**Q3:** Perform the `pivot` and assign the result to `df2`.  "
   ]
  },
  {
   "cell_type": "code",
   "execution_count": null,
   "metadata": {
    "deletable": false,
    "nbgrader": {
     "cell_type": "code",
     "checksum": "664fcac01da42e4b295e83bbb5e78547",
     "grade": false,
     "grade_id": "cell-ad420ee9bba5fbf4",
     "locked": false,
     "schema_version": 3,
     "solution": true,
     "task": false
    }
   },
   "outputs": [],
   "source": [
    "# YOUR CODE HERE\n",
    "raise NotImplementedError()\n",
    "\n",
    "# Display the DataFrame\n",
    "df2"
   ]
  },
  {
   "cell_type": "code",
   "execution_count": null,
   "metadata": {
    "deletable": false,
    "editable": false,
    "nbgrader": {
     "cell_type": "code",
     "checksum": "c115cff7668885293610495c85f001cf",
     "grade": true,
     "grade_id": "cell-44ff0cf82825bf8b",
     "locked": true,
     "points": 2,
     "schema_version": 3,
     "solution": false,
     "task": false
    }
   },
   "outputs": [],
   "source": [
    "# Testing cell\n",
    "assert df2.shape == (3,2)\n",
    "assert \"one\" in df2.columns\n",
    "assert \"two\" in df2.columns\n",
    "assert df2.loc[\"A\", \"one\"] == 1\n",
    "assert df2.loc[\"C\", \"two\"] == 6"
   ]
  },
  {
   "cell_type": "markdown",
   "metadata": {},
   "source": [
    "> You've reached the first checkpoint in the lab.  Make sure to have it signed off by the instructor or TA.\n",
    ">\n",
    "> Checkpoint 1: How can you tell how many columns and rows will be present after a `pivot` operation, based on the columns `index`, `pivot`, and `value` in the original data frame?"
   ]
  },
  {
   "cell_type": "markdown",
   "metadata": {},
   "source": [
    "---\n",
    "\n",
    "**Q4:** Consider the file `restaurants_gender.csv`, that has aggregated other data and whose rows map from an id, restaurant, and gender to an average rating.  Relative to this aggregation, the data is tidy as it stands.\n",
    "\n",
    "Load the data from this file into a `DataFrame` named `rest_gender_df`.  You should inspect the file to determine what to use as a row-label `Index`."
   ]
  },
  {
   "cell_type": "code",
   "execution_count": null,
   "metadata": {
    "deletable": false,
    "nbgrader": {
     "cell_type": "code",
     "checksum": "6bc71ca164621dd37f7009908fdd23da",
     "grade": false,
     "grade_id": "cell-997d394463f13ce0",
     "locked": false,
     "schema_version": 3,
     "solution": true,
     "task": false
    }
   },
   "outputs": [],
   "source": [
    "# YOUR CODE HERE\n",
    "raise NotImplementedError()\n",
    "\n",
    "# Display the DataFrame\n",
    "rest_gender_df"
   ]
  },
  {
   "cell_type": "code",
   "execution_count": null,
   "metadata": {
    "deletable": false,
    "editable": false,
    "nbgrader": {
     "cell_type": "code",
     "checksum": "e384b820ef107a2a96efdec50ad90ed6",
     "grade": true,
     "grade_id": "cell-7a1d795ffbb5dc03",
     "locked": true,
     "points": 3,
     "schema_version": 3,
     "solution": false,
     "task": false
    }
   },
   "outputs": [],
   "source": [
    "# Testing cell\n",
    "assert rest_gender_df.shape == (4,3)"
   ]
  },
  {
   "cell_type": "markdown",
   "metadata": {},
   "source": [
    "**Q5:** Pivot the `rest_gender_df` data into a matrix presentation with `restaurant` down one axis (as a row-label `Index`) and `gender` across the other axis (as column label `Index`), a form that might make for good presentation.  Store the result as `rest_gender_mat`.\n",
    "\n",
    "Note that you can use [`droplevel`](https://pandas.pydata.org/docs/reference/api/pandas.DataFrame.droplevel.html) to remove the `rating` as the outer level of the column multi-level `Index`."
   ]
  },
  {
   "cell_type": "code",
   "execution_count": null,
   "metadata": {},
   "outputs": [],
   "source": [
    "# YOUR CODE HERE\n",
    "raise NotImplementedError()\n",
    "\n",
    "# Display the matrix DataFrame\n",
    "rest_gender_mat"
   ]
  },
  {
   "cell_type": "code",
   "execution_count": null,
   "metadata": {},
   "outputs": [],
   "source": [
    "# Testing cell\n",
    "assert rest_gender_mat.shape == (2,2)\n",
    "assert rest_gender_mat.loc[\"A\", \"F\"] == 82 # requires one-level column Index\n",
    "assert rest_gender_mat.loc[\"A\", \"M\"] == 79\n",
    "assert rest_gender_mat.loc[\"B\", \"F\"] == 57\n",
    "assert rest_gender_mat.loc[\"B\", \"M\"] == 68"
   ]
  },
  {
   "cell_type": "markdown",
   "metadata": {},
   "source": [
    "---\n",
    "\n",
    "## Part C: Transformation operation: `pivot_table`\n",
    "\n",
    "A `pivot()` operation is not able to handle all situations in which we may want to pivot.  For example, we may have multiple rows with the same values of the index and pivot variables, which we should aggregate together into one row of the output.\n",
    "\n",
    "Another situation may arise when we have more than one column that together form our independent variables.  Let's consider the original topnames dataset:"
   ]
  },
  {
   "cell_type": "code",
   "execution_count": null,
   "metadata": {},
   "outputs": [],
   "source": [
    "data = [[\"IND\", 2005, \"pop\",  1147.61],\n",
    "        [\"IND\", 2010, \"pop\",  1234.28],\n",
    "        [\"IND\", 2015, \"pop\",  1310.15],\n",
    "        [\"USA\", 2005, \"pop\",   295.52],\n",
    "        [\"USA\", 2010, \"pop\",   309.33],\n",
    "        [\"USA\", 2015, \"pop\",   320.74],\n",
    "        [\"IND\", 2005, \"gdp\",   820.38],\n",
    "        [\"IND\", 2010, \"gdp\",  1675.62],\n",
    "        [\"IND\", 2015, \"gdp\",  2103.59],\n",
    "        [\"USA\", 2005, \"gdp\", 13036.64],\n",
    "        [\"USA\", 2010, \"gdp\", 14992.05],\n",
    "        [\"USA\", 2015, \"gdp\", 18219.30]]\n",
    "\n",
    "columns = [\"code\", \"year\", \"indicator\", \"value\"]\n",
    "\n",
    "indicators0_untidy2 = pd.DataFrame(data, columns=columns)\n",
    "\n",
    "# Display the untidy DataFrame\n",
    "indicators0_untidy2"
   ]
  },
  {
   "cell_type": "markdown",
   "metadata": {},
   "source": [
    "We can use the more general `pivot_table` operation to pivot this data using a multi-level row index:"
   ]
  },
  {
   "cell_type": "code",
   "execution_count": null,
   "metadata": {},
   "outputs": [],
   "source": [
    "indicators0_tidy2 = indicators0_untidy2.pivot_table(\n",
    "    index=[\"code\", \"year\"], # two-level index\n",
    "    columns=\"indicator\"     # pivot column\n",
    ")\n",
    "\n",
    "# Note that the values column(s) are not specified,\n",
    "# so all remaining columns (`value`) are used as the values\n",
    "\n",
    "# Display the resulting tidy DataFrame\n",
    "indicators0_tidy2"
   ]
  },
  {
   "cell_type": "markdown",
   "metadata": {},
   "source": [
    "> You've reached the secpnd checkpoint in the lab.  Make sure to have it signed off by the instructor or TA.\n",
    ">\n",
    "> Checkpoint 2: What would you expect to happen if you used `columns='value'` instead of `columns='indicator'` in the previous example?  Why?"
   ]
  },
  {
   "cell_type": "markdown",
   "metadata": {},
   "source": [
    "---\n",
    "\n",
    "---\n",
    "## Part D\n",
    "\n",
    "How much time (in minutes/hours) did you spend on this lab outside of class?"
   ]
  },
  {
   "cell_type": "markdown",
   "metadata": {},
   "source": [
    "YOUR ANSWER HERE"
   ]
  }
 ],
 "metadata": {
  "kernelspec": {
   "display_name": "Python 3",
   "language": "python",
   "name": "python3"
  },
  "language_info": {
   "codemirror_mode": {
    "name": "ipython",
    "version": 3
   },
   "file_extension": ".py",
   "mimetype": "text/x-python",
   "name": "python",
   "nbconvert_exporter": "python",
   "pygments_lexer": "ipython3",
   "version": "3.9.7"
  }
 },
 "nbformat": 4,
 "nbformat_minor": 4
}
